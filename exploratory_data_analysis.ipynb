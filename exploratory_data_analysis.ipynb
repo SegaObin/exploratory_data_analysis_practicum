{
 "cells": [
  {
   "cell_type": "markdown",
   "metadata": {},
   "source": [
    "# Исследование объявлений о продаже квартир\n",
    "\n",
    "В вашем распоряжении данные сервиса Яндекс.Недвижимость — архив объявлений о продаже квартир в Санкт-Петербурге и соседних населённых пунктов за несколько лет. Нужно научиться определять рыночную стоимость объектов недвижимости. Ваша задача — установить параметры. Это позволит построить автоматизированную систему: она отследит аномалии и мошенническую деятельность. \n",
    "\n",
    "По каждой квартире на продажу доступны два вида данных. Первые вписаны пользователем, вторые — получены автоматически на основе картографических данных. Например, расстояние до центра, аэропорта, ближайшего парка и водоёма. "
   ]
  },
  {
   "cell_type": "markdown",
   "metadata": {},
   "source": [
    "**Техническое задание**\n",
    "\n",
    "1. Необходимо изучить данные и провести их пердобработку.\n",
    "2. Посчитать и добавить в таблицу новые столбцы, которые помогут в дальнейшем анализе данных.\n",
    "3. Провести исслндовательский анализ данных. \n",
    "        - Изучить основные параметры.\n",
    "        - Изучить время продажи квартир.\n",
    "        - Изучить факторы влияющие на стоимость квартиры.\n",
    "        - Изучить среднюю стоимость квадратного метра в 10 городах с наибольшим количеством объявлений.\n",
    "        - Изучить изменение цены при отдалении/приближении к центру города.\n",
    "4. Написать общий вывод по проделанной работе."
   ]
  },
  {
   "cell_type": "markdown",
   "metadata": {},
   "source": [
    "### Откройте файл с данными и изучите общую информацию. "
   ]
  },
  {
   "cell_type": "code",
   "execution_count": 1,
   "metadata": {
    "scrolled": true
   },
   "outputs": [
    {
     "data": {
      "text/html": [
       "<div>\n",
       "<style scoped>\n",
       "    .dataframe tbody tr th:only-of-type {\n",
       "        vertical-align: middle;\n",
       "    }\n",
       "\n",
       "    .dataframe tbody tr th {\n",
       "        vertical-align: top;\n",
       "    }\n",
       "\n",
       "    .dataframe thead th {\n",
       "        text-align: right;\n",
       "    }\n",
       "</style>\n",
       "<table border=\"1\" class=\"dataframe\">\n",
       "  <thead>\n",
       "    <tr style=\"text-align: right;\">\n",
       "      <th></th>\n",
       "      <th>total_images</th>\n",
       "      <th>last_price</th>\n",
       "      <th>total_area</th>\n",
       "      <th>first_day_exposition</th>\n",
       "      <th>rooms</th>\n",
       "      <th>ceiling_height</th>\n",
       "      <th>floors_total</th>\n",
       "      <th>living_area</th>\n",
       "      <th>floor</th>\n",
       "      <th>is_apartment</th>\n",
       "      <th>...</th>\n",
       "      <th>kitchen_area</th>\n",
       "      <th>balcony</th>\n",
       "      <th>locality_name</th>\n",
       "      <th>airports_nearest</th>\n",
       "      <th>cityCenters_nearest</th>\n",
       "      <th>parks_around3000</th>\n",
       "      <th>parks_nearest</th>\n",
       "      <th>ponds_around3000</th>\n",
       "      <th>ponds_nearest</th>\n",
       "      <th>days_exposition</th>\n",
       "    </tr>\n",
       "  </thead>\n",
       "  <tbody>\n",
       "    <tr>\n",
       "      <th>0</th>\n",
       "      <td>20</td>\n",
       "      <td>13000000.0</td>\n",
       "      <td>108.0</td>\n",
       "      <td>2019-03-07T00:00:00</td>\n",
       "      <td>3</td>\n",
       "      <td>2.70</td>\n",
       "      <td>16.0</td>\n",
       "      <td>51.0</td>\n",
       "      <td>8</td>\n",
       "      <td>NaN</td>\n",
       "      <td>...</td>\n",
       "      <td>25.0</td>\n",
       "      <td>NaN</td>\n",
       "      <td>Санкт-Петербург</td>\n",
       "      <td>18863.0</td>\n",
       "      <td>16028.0</td>\n",
       "      <td>1.0</td>\n",
       "      <td>482.0</td>\n",
       "      <td>2.0</td>\n",
       "      <td>755.0</td>\n",
       "      <td>NaN</td>\n",
       "    </tr>\n",
       "    <tr>\n",
       "      <th>1</th>\n",
       "      <td>7</td>\n",
       "      <td>3350000.0</td>\n",
       "      <td>40.4</td>\n",
       "      <td>2018-12-04T00:00:00</td>\n",
       "      <td>1</td>\n",
       "      <td>NaN</td>\n",
       "      <td>11.0</td>\n",
       "      <td>18.6</td>\n",
       "      <td>1</td>\n",
       "      <td>NaN</td>\n",
       "      <td>...</td>\n",
       "      <td>11.0</td>\n",
       "      <td>2.0</td>\n",
       "      <td>посёлок Шушары</td>\n",
       "      <td>12817.0</td>\n",
       "      <td>18603.0</td>\n",
       "      <td>0.0</td>\n",
       "      <td>NaN</td>\n",
       "      <td>0.0</td>\n",
       "      <td>NaN</td>\n",
       "      <td>81.0</td>\n",
       "    </tr>\n",
       "    <tr>\n",
       "      <th>2</th>\n",
       "      <td>10</td>\n",
       "      <td>5196000.0</td>\n",
       "      <td>56.0</td>\n",
       "      <td>2015-08-20T00:00:00</td>\n",
       "      <td>2</td>\n",
       "      <td>NaN</td>\n",
       "      <td>5.0</td>\n",
       "      <td>34.3</td>\n",
       "      <td>4</td>\n",
       "      <td>NaN</td>\n",
       "      <td>...</td>\n",
       "      <td>8.3</td>\n",
       "      <td>0.0</td>\n",
       "      <td>Санкт-Петербург</td>\n",
       "      <td>21741.0</td>\n",
       "      <td>13933.0</td>\n",
       "      <td>1.0</td>\n",
       "      <td>90.0</td>\n",
       "      <td>2.0</td>\n",
       "      <td>574.0</td>\n",
       "      <td>558.0</td>\n",
       "    </tr>\n",
       "    <tr>\n",
       "      <th>3</th>\n",
       "      <td>0</td>\n",
       "      <td>64900000.0</td>\n",
       "      <td>159.0</td>\n",
       "      <td>2015-07-24T00:00:00</td>\n",
       "      <td>3</td>\n",
       "      <td>NaN</td>\n",
       "      <td>14.0</td>\n",
       "      <td>NaN</td>\n",
       "      <td>9</td>\n",
       "      <td>NaN</td>\n",
       "      <td>...</td>\n",
       "      <td>NaN</td>\n",
       "      <td>0.0</td>\n",
       "      <td>Санкт-Петербург</td>\n",
       "      <td>28098.0</td>\n",
       "      <td>6800.0</td>\n",
       "      <td>2.0</td>\n",
       "      <td>84.0</td>\n",
       "      <td>3.0</td>\n",
       "      <td>234.0</td>\n",
       "      <td>424.0</td>\n",
       "    </tr>\n",
       "    <tr>\n",
       "      <th>4</th>\n",
       "      <td>2</td>\n",
       "      <td>10000000.0</td>\n",
       "      <td>100.0</td>\n",
       "      <td>2018-06-19T00:00:00</td>\n",
       "      <td>2</td>\n",
       "      <td>3.03</td>\n",
       "      <td>14.0</td>\n",
       "      <td>32.0</td>\n",
       "      <td>13</td>\n",
       "      <td>NaN</td>\n",
       "      <td>...</td>\n",
       "      <td>41.0</td>\n",
       "      <td>NaN</td>\n",
       "      <td>Санкт-Петербург</td>\n",
       "      <td>31856.0</td>\n",
       "      <td>8098.0</td>\n",
       "      <td>2.0</td>\n",
       "      <td>112.0</td>\n",
       "      <td>1.0</td>\n",
       "      <td>48.0</td>\n",
       "      <td>121.0</td>\n",
       "    </tr>\n",
       "  </tbody>\n",
       "</table>\n",
       "<p>5 rows × 22 columns</p>\n",
       "</div>"
      ],
      "text/plain": [
       "   total_images  last_price  total_area first_day_exposition  rooms  \\\n",
       "0            20  13000000.0       108.0  2019-03-07T00:00:00      3   \n",
       "1             7   3350000.0        40.4  2018-12-04T00:00:00      1   \n",
       "2            10   5196000.0        56.0  2015-08-20T00:00:00      2   \n",
       "3             0  64900000.0       159.0  2015-07-24T00:00:00      3   \n",
       "4             2  10000000.0       100.0  2018-06-19T00:00:00      2   \n",
       "\n",
       "   ceiling_height  floors_total  living_area  floor is_apartment  ...  \\\n",
       "0            2.70          16.0         51.0      8          NaN  ...   \n",
       "1             NaN          11.0         18.6      1          NaN  ...   \n",
       "2             NaN           5.0         34.3      4          NaN  ...   \n",
       "3             NaN          14.0          NaN      9          NaN  ...   \n",
       "4            3.03          14.0         32.0     13          NaN  ...   \n",
       "\n",
       "   kitchen_area  balcony    locality_name  airports_nearest  \\\n",
       "0          25.0      NaN  Санкт-Петербург           18863.0   \n",
       "1          11.0      2.0   посёлок Шушары           12817.0   \n",
       "2           8.3      0.0  Санкт-Петербург           21741.0   \n",
       "3           NaN      0.0  Санкт-Петербург           28098.0   \n",
       "4          41.0      NaN  Санкт-Петербург           31856.0   \n",
       "\n",
       "  cityCenters_nearest  parks_around3000  parks_nearest  ponds_around3000  \\\n",
       "0             16028.0               1.0          482.0               2.0   \n",
       "1             18603.0               0.0            NaN               0.0   \n",
       "2             13933.0               1.0           90.0               2.0   \n",
       "3              6800.0               2.0           84.0               3.0   \n",
       "4              8098.0               2.0          112.0               1.0   \n",
       "\n",
       "   ponds_nearest  days_exposition  \n",
       "0          755.0              NaN  \n",
       "1            NaN             81.0  \n",
       "2          574.0            558.0  \n",
       "3          234.0            424.0  \n",
       "4           48.0            121.0  \n",
       "\n",
       "[5 rows x 22 columns]"
      ]
     },
     "execution_count": 1,
     "metadata": {},
     "output_type": "execute_result"
    }
   ],
   "source": [
    "import pandas as pd\n",
    "import matplotlib.pyplot as plt\n",
    "\n",
    "data = pd.read_csv('/datasets/real_estate_data.csv', sep='\\t')\n",
    "data.head()"
   ]
  },
  {
   "cell_type": "markdown",
   "metadata": {},
   "source": [
    "Необходимо проверить есть ли в данных явные дубликаты и уадлить их при наличии."
   ]
  },
  {
   "cell_type": "code",
   "execution_count": 2,
   "metadata": {},
   "outputs": [
    {
     "name": "stdout",
     "output_type": "stream",
     "text": [
      "Число дубликатов: 0\n"
     ]
    }
   ],
   "source": [
    "print('Число дубликатов:', data.duplicated().sum())"
   ]
  },
  {
   "cell_type": "code",
   "execution_count": 3,
   "metadata": {},
   "outputs": [
    {
     "name": "stdout",
     "output_type": "stream",
     "text": [
      "<class 'pandas.core.frame.DataFrame'>\n",
      "RangeIndex: 23699 entries, 0 to 23698\n",
      "Data columns (total 22 columns):\n",
      " #   Column                Non-Null Count  Dtype  \n",
      "---  ------                --------------  -----  \n",
      " 0   total_images          23699 non-null  int64  \n",
      " 1   last_price            23699 non-null  float64\n",
      " 2   total_area            23699 non-null  float64\n",
      " 3   first_day_exposition  23699 non-null  object \n",
      " 4   rooms                 23699 non-null  int64  \n",
      " 5   ceiling_height        14504 non-null  float64\n",
      " 6   floors_total          23613 non-null  float64\n",
      " 7   living_area           21796 non-null  float64\n",
      " 8   floor                 23699 non-null  int64  \n",
      " 9   is_apartment          2775 non-null   object \n",
      " 10  studio                23699 non-null  bool   \n",
      " 11  open_plan             23699 non-null  bool   \n",
      " 12  kitchen_area          21421 non-null  float64\n",
      " 13  balcony               12180 non-null  float64\n",
      " 14  locality_name         23650 non-null  object \n",
      " 15  airports_nearest      18157 non-null  float64\n",
      " 16  cityCenters_nearest   18180 non-null  float64\n",
      " 17  parks_around3000      18181 non-null  float64\n",
      " 18  parks_nearest         8079 non-null   float64\n",
      " 19  ponds_around3000      18181 non-null  float64\n",
      " 20  ponds_nearest         9110 non-null   float64\n",
      " 21  days_exposition       20518 non-null  float64\n",
      "dtypes: bool(2), float64(14), int64(3), object(3)\n",
      "memory usage: 3.7+ MB\n"
     ]
    }
   ],
   "source": [
    "data.info()"
   ]
  },
  {
   "cell_type": "markdown",
   "metadata": {},
   "source": [
    "Теперь сохраним изначальное количество данных в таблице, чтобы потом посмотреть, сколько данных мы отфильтруем."
   ]
  },
  {
   "cell_type": "code",
   "execution_count": 4,
   "metadata": {},
   "outputs": [
    {
     "data": {
      "text/plain": [
       "23699"
      ]
     },
     "execution_count": 4,
     "metadata": {},
     "output_type": "execute_result"
    }
   ],
   "source": [
    "data_before_treatments = data.shape[0]\n",
    "data_before_treatments"
   ]
  },
  {
   "cell_type": "markdown",
   "metadata": {},
   "source": [
    "Во многих столбцах есть пропуски, в некоторых пропущеных значений больше чем заполненных, все их стоит проверить. На первый взгляд самыми критичными кажутся пропуски в столбце **living_area**. Так же смущает, что столбец **balcony** относится к типу **float64**. "
   ]
  },
  {
   "cell_type": "code",
   "execution_count": 5,
   "metadata": {},
   "outputs": [
    {
     "data": {
      "text/plain": [
       "array([[<AxesSubplot:title={'center':'total_images'}>,\n",
       "        <AxesSubplot:title={'center':'last_price'}>,\n",
       "        <AxesSubplot:title={'center':'total_area'}>,\n",
       "        <AxesSubplot:title={'center':'rooms'}>],\n",
       "       [<AxesSubplot:title={'center':'ceiling_height'}>,\n",
       "        <AxesSubplot:title={'center':'floors_total'}>,\n",
       "        <AxesSubplot:title={'center':'living_area'}>,\n",
       "        <AxesSubplot:title={'center':'floor'}>],\n",
       "       [<AxesSubplot:title={'center':'kitchen_area'}>,\n",
       "        <AxesSubplot:title={'center':'balcony'}>,\n",
       "        <AxesSubplot:title={'center':'airports_nearest'}>,\n",
       "        <AxesSubplot:title={'center':'cityCenters_nearest'}>],\n",
       "       [<AxesSubplot:title={'center':'parks_around3000'}>,\n",
       "        <AxesSubplot:title={'center':'parks_nearest'}>,\n",
       "        <AxesSubplot:title={'center':'ponds_around3000'}>,\n",
       "        <AxesSubplot:title={'center':'ponds_nearest'}>],\n",
       "       [<AxesSubplot:title={'center':'days_exposition'}>, <AxesSubplot:>,\n",
       "        <AxesSubplot:>, <AxesSubplot:>]], dtype=object)"
      ]
     },
     "execution_count": 5,
     "metadata": {},
     "output_type": "execute_result"
    },
    {
     "data": {
      "image/png": "[encoded data removed]",
      "text/plain": [
       "<Figure size 1080x1440 with 20 Axes>"
      ]
     },
     "metadata": {
      "needs_background": "light"
     },
     "output_type": "display_data"
    }
   ],
   "source": [
    "data.hist(figsize=(15, 20), bins=30)"
   ]
  },
  {
   "cell_type": "markdown",
   "metadata": {},
   "source": [
    "На первый взгляд все гистограммы выглядят адекватно, но следует изучить данные и пропуски в столбцах подробнне."
   ]
  },
  {
   "cell_type": "markdown",
   "metadata": {},
   "source": [
    "### Предобработка данных"
   ]
  },
  {
   "cell_type": "markdown",
   "metadata": {},
   "source": [
    "#### Редактирование имен столбцов"
   ]
  },
  {
   "cell_type": "markdown",
   "metadata": {},
   "source": [
    "Первое, что я считаю необходимым сделать это поменять называение столбца **cityCenters_nearest** на **city_сenters_nearest**, а столбцов **parks_around3000** и **ponds_around3000** на **parks_around_3000** и **ponds_around_3000** соответственно, для более удобного обращения к ним."
   ]
  },
  {
   "cell_type": "code",
   "execution_count": 6,
   "metadata": {},
   "outputs": [
    {
     "data": {
      "text/plain": [
       "Index(['total_images', 'last_price', 'total_area', 'first_day_exposition',\n",
       "       'rooms', 'ceiling_height', 'floors_total', 'living_area', 'floor',\n",
       "       'is_apartment', 'studio', 'open_plan', 'kitchen_area', 'balcony',\n",
       "       'locality_name', 'airports_nearest', 'city_сenters_nearest',\n",
       "       'parks_around_3000', 'parks_nearest', 'ponds_around_3000',\n",
       "       'ponds_nearest', 'days_exposition'],\n",
       "      dtype='object')"
      ]
     },
     "execution_count": 6,
     "metadata": {},
     "output_type": "execute_result"
    }
   ],
   "source": [
    "data.rename(\n",
    "    columns={\n",
    "    'cityCenters_nearest' : 'city_сenters_nearest',\n",
    "    'parks_around3000' : 'parks_around_3000',\n",
    "    'ponds_around3000' : 'ponds_around_3000'\n",
    "    }, \n",
    "    inplace=True)\n",
    "data.columns"
   ]
  },
  {
   "cell_type": "markdown",
   "metadata": {},
   "source": [
    "#### Работа с пропусками, редактирование типов данных, устранение аномалий."
   ]
  },
  {
   "cell_type": "markdown",
   "metadata": {},
   "source": [
    "Начнем с того, что поменяем тип данных в столбце **first_day_exposition** (дата публикации) на DataTime."
   ]
  },
  {
   "cell_type": "code",
   "execution_count": 7,
   "metadata": {},
   "outputs": [
    {
     "name": "stdout",
     "output_type": "stream",
     "text": [
      "<class 'pandas.core.frame.DataFrame'>\n",
      "RangeIndex: 23699 entries, 0 to 23698\n",
      "Data columns (total 22 columns):\n",
      " #   Column                Non-Null Count  Dtype         \n",
      "---  ------                --------------  -----         \n",
      " 0   total_images          23699 non-null  int64         \n",
      " 1   last_price            23699 non-null  float64       \n",
      " 2   total_area            23699 non-null  float64       \n",
      " 3   first_day_exposition  23699 non-null  datetime64[ns]\n",
      " 4   rooms                 23699 non-null  int64         \n",
      " 5   ceiling_height        14504 non-null  float64       \n",
      " 6   floors_total          23613 non-null  float64       \n",
      " 7   living_area           21796 non-null  float64       \n",
      " 8   floor                 23699 non-null  int64         \n",
      " 9   is_apartment          2775 non-null   object        \n",
      " 10  studio                23699 non-null  bool          \n",
      " 11  open_plan             23699 non-null  bool          \n",
      " 12  kitchen_area          21421 non-null  float64       \n",
      " 13  balcony               12180 non-null  float64       \n",
      " 14  locality_name         23650 non-null  object        \n",
      " 15  airports_nearest      18157 non-null  float64       \n",
      " 16  city_сenters_nearest  18180 non-null  float64       \n",
      " 17  parks_around_3000     18181 non-null  float64       \n",
      " 18  parks_nearest         8079 non-null   float64       \n",
      " 19  ponds_around_3000     18181 non-null  float64       \n",
      " 20  ponds_nearest         9110 non-null   float64       \n",
      " 21  days_exposition       20518 non-null  float64       \n",
      "dtypes: bool(2), datetime64[ns](1), float64(14), int64(3), object(2)\n",
      "memory usage: 3.7+ MB\n"
     ]
    }
   ],
   "source": [
    "data['first_day_exposition'] = pd.to_datetime(data['first_day_exposition'], format='%Y-%m-%dT%H:%M:%S')\n",
    "data.info()"
   ]
  },
  {
   "cell_type": "markdown",
   "metadata": {},
   "source": [
    "Теперь необходимо разобраься с пропускам ив данных. По порядку рассмотри столбцы в которых возникают пропуски.\n",
    "\n",
    "**ceiling_height** -  Высота потолков в метрах. Рассмотрев гистограмму значений этого столбца можно заметить, что все значения находятся около 0. Следует это проверить - посмотрим какие значения у нас есть."
   ]
  },
  {
   "cell_type": "code",
   "execution_count": 8,
   "metadata": {},
   "outputs": [
    {
     "data": {
      "text/plain": [
       "[1.0,\n",
       " 2.0,\n",
       " 2.3,\n",
       " 2.4,\n",
       " 2.45,\n",
       " 2.46,\n",
       " 2.48,\n",
       " 2.53,\n",
       " 2.59,\n",
       " 2.62,\n",
       " 2.63,\n",
       " 2.7,\n",
       " nan,\n",
       " 1.2,\n",
       " 1.75,\n",
       " 2.2,\n",
       " 2.25,\n",
       " 2.34,\n",
       " 2.47,\n",
       " 2.49,\n",
       " 2.5,\n",
       " 2.51,\n",
       " 2.52,\n",
       " 2.54,\n",
       " 2.55,\n",
       " 2.56,\n",
       " 2.57,\n",
       " 2.58,\n",
       " 2.6,\n",
       " 2.61,\n",
       " 2.64,\n",
       " 2.65,\n",
       " 2.66,\n",
       " 2.67,\n",
       " 2.68,\n",
       " 2.69,\n",
       " 2.71,\n",
       " 2.72,\n",
       " 2.73,\n",
       " 2.74,\n",
       " 2.75,\n",
       " 2.76,\n",
       " 2.77,\n",
       " 2.78,\n",
       " 2.79,\n",
       " 2.8,\n",
       " 2.81,\n",
       " 2.82,\n",
       " 2.83,\n",
       " 2.84,\n",
       " 2.85,\n",
       " 2.86,\n",
       " 2.87,\n",
       " 2.88,\n",
       " 2.89,\n",
       " 2.9,\n",
       " 2.91,\n",
       " 2.92,\n",
       " 2.93,\n",
       " 2.94,\n",
       " 2.95,\n",
       " 2.96,\n",
       " 2.97,\n",
       " 2.98,\n",
       " 2.99,\n",
       " 3.0,\n",
       " 3.01,\n",
       " 3.02,\n",
       " 3.03,\n",
       " 3.04,\n",
       " 3.05,\n",
       " 3.06,\n",
       " 3.07,\n",
       " 3.08,\n",
       " 3.09,\n",
       " 3.1,\n",
       " 3.11,\n",
       " 3.12,\n",
       " 3.13,\n",
       " 3.14,\n",
       " 3.15,\n",
       " 3.16,\n",
       " 3.17,\n",
       " 3.18,\n",
       " 3.2,\n",
       " 3.21,\n",
       " 3.22,\n",
       " 3.23,\n",
       " 3.24,\n",
       " 3.25,\n",
       " 3.26,\n",
       " 3.27,\n",
       " 3.28,\n",
       " 3.29,\n",
       " 3.3,\n",
       " 3.31,\n",
       " 3.32,\n",
       " 3.33,\n",
       " 3.34,\n",
       " 3.35,\n",
       " 3.36,\n",
       " 3.37,\n",
       " 3.38,\n",
       " 3.39,\n",
       " 3.4,\n",
       " 3.42,\n",
       " 3.43,\n",
       " 3.44,\n",
       " 3.45,\n",
       " 3.46,\n",
       " 3.47,\n",
       " 3.48,\n",
       " 3.49,\n",
       " 3.5,\n",
       " 3.51,\n",
       " 3.52,\n",
       " 3.53,\n",
       " 3.54,\n",
       " 3.55,\n",
       " 3.56,\n",
       " 3.57,\n",
       " 3.58,\n",
       " 3.59,\n",
       " 3.6,\n",
       " 3.62,\n",
       " 3.63,\n",
       " 3.65,\n",
       " 3.66,\n",
       " 3.67,\n",
       " 3.68,\n",
       " 3.69,\n",
       " 3.7,\n",
       " 3.75,\n",
       " 3.76,\n",
       " 3.78,\n",
       " 3.8,\n",
       " 3.82,\n",
       " 3.83,\n",
       " 3.84,\n",
       " 3.85,\n",
       " 3.86,\n",
       " 3.87,\n",
       " 3.88,\n",
       " 3.9,\n",
       " 3.93,\n",
       " 3.95,\n",
       " 3.98,\n",
       " 4.0,\n",
       " 4.06,\n",
       " 4.1,\n",
       " 4.14,\n",
       " 4.15,\n",
       " 4.19,\n",
       " 4.2,\n",
       " 4.25,\n",
       " 4.3,\n",
       " 4.37,\n",
       " 4.4,\n",
       " 4.45,\n",
       " 4.5,\n",
       " 4.65,\n",
       " 4.7,\n",
       " 4.8,\n",
       " 4.9,\n",
       " 5.0,\n",
       " 5.2,\n",
       " 5.3,\n",
       " 5.5,\n",
       " 5.6,\n",
       " 5.8,\n",
       " 6.0,\n",
       " 8.0,\n",
       " 8.3,\n",
       " 10.3,\n",
       " 14.0,\n",
       " 20.0,\n",
       " 22.6,\n",
       " 24.0,\n",
       " 25.0,\n",
       " 26.0,\n",
       " 27.0,\n",
       " 27.5,\n",
       " 32.0,\n",
       " 100.0]"
      ]
     },
     "execution_count": 8,
     "metadata": {},
     "output_type": "execute_result"
    }
   ],
   "source": [
    "sorted(data['ceiling_height'].unique())"
   ]
  },
  {
   "cell_type": "markdown",
   "metadata": {},
   "source": [
    "Высота потолков выше **10 метров** скорее всего вызвана какой-то ошибкой в данных или ошибкой при их переносе.  Возможно человек, который вводил данные поставил запятую не в том месте, умножив тем самым высоту потолков на **10**. \n",
    "Необходимо исправить это."
   ]
  },
  {
   "cell_type": "code",
   "execution_count": 9,
   "metadata": {},
   "outputs": [
    {
     "data": {
      "text/plain": [
       "[1.0,\n",
       " 1.03,\n",
       " 1.2,\n",
       " 1.4,\n",
       " 1.75,\n",
       " 2.0,\n",
       " 2.2,\n",
       " 2.25,\n",
       " 2.2600000000000002,\n",
       " 2.7,\n",
       " nan,\n",
       " 2.3,\n",
       " 2.34,\n",
       " 2.4,\n",
       " 2.45,\n",
       " 2.46,\n",
       " 2.47,\n",
       " 2.48,\n",
       " 2.49,\n",
       " 2.5,\n",
       " 2.51,\n",
       " 2.52,\n",
       " 2.53,\n",
       " 2.54,\n",
       " 2.55,\n",
       " 2.56,\n",
       " 2.57,\n",
       " 2.58,\n",
       " 2.59,\n",
       " 2.6,\n",
       " 2.61,\n",
       " 2.62,\n",
       " 2.63,\n",
       " 2.64,\n",
       " 2.65,\n",
       " 2.66,\n",
       " 2.67,\n",
       " 2.68,\n",
       " 2.69,\n",
       " 2.71,\n",
       " 2.72,\n",
       " 2.73,\n",
       " 2.74,\n",
       " 2.75,\n",
       " 2.76,\n",
       " 2.77,\n",
       " 2.78,\n",
       " 2.79,\n",
       " 2.8,\n",
       " 2.81,\n",
       " 2.82,\n",
       " 2.83,\n",
       " 2.84,\n",
       " 2.85,\n",
       " 2.86,\n",
       " 2.87,\n",
       " 2.88,\n",
       " 2.89,\n",
       " 2.9,\n",
       " 2.91,\n",
       " 2.92,\n",
       " 2.93,\n",
       " 2.94,\n",
       " 2.95,\n",
       " 2.96,\n",
       " 2.97,\n",
       " 2.98,\n",
       " 2.99,\n",
       " 3.0,\n",
       " 3.01,\n",
       " 3.02,\n",
       " 3.03,\n",
       " 3.04,\n",
       " 3.05,\n",
       " 3.06,\n",
       " 3.07,\n",
       " 3.08,\n",
       " 3.09,\n",
       " 3.1,\n",
       " 3.11,\n",
       " 3.12,\n",
       " 3.13,\n",
       " 3.14,\n",
       " 3.15,\n",
       " 3.16,\n",
       " 3.17,\n",
       " 3.18,\n",
       " 3.2,\n",
       " 3.21,\n",
       " 3.22,\n",
       " 3.23,\n",
       " 3.24,\n",
       " 3.25,\n",
       " 3.26,\n",
       " 3.27,\n",
       " 3.28,\n",
       " 3.29,\n",
       " 3.3,\n",
       " 3.31,\n",
       " 3.32,\n",
       " 3.33,\n",
       " 3.34,\n",
       " 3.35,\n",
       " 3.36,\n",
       " 3.37,\n",
       " 3.38,\n",
       " 3.39,\n",
       " 3.4,\n",
       " 3.42,\n",
       " 3.43,\n",
       " 3.44,\n",
       " 3.45,\n",
       " 3.46,\n",
       " 3.47,\n",
       " 3.48,\n",
       " 3.49,\n",
       " 3.5,\n",
       " 3.51,\n",
       " 3.52,\n",
       " 3.53,\n",
       " 3.54,\n",
       " 3.55,\n",
       " 3.56,\n",
       " 3.57,\n",
       " 3.58,\n",
       " 3.59,\n",
       " 3.6,\n",
       " 3.62,\n",
       " 3.63,\n",
       " 3.65,\n",
       " 3.66,\n",
       " 3.67,\n",
       " 3.68,\n",
       " 3.69,\n",
       " 3.7,\n",
       " 3.75,\n",
       " 3.76,\n",
       " 3.78,\n",
       " 3.8,\n",
       " 3.82,\n",
       " 3.83,\n",
       " 3.84,\n",
       " 3.85,\n",
       " 3.86,\n",
       " 3.87,\n",
       " 3.88,\n",
       " 3.9,\n",
       " 3.93,\n",
       " 3.95,\n",
       " 3.98,\n",
       " 4.0,\n",
       " 4.06,\n",
       " 4.1,\n",
       " 4.14,\n",
       " 4.15,\n",
       " 4.19,\n",
       " 4.2,\n",
       " 4.25,\n",
       " 4.3,\n",
       " 4.37,\n",
       " 4.4,\n",
       " 4.45,\n",
       " 4.5,\n",
       " 4.65,\n",
       " 4.7,\n",
       " 4.8,\n",
       " 4.9,\n",
       " 5.0,\n",
       " 5.2,\n",
       " 5.3,\n",
       " 5.5,\n",
       " 5.6,\n",
       " 5.8,\n",
       " 6.0,\n",
       " 8.0,\n",
       " 8.3,\n",
       " 10.0]"
      ]
     },
     "execution_count": 9,
     "metadata": {},
     "output_type": "execute_result"
    }
   ],
   "source": [
    "data.loc[data['ceiling_height'] > 10, 'ceiling_height'] = data['ceiling_height'] / 10\n",
    "sorted(data['ceiling_height'].unique())"
   ]
  },
  {
   "cell_type": "markdown",
   "metadata": {},
   "source": [
    "Теперь рассмотрим среднее и медианное значение соответственно."
   ]
  },
  {
   "cell_type": "code",
   "execution_count": 10,
   "metadata": {},
   "outputs": [
    {
     "data": {
      "text/plain": [
       "2.728099834528406"
      ]
     },
     "execution_count": 10,
     "metadata": {},
     "output_type": "execute_result"
    }
   ],
   "source": [
    "data['ceiling_height'].mean()"
   ]
  },
  {
   "cell_type": "code",
   "execution_count": 11,
   "metadata": {},
   "outputs": [
    {
     "data": {
      "text/plain": [
       "2.65"
      ]
     },
     "execution_count": 11,
     "metadata": {},
     "output_type": "execute_result"
    }
   ],
   "source": [
    "data['ceiling_height'].median()"
   ]
  },
  {
   "cell_type": "markdown",
   "metadata": {},
   "source": [
    "Можно заметить, что нет почти никакой разницы между средним и медианным значением. Значит можем сразу заменить пропуски в данных на медианное значение, так как там меньше знаков после запятой и оно чуть более правдиво."
   ]
  },
  {
   "cell_type": "code",
   "execution_count": 12,
   "metadata": {},
   "outputs": [
    {
     "data": {
      "text/plain": [
       "0"
      ]
     },
     "execution_count": 12,
     "metadata": {},
     "output_type": "execute_result"
    }
   ],
   "source": [
    "data['ceiling_height'].fillna(data['ceiling_height'].median(), inplace=True)\n",
    "#Проверка того, что в столбце больше нет пропущенных значений\n",
    "data['ceiling_height'].isna().sum()"
   ]
  },
  {
   "cell_type": "markdown",
   "metadata": {},
   "source": [
    "Теперь можно удалить аномальные значения из таблицы. Как известно, в Петербурге во многих старинных домах высокие потолки, но потолки высотой более **8 метров** вряд-ли встречаются в реальной жизни, только если кто-то не решил продать Исаакиевский Собор. Отфильтруем это значение. Так же необходимо внимательнее взглянуть на квартиры с потолками ниже **2 метров**, если цена таких квартир будет высокой, то скорее всего это какая-то ошибка, которую к сожалению тоже придется отфильтровать."
   ]
  },
  {
   "cell_type": "code",
   "execution_count": 13,
   "metadata": {},
   "outputs": [
    {
     "data": {
      "text/plain": [
       "[1.0,\n",
       " 1.03,\n",
       " 1.2,\n",
       " 1.4,\n",
       " 1.75,\n",
       " 2.0,\n",
       " 2.2,\n",
       " 2.25,\n",
       " 2.2600000000000002,\n",
       " 2.3,\n",
       " 2.34,\n",
       " 2.4,\n",
       " 2.45,\n",
       " 2.46,\n",
       " 2.47,\n",
       " 2.48,\n",
       " 2.49,\n",
       " 2.5,\n",
       " 2.51,\n",
       " 2.52,\n",
       " 2.53,\n",
       " 2.54,\n",
       " 2.55,\n",
       " 2.56,\n",
       " 2.57,\n",
       " 2.58,\n",
       " 2.59,\n",
       " 2.6,\n",
       " 2.61,\n",
       " 2.62,\n",
       " 2.63,\n",
       " 2.64,\n",
       " 2.65,\n",
       " 2.66,\n",
       " 2.67,\n",
       " 2.68,\n",
       " 2.69,\n",
       " 2.7,\n",
       " 2.71,\n",
       " 2.72,\n",
       " 2.73,\n",
       " 2.74,\n",
       " 2.75,\n",
       " 2.76,\n",
       " 2.77,\n",
       " 2.78,\n",
       " 2.79,\n",
       " 2.8,\n",
       " 2.81,\n",
       " 2.82,\n",
       " 2.83,\n",
       " 2.84,\n",
       " 2.85,\n",
       " 2.86,\n",
       " 2.87,\n",
       " 2.88,\n",
       " 2.89,\n",
       " 2.9,\n",
       " 2.91,\n",
       " 2.92,\n",
       " 2.93,\n",
       " 2.94,\n",
       " 2.95,\n",
       " 2.96,\n",
       " 2.97,\n",
       " 2.98,\n",
       " 2.99,\n",
       " 3.0,\n",
       " 3.01,\n",
       " 3.02,\n",
       " 3.03,\n",
       " 3.04,\n",
       " 3.05,\n",
       " 3.06,\n",
       " 3.07,\n",
       " 3.08,\n",
       " 3.09,\n",
       " 3.1,\n",
       " 3.11,\n",
       " 3.12,\n",
       " 3.13,\n",
       " 3.14,\n",
       " 3.15,\n",
       " 3.16,\n",
       " 3.17,\n",
       " 3.18,\n",
       " 3.2,\n",
       " 3.21,\n",
       " 3.22,\n",
       " 3.23,\n",
       " 3.24,\n",
       " 3.25,\n",
       " 3.26,\n",
       " 3.27,\n",
       " 3.28,\n",
       " 3.29,\n",
       " 3.3,\n",
       " 3.31,\n",
       " 3.32,\n",
       " 3.33,\n",
       " 3.34,\n",
       " 3.35,\n",
       " 3.36,\n",
       " 3.37,\n",
       " 3.38,\n",
       " 3.39,\n",
       " 3.4,\n",
       " 3.42,\n",
       " 3.43,\n",
       " 3.44,\n",
       " 3.45,\n",
       " 3.46,\n",
       " 3.47,\n",
       " 3.48,\n",
       " 3.49,\n",
       " 3.5,\n",
       " 3.51,\n",
       " 3.52,\n",
       " 3.53,\n",
       " 3.54,\n",
       " 3.55,\n",
       " 3.56,\n",
       " 3.57,\n",
       " 3.58,\n",
       " 3.59,\n",
       " 3.6,\n",
       " 3.62,\n",
       " 3.63,\n",
       " 3.65,\n",
       " 3.66,\n",
       " 3.67,\n",
       " 3.68,\n",
       " 3.69,\n",
       " 3.7,\n",
       " 3.75,\n",
       " 3.76,\n",
       " 3.78,\n",
       " 3.8,\n",
       " 3.82,\n",
       " 3.83,\n",
       " 3.84,\n",
       " 3.85,\n",
       " 3.86,\n",
       " 3.87,\n",
       " 3.88,\n",
       " 3.9,\n",
       " 3.93,\n",
       " 3.95,\n",
       " 3.98,\n",
       " 4.0,\n",
       " 4.06,\n",
       " 4.1,\n",
       " 4.14,\n",
       " 4.15,\n",
       " 4.19,\n",
       " 4.2,\n",
       " 4.25,\n",
       " 4.3,\n",
       " 4.37,\n",
       " 4.4,\n",
       " 4.45,\n",
       " 4.5,\n",
       " 4.65,\n",
       " 4.7,\n",
       " 4.8,\n",
       " 4.9,\n",
       " 5.0,\n",
       " 5.2,\n",
       " 5.3,\n",
       " 5.5,\n",
       " 5.6,\n",
       " 5.8,\n",
       " 6.0,\n",
       " 8.0,\n",
       " 8.3,\n",
       " 10.0]"
      ]
     },
     "execution_count": 13,
     "metadata": {},
     "output_type": "execute_result"
    }
   ],
   "source": [
    "# Код ревьюера\n",
    "sorted(data['ceiling_height'].unique())"
   ]
  },
  {
   "cell_type": "code",
   "execution_count": 14,
   "metadata": {},
   "outputs": [
    {
     "data": {
      "text/html": [
       "<div>\n",
       "<style scoped>\n",
       "    .dataframe tbody tr th:only-of-type {\n",
       "        vertical-align: middle;\n",
       "    }\n",
       "\n",
       "    .dataframe tbody tr th {\n",
       "        vertical-align: top;\n",
       "    }\n",
       "\n",
       "    .dataframe thead th {\n",
       "        text-align: right;\n",
       "    }\n",
       "</style>\n",
       "<table border=\"1\" class=\"dataframe\">\n",
       "  <thead>\n",
       "    <tr style=\"text-align: right;\">\n",
       "      <th></th>\n",
       "      <th>total_images</th>\n",
       "      <th>last_price</th>\n",
       "      <th>total_area</th>\n",
       "      <th>first_day_exposition</th>\n",
       "      <th>rooms</th>\n",
       "      <th>ceiling_height</th>\n",
       "      <th>floors_total</th>\n",
       "      <th>living_area</th>\n",
       "      <th>floor</th>\n",
       "      <th>is_apartment</th>\n",
       "      <th>...</th>\n",
       "      <th>kitchen_area</th>\n",
       "      <th>balcony</th>\n",
       "      <th>locality_name</th>\n",
       "      <th>airports_nearest</th>\n",
       "      <th>city_сenters_nearest</th>\n",
       "      <th>parks_around_3000</th>\n",
       "      <th>parks_nearest</th>\n",
       "      <th>ponds_around_3000</th>\n",
       "      <th>ponds_nearest</th>\n",
       "      <th>days_exposition</th>\n",
       "    </tr>\n",
       "  </thead>\n",
       "  <tbody>\n",
       "    <tr>\n",
       "      <th>20264</th>\n",
       "      <td>17</td>\n",
       "      <td>119000000.0</td>\n",
       "      <td>187.6</td>\n",
       "      <td>2017-07-10</td>\n",
       "      <td>4</td>\n",
       "      <td>6.0</td>\n",
       "      <td>7.0</td>\n",
       "      <td>147.0</td>\n",
       "      <td>7</td>\n",
       "      <td>NaN</td>\n",
       "      <td>...</td>\n",
       "      <td>15.6</td>\n",
       "      <td>NaN</td>\n",
       "      <td>Санкт-Петербург</td>\n",
       "      <td>26902.0</td>\n",
       "      <td>5605.0</td>\n",
       "      <td>3.0</td>\n",
       "      <td>484.0</td>\n",
       "      <td>1.0</td>\n",
       "      <td>305.0</td>\n",
       "      <td>259.0</td>\n",
       "    </tr>\n",
       "    <tr>\n",
       "      <th>21227</th>\n",
       "      <td>0</td>\n",
       "      <td>8200000.0</td>\n",
       "      <td>71.0</td>\n",
       "      <td>2017-07-21</td>\n",
       "      <td>0</td>\n",
       "      <td>5.8</td>\n",
       "      <td>5.0</td>\n",
       "      <td>68.0</td>\n",
       "      <td>5</td>\n",
       "      <td>NaN</td>\n",
       "      <td>...</td>\n",
       "      <td>NaN</td>\n",
       "      <td>0.0</td>\n",
       "      <td>Санкт-Петербург</td>\n",
       "      <td>20170.0</td>\n",
       "      <td>1261.0</td>\n",
       "      <td>2.0</td>\n",
       "      <td>295.0</td>\n",
       "      <td>3.0</td>\n",
       "      <td>366.0</td>\n",
       "      <td>30.0</td>\n",
       "    </tr>\n",
       "    <tr>\n",
       "      <th>1388</th>\n",
       "      <td>20</td>\n",
       "      <td>59800000.0</td>\n",
       "      <td>399.0</td>\n",
       "      <td>2015-01-21</td>\n",
       "      <td>5</td>\n",
       "      <td>5.6</td>\n",
       "      <td>6.0</td>\n",
       "      <td>NaN</td>\n",
       "      <td>6</td>\n",
       "      <td>NaN</td>\n",
       "      <td>...</td>\n",
       "      <td>NaN</td>\n",
       "      <td>0.0</td>\n",
       "      <td>Санкт-Петербург</td>\n",
       "      <td>26204.0</td>\n",
       "      <td>6934.0</td>\n",
       "      <td>2.0</td>\n",
       "      <td>149.0</td>\n",
       "      <td>2.0</td>\n",
       "      <td>577.0</td>\n",
       "      <td>719.0</td>\n",
       "    </tr>\n",
       "    <tr>\n",
       "      <th>7578</th>\n",
       "      <td>17</td>\n",
       "      <td>38000000.0</td>\n",
       "      <td>143.0</td>\n",
       "      <td>2017-11-02</td>\n",
       "      <td>3</td>\n",
       "      <td>5.5</td>\n",
       "      <td>5.0</td>\n",
       "      <td>83.0</td>\n",
       "      <td>5</td>\n",
       "      <td>NaN</td>\n",
       "      <td>...</td>\n",
       "      <td>29.0</td>\n",
       "      <td>1.0</td>\n",
       "      <td>Санкт-Петербург</td>\n",
       "      <td>26333.0</td>\n",
       "      <td>6448.0</td>\n",
       "      <td>3.0</td>\n",
       "      <td>479.0</td>\n",
       "      <td>0.0</td>\n",
       "      <td>NaN</td>\n",
       "      <td>NaN</td>\n",
       "    </tr>\n",
       "    <tr>\n",
       "      <th>12628</th>\n",
       "      <td>14</td>\n",
       "      <td>3900000.0</td>\n",
       "      <td>50.0</td>\n",
       "      <td>2018-03-29</td>\n",
       "      <td>1</td>\n",
       "      <td>5.3</td>\n",
       "      <td>5.0</td>\n",
       "      <td>NaN</td>\n",
       "      <td>5</td>\n",
       "      <td>NaN</td>\n",
       "      <td>...</td>\n",
       "      <td>NaN</td>\n",
       "      <td>NaN</td>\n",
       "      <td>Санкт-Петербург</td>\n",
       "      <td>19644.0</td>\n",
       "      <td>3918.0</td>\n",
       "      <td>1.0</td>\n",
       "      <td>505.0</td>\n",
       "      <td>1.0</td>\n",
       "      <td>92.0</td>\n",
       "      <td>8.0</td>\n",
       "    </tr>\n",
       "    <tr>\n",
       "      <th>1026</th>\n",
       "      <td>20</td>\n",
       "      <td>155000000.0</td>\n",
       "      <td>310.0</td>\n",
       "      <td>2018-10-12</td>\n",
       "      <td>5</td>\n",
       "      <td>5.3</td>\n",
       "      <td>3.0</td>\n",
       "      <td>190.0</td>\n",
       "      <td>3</td>\n",
       "      <td>NaN</td>\n",
       "      <td>...</td>\n",
       "      <td>63.0</td>\n",
       "      <td>2.0</td>\n",
       "      <td>Санкт-Петербург</td>\n",
       "      <td>24899.0</td>\n",
       "      <td>4785.0</td>\n",
       "      <td>0.0</td>\n",
       "      <td>NaN</td>\n",
       "      <td>1.0</td>\n",
       "      <td>603.0</td>\n",
       "      <td>NaN</td>\n",
       "    </tr>\n",
       "    <tr>\n",
       "      <th>464</th>\n",
       "      <td>15</td>\n",
       "      <td>66571000.0</td>\n",
       "      <td>280.3</td>\n",
       "      <td>2015-06-11</td>\n",
       "      <td>6</td>\n",
       "      <td>5.2</td>\n",
       "      <td>8.0</td>\n",
       "      <td>159.5</td>\n",
       "      <td>7</td>\n",
       "      <td>NaN</td>\n",
       "      <td>...</td>\n",
       "      <td>21.1</td>\n",
       "      <td>0.0</td>\n",
       "      <td>Санкт-Петербург</td>\n",
       "      <td>26316.0</td>\n",
       "      <td>6655.0</td>\n",
       "      <td>3.0</td>\n",
       "      <td>187.0</td>\n",
       "      <td>1.0</td>\n",
       "      <td>616.0</td>\n",
       "      <td>578.0</td>\n",
       "    </tr>\n",
       "    <tr>\n",
       "      <th>1053</th>\n",
       "      <td>13</td>\n",
       "      <td>550000.0</td>\n",
       "      <td>29.0</td>\n",
       "      <td>2018-02-01</td>\n",
       "      <td>1</td>\n",
       "      <td>5.0</td>\n",
       "      <td>3.0</td>\n",
       "      <td>NaN</td>\n",
       "      <td>1</td>\n",
       "      <td>False</td>\n",
       "      <td>...</td>\n",
       "      <td>NaN</td>\n",
       "      <td>NaN</td>\n",
       "      <td>Бокситогорск</td>\n",
       "      <td>NaN</td>\n",
       "      <td>NaN</td>\n",
       "      <td>NaN</td>\n",
       "      <td>NaN</td>\n",
       "      <td>NaN</td>\n",
       "      <td>NaN</td>\n",
       "      <td>6.0</td>\n",
       "    </tr>\n",
       "    <tr>\n",
       "      <th>21923</th>\n",
       "      <td>10</td>\n",
       "      <td>115490000.0</td>\n",
       "      <td>235.0</td>\n",
       "      <td>2017-04-09</td>\n",
       "      <td>5</td>\n",
       "      <td>4.9</td>\n",
       "      <td>5.0</td>\n",
       "      <td>140.0</td>\n",
       "      <td>5</td>\n",
       "      <td>NaN</td>\n",
       "      <td>...</td>\n",
       "      <td>50.0</td>\n",
       "      <td>NaN</td>\n",
       "      <td>Санкт-Петербург</td>\n",
       "      <td>22777.0</td>\n",
       "      <td>1328.0</td>\n",
       "      <td>3.0</td>\n",
       "      <td>652.0</td>\n",
       "      <td>3.0</td>\n",
       "      <td>253.0</td>\n",
       "      <td>351.0</td>\n",
       "    </tr>\n",
       "    <tr>\n",
       "      <th>2802</th>\n",
       "      <td>7</td>\n",
       "      <td>14950000.0</td>\n",
       "      <td>50.0</td>\n",
       "      <td>2016-03-06</td>\n",
       "      <td>2</td>\n",
       "      <td>4.8</td>\n",
       "      <td>3.0</td>\n",
       "      <td>30.0</td>\n",
       "      <td>2</td>\n",
       "      <td>NaN</td>\n",
       "      <td>...</td>\n",
       "      <td>10.0</td>\n",
       "      <td>0.0</td>\n",
       "      <td>Санкт-Петербург</td>\n",
       "      <td>24433.0</td>\n",
       "      <td>1725.0</td>\n",
       "      <td>1.0</td>\n",
       "      <td>589.0</td>\n",
       "      <td>3.0</td>\n",
       "      <td>161.0</td>\n",
       "      <td>160.0</td>\n",
       "    </tr>\n",
       "  </tbody>\n",
       "</table>\n",
       "<p>10 rows × 22 columns</p>\n",
       "</div>"
      ],
      "text/plain": [
       "       total_images   last_price  total_area first_day_exposition  rooms  \\\n",
       "20264            17  119000000.0       187.6           2017-07-10      4   \n",
       "21227             0    8200000.0        71.0           2017-07-21      0   \n",
       "1388             20   59800000.0       399.0           2015-01-21      5   \n",
       "7578             17   38000000.0       143.0           2017-11-02      3   \n",
       "12628            14    3900000.0        50.0           2018-03-29      1   \n",
       "1026             20  155000000.0       310.0           2018-10-12      5   \n",
       "464              15   66571000.0       280.3           2015-06-11      6   \n",
       "1053             13     550000.0        29.0           2018-02-01      1   \n",
       "21923            10  115490000.0       235.0           2017-04-09      5   \n",
       "2802              7   14950000.0        50.0           2016-03-06      2   \n",
       "\n",
       "       ceiling_height  floors_total  living_area  floor is_apartment  ...  \\\n",
       "20264             6.0           7.0        147.0      7          NaN  ...   \n",
       "21227             5.8           5.0         68.0      5          NaN  ...   \n",
       "1388              5.6           6.0          NaN      6          NaN  ...   \n",
       "7578              5.5           5.0         83.0      5          NaN  ...   \n",
       "12628             5.3           5.0          NaN      5          NaN  ...   \n",
       "1026              5.3           3.0        190.0      3          NaN  ...   \n",
       "464               5.2           8.0        159.5      7          NaN  ...   \n",
       "1053              5.0           3.0          NaN      1        False  ...   \n",
       "21923             4.9           5.0        140.0      5          NaN  ...   \n",
       "2802              4.8           3.0         30.0      2          NaN  ...   \n",
       "\n",
       "       kitchen_area  balcony    locality_name  airports_nearest  \\\n",
       "20264          15.6      NaN  Санкт-Петербург           26902.0   \n",
       "21227           NaN      0.0  Санкт-Петербург           20170.0   \n",
       "1388            NaN      0.0  Санкт-Петербург           26204.0   \n",
       "7578           29.0      1.0  Санкт-Петербург           26333.0   \n",
       "12628           NaN      NaN  Санкт-Петербург           19644.0   \n",
       "1026           63.0      2.0  Санкт-Петербург           24899.0   \n",
       "464            21.1      0.0  Санкт-Петербург           26316.0   \n",
       "1053            NaN      NaN     Бокситогорск               NaN   \n",
       "21923          50.0      NaN  Санкт-Петербург           22777.0   \n",
       "2802           10.0      0.0  Санкт-Петербург           24433.0   \n",
       "\n",
       "      city_сenters_nearest  parks_around_3000  parks_nearest  \\\n",
       "20264               5605.0                3.0          484.0   \n",
       "21227               1261.0                2.0          295.0   \n",
       "1388                6934.0                2.0          149.0   \n",
       "7578                6448.0                3.0          479.0   \n",
       "12628               3918.0                1.0          505.0   \n",
       "1026                4785.0                0.0            NaN   \n",
       "464                 6655.0                3.0          187.0   \n",
       "1053                   NaN                NaN            NaN   \n",
       "21923               1328.0                3.0          652.0   \n",
       "2802                1725.0                1.0          589.0   \n",
       "\n",
       "       ponds_around_3000  ponds_nearest  days_exposition  \n",
       "20264                1.0          305.0            259.0  \n",
       "21227                3.0          366.0             30.0  \n",
       "1388                 2.0          577.0            719.0  \n",
       "7578                 0.0            NaN              NaN  \n",
       "12628                1.0           92.0              8.0  \n",
       "1026                 1.0          603.0              NaN  \n",
       "464                  1.0          616.0            578.0  \n",
       "1053                 NaN            NaN              6.0  \n",
       "21923                3.0          253.0            351.0  \n",
       "2802                 3.0          161.0            160.0  \n",
       "\n",
       "[10 rows x 22 columns]"
      ]
     },
     "execution_count": 14,
     "metadata": {},
     "output_type": "execute_result"
    }
   ],
   "source": [
    "data = data.query('ceiling_height < 8')\n",
    "# Проверка того, что все аномальные значения были исключены\n",
    "data.sort_values(by='ceiling_height', ascending=False).head(10)"
   ]
  },
  {
   "cell_type": "markdown",
   "metadata": {},
   "source": [
    "Теперь необходимо взглянуть на аномально низкие значения."
   ]
  },
  {
   "cell_type": "code",
   "execution_count": 15,
   "metadata": {},
   "outputs": [
    {
     "data": {
      "text/html": [
       "<div>\n",
       "<style scoped>\n",
       "    .dataframe tbody tr th:only-of-type {\n",
       "        vertical-align: middle;\n",
       "    }\n",
       "\n",
       "    .dataframe tbody tr th {\n",
       "        vertical-align: top;\n",
       "    }\n",
       "\n",
       "    .dataframe thead th {\n",
       "        text-align: right;\n",
       "    }\n",
       "</style>\n",
       "<table border=\"1\" class=\"dataframe\">\n",
       "  <thead>\n",
       "    <tr style=\"text-align: right;\">\n",
       "      <th></th>\n",
       "      <th>total_images</th>\n",
       "      <th>last_price</th>\n",
       "      <th>total_area</th>\n",
       "      <th>first_day_exposition</th>\n",
       "      <th>rooms</th>\n",
       "      <th>ceiling_height</th>\n",
       "      <th>floors_total</th>\n",
       "      <th>living_area</th>\n",
       "      <th>floor</th>\n",
       "      <th>is_apartment</th>\n",
       "      <th>...</th>\n",
       "      <th>kitchen_area</th>\n",
       "      <th>balcony</th>\n",
       "      <th>locality_name</th>\n",
       "      <th>airports_nearest</th>\n",
       "      <th>city_сenters_nearest</th>\n",
       "      <th>parks_around_3000</th>\n",
       "      <th>parks_nearest</th>\n",
       "      <th>ponds_around_3000</th>\n",
       "      <th>ponds_nearest</th>\n",
       "      <th>days_exposition</th>\n",
       "    </tr>\n",
       "  </thead>\n",
       "  <tbody>\n",
       "    <tr>\n",
       "      <th>22590</th>\n",
       "      <td>16</td>\n",
       "      <td>6000000.0</td>\n",
       "      <td>55.0</td>\n",
       "      <td>2018-10-31</td>\n",
       "      <td>2</td>\n",
       "      <td>1.00</td>\n",
       "      <td>12.0</td>\n",
       "      <td>32.4</td>\n",
       "      <td>7</td>\n",
       "      <td>NaN</td>\n",
       "      <td>...</td>\n",
       "      <td>10.00</td>\n",
       "      <td>NaN</td>\n",
       "      <td>Санкт-Петербург</td>\n",
       "      <td>33053.0</td>\n",
       "      <td>14217.0</td>\n",
       "      <td>2.0</td>\n",
       "      <td>293.0</td>\n",
       "      <td>2.0</td>\n",
       "      <td>289.0</td>\n",
       "      <td>13.0</td>\n",
       "    </tr>\n",
       "    <tr>\n",
       "      <th>22309</th>\n",
       "      <td>20</td>\n",
       "      <td>5300000.0</td>\n",
       "      <td>45.0</td>\n",
       "      <td>2017-09-30</td>\n",
       "      <td>1</td>\n",
       "      <td>1.03</td>\n",
       "      <td>16.0</td>\n",
       "      <td>15.5</td>\n",
       "      <td>15</td>\n",
       "      <td>NaN</td>\n",
       "      <td>...</td>\n",
       "      <td>NaN</td>\n",
       "      <td>NaN</td>\n",
       "      <td>Санкт-Петербург</td>\n",
       "      <td>36353.0</td>\n",
       "      <td>11936.0</td>\n",
       "      <td>2.0</td>\n",
       "      <td>440.0</td>\n",
       "      <td>2.0</td>\n",
       "      <td>450.0</td>\n",
       "      <td>136.0</td>\n",
       "    </tr>\n",
       "    <tr>\n",
       "      <th>5712</th>\n",
       "      <td>5</td>\n",
       "      <td>1500000.0</td>\n",
       "      <td>42.8</td>\n",
       "      <td>2017-08-14</td>\n",
       "      <td>2</td>\n",
       "      <td>1.20</td>\n",
       "      <td>2.0</td>\n",
       "      <td>27.5</td>\n",
       "      <td>1</td>\n",
       "      <td>NaN</td>\n",
       "      <td>...</td>\n",
       "      <td>5.20</td>\n",
       "      <td>NaN</td>\n",
       "      <td>городской посёлок Мга</td>\n",
       "      <td>NaN</td>\n",
       "      <td>NaN</td>\n",
       "      <td>NaN</td>\n",
       "      <td>NaN</td>\n",
       "      <td>NaN</td>\n",
       "      <td>NaN</td>\n",
       "      <td>248.0</td>\n",
       "    </tr>\n",
       "    <tr>\n",
       "      <th>15061</th>\n",
       "      <td>19</td>\n",
       "      <td>5600000.0</td>\n",
       "      <td>56.4</td>\n",
       "      <td>2018-05-11</td>\n",
       "      <td>2</td>\n",
       "      <td>1.40</td>\n",
       "      <td>14.0</td>\n",
       "      <td>32.4</td>\n",
       "      <td>5</td>\n",
       "      <td>NaN</td>\n",
       "      <td>...</td>\n",
       "      <td>9.10</td>\n",
       "      <td>2.0</td>\n",
       "      <td>Санкт-Петербург</td>\n",
       "      <td>14814.0</td>\n",
       "      <td>13610.0</td>\n",
       "      <td>0.0</td>\n",
       "      <td>NaN</td>\n",
       "      <td>0.0</td>\n",
       "      <td>NaN</td>\n",
       "      <td>315.0</td>\n",
       "    </tr>\n",
       "    <tr>\n",
       "      <th>16934</th>\n",
       "      <td>5</td>\n",
       "      <td>4100000.0</td>\n",
       "      <td>40.0</td>\n",
       "      <td>2017-10-17</td>\n",
       "      <td>1</td>\n",
       "      <td>1.75</td>\n",
       "      <td>37.0</td>\n",
       "      <td>17.4</td>\n",
       "      <td>5</td>\n",
       "      <td>NaN</td>\n",
       "      <td>...</td>\n",
       "      <td>8.34</td>\n",
       "      <td>NaN</td>\n",
       "      <td>Санкт-Петербург</td>\n",
       "      <td>18732.0</td>\n",
       "      <td>20444.0</td>\n",
       "      <td>0.0</td>\n",
       "      <td>NaN</td>\n",
       "      <td>3.0</td>\n",
       "      <td>80.0</td>\n",
       "      <td>71.0</td>\n",
       "    </tr>\n",
       "    <tr>\n",
       "      <th>5850</th>\n",
       "      <td>9</td>\n",
       "      <td>1650000.0</td>\n",
       "      <td>35.5</td>\n",
       "      <td>2018-05-29</td>\n",
       "      <td>1</td>\n",
       "      <td>2.00</td>\n",
       "      <td>5.0</td>\n",
       "      <td>NaN</td>\n",
       "      <td>5</td>\n",
       "      <td>NaN</td>\n",
       "      <td>...</td>\n",
       "      <td>NaN</td>\n",
       "      <td>NaN</td>\n",
       "      <td>Луга</td>\n",
       "      <td>NaN</td>\n",
       "      <td>NaN</td>\n",
       "      <td>NaN</td>\n",
       "      <td>NaN</td>\n",
       "      <td>NaN</td>\n",
       "      <td>NaN</td>\n",
       "      <td>100.0</td>\n",
       "    </tr>\n",
       "    <tr>\n",
       "      <th>16446</th>\n",
       "      <td>6</td>\n",
       "      <td>12300000.0</td>\n",
       "      <td>88.3</td>\n",
       "      <td>2019-03-12</td>\n",
       "      <td>3</td>\n",
       "      <td>2.00</td>\n",
       "      <td>5.0</td>\n",
       "      <td>63.9</td>\n",
       "      <td>2</td>\n",
       "      <td>NaN</td>\n",
       "      <td>...</td>\n",
       "      <td>12.00</td>\n",
       "      <td>NaN</td>\n",
       "      <td>Санкт-Петербург</td>\n",
       "      <td>38415.0</td>\n",
       "      <td>7675.0</td>\n",
       "      <td>1.0</td>\n",
       "      <td>568.0</td>\n",
       "      <td>1.0</td>\n",
       "      <td>154.0</td>\n",
       "      <td>NaN</td>\n",
       "    </tr>\n",
       "    <tr>\n",
       "      <th>2572</th>\n",
       "      <td>4</td>\n",
       "      <td>2400000.0</td>\n",
       "      <td>62.0</td>\n",
       "      <td>2018-12-27</td>\n",
       "      <td>3</td>\n",
       "      <td>2.00</td>\n",
       "      <td>5.0</td>\n",
       "      <td>40.0</td>\n",
       "      <td>4</td>\n",
       "      <td>NaN</td>\n",
       "      <td>...</td>\n",
       "      <td>6.00</td>\n",
       "      <td>1.0</td>\n",
       "      <td>Луга</td>\n",
       "      <td>NaN</td>\n",
       "      <td>NaN</td>\n",
       "      <td>NaN</td>\n",
       "      <td>NaN</td>\n",
       "      <td>NaN</td>\n",
       "      <td>NaN</td>\n",
       "      <td>NaN</td>\n",
       "    </tr>\n",
       "    <tr>\n",
       "      <th>552</th>\n",
       "      <td>11</td>\n",
       "      <td>2999000.0</td>\n",
       "      <td>33.5</td>\n",
       "      <td>2017-03-30</td>\n",
       "      <td>1</td>\n",
       "      <td>2.00</td>\n",
       "      <td>15.0</td>\n",
       "      <td>17.5</td>\n",
       "      <td>6</td>\n",
       "      <td>NaN</td>\n",
       "      <td>...</td>\n",
       "      <td>6.50</td>\n",
       "      <td>NaN</td>\n",
       "      <td>Санкт-Петербург</td>\n",
       "      <td>33972.0</td>\n",
       "      <td>11746.0</td>\n",
       "      <td>1.0</td>\n",
       "      <td>520.0</td>\n",
       "      <td>1.0</td>\n",
       "      <td>949.0</td>\n",
       "      <td>270.0</td>\n",
       "    </tr>\n",
       "    <tr>\n",
       "      <th>16884</th>\n",
       "      <td>0</td>\n",
       "      <td>1500000.0</td>\n",
       "      <td>33.0</td>\n",
       "      <td>2018-10-03</td>\n",
       "      <td>1</td>\n",
       "      <td>2.00</td>\n",
       "      <td>5.0</td>\n",
       "      <td>20.0</td>\n",
       "      <td>5</td>\n",
       "      <td>False</td>\n",
       "      <td>...</td>\n",
       "      <td>6.00</td>\n",
       "      <td>NaN</td>\n",
       "      <td>Выборг</td>\n",
       "      <td>NaN</td>\n",
       "      <td>NaN</td>\n",
       "      <td>NaN</td>\n",
       "      <td>NaN</td>\n",
       "      <td>NaN</td>\n",
       "      <td>NaN</td>\n",
       "      <td>6.0</td>\n",
       "    </tr>\n",
       "  </tbody>\n",
       "</table>\n",
       "<p>10 rows × 22 columns</p>\n",
       "</div>"
      ],
      "text/plain": [
       "       total_images  last_price  total_area first_day_exposition  rooms  \\\n",
       "22590            16   6000000.0        55.0           2018-10-31      2   \n",
       "22309            20   5300000.0        45.0           2017-09-30      1   \n",
       "5712              5   1500000.0        42.8           2017-08-14      2   \n",
       "15061            19   5600000.0        56.4           2018-05-11      2   \n",
       "16934             5   4100000.0        40.0           2017-10-17      1   \n",
       "5850              9   1650000.0        35.5           2018-05-29      1   \n",
       "16446             6  12300000.0        88.3           2019-03-12      3   \n",
       "2572              4   2400000.0        62.0           2018-12-27      3   \n",
       "552              11   2999000.0        33.5           2017-03-30      1   \n",
       "16884             0   1500000.0        33.0           2018-10-03      1   \n",
       "\n",
       "       ceiling_height  floors_total  living_area  floor is_apartment  ...  \\\n",
       "22590            1.00          12.0         32.4      7          NaN  ...   \n",
       "22309            1.03          16.0         15.5     15          NaN  ...   \n",
       "5712             1.20           2.0         27.5      1          NaN  ...   \n",
       "15061            1.40          14.0         32.4      5          NaN  ...   \n",
       "16934            1.75          37.0         17.4      5          NaN  ...   \n",
       "5850             2.00           5.0          NaN      5          NaN  ...   \n",
       "16446            2.00           5.0         63.9      2          NaN  ...   \n",
       "2572             2.00           5.0         40.0      4          NaN  ...   \n",
       "552              2.00          15.0         17.5      6          NaN  ...   \n",
       "16884            2.00           5.0         20.0      5        False  ...   \n",
       "\n",
       "       kitchen_area  balcony          locality_name  airports_nearest  \\\n",
       "22590         10.00      NaN        Санкт-Петербург           33053.0   \n",
       "22309           NaN      NaN        Санкт-Петербург           36353.0   \n",
       "5712           5.20      NaN  городской посёлок Мга               NaN   \n",
       "15061          9.10      2.0        Санкт-Петербург           14814.0   \n",
       "16934          8.34      NaN        Санкт-Петербург           18732.0   \n",
       "5850            NaN      NaN                   Луга               NaN   \n",
       "16446         12.00      NaN        Санкт-Петербург           38415.0   \n",
       "2572           6.00      1.0                   Луга               NaN   \n",
       "552            6.50      NaN        Санкт-Петербург           33972.0   \n",
       "16884          6.00      NaN                 Выборг               NaN   \n",
       "\n",
       "      city_сenters_nearest  parks_around_3000  parks_nearest  \\\n",
       "22590              14217.0                2.0          293.0   \n",
       "22309              11936.0                2.0          440.0   \n",
       "5712                   NaN                NaN            NaN   \n",
       "15061              13610.0                0.0            NaN   \n",
       "16934              20444.0                0.0            NaN   \n",
       "5850                   NaN                NaN            NaN   \n",
       "16446               7675.0                1.0          568.0   \n",
       "2572                   NaN                NaN            NaN   \n",
       "552                11746.0                1.0          520.0   \n",
       "16884                  NaN                NaN            NaN   \n",
       "\n",
       "       ponds_around_3000  ponds_nearest  days_exposition  \n",
       "22590                2.0          289.0             13.0  \n",
       "22309                2.0          450.0            136.0  \n",
       "5712                 NaN            NaN            248.0  \n",
       "15061                0.0            NaN            315.0  \n",
       "16934                3.0           80.0             71.0  \n",
       "5850                 NaN            NaN            100.0  \n",
       "16446                1.0          154.0              NaN  \n",
       "2572                 NaN            NaN              NaN  \n",
       "552                  1.0          949.0            270.0  \n",
       "16884                NaN            NaN              6.0  \n",
       "\n",
       "[10 rows x 22 columns]"
      ]
     },
     "execution_count": 15,
     "metadata": {},
     "output_type": "execute_result"
    }
   ],
   "source": [
    "data.sort_values(by='ceiling_height').head(10)"
   ]
  },
  {
   "cell_type": "markdown",
   "metadata": {},
   "source": [
    "Как видим, их не так много, но врядли кто-то захочет жить в квартире с высотой потолков **1 метр** за **6 млн. р.**"
   ]
  },
  {
   "cell_type": "code",
   "execution_count": 16,
   "metadata": {},
   "outputs": [
    {
     "data": {
      "text/html": [
       "<div>\n",
       "<style scoped>\n",
       "    .dataframe tbody tr th:only-of-type {\n",
       "        vertical-align: middle;\n",
       "    }\n",
       "\n",
       "    .dataframe tbody tr th {\n",
       "        vertical-align: top;\n",
       "    }\n",
       "\n",
       "    .dataframe thead th {\n",
       "        text-align: right;\n",
       "    }\n",
       "</style>\n",
       "<table border=\"1\" class=\"dataframe\">\n",
       "  <thead>\n",
       "    <tr style=\"text-align: right;\">\n",
       "      <th></th>\n",
       "      <th>total_images</th>\n",
       "      <th>last_price</th>\n",
       "      <th>total_area</th>\n",
       "      <th>first_day_exposition</th>\n",
       "      <th>rooms</th>\n",
       "      <th>ceiling_height</th>\n",
       "      <th>floors_total</th>\n",
       "      <th>living_area</th>\n",
       "      <th>floor</th>\n",
       "      <th>is_apartment</th>\n",
       "      <th>...</th>\n",
       "      <th>kitchen_area</th>\n",
       "      <th>balcony</th>\n",
       "      <th>locality_name</th>\n",
       "      <th>airports_nearest</th>\n",
       "      <th>city_сenters_nearest</th>\n",
       "      <th>parks_around_3000</th>\n",
       "      <th>parks_nearest</th>\n",
       "      <th>ponds_around_3000</th>\n",
       "      <th>ponds_nearest</th>\n",
       "      <th>days_exposition</th>\n",
       "    </tr>\n",
       "  </thead>\n",
       "  <tbody>\n",
       "    <tr>\n",
       "      <th>552</th>\n",
       "      <td>11</td>\n",
       "      <td>2999000.0</td>\n",
       "      <td>33.5</td>\n",
       "      <td>2017-03-30</td>\n",
       "      <td>1</td>\n",
       "      <td>2.0</td>\n",
       "      <td>15.0</td>\n",
       "      <td>17.5</td>\n",
       "      <td>6</td>\n",
       "      <td>NaN</td>\n",
       "      <td>...</td>\n",
       "      <td>6.5</td>\n",
       "      <td>NaN</td>\n",
       "      <td>Санкт-Петербург</td>\n",
       "      <td>33972.0</td>\n",
       "      <td>11746.0</td>\n",
       "      <td>1.0</td>\n",
       "      <td>520.0</td>\n",
       "      <td>1.0</td>\n",
       "      <td>949.0</td>\n",
       "      <td>270.0</td>\n",
       "    </tr>\n",
       "    <tr>\n",
       "      <th>5850</th>\n",
       "      <td>9</td>\n",
       "      <td>1650000.0</td>\n",
       "      <td>35.5</td>\n",
       "      <td>2018-05-29</td>\n",
       "      <td>1</td>\n",
       "      <td>2.0</td>\n",
       "      <td>5.0</td>\n",
       "      <td>NaN</td>\n",
       "      <td>5</td>\n",
       "      <td>NaN</td>\n",
       "      <td>...</td>\n",
       "      <td>NaN</td>\n",
       "      <td>NaN</td>\n",
       "      <td>Луга</td>\n",
       "      <td>NaN</td>\n",
       "      <td>NaN</td>\n",
       "      <td>NaN</td>\n",
       "      <td>NaN</td>\n",
       "      <td>NaN</td>\n",
       "      <td>NaN</td>\n",
       "      <td>100.0</td>\n",
       "    </tr>\n",
       "    <tr>\n",
       "      <th>17496</th>\n",
       "      <td>15</td>\n",
       "      <td>6700000.0</td>\n",
       "      <td>92.9</td>\n",
       "      <td>2019-02-19</td>\n",
       "      <td>3</td>\n",
       "      <td>2.0</td>\n",
       "      <td>17.0</td>\n",
       "      <td>53.2</td>\n",
       "      <td>14</td>\n",
       "      <td>NaN</td>\n",
       "      <td>...</td>\n",
       "      <td>12.0</td>\n",
       "      <td>5.0</td>\n",
       "      <td>Санкт-Петербург</td>\n",
       "      <td>16295.0</td>\n",
       "      <td>15092.0</td>\n",
       "      <td>1.0</td>\n",
       "      <td>967.0</td>\n",
       "      <td>0.0</td>\n",
       "      <td>NaN</td>\n",
       "      <td>NaN</td>\n",
       "    </tr>\n",
       "    <tr>\n",
       "      <th>22960</th>\n",
       "      <td>17</td>\n",
       "      <td>2300000.0</td>\n",
       "      <td>53.6</td>\n",
       "      <td>2018-10-18</td>\n",
       "      <td>2</td>\n",
       "      <td>2.0</td>\n",
       "      <td>2.0</td>\n",
       "      <td>19.0</td>\n",
       "      <td>1</td>\n",
       "      <td>NaN</td>\n",
       "      <td>...</td>\n",
       "      <td>10.0</td>\n",
       "      <td>NaN</td>\n",
       "      <td>Всеволожск</td>\n",
       "      <td>NaN</td>\n",
       "      <td>NaN</td>\n",
       "      <td>NaN</td>\n",
       "      <td>NaN</td>\n",
       "      <td>NaN</td>\n",
       "      <td>NaN</td>\n",
       "      <td>NaN</td>\n",
       "    </tr>\n",
       "    <tr>\n",
       "      <th>19329</th>\n",
       "      <td>5</td>\n",
       "      <td>1700000.0</td>\n",
       "      <td>40.0</td>\n",
       "      <td>2018-07-15</td>\n",
       "      <td>2</td>\n",
       "      <td>2.0</td>\n",
       "      <td>9.0</td>\n",
       "      <td>NaN</td>\n",
       "      <td>8</td>\n",
       "      <td>NaN</td>\n",
       "      <td>...</td>\n",
       "      <td>NaN</td>\n",
       "      <td>NaN</td>\n",
       "      <td>Сосновый Бор</td>\n",
       "      <td>NaN</td>\n",
       "      <td>NaN</td>\n",
       "      <td>NaN</td>\n",
       "      <td>NaN</td>\n",
       "      <td>NaN</td>\n",
       "      <td>NaN</td>\n",
       "      <td>45.0</td>\n",
       "    </tr>\n",
       "  </tbody>\n",
       "</table>\n",
       "<p>5 rows × 22 columns</p>\n",
       "</div>"
      ],
      "text/plain": [
       "       total_images  last_price  total_area first_day_exposition  rooms  \\\n",
       "552              11   2999000.0        33.5           2017-03-30      1   \n",
       "5850              9   1650000.0        35.5           2018-05-29      1   \n",
       "17496            15   6700000.0        92.9           2019-02-19      3   \n",
       "22960            17   2300000.0        53.6           2018-10-18      2   \n",
       "19329             5   1700000.0        40.0           2018-07-15      2   \n",
       "\n",
       "       ceiling_height  floors_total  living_area  floor is_apartment  ...  \\\n",
       "552               2.0          15.0         17.5      6          NaN  ...   \n",
       "5850              2.0           5.0          NaN      5          NaN  ...   \n",
       "17496             2.0          17.0         53.2     14          NaN  ...   \n",
       "22960             2.0           2.0         19.0      1          NaN  ...   \n",
       "19329             2.0           9.0          NaN      8          NaN  ...   \n",
       "\n",
       "       kitchen_area  balcony    locality_name  airports_nearest  \\\n",
       "552             6.5      NaN  Санкт-Петербург           33972.0   \n",
       "5850            NaN      NaN             Луга               NaN   \n",
       "17496          12.0      5.0  Санкт-Петербург           16295.0   \n",
       "22960          10.0      NaN       Всеволожск               NaN   \n",
       "19329           NaN      NaN     Сосновый Бор               NaN   \n",
       "\n",
       "      city_сenters_nearest  parks_around_3000  parks_nearest  \\\n",
       "552                11746.0                1.0          520.0   \n",
       "5850                   NaN                NaN            NaN   \n",
       "17496              15092.0                1.0          967.0   \n",
       "22960                  NaN                NaN            NaN   \n",
       "19329                  NaN                NaN            NaN   \n",
       "\n",
       "       ponds_around_3000  ponds_nearest  days_exposition  \n",
       "552                  1.0          949.0            270.0  \n",
       "5850                 NaN            NaN            100.0  \n",
       "17496                0.0            NaN              NaN  \n",
       "22960                NaN            NaN              NaN  \n",
       "19329                NaN            NaN             45.0  \n",
       "\n",
       "[5 rows x 22 columns]"
      ]
     },
     "execution_count": 16,
     "metadata": {},
     "output_type": "execute_result"
    }
   ],
   "source": [
    "data = data.query('ceiling_height >= 2')\n",
    "#Проверка того, что все аномальные значения исключены\n",
    "data.sort_values(by='ceiling_height').head()"
   ]
  },
  {
   "cell_type": "markdown",
   "metadata": {},
   "source": [
    "Построим гистограмму по улучшинным значениям и сравним с исходной."
   ]
  },
  {
   "cell_type": "code",
   "execution_count": 17,
   "metadata": {},
   "outputs": [
    {
     "data": {
      "text/plain": [
       "array([[<AxesSubplot:title={'center':'ceiling_height'}>]], dtype=object)"
      ]
     },
     "execution_count": 17,
     "metadata": {},
     "output_type": "execute_result"
    },
    {
     "data": {
      "image/png": "[encoded data removed]",
      "text/plain": [
       "<Figure size 432x288 with 1 Axes>"
      ]
     },
     "metadata": {
      "needs_background": "light"
     },
     "output_type": "display_data"
    }
   ],
   "source": [
    "data.hist(column='ceiling_height', bins=30, range=(2, 6))"
   ]
  },
  {
   "cell_type": "markdown",
   "metadata": {},
   "source": [
    "На первый взгляд гистограмма не поменялась, но была проведена большая работа. Теперь данные в этом столбце корректны."
   ]
  },
  {
   "cell_type": "markdown",
   "metadata": {},
   "source": [
    "**floors_total** — Всего этажей в доме. Гистограмма этого столбца тоже выглядит есстественно. Изучим все пропущенные значения, т.к. их немного"
   ]
  },
  {
   "cell_type": "code",
   "execution_count": 18,
   "metadata": {},
   "outputs": [
    {
     "data": {
      "text/html": [
       "<div>\n",
       "<style scoped>\n",
       "    .dataframe tbody tr th:only-of-type {\n",
       "        vertical-align: middle;\n",
       "    }\n",
       "\n",
       "    .dataframe tbody tr th {\n",
       "        vertical-align: top;\n",
       "    }\n",
       "\n",
       "    .dataframe thead th {\n",
       "        text-align: right;\n",
       "    }\n",
       "</style>\n",
       "<table border=\"1\" class=\"dataframe\">\n",
       "  <thead>\n",
       "    <tr style=\"text-align: right;\">\n",
       "      <th></th>\n",
       "      <th>total_images</th>\n",
       "      <th>last_price</th>\n",
       "      <th>total_area</th>\n",
       "      <th>first_day_exposition</th>\n",
       "      <th>rooms</th>\n",
       "      <th>ceiling_height</th>\n",
       "      <th>floors_total</th>\n",
       "      <th>living_area</th>\n",
       "      <th>floor</th>\n",
       "      <th>is_apartment</th>\n",
       "      <th>...</th>\n",
       "      <th>kitchen_area</th>\n",
       "      <th>balcony</th>\n",
       "      <th>locality_name</th>\n",
       "      <th>airports_nearest</th>\n",
       "      <th>city_сenters_nearest</th>\n",
       "      <th>parks_around_3000</th>\n",
       "      <th>parks_nearest</th>\n",
       "      <th>ponds_around_3000</th>\n",
       "      <th>ponds_nearest</th>\n",
       "      <th>days_exposition</th>\n",
       "    </tr>\n",
       "  </thead>\n",
       "  <tbody>\n",
       "    <tr>\n",
       "      <th>186</th>\n",
       "      <td>12</td>\n",
       "      <td>11640000.0</td>\n",
       "      <td>65.2</td>\n",
       "      <td>2018-10-02</td>\n",
       "      <td>2</td>\n",
       "      <td>2.65</td>\n",
       "      <td>NaN</td>\n",
       "      <td>30.80</td>\n",
       "      <td>4</td>\n",
       "      <td>NaN</td>\n",
       "      <td>...</td>\n",
       "      <td>12.00</td>\n",
       "      <td>NaN</td>\n",
       "      <td>Санкт-Петербург</td>\n",
       "      <td>39197.0</td>\n",
       "      <td>12373.0</td>\n",
       "      <td>1.0</td>\n",
       "      <td>123.0</td>\n",
       "      <td>0.0</td>\n",
       "      <td>NaN</td>\n",
       "      <td>49.0</td>\n",
       "    </tr>\n",
       "    <tr>\n",
       "      <th>237</th>\n",
       "      <td>4</td>\n",
       "      <td>2438033.0</td>\n",
       "      <td>28.1</td>\n",
       "      <td>2016-11-23</td>\n",
       "      <td>1</td>\n",
       "      <td>2.65</td>\n",
       "      <td>NaN</td>\n",
       "      <td>20.75</td>\n",
       "      <td>1</td>\n",
       "      <td>NaN</td>\n",
       "      <td>...</td>\n",
       "      <td>NaN</td>\n",
       "      <td>0.0</td>\n",
       "      <td>Санкт-Петербург</td>\n",
       "      <td>22041.0</td>\n",
       "      <td>17369.0</td>\n",
       "      <td>0.0</td>\n",
       "      <td>NaN</td>\n",
       "      <td>1.0</td>\n",
       "      <td>374.0</td>\n",
       "      <td>251.0</td>\n",
       "    </tr>\n",
       "    <tr>\n",
       "      <th>457</th>\n",
       "      <td>4</td>\n",
       "      <td>9788348.0</td>\n",
       "      <td>70.8</td>\n",
       "      <td>2015-08-01</td>\n",
       "      <td>2</td>\n",
       "      <td>2.65</td>\n",
       "      <td>NaN</td>\n",
       "      <td>38.40</td>\n",
       "      <td>12</td>\n",
       "      <td>NaN</td>\n",
       "      <td>...</td>\n",
       "      <td>10.63</td>\n",
       "      <td>0.0</td>\n",
       "      <td>Санкт-Петербург</td>\n",
       "      <td>37364.0</td>\n",
       "      <td>8322.0</td>\n",
       "      <td>2.0</td>\n",
       "      <td>309.0</td>\n",
       "      <td>2.0</td>\n",
       "      <td>706.0</td>\n",
       "      <td>727.0</td>\n",
       "    </tr>\n",
       "    <tr>\n",
       "      <th>671</th>\n",
       "      <td>4</td>\n",
       "      <td>6051191.0</td>\n",
       "      <td>93.6</td>\n",
       "      <td>2017-04-06</td>\n",
       "      <td>3</td>\n",
       "      <td>2.65</td>\n",
       "      <td>NaN</td>\n",
       "      <td>47.10</td>\n",
       "      <td>8</td>\n",
       "      <td>NaN</td>\n",
       "      <td>...</td>\n",
       "      <td>16.80</td>\n",
       "      <td>0.0</td>\n",
       "      <td>Санкт-Петербург</td>\n",
       "      <td>22041.0</td>\n",
       "      <td>17369.0</td>\n",
       "      <td>0.0</td>\n",
       "      <td>NaN</td>\n",
       "      <td>1.0</td>\n",
       "      <td>374.0</td>\n",
       "      <td>123.0</td>\n",
       "    </tr>\n",
       "    <tr>\n",
       "      <th>1757</th>\n",
       "      <td>5</td>\n",
       "      <td>3600000.0</td>\n",
       "      <td>39.0</td>\n",
       "      <td>2017-04-22</td>\n",
       "      <td>1</td>\n",
       "      <td>2.65</td>\n",
       "      <td>NaN</td>\n",
       "      <td>NaN</td>\n",
       "      <td>9</td>\n",
       "      <td>NaN</td>\n",
       "      <td>...</td>\n",
       "      <td>NaN</td>\n",
       "      <td>0.0</td>\n",
       "      <td>Санкт-Петербург</td>\n",
       "      <td>22735.0</td>\n",
       "      <td>11618.0</td>\n",
       "      <td>1.0</td>\n",
       "      <td>835.0</td>\n",
       "      <td>1.0</td>\n",
       "      <td>652.0</td>\n",
       "      <td>77.0</td>\n",
       "    </tr>\n",
       "    <tr>\n",
       "      <th>...</th>\n",
       "      <td>...</td>\n",
       "      <td>...</td>\n",
       "      <td>...</td>\n",
       "      <td>...</td>\n",
       "      <td>...</td>\n",
       "      <td>...</td>\n",
       "      <td>...</td>\n",
       "      <td>...</td>\n",
       "      <td>...</td>\n",
       "      <td>...</td>\n",
       "      <td>...</td>\n",
       "      <td>...</td>\n",
       "      <td>...</td>\n",
       "      <td>...</td>\n",
       "      <td>...</td>\n",
       "      <td>...</td>\n",
       "      <td>...</td>\n",
       "      <td>...</td>\n",
       "      <td>...</td>\n",
       "      <td>...</td>\n",
       "      <td>...</td>\n",
       "    </tr>\n",
       "    <tr>\n",
       "      <th>22542</th>\n",
       "      <td>5</td>\n",
       "      <td>8500000.0</td>\n",
       "      <td>63.5</td>\n",
       "      <td>2017-05-24</td>\n",
       "      <td>2</td>\n",
       "      <td>2.80</td>\n",
       "      <td>NaN</td>\n",
       "      <td>NaN</td>\n",
       "      <td>3</td>\n",
       "      <td>NaN</td>\n",
       "      <td>...</td>\n",
       "      <td>NaN</td>\n",
       "      <td>NaN</td>\n",
       "      <td>Санкт-Петербург</td>\n",
       "      <td>51340.0</td>\n",
       "      <td>15363.0</td>\n",
       "      <td>0.0</td>\n",
       "      <td>NaN</td>\n",
       "      <td>1.0</td>\n",
       "      <td>853.0</td>\n",
       "      <td>512.0</td>\n",
       "    </tr>\n",
       "    <tr>\n",
       "      <th>22656</th>\n",
       "      <td>4</td>\n",
       "      <td>4574160.0</td>\n",
       "      <td>64.5</td>\n",
       "      <td>2017-04-02</td>\n",
       "      <td>2</td>\n",
       "      <td>2.65</td>\n",
       "      <td>NaN</td>\n",
       "      <td>31.70</td>\n",
       "      <td>20</td>\n",
       "      <td>NaN</td>\n",
       "      <td>...</td>\n",
       "      <td>14.40</td>\n",
       "      <td>0.0</td>\n",
       "      <td>Санкт-Петербург</td>\n",
       "      <td>22041.0</td>\n",
       "      <td>17369.0</td>\n",
       "      <td>0.0</td>\n",
       "      <td>NaN</td>\n",
       "      <td>1.0</td>\n",
       "      <td>374.0</td>\n",
       "      <td>127.0</td>\n",
       "    </tr>\n",
       "    <tr>\n",
       "      <th>22808</th>\n",
       "      <td>0</td>\n",
       "      <td>14569263.0</td>\n",
       "      <td>110.4</td>\n",
       "      <td>2016-11-20</td>\n",
       "      <td>3</td>\n",
       "      <td>2.65</td>\n",
       "      <td>NaN</td>\n",
       "      <td>45.38</td>\n",
       "      <td>6</td>\n",
       "      <td>NaN</td>\n",
       "      <td>...</td>\n",
       "      <td>23.42</td>\n",
       "      <td>0.0</td>\n",
       "      <td>Санкт-Петербург</td>\n",
       "      <td>19095.0</td>\n",
       "      <td>4529.0</td>\n",
       "      <td>0.0</td>\n",
       "      <td>NaN</td>\n",
       "      <td>0.0</td>\n",
       "      <td>NaN</td>\n",
       "      <td>260.0</td>\n",
       "    </tr>\n",
       "    <tr>\n",
       "      <th>23590</th>\n",
       "      <td>0</td>\n",
       "      <td>21187872.0</td>\n",
       "      <td>123.3</td>\n",
       "      <td>2017-04-25</td>\n",
       "      <td>3</td>\n",
       "      <td>2.65</td>\n",
       "      <td>NaN</td>\n",
       "      <td>50.40</td>\n",
       "      <td>18</td>\n",
       "      <td>NaN</td>\n",
       "      <td>...</td>\n",
       "      <td>23.60</td>\n",
       "      <td>0.0</td>\n",
       "      <td>Санкт-Петербург</td>\n",
       "      <td>19095.0</td>\n",
       "      <td>4529.0</td>\n",
       "      <td>0.0</td>\n",
       "      <td>NaN</td>\n",
       "      <td>0.0</td>\n",
       "      <td>NaN</td>\n",
       "      <td>104.0</td>\n",
       "    </tr>\n",
       "    <tr>\n",
       "      <th>23658</th>\n",
       "      <td>6</td>\n",
       "      <td>3063600.0</td>\n",
       "      <td>43.8</td>\n",
       "      <td>2016-11-28</td>\n",
       "      <td>1</td>\n",
       "      <td>2.70</td>\n",
       "      <td>NaN</td>\n",
       "      <td>14.00</td>\n",
       "      <td>8</td>\n",
       "      <td>NaN</td>\n",
       "      <td>...</td>\n",
       "      <td>15.50</td>\n",
       "      <td>2.0</td>\n",
       "      <td>Санкт-Петербург</td>\n",
       "      <td>8426.0</td>\n",
       "      <td>12082.0</td>\n",
       "      <td>2.0</td>\n",
       "      <td>24.0</td>\n",
       "      <td>1.0</td>\n",
       "      <td>271.0</td>\n",
       "      <td>246.0</td>\n",
       "    </tr>\n",
       "  </tbody>\n",
       "</table>\n",
       "<p>86 rows × 22 columns</p>\n",
       "</div>"
      ],
      "text/plain": [
       "       total_images  last_price  total_area first_day_exposition  rooms  \\\n",
       "186              12  11640000.0        65.2           2018-10-02      2   \n",
       "237               4   2438033.0        28.1           2016-11-23      1   \n",
       "457               4   9788348.0        70.8           2015-08-01      2   \n",
       "671               4   6051191.0        93.6           2017-04-06      3   \n",
       "1757              5   3600000.0        39.0           2017-04-22      1   \n",
       "...             ...         ...         ...                  ...    ...   \n",
       "22542             5   8500000.0        63.5           2017-05-24      2   \n",
       "22656             4   4574160.0        64.5           2017-04-02      2   \n",
       "22808             0  14569263.0       110.4           2016-11-20      3   \n",
       "23590             0  21187872.0       123.3           2017-04-25      3   \n",
       "23658             6   3063600.0        43.8           2016-11-28      1   \n",
       "\n",
       "       ceiling_height  floors_total  living_area  floor is_apartment  ...  \\\n",
       "186              2.65           NaN        30.80      4          NaN  ...   \n",
       "237              2.65           NaN        20.75      1          NaN  ...   \n",
       "457              2.65           NaN        38.40     12          NaN  ...   \n",
       "671              2.65           NaN        47.10      8          NaN  ...   \n",
       "1757             2.65           NaN          NaN      9          NaN  ...   \n",
       "...               ...           ...          ...    ...          ...  ...   \n",
       "22542            2.80           NaN          NaN      3          NaN  ...   \n",
       "22656            2.65           NaN        31.70     20          NaN  ...   \n",
       "22808            2.65           NaN        45.38      6          NaN  ...   \n",
       "23590            2.65           NaN        50.40     18          NaN  ...   \n",
       "23658            2.70           NaN        14.00      8          NaN  ...   \n",
       "\n",
       "       kitchen_area  balcony    locality_name  airports_nearest  \\\n",
       "186           12.00      NaN  Санкт-Петербург           39197.0   \n",
       "237             NaN      0.0  Санкт-Петербург           22041.0   \n",
       "457           10.63      0.0  Санкт-Петербург           37364.0   \n",
       "671           16.80      0.0  Санкт-Петербург           22041.0   \n",
       "1757            NaN      0.0  Санкт-Петербург           22735.0   \n",
       "...             ...      ...              ...               ...   \n",
       "22542           NaN      NaN  Санкт-Петербург           51340.0   \n",
       "22656         14.40      0.0  Санкт-Петербург           22041.0   \n",
       "22808         23.42      0.0  Санкт-Петербург           19095.0   \n",
       "23590         23.60      0.0  Санкт-Петербург           19095.0   \n",
       "23658         15.50      2.0  Санкт-Петербург            8426.0   \n",
       "\n",
       "      city_сenters_nearest  parks_around_3000  parks_nearest  \\\n",
       "186                12373.0                1.0          123.0   \n",
       "237                17369.0                0.0            NaN   \n",
       "457                 8322.0                2.0          309.0   \n",
       "671                17369.0                0.0            NaN   \n",
       "1757               11618.0                1.0          835.0   \n",
       "...                    ...                ...            ...   \n",
       "22542              15363.0                0.0            NaN   \n",
       "22656              17369.0                0.0            NaN   \n",
       "22808               4529.0                0.0            NaN   \n",
       "23590               4529.0                0.0            NaN   \n",
       "23658              12082.0                2.0           24.0   \n",
       "\n",
       "       ponds_around_3000  ponds_nearest  days_exposition  \n",
       "186                  0.0            NaN             49.0  \n",
       "237                  1.0          374.0            251.0  \n",
       "457                  2.0          706.0            727.0  \n",
       "671                  1.0          374.0            123.0  \n",
       "1757                 1.0          652.0             77.0  \n",
       "...                  ...            ...              ...  \n",
       "22542                1.0          853.0            512.0  \n",
       "22656                1.0          374.0            127.0  \n",
       "22808                0.0            NaN            260.0  \n",
       "23590                0.0            NaN            104.0  \n",
       "23658                1.0          271.0            246.0  \n",
       "\n",
       "[86 rows x 22 columns]"
      ]
     },
     "execution_count": 18,
     "metadata": {},
     "output_type": "execute_result"
    }
   ],
   "source": [
    "data[data['floors_total'].isna()]"
   ]
  },
  {
   "cell_type": "markdown",
   "metadata": {},
   "source": [
    "Ничего общего между значениями и пропусками нет и медианными их не заполнить - придется удалить строки в которых пропущено это значение."
   ]
  },
  {
   "cell_type": "code",
   "execution_count": 19,
   "metadata": {},
   "outputs": [
    {
     "data": {
      "text/plain": [
       "0"
      ]
     },
     "execution_count": 19,
     "metadata": {},
     "output_type": "execute_result"
    }
   ],
   "source": [
    "data.dropna(subset=['floors_total'], inplace=True)\n",
    "data['floors_total'].isna().sum() # Проверка того, что все пропущенные значения удалены"
   ]
  },
  {
   "cell_type": "markdown",
   "metadata": {},
   "source": [
    "Осталось только поменять тип данных с **float64** на **int64**, потому что количество этажей должно быть целым числом."
   ]
  },
  {
   "cell_type": "code",
   "execution_count": 20,
   "metadata": {},
   "outputs": [
    {
     "name": "stdout",
     "output_type": "stream",
     "text": [
      "<class 'pandas.core.frame.DataFrame'>\n",
      "Int64Index: 23603 entries, 0 to 23698\n",
      "Data columns (total 22 columns):\n",
      " #   Column                Non-Null Count  Dtype         \n",
      "---  ------                --------------  -----         \n",
      " 0   total_images          23603 non-null  int64         \n",
      " 1   last_price            23603 non-null  float64       \n",
      " 2   total_area            23603 non-null  float64       \n",
      " 3   first_day_exposition  23603 non-null  datetime64[ns]\n",
      " 4   rooms                 23603 non-null  int64         \n",
      " 5   ceiling_height        23603 non-null  float64       \n",
      " 6   floors_total          23603 non-null  int64         \n",
      " 7   living_area           21733 non-null  float64       \n",
      " 8   floor                 23603 non-null  int64         \n",
      " 9   is_apartment          2773 non-null   object        \n",
      " 10  studio                23603 non-null  bool          \n",
      " 11  open_plan             23603 non-null  bool          \n",
      " 12  kitchen_area          21374 non-null  float64       \n",
      " 13  balcony               12129 non-null  float64       \n",
      " 14  locality_name         23555 non-null  object        \n",
      " 15  airports_nearest      18073 non-null  float64       \n",
      " 16  city_сenters_nearest  18096 non-null  float64       \n",
      " 17  parks_around_3000     18097 non-null  float64       \n",
      " 18  parks_nearest         8041 non-null   float64       \n",
      " 19  ponds_around_3000     18097 non-null  float64       \n",
      " 20  ponds_nearest         9056 non-null   float64       \n",
      " 21  days_exposition       20431 non-null  float64       \n",
      "dtypes: bool(2), datetime64[ns](1), float64(13), int64(4), object(2)\n",
      "memory usage: 3.8+ MB\n"
     ]
    }
   ],
   "source": [
    "data['floors_total'] = data['floors_total'].astype('int')\n",
    "data.info()"
   ]
  },
  {
   "cell_type": "markdown",
   "metadata": {},
   "source": [
    "**living_area** — Жилая площадь в квадратных метрах. Один из самых главных параметров, определяющих цену на недвижимость, тоже стоит изучить более подробно."
   ]
  },
  {
   "cell_type": "code",
   "execution_count": 21,
   "metadata": {},
   "outputs": [
    {
     "data": {
      "text/html": [
       "<div>\n",
       "<style scoped>\n",
       "    .dataframe tbody tr th:only-of-type {\n",
       "        vertical-align: middle;\n",
       "    }\n",
       "\n",
       "    .dataframe tbody tr th {\n",
       "        vertical-align: top;\n",
       "    }\n",
       "\n",
       "    .dataframe thead th {\n",
       "        text-align: right;\n",
       "    }\n",
       "</style>\n",
       "<table border=\"1\" class=\"dataframe\">\n",
       "  <thead>\n",
       "    <tr style=\"text-align: right;\">\n",
       "      <th></th>\n",
       "      <th>total_images</th>\n",
       "      <th>last_price</th>\n",
       "      <th>total_area</th>\n",
       "      <th>first_day_exposition</th>\n",
       "      <th>rooms</th>\n",
       "      <th>ceiling_height</th>\n",
       "      <th>floors_total</th>\n",
       "      <th>living_area</th>\n",
       "      <th>floor</th>\n",
       "      <th>is_apartment</th>\n",
       "      <th>...</th>\n",
       "      <th>kitchen_area</th>\n",
       "      <th>balcony</th>\n",
       "      <th>locality_name</th>\n",
       "      <th>airports_nearest</th>\n",
       "      <th>city_сenters_nearest</th>\n",
       "      <th>parks_around_3000</th>\n",
       "      <th>parks_nearest</th>\n",
       "      <th>ponds_around_3000</th>\n",
       "      <th>ponds_nearest</th>\n",
       "      <th>days_exposition</th>\n",
       "    </tr>\n",
       "  </thead>\n",
       "  <tbody>\n",
       "    <tr>\n",
       "      <th>3</th>\n",
       "      <td>0</td>\n",
       "      <td>64900000.0</td>\n",
       "      <td>159.00</td>\n",
       "      <td>2015-07-24</td>\n",
       "      <td>3</td>\n",
       "      <td>2.65</td>\n",
       "      <td>14</td>\n",
       "      <td>NaN</td>\n",
       "      <td>9</td>\n",
       "      <td>NaN</td>\n",
       "      <td>...</td>\n",
       "      <td>NaN</td>\n",
       "      <td>0.0</td>\n",
       "      <td>Санкт-Петербург</td>\n",
       "      <td>28098.0</td>\n",
       "      <td>6800.0</td>\n",
       "      <td>2.0</td>\n",
       "      <td>84.0</td>\n",
       "      <td>3.0</td>\n",
       "      <td>234.0</td>\n",
       "      <td>424.0</td>\n",
       "    </tr>\n",
       "    <tr>\n",
       "      <th>7</th>\n",
       "      <td>5</td>\n",
       "      <td>7915000.0</td>\n",
       "      <td>71.60</td>\n",
       "      <td>2019-04-18</td>\n",
       "      <td>2</td>\n",
       "      <td>2.65</td>\n",
       "      <td>24</td>\n",
       "      <td>NaN</td>\n",
       "      <td>22</td>\n",
       "      <td>NaN</td>\n",
       "      <td>...</td>\n",
       "      <td>18.9</td>\n",
       "      <td>2.0</td>\n",
       "      <td>Санкт-Петербург</td>\n",
       "      <td>23982.0</td>\n",
       "      <td>11634.0</td>\n",
       "      <td>0.0</td>\n",
       "      <td>NaN</td>\n",
       "      <td>0.0</td>\n",
       "      <td>NaN</td>\n",
       "      <td>NaN</td>\n",
       "    </tr>\n",
       "    <tr>\n",
       "      <th>30</th>\n",
       "      <td>12</td>\n",
       "      <td>2200000.0</td>\n",
       "      <td>32.80</td>\n",
       "      <td>2018-02-19</td>\n",
       "      <td>1</td>\n",
       "      <td>2.65</td>\n",
       "      <td>9</td>\n",
       "      <td>NaN</td>\n",
       "      <td>2</td>\n",
       "      <td>NaN</td>\n",
       "      <td>...</td>\n",
       "      <td>NaN</td>\n",
       "      <td>NaN</td>\n",
       "      <td>Коммунар</td>\n",
       "      <td>NaN</td>\n",
       "      <td>NaN</td>\n",
       "      <td>NaN</td>\n",
       "      <td>NaN</td>\n",
       "      <td>NaN</td>\n",
       "      <td>NaN</td>\n",
       "      <td>63.0</td>\n",
       "    </tr>\n",
       "    <tr>\n",
       "      <th>37</th>\n",
       "      <td>10</td>\n",
       "      <td>1990000.0</td>\n",
       "      <td>45.80</td>\n",
       "      <td>2017-10-28</td>\n",
       "      <td>2</td>\n",
       "      <td>2.50</td>\n",
       "      <td>5</td>\n",
       "      <td>NaN</td>\n",
       "      <td>1</td>\n",
       "      <td>NaN</td>\n",
       "      <td>...</td>\n",
       "      <td>NaN</td>\n",
       "      <td>NaN</td>\n",
       "      <td>поселок городского типа Красный Бор</td>\n",
       "      <td>NaN</td>\n",
       "      <td>NaN</td>\n",
       "      <td>NaN</td>\n",
       "      <td>NaN</td>\n",
       "      <td>NaN</td>\n",
       "      <td>NaN</td>\n",
       "      <td>196.0</td>\n",
       "    </tr>\n",
       "    <tr>\n",
       "      <th>44</th>\n",
       "      <td>13</td>\n",
       "      <td>5350000.0</td>\n",
       "      <td>40.00</td>\n",
       "      <td>2018-11-18</td>\n",
       "      <td>1</td>\n",
       "      <td>2.65</td>\n",
       "      <td>22</td>\n",
       "      <td>NaN</td>\n",
       "      <td>3</td>\n",
       "      <td>NaN</td>\n",
       "      <td>...</td>\n",
       "      <td>NaN</td>\n",
       "      <td>1.0</td>\n",
       "      <td>Санкт-Петербург</td>\n",
       "      <td>30471.0</td>\n",
       "      <td>11603.0</td>\n",
       "      <td>1.0</td>\n",
       "      <td>620.0</td>\n",
       "      <td>1.0</td>\n",
       "      <td>1152.0</td>\n",
       "      <td>NaN</td>\n",
       "    </tr>\n",
       "    <tr>\n",
       "      <th>...</th>\n",
       "      <td>...</td>\n",
       "      <td>...</td>\n",
       "      <td>...</td>\n",
       "      <td>...</td>\n",
       "      <td>...</td>\n",
       "      <td>...</td>\n",
       "      <td>...</td>\n",
       "      <td>...</td>\n",
       "      <td>...</td>\n",
       "      <td>...</td>\n",
       "      <td>...</td>\n",
       "      <td>...</td>\n",
       "      <td>...</td>\n",
       "      <td>...</td>\n",
       "      <td>...</td>\n",
       "      <td>...</td>\n",
       "      <td>...</td>\n",
       "      <td>...</td>\n",
       "      <td>...</td>\n",
       "      <td>...</td>\n",
       "      <td>...</td>\n",
       "    </tr>\n",
       "    <tr>\n",
       "      <th>23642</th>\n",
       "      <td>14</td>\n",
       "      <td>5950000.0</td>\n",
       "      <td>80.30</td>\n",
       "      <td>2018-07-03</td>\n",
       "      <td>3</td>\n",
       "      <td>2.70</td>\n",
       "      <td>12</td>\n",
       "      <td>NaN</td>\n",
       "      <td>5</td>\n",
       "      <td>NaN</td>\n",
       "      <td>...</td>\n",
       "      <td>NaN</td>\n",
       "      <td>NaN</td>\n",
       "      <td>Колпино</td>\n",
       "      <td>27933.0</td>\n",
       "      <td>33719.0</td>\n",
       "      <td>0.0</td>\n",
       "      <td>NaN</td>\n",
       "      <td>2.0</td>\n",
       "      <td>562.0</td>\n",
       "      <td>60.0</td>\n",
       "    </tr>\n",
       "    <tr>\n",
       "      <th>23663</th>\n",
       "      <td>12</td>\n",
       "      <td>6400000.0</td>\n",
       "      <td>88.00</td>\n",
       "      <td>2018-01-12</td>\n",
       "      <td>4</td>\n",
       "      <td>2.55</td>\n",
       "      <td>10</td>\n",
       "      <td>NaN</td>\n",
       "      <td>1</td>\n",
       "      <td>NaN</td>\n",
       "      <td>...</td>\n",
       "      <td>NaN</td>\n",
       "      <td>NaN</td>\n",
       "      <td>Санкт-Петербург</td>\n",
       "      <td>33642.0</td>\n",
       "      <td>13943.0</td>\n",
       "      <td>0.0</td>\n",
       "      <td>NaN</td>\n",
       "      <td>2.0</td>\n",
       "      <td>844.0</td>\n",
       "      <td>59.0</td>\n",
       "    </tr>\n",
       "    <tr>\n",
       "      <th>23670</th>\n",
       "      <td>9</td>\n",
       "      <td>2450000.0</td>\n",
       "      <td>45.60</td>\n",
       "      <td>2018-02-08</td>\n",
       "      <td>1</td>\n",
       "      <td>2.80</td>\n",
       "      <td>9</td>\n",
       "      <td>NaN</td>\n",
       "      <td>2</td>\n",
       "      <td>NaN</td>\n",
       "      <td>...</td>\n",
       "      <td>NaN</td>\n",
       "      <td>NaN</td>\n",
       "      <td>поселок городского типа Синявино</td>\n",
       "      <td>NaN</td>\n",
       "      <td>NaN</td>\n",
       "      <td>NaN</td>\n",
       "      <td>NaN</td>\n",
       "      <td>NaN</td>\n",
       "      <td>NaN</td>\n",
       "      <td>45.0</td>\n",
       "    </tr>\n",
       "    <tr>\n",
       "      <th>23679</th>\n",
       "      <td>0</td>\n",
       "      <td>2500000.0</td>\n",
       "      <td>35.00</td>\n",
       "      <td>2017-12-08</td>\n",
       "      <td>1</td>\n",
       "      <td>2.65</td>\n",
       "      <td>9</td>\n",
       "      <td>NaN</td>\n",
       "      <td>4</td>\n",
       "      <td>NaN</td>\n",
       "      <td>...</td>\n",
       "      <td>NaN</td>\n",
       "      <td>NaN</td>\n",
       "      <td>Сосновый Бор</td>\n",
       "      <td>NaN</td>\n",
       "      <td>NaN</td>\n",
       "      <td>NaN</td>\n",
       "      <td>NaN</td>\n",
       "      <td>NaN</td>\n",
       "      <td>NaN</td>\n",
       "      <td>45.0</td>\n",
       "    </tr>\n",
       "    <tr>\n",
       "      <th>23697</th>\n",
       "      <td>13</td>\n",
       "      <td>11475000.0</td>\n",
       "      <td>76.75</td>\n",
       "      <td>2017-03-28</td>\n",
       "      <td>2</td>\n",
       "      <td>3.00</td>\n",
       "      <td>17</td>\n",
       "      <td>NaN</td>\n",
       "      <td>12</td>\n",
       "      <td>NaN</td>\n",
       "      <td>...</td>\n",
       "      <td>23.3</td>\n",
       "      <td>2.0</td>\n",
       "      <td>Санкт-Петербург</td>\n",
       "      <td>39140.0</td>\n",
       "      <td>10364.0</td>\n",
       "      <td>2.0</td>\n",
       "      <td>173.0</td>\n",
       "      <td>3.0</td>\n",
       "      <td>196.0</td>\n",
       "      <td>602.0</td>\n",
       "    </tr>\n",
       "  </tbody>\n",
       "</table>\n",
       "<p>1870 rows × 22 columns</p>\n",
       "</div>"
      ],
      "text/plain": [
       "       total_images  last_price  total_area first_day_exposition  rooms  \\\n",
       "3                 0  64900000.0      159.00           2015-07-24      3   \n",
       "7                 5   7915000.0       71.60           2019-04-18      2   \n",
       "30               12   2200000.0       32.80           2018-02-19      1   \n",
       "37               10   1990000.0       45.80           2017-10-28      2   \n",
       "44               13   5350000.0       40.00           2018-11-18      1   \n",
       "...             ...         ...         ...                  ...    ...   \n",
       "23642            14   5950000.0       80.30           2018-07-03      3   \n",
       "23663            12   6400000.0       88.00           2018-01-12      4   \n",
       "23670             9   2450000.0       45.60           2018-02-08      1   \n",
       "23679             0   2500000.0       35.00           2017-12-08      1   \n",
       "23697            13  11475000.0       76.75           2017-03-28      2   \n",
       "\n",
       "       ceiling_height  floors_total  living_area  floor is_apartment  ...  \\\n",
       "3                2.65            14          NaN      9          NaN  ...   \n",
       "7                2.65            24          NaN     22          NaN  ...   \n",
       "30               2.65             9          NaN      2          NaN  ...   \n",
       "37               2.50             5          NaN      1          NaN  ...   \n",
       "44               2.65            22          NaN      3          NaN  ...   \n",
       "...               ...           ...          ...    ...          ...  ...   \n",
       "23642            2.70            12          NaN      5          NaN  ...   \n",
       "23663            2.55            10          NaN      1          NaN  ...   \n",
       "23670            2.80             9          NaN      2          NaN  ...   \n",
       "23679            2.65             9          NaN      4          NaN  ...   \n",
       "23697            3.00            17          NaN     12          NaN  ...   \n",
       "\n",
       "       kitchen_area  balcony                        locality_name  \\\n",
       "3               NaN      0.0                      Санкт-Петербург   \n",
       "7              18.9      2.0                      Санкт-Петербург   \n",
       "30              NaN      NaN                             Коммунар   \n",
       "37              NaN      NaN  поселок городского типа Красный Бор   \n",
       "44              NaN      1.0                      Санкт-Петербург   \n",
       "...             ...      ...                                  ...   \n",
       "23642           NaN      NaN                              Колпино   \n",
       "23663           NaN      NaN                      Санкт-Петербург   \n",
       "23670           NaN      NaN     поселок городского типа Синявино   \n",
       "23679           NaN      NaN                         Сосновый Бор   \n",
       "23697          23.3      2.0                      Санкт-Петербург   \n",
       "\n",
       "       airports_nearest city_сenters_nearest  parks_around_3000  \\\n",
       "3               28098.0               6800.0                2.0   \n",
       "7               23982.0              11634.0                0.0   \n",
       "30                  NaN                  NaN                NaN   \n",
       "37                  NaN                  NaN                NaN   \n",
       "44              30471.0              11603.0                1.0   \n",
       "...                 ...                  ...                ...   \n",
       "23642           27933.0              33719.0                0.0   \n",
       "23663           33642.0              13943.0                0.0   \n",
       "23670               NaN                  NaN                NaN   \n",
       "23679               NaN                  NaN                NaN   \n",
       "23697           39140.0              10364.0                2.0   \n",
       "\n",
       "       parks_nearest  ponds_around_3000  ponds_nearest  days_exposition  \n",
       "3               84.0                3.0          234.0            424.0  \n",
       "7                NaN                0.0            NaN              NaN  \n",
       "30               NaN                NaN            NaN             63.0  \n",
       "37               NaN                NaN            NaN            196.0  \n",
       "44             620.0                1.0         1152.0              NaN  \n",
       "...              ...                ...            ...              ...  \n",
       "23642            NaN                2.0          562.0             60.0  \n",
       "23663            NaN                2.0          844.0             59.0  \n",
       "23670            NaN                NaN            NaN             45.0  \n",
       "23679            NaN                NaN            NaN             45.0  \n",
       "23697          173.0                3.0          196.0            602.0  \n",
       "\n",
       "[1870 rows x 22 columns]"
      ]
     },
     "execution_count": 21,
     "metadata": {},
     "output_type": "execute_result"
    }
   ],
   "source": [
    "data[data['living_area'].isna()]"
   ]
  },
  {
   "cell_type": "markdown",
   "metadata": {},
   "source": [
    "Всего 1870 таких строк. Можно найти соотношение медианной общей площади к медианной жилой. А затем, заполнить пропуски в столбце **living_area** отношением общей площади к найденному соотношению."
   ]
  },
  {
   "cell_type": "code",
   "execution_count": 22,
   "metadata": {},
   "outputs": [],
   "source": [
    "living_area_ratio = data['living_area'].median() / data['total_area'].median()\n",
    "data['living_area'].fillna(living_area_ratio * data['total_area'], inplace=True)"
   ]
  },
  {
   "cell_type": "code",
   "execution_count": 23,
   "metadata": {},
   "outputs": [
    {
     "data": {
      "text/plain": [
       "0"
      ]
     },
     "execution_count": 23,
     "metadata": {},
     "output_type": "execute_result"
    }
   ],
   "source": [
    "# Проверка того, что все пропузенные значения заполнены \n",
    "data['living_area'].isna().sum()"
   ]
  },
  {
   "cell_type": "markdown",
   "metadata": {},
   "source": [
    "**floor** — Этаж. Этот столбец необходимо проверить на аномальные значения."
   ]
  },
  {
   "cell_type": "code",
   "execution_count": 24,
   "metadata": {},
   "outputs": [
    {
     "data": {
      "text/plain": [
       "array([ 8,  1,  4,  9, 13,  5,  6, 22, 26,  7,  3,  2, 11, 15, 18, 10, 19,\n",
       "       16, 20, 27, 25, 17, 14, 12, 21, 28, 24, 23, 30, 29, 32, 33, 31])"
      ]
     },
     "execution_count": 24,
     "metadata": {},
     "output_type": "execute_result"
    }
   ],
   "source": [
    "data['floor'].unique()"
   ]
  },
  {
   "cell_type": "markdown",
   "metadata": {},
   "source": [
    "В этом столбце с данными все порядке и аномальных значений в нем нет."
   ]
  },
  {
   "cell_type": "markdown",
   "metadata": {},
   "source": [
    "**is_apartment** —Апартаменты. По условию этот столбец должен содержать в себе булев тип данных. Необходимо проверить, что пошло не так."
   ]
  },
  {
   "cell_type": "code",
   "execution_count": 25,
   "metadata": {},
   "outputs": [
    {
     "data": {
      "text/plain": [
       "array([nan, False, True], dtype=object)"
      ]
     },
     "execution_count": 25,
     "metadata": {},
     "output_type": "execute_result"
    }
   ],
   "source": [
    "data['is_apartment'].unique()"
   ]
  },
  {
   "cell_type": "code",
   "execution_count": 26,
   "metadata": {},
   "outputs": [
    {
     "data": {
      "text/html": [
       "<div>\n",
       "<style scoped>\n",
       "    .dataframe tbody tr th:only-of-type {\n",
       "        vertical-align: middle;\n",
       "    }\n",
       "\n",
       "    .dataframe tbody tr th {\n",
       "        vertical-align: top;\n",
       "    }\n",
       "\n",
       "    .dataframe thead th {\n",
       "        text-align: right;\n",
       "    }\n",
       "</style>\n",
       "<table border=\"1\" class=\"dataframe\">\n",
       "  <thead>\n",
       "    <tr style=\"text-align: right;\">\n",
       "      <th></th>\n",
       "      <th>total_images</th>\n",
       "      <th>last_price</th>\n",
       "      <th>total_area</th>\n",
       "      <th>first_day_exposition</th>\n",
       "      <th>rooms</th>\n",
       "      <th>ceiling_height</th>\n",
       "      <th>floors_total</th>\n",
       "      <th>living_area</th>\n",
       "      <th>floor</th>\n",
       "      <th>is_apartment</th>\n",
       "      <th>...</th>\n",
       "      <th>kitchen_area</th>\n",
       "      <th>balcony</th>\n",
       "      <th>locality_name</th>\n",
       "      <th>airports_nearest</th>\n",
       "      <th>city_сenters_nearest</th>\n",
       "      <th>parks_around_3000</th>\n",
       "      <th>parks_nearest</th>\n",
       "      <th>ponds_around_3000</th>\n",
       "      <th>ponds_nearest</th>\n",
       "      <th>days_exposition</th>\n",
       "    </tr>\n",
       "  </thead>\n",
       "  <tbody>\n",
       "    <tr>\n",
       "      <th>0</th>\n",
       "      <td>20</td>\n",
       "      <td>13000000.0</td>\n",
       "      <td>108.00</td>\n",
       "      <td>2019-03-07</td>\n",
       "      <td>3</td>\n",
       "      <td>2.70</td>\n",
       "      <td>16</td>\n",
       "      <td>51.000000</td>\n",
       "      <td>8</td>\n",
       "      <td>NaN</td>\n",
       "      <td>...</td>\n",
       "      <td>25.00</td>\n",
       "      <td>NaN</td>\n",
       "      <td>Санкт-Петербург</td>\n",
       "      <td>18863.0</td>\n",
       "      <td>16028.0</td>\n",
       "      <td>1.0</td>\n",
       "      <td>482.0</td>\n",
       "      <td>2.0</td>\n",
       "      <td>755.0</td>\n",
       "      <td>NaN</td>\n",
       "    </tr>\n",
       "    <tr>\n",
       "      <th>1</th>\n",
       "      <td>7</td>\n",
       "      <td>3350000.0</td>\n",
       "      <td>40.40</td>\n",
       "      <td>2018-12-04</td>\n",
       "      <td>1</td>\n",
       "      <td>2.65</td>\n",
       "      <td>11</td>\n",
       "      <td>18.600000</td>\n",
       "      <td>1</td>\n",
       "      <td>NaN</td>\n",
       "      <td>...</td>\n",
       "      <td>11.00</td>\n",
       "      <td>2.0</td>\n",
       "      <td>посёлок Шушары</td>\n",
       "      <td>12817.0</td>\n",
       "      <td>18603.0</td>\n",
       "      <td>0.0</td>\n",
       "      <td>NaN</td>\n",
       "      <td>0.0</td>\n",
       "      <td>NaN</td>\n",
       "      <td>81.0</td>\n",
       "    </tr>\n",
       "    <tr>\n",
       "      <th>2</th>\n",
       "      <td>10</td>\n",
       "      <td>5196000.0</td>\n",
       "      <td>56.00</td>\n",
       "      <td>2015-08-20</td>\n",
       "      <td>2</td>\n",
       "      <td>2.65</td>\n",
       "      <td>5</td>\n",
       "      <td>34.300000</td>\n",
       "      <td>4</td>\n",
       "      <td>NaN</td>\n",
       "      <td>...</td>\n",
       "      <td>8.30</td>\n",
       "      <td>0.0</td>\n",
       "      <td>Санкт-Петербург</td>\n",
       "      <td>21741.0</td>\n",
       "      <td>13933.0</td>\n",
       "      <td>1.0</td>\n",
       "      <td>90.0</td>\n",
       "      <td>2.0</td>\n",
       "      <td>574.0</td>\n",
       "      <td>558.0</td>\n",
       "    </tr>\n",
       "    <tr>\n",
       "      <th>3</th>\n",
       "      <td>0</td>\n",
       "      <td>64900000.0</td>\n",
       "      <td>159.00</td>\n",
       "      <td>2015-07-24</td>\n",
       "      <td>3</td>\n",
       "      <td>2.65</td>\n",
       "      <td>14</td>\n",
       "      <td>91.730769</td>\n",
       "      <td>9</td>\n",
       "      <td>NaN</td>\n",
       "      <td>...</td>\n",
       "      <td>NaN</td>\n",
       "      <td>0.0</td>\n",
       "      <td>Санкт-Петербург</td>\n",
       "      <td>28098.0</td>\n",
       "      <td>6800.0</td>\n",
       "      <td>2.0</td>\n",
       "      <td>84.0</td>\n",
       "      <td>3.0</td>\n",
       "      <td>234.0</td>\n",
       "      <td>424.0</td>\n",
       "    </tr>\n",
       "    <tr>\n",
       "      <th>4</th>\n",
       "      <td>2</td>\n",
       "      <td>10000000.0</td>\n",
       "      <td>100.00</td>\n",
       "      <td>2018-06-19</td>\n",
       "      <td>2</td>\n",
       "      <td>3.03</td>\n",
       "      <td>14</td>\n",
       "      <td>32.000000</td>\n",
       "      <td>13</td>\n",
       "      <td>NaN</td>\n",
       "      <td>...</td>\n",
       "      <td>41.00</td>\n",
       "      <td>NaN</td>\n",
       "      <td>Санкт-Петербург</td>\n",
       "      <td>31856.0</td>\n",
       "      <td>8098.0</td>\n",
       "      <td>2.0</td>\n",
       "      <td>112.0</td>\n",
       "      <td>1.0</td>\n",
       "      <td>48.0</td>\n",
       "      <td>121.0</td>\n",
       "    </tr>\n",
       "    <tr>\n",
       "      <th>5</th>\n",
       "      <td>10</td>\n",
       "      <td>2890000.0</td>\n",
       "      <td>30.40</td>\n",
       "      <td>2018-09-10</td>\n",
       "      <td>1</td>\n",
       "      <td>2.65</td>\n",
       "      <td>12</td>\n",
       "      <td>14.400000</td>\n",
       "      <td>5</td>\n",
       "      <td>NaN</td>\n",
       "      <td>...</td>\n",
       "      <td>9.10</td>\n",
       "      <td>NaN</td>\n",
       "      <td>городской посёлок Янино-1</td>\n",
       "      <td>NaN</td>\n",
       "      <td>NaN</td>\n",
       "      <td>NaN</td>\n",
       "      <td>NaN</td>\n",
       "      <td>NaN</td>\n",
       "      <td>NaN</td>\n",
       "      <td>55.0</td>\n",
       "    </tr>\n",
       "    <tr>\n",
       "      <th>6</th>\n",
       "      <td>6</td>\n",
       "      <td>3700000.0</td>\n",
       "      <td>37.30</td>\n",
       "      <td>2017-11-02</td>\n",
       "      <td>1</td>\n",
       "      <td>2.65</td>\n",
       "      <td>26</td>\n",
       "      <td>10.600000</td>\n",
       "      <td>6</td>\n",
       "      <td>NaN</td>\n",
       "      <td>...</td>\n",
       "      <td>14.40</td>\n",
       "      <td>1.0</td>\n",
       "      <td>посёлок Парголово</td>\n",
       "      <td>52996.0</td>\n",
       "      <td>19143.0</td>\n",
       "      <td>0.0</td>\n",
       "      <td>NaN</td>\n",
       "      <td>0.0</td>\n",
       "      <td>NaN</td>\n",
       "      <td>155.0</td>\n",
       "    </tr>\n",
       "    <tr>\n",
       "      <th>7</th>\n",
       "      <td>5</td>\n",
       "      <td>7915000.0</td>\n",
       "      <td>71.60</td>\n",
       "      <td>2019-04-18</td>\n",
       "      <td>2</td>\n",
       "      <td>2.65</td>\n",
       "      <td>24</td>\n",
       "      <td>41.307692</td>\n",
       "      <td>22</td>\n",
       "      <td>NaN</td>\n",
       "      <td>...</td>\n",
       "      <td>18.90</td>\n",
       "      <td>2.0</td>\n",
       "      <td>Санкт-Петербург</td>\n",
       "      <td>23982.0</td>\n",
       "      <td>11634.0</td>\n",
       "      <td>0.0</td>\n",
       "      <td>NaN</td>\n",
       "      <td>0.0</td>\n",
       "      <td>NaN</td>\n",
       "      <td>NaN</td>\n",
       "    </tr>\n",
       "    <tr>\n",
       "      <th>8</th>\n",
       "      <td>20</td>\n",
       "      <td>2900000.0</td>\n",
       "      <td>33.16</td>\n",
       "      <td>2018-05-23</td>\n",
       "      <td>1</td>\n",
       "      <td>2.65</td>\n",
       "      <td>27</td>\n",
       "      <td>15.430000</td>\n",
       "      <td>26</td>\n",
       "      <td>NaN</td>\n",
       "      <td>...</td>\n",
       "      <td>8.81</td>\n",
       "      <td>NaN</td>\n",
       "      <td>посёлок Мурино</td>\n",
       "      <td>NaN</td>\n",
       "      <td>NaN</td>\n",
       "      <td>NaN</td>\n",
       "      <td>NaN</td>\n",
       "      <td>NaN</td>\n",
       "      <td>NaN</td>\n",
       "      <td>189.0</td>\n",
       "    </tr>\n",
       "    <tr>\n",
       "      <th>9</th>\n",
       "      <td>18</td>\n",
       "      <td>5400000.0</td>\n",
       "      <td>61.00</td>\n",
       "      <td>2017-02-26</td>\n",
       "      <td>3</td>\n",
       "      <td>2.50</td>\n",
       "      <td>9</td>\n",
       "      <td>43.600000</td>\n",
       "      <td>7</td>\n",
       "      <td>NaN</td>\n",
       "      <td>...</td>\n",
       "      <td>6.50</td>\n",
       "      <td>2.0</td>\n",
       "      <td>Санкт-Петербург</td>\n",
       "      <td>50898.0</td>\n",
       "      <td>15008.0</td>\n",
       "      <td>0.0</td>\n",
       "      <td>NaN</td>\n",
       "      <td>0.0</td>\n",
       "      <td>NaN</td>\n",
       "      <td>289.0</td>\n",
       "    </tr>\n",
       "  </tbody>\n",
       "</table>\n",
       "<p>10 rows × 22 columns</p>\n",
       "</div>"
      ],
      "text/plain": [
       "   total_images  last_price  total_area first_day_exposition  rooms  \\\n",
       "0            20  13000000.0      108.00           2019-03-07      3   \n",
       "1             7   3350000.0       40.40           2018-12-04      1   \n",
       "2            10   5196000.0       56.00           2015-08-20      2   \n",
       "3             0  64900000.0      159.00           2015-07-24      3   \n",
       "4             2  10000000.0      100.00           2018-06-19      2   \n",
       "5            10   2890000.0       30.40           2018-09-10      1   \n",
       "6             6   3700000.0       37.30           2017-11-02      1   \n",
       "7             5   7915000.0       71.60           2019-04-18      2   \n",
       "8            20   2900000.0       33.16           2018-05-23      1   \n",
       "9            18   5400000.0       61.00           2017-02-26      3   \n",
       "\n",
       "   ceiling_height  floors_total  living_area  floor is_apartment  ...  \\\n",
       "0            2.70            16    51.000000      8          NaN  ...   \n",
       "1            2.65            11    18.600000      1          NaN  ...   \n",
       "2            2.65             5    34.300000      4          NaN  ...   \n",
       "3            2.65            14    91.730769      9          NaN  ...   \n",
       "4            3.03            14    32.000000     13          NaN  ...   \n",
       "5            2.65            12    14.400000      5          NaN  ...   \n",
       "6            2.65            26    10.600000      6          NaN  ...   \n",
       "7            2.65            24    41.307692     22          NaN  ...   \n",
       "8            2.65            27    15.430000     26          NaN  ...   \n",
       "9            2.50             9    43.600000      7          NaN  ...   \n",
       "\n",
       "   kitchen_area  balcony              locality_name  airports_nearest  \\\n",
       "0         25.00      NaN            Санкт-Петербург           18863.0   \n",
       "1         11.00      2.0             посёлок Шушары           12817.0   \n",
       "2          8.30      0.0            Санкт-Петербург           21741.0   \n",
       "3           NaN      0.0            Санкт-Петербург           28098.0   \n",
       "4         41.00      NaN            Санкт-Петербург           31856.0   \n",
       "5          9.10      NaN  городской посёлок Янино-1               NaN   \n",
       "6         14.40      1.0          посёлок Парголово           52996.0   \n",
       "7         18.90      2.0            Санкт-Петербург           23982.0   \n",
       "8          8.81      NaN             посёлок Мурино               NaN   \n",
       "9          6.50      2.0            Санкт-Петербург           50898.0   \n",
       "\n",
       "  city_сenters_nearest  parks_around_3000  parks_nearest  ponds_around_3000  \\\n",
       "0              16028.0                1.0          482.0                2.0   \n",
       "1              18603.0                0.0            NaN                0.0   \n",
       "2              13933.0                1.0           90.0                2.0   \n",
       "3               6800.0                2.0           84.0                3.0   \n",
       "4               8098.0                2.0          112.0                1.0   \n",
       "5                  NaN                NaN            NaN                NaN   \n",
       "6              19143.0                0.0            NaN                0.0   \n",
       "7              11634.0                0.0            NaN                0.0   \n",
       "8                  NaN                NaN            NaN                NaN   \n",
       "9              15008.0                0.0            NaN                0.0   \n",
       "\n",
       "   ponds_nearest  days_exposition  \n",
       "0          755.0              NaN  \n",
       "1            NaN             81.0  \n",
       "2          574.0            558.0  \n",
       "3          234.0            424.0  \n",
       "4           48.0            121.0  \n",
       "5            NaN             55.0  \n",
       "6            NaN            155.0  \n",
       "7            NaN              NaN  \n",
       "8            NaN            189.0  \n",
       "9            NaN            289.0  \n",
       "\n",
       "[10 rows x 22 columns]"
      ]
     },
     "execution_count": 26,
     "metadata": {},
     "output_type": "execute_result"
    }
   ],
   "source": [
    "data.head(10)"
   ]
  },
  {
   "cell_type": "markdown",
   "metadata": {},
   "source": [
    "Скорее всего, пропуски в данных связвны с тем, что тот кто их заполнял вместо **False** просто пропускал этот пункт. Поэтому пропущеные значения заменим на **False**."
   ]
  },
  {
   "cell_type": "code",
   "execution_count": 27,
   "metadata": {},
   "outputs": [
    {
     "data": {
      "text/plain": [
       "0"
      ]
     },
     "execution_count": 27,
     "metadata": {},
     "output_type": "execute_result"
    }
   ],
   "source": [
    "data['is_apartment'].fillna(False, inplace=True)\n",
    "#Проверка того, что все пропуски в данных убраны\n",
    "data['is_apartment'].isna().sum() "
   ]
  },
  {
   "cell_type": "markdown",
   "metadata": {},
   "source": [
    "Осталось только поменять тип столбца на **bool**."
   ]
  },
  {
   "cell_type": "code",
   "execution_count": 28,
   "metadata": {},
   "outputs": [
    {
     "name": "stdout",
     "output_type": "stream",
     "text": [
      "<class 'pandas.core.frame.DataFrame'>\n",
      "Int64Index: 23603 entries, 0 to 23698\n",
      "Data columns (total 22 columns):\n",
      " #   Column                Non-Null Count  Dtype         \n",
      "---  ------                --------------  -----         \n",
      " 0   total_images          23603 non-null  int64         \n",
      " 1   last_price            23603 non-null  float64       \n",
      " 2   total_area            23603 non-null  float64       \n",
      " 3   first_day_exposition  23603 non-null  datetime64[ns]\n",
      " 4   rooms                 23603 non-null  int64         \n",
      " 5   ceiling_height        23603 non-null  float64       \n",
      " 6   floors_total          23603 non-null  int64         \n",
      " 7   living_area           23603 non-null  float64       \n",
      " 8   floor                 23603 non-null  int64         \n",
      " 9   is_apartment          23603 non-null  bool          \n",
      " 10  studio                23603 non-null  bool          \n",
      " 11  open_plan             23603 non-null  bool          \n",
      " 12  kitchen_area          21374 non-null  float64       \n",
      " 13  balcony               12129 non-null  float64       \n",
      " 14  locality_name         23555 non-null  object        \n",
      " 15  airports_nearest      18073 non-null  float64       \n",
      " 16  city_сenters_nearest  18096 non-null  float64       \n",
      " 17  parks_around_3000     18097 non-null  float64       \n",
      " 18  parks_nearest         8041 non-null   float64       \n",
      " 19  ponds_around_3000     18097 non-null  float64       \n",
      " 20  ponds_nearest         9056 non-null   float64       \n",
      " 21  days_exposition       20431 non-null  float64       \n",
      "dtypes: bool(3), datetime64[ns](1), float64(13), int64(4), object(1)\n",
      "memory usage: 3.7+ MB\n"
     ]
    }
   ],
   "source": [
    "data['is_apartment'].astype(bool)\n",
    "data.info() # Проверка того, что тип столбца поменялся"
   ]
  },
  {
   "cell_type": "markdown",
   "metadata": {},
   "source": [
    "**kitchen_area** — Площадь кухни в квадратных метрах. Сначала рассмотрим значения со стороны максимума и минимума"
   ]
  },
  {
   "cell_type": "code",
   "execution_count": 29,
   "metadata": {},
   "outputs": [
    {
     "data": {
      "text/html": [
       "<div>\n",
       "<style scoped>\n",
       "    .dataframe tbody tr th:only-of-type {\n",
       "        vertical-align: middle;\n",
       "    }\n",
       "\n",
       "    .dataframe tbody tr th {\n",
       "        vertical-align: top;\n",
       "    }\n",
       "\n",
       "    .dataframe thead th {\n",
       "        text-align: right;\n",
       "    }\n",
       "</style>\n",
       "<table border=\"1\" class=\"dataframe\">\n",
       "  <thead>\n",
       "    <tr style=\"text-align: right;\">\n",
       "      <th></th>\n",
       "      <th>total_images</th>\n",
       "      <th>last_price</th>\n",
       "      <th>total_area</th>\n",
       "      <th>first_day_exposition</th>\n",
       "      <th>rooms</th>\n",
       "      <th>ceiling_height</th>\n",
       "      <th>floors_total</th>\n",
       "      <th>living_area</th>\n",
       "      <th>floor</th>\n",
       "      <th>is_apartment</th>\n",
       "      <th>...</th>\n",
       "      <th>kitchen_area</th>\n",
       "      <th>balcony</th>\n",
       "      <th>locality_name</th>\n",
       "      <th>airports_nearest</th>\n",
       "      <th>city_сenters_nearest</th>\n",
       "      <th>parks_around_3000</th>\n",
       "      <th>parks_nearest</th>\n",
       "      <th>ponds_around_3000</th>\n",
       "      <th>ponds_nearest</th>\n",
       "      <th>days_exposition</th>\n",
       "    </tr>\n",
       "  </thead>\n",
       "  <tbody>\n",
       "    <tr>\n",
       "      <th>20217</th>\n",
       "      <td>7</td>\n",
       "      <td>4250000.0</td>\n",
       "      <td>28.50</td>\n",
       "      <td>2019-05-01</td>\n",
       "      <td>1</td>\n",
       "      <td>2.80</td>\n",
       "      <td>14</td>\n",
       "      <td>19.5</td>\n",
       "      <td>10</td>\n",
       "      <td>False</td>\n",
       "      <td>...</td>\n",
       "      <td>1.3</td>\n",
       "      <td>NaN</td>\n",
       "      <td>Санкт-Петербург</td>\n",
       "      <td>37199.0</td>\n",
       "      <td>12721.0</td>\n",
       "      <td>0.0</td>\n",
       "      <td>NaN</td>\n",
       "      <td>0.0</td>\n",
       "      <td>NaN</td>\n",
       "      <td>NaN</td>\n",
       "    </tr>\n",
       "    <tr>\n",
       "      <th>19642</th>\n",
       "      <td>5</td>\n",
       "      <td>1190000.0</td>\n",
       "      <td>14.00</td>\n",
       "      <td>2018-07-29</td>\n",
       "      <td>1</td>\n",
       "      <td>2.65</td>\n",
       "      <td>5</td>\n",
       "      <td>11.0</td>\n",
       "      <td>1</td>\n",
       "      <td>False</td>\n",
       "      <td>...</td>\n",
       "      <td>2.0</td>\n",
       "      <td>NaN</td>\n",
       "      <td>Санкт-Петербург</td>\n",
       "      <td>9898.0</td>\n",
       "      <td>11122.0</td>\n",
       "      <td>0.0</td>\n",
       "      <td>NaN</td>\n",
       "      <td>0.0</td>\n",
       "      <td>NaN</td>\n",
       "      <td>4.0</td>\n",
       "    </tr>\n",
       "    <tr>\n",
       "      <th>11033</th>\n",
       "      <td>6</td>\n",
       "      <td>5350000.0</td>\n",
       "      <td>32.00</td>\n",
       "      <td>2016-04-20</td>\n",
       "      <td>1</td>\n",
       "      <td>2.65</td>\n",
       "      <td>14</td>\n",
       "      <td>16.0</td>\n",
       "      <td>10</td>\n",
       "      <td>False</td>\n",
       "      <td>...</td>\n",
       "      <td>2.0</td>\n",
       "      <td>0.0</td>\n",
       "      <td>Санкт-Петербург</td>\n",
       "      <td>19008.0</td>\n",
       "      <td>3953.0</td>\n",
       "      <td>0.0</td>\n",
       "      <td>NaN</td>\n",
       "      <td>1.0</td>\n",
       "      <td>69.0</td>\n",
       "      <td>210.0</td>\n",
       "    </tr>\n",
       "    <tr>\n",
       "      <th>21419</th>\n",
       "      <td>4</td>\n",
       "      <td>1870000.0</td>\n",
       "      <td>20.00</td>\n",
       "      <td>2018-03-06</td>\n",
       "      <td>1</td>\n",
       "      <td>2.50</td>\n",
       "      <td>5</td>\n",
       "      <td>14.0</td>\n",
       "      <td>1</td>\n",
       "      <td>False</td>\n",
       "      <td>...</td>\n",
       "      <td>2.0</td>\n",
       "      <td>NaN</td>\n",
       "      <td>Санкт-Петербург</td>\n",
       "      <td>16652.0</td>\n",
       "      <td>15654.0</td>\n",
       "      <td>1.0</td>\n",
       "      <td>619.0</td>\n",
       "      <td>1.0</td>\n",
       "      <td>937.0</td>\n",
       "      <td>45.0</td>\n",
       "    </tr>\n",
       "    <tr>\n",
       "      <th>906</th>\n",
       "      <td>15</td>\n",
       "      <td>2600000.0</td>\n",
       "      <td>27.00</td>\n",
       "      <td>2017-07-10</td>\n",
       "      <td>1</td>\n",
       "      <td>2.75</td>\n",
       "      <td>23</td>\n",
       "      <td>18.0</td>\n",
       "      <td>18</td>\n",
       "      <td>False</td>\n",
       "      <td>...</td>\n",
       "      <td>2.0</td>\n",
       "      <td>0.0</td>\n",
       "      <td>Санкт-Петербург</td>\n",
       "      <td>22131.0</td>\n",
       "      <td>17459.0</td>\n",
       "      <td>0.0</td>\n",
       "      <td>NaN</td>\n",
       "      <td>1.0</td>\n",
       "      <td>411.0</td>\n",
       "      <td>10.0</td>\n",
       "    </tr>\n",
       "    <tr>\n",
       "      <th>9138</th>\n",
       "      <td>17</td>\n",
       "      <td>2920000.0</td>\n",
       "      <td>23.29</td>\n",
       "      <td>2018-12-12</td>\n",
       "      <td>1</td>\n",
       "      <td>2.65</td>\n",
       "      <td>3</td>\n",
       "      <td>21.0</td>\n",
       "      <td>1</td>\n",
       "      <td>False</td>\n",
       "      <td>...</td>\n",
       "      <td>2.0</td>\n",
       "      <td>NaN</td>\n",
       "      <td>Санкт-Петербург</td>\n",
       "      <td>19506.0</td>\n",
       "      <td>4008.0</td>\n",
       "      <td>0.0</td>\n",
       "      <td>NaN</td>\n",
       "      <td>2.0</td>\n",
       "      <td>45.0</td>\n",
       "      <td>107.0</td>\n",
       "    </tr>\n",
       "    <tr>\n",
       "      <th>6262</th>\n",
       "      <td>9</td>\n",
       "      <td>3100000.0</td>\n",
       "      <td>24.00</td>\n",
       "      <td>2018-06-25</td>\n",
       "      <td>2</td>\n",
       "      <td>3.00</td>\n",
       "      <td>5</td>\n",
       "      <td>16.0</td>\n",
       "      <td>5</td>\n",
       "      <td>False</td>\n",
       "      <td>...</td>\n",
       "      <td>2.0</td>\n",
       "      <td>NaN</td>\n",
       "      <td>Санкт-Петербург</td>\n",
       "      <td>31960.0</td>\n",
       "      <td>4914.0</td>\n",
       "      <td>2.0</td>\n",
       "      <td>426.0</td>\n",
       "      <td>1.0</td>\n",
       "      <td>936.0</td>\n",
       "      <td>54.0</td>\n",
       "    </tr>\n",
       "    <tr>\n",
       "      <th>16367</th>\n",
       "      <td>2</td>\n",
       "      <td>2720000.0</td>\n",
       "      <td>25.70</td>\n",
       "      <td>2017-10-30</td>\n",
       "      <td>1</td>\n",
       "      <td>2.65</td>\n",
       "      <td>19</td>\n",
       "      <td>22.6</td>\n",
       "      <td>11</td>\n",
       "      <td>False</td>\n",
       "      <td>...</td>\n",
       "      <td>2.0</td>\n",
       "      <td>NaN</td>\n",
       "      <td>Санкт-Петербург</td>\n",
       "      <td>14472.0</td>\n",
       "      <td>13268.0</td>\n",
       "      <td>0.0</td>\n",
       "      <td>NaN</td>\n",
       "      <td>0.0</td>\n",
       "      <td>NaN</td>\n",
       "      <td>109.0</td>\n",
       "    </tr>\n",
       "    <tr>\n",
       "      <th>17834</th>\n",
       "      <td>5</td>\n",
       "      <td>2940000.0</td>\n",
       "      <td>34.70</td>\n",
       "      <td>2017-10-09</td>\n",
       "      <td>1</td>\n",
       "      <td>2.65</td>\n",
       "      <td>26</td>\n",
       "      <td>15.5</td>\n",
       "      <td>14</td>\n",
       "      <td>False</td>\n",
       "      <td>...</td>\n",
       "      <td>2.3</td>\n",
       "      <td>1.0</td>\n",
       "      <td>посёлок Мурино</td>\n",
       "      <td>NaN</td>\n",
       "      <td>NaN</td>\n",
       "      <td>NaN</td>\n",
       "      <td>NaN</td>\n",
       "      <td>NaN</td>\n",
       "      <td>NaN</td>\n",
       "      <td>318.0</td>\n",
       "    </tr>\n",
       "    <tr>\n",
       "      <th>8729</th>\n",
       "      <td>9</td>\n",
       "      <td>2200000.0</td>\n",
       "      <td>18.40</td>\n",
       "      <td>2018-08-20</td>\n",
       "      <td>1</td>\n",
       "      <td>2.52</td>\n",
       "      <td>3</td>\n",
       "      <td>14.0</td>\n",
       "      <td>3</td>\n",
       "      <td>False</td>\n",
       "      <td>...</td>\n",
       "      <td>2.4</td>\n",
       "      <td>NaN</td>\n",
       "      <td>Пушкин</td>\n",
       "      <td>20710.0</td>\n",
       "      <td>30687.0</td>\n",
       "      <td>0.0</td>\n",
       "      <td>NaN</td>\n",
       "      <td>1.0</td>\n",
       "      <td>155.0</td>\n",
       "      <td>59.0</td>\n",
       "    </tr>\n",
       "  </tbody>\n",
       "</table>\n",
       "<p>10 rows × 22 columns</p>\n",
       "</div>"
      ],
      "text/plain": [
       "       total_images  last_price  total_area first_day_exposition  rooms  \\\n",
       "20217             7   4250000.0       28.50           2019-05-01      1   \n",
       "19642             5   1190000.0       14.00           2018-07-29      1   \n",
       "11033             6   5350000.0       32.00           2016-04-20      1   \n",
       "21419             4   1870000.0       20.00           2018-03-06      1   \n",
       "906              15   2600000.0       27.00           2017-07-10      1   \n",
       "9138             17   2920000.0       23.29           2018-12-12      1   \n",
       "6262              9   3100000.0       24.00           2018-06-25      2   \n",
       "16367             2   2720000.0       25.70           2017-10-30      1   \n",
       "17834             5   2940000.0       34.70           2017-10-09      1   \n",
       "8729              9   2200000.0       18.40           2018-08-20      1   \n",
       "\n",
       "       ceiling_height  floors_total  living_area  floor  is_apartment  ...  \\\n",
       "20217            2.80            14         19.5     10         False  ...   \n",
       "19642            2.65             5         11.0      1         False  ...   \n",
       "11033            2.65            14         16.0     10         False  ...   \n",
       "21419            2.50             5         14.0      1         False  ...   \n",
       "906              2.75            23         18.0     18         False  ...   \n",
       "9138             2.65             3         21.0      1         False  ...   \n",
       "6262             3.00             5         16.0      5         False  ...   \n",
       "16367            2.65            19         22.6     11         False  ...   \n",
       "17834            2.65            26         15.5     14         False  ...   \n",
       "8729             2.52             3         14.0      3         False  ...   \n",
       "\n",
       "       kitchen_area  balcony    locality_name  airports_nearest  \\\n",
       "20217           1.3      NaN  Санкт-Петербург           37199.0   \n",
       "19642           2.0      NaN  Санкт-Петербург            9898.0   \n",
       "11033           2.0      0.0  Санкт-Петербург           19008.0   \n",
       "21419           2.0      NaN  Санкт-Петербург           16652.0   \n",
       "906             2.0      0.0  Санкт-Петербург           22131.0   \n",
       "9138            2.0      NaN  Санкт-Петербург           19506.0   \n",
       "6262            2.0      NaN  Санкт-Петербург           31960.0   \n",
       "16367           2.0      NaN  Санкт-Петербург           14472.0   \n",
       "17834           2.3      1.0   посёлок Мурино               NaN   \n",
       "8729            2.4      NaN           Пушкин           20710.0   \n",
       "\n",
       "      city_сenters_nearest  parks_around_3000  parks_nearest  \\\n",
       "20217              12721.0                0.0            NaN   \n",
       "19642              11122.0                0.0            NaN   \n",
       "11033               3953.0                0.0            NaN   \n",
       "21419              15654.0                1.0          619.0   \n",
       "906                17459.0                0.0            NaN   \n",
       "9138                4008.0                0.0            NaN   \n",
       "6262                4914.0                2.0          426.0   \n",
       "16367              13268.0                0.0            NaN   \n",
       "17834                  NaN                NaN            NaN   \n",
       "8729               30687.0                0.0            NaN   \n",
       "\n",
       "       ponds_around_3000  ponds_nearest  days_exposition  \n",
       "20217                0.0            NaN              NaN  \n",
       "19642                0.0            NaN              4.0  \n",
       "11033                1.0           69.0            210.0  \n",
       "21419                1.0          937.0             45.0  \n",
       "906                  1.0          411.0             10.0  \n",
       "9138                 2.0           45.0            107.0  \n",
       "6262                 1.0          936.0             54.0  \n",
       "16367                0.0            NaN            109.0  \n",
       "17834                NaN            NaN            318.0  \n",
       "8729                 1.0          155.0             59.0  \n",
       "\n",
       "[10 rows x 22 columns]"
      ]
     },
     "execution_count": 29,
     "metadata": {},
     "output_type": "execute_result"
    }
   ],
   "source": [
    "data.sort_values(by='kitchen_area').head(10)"
   ]
  },
  {
   "cell_type": "code",
   "execution_count": 30,
   "metadata": {},
   "outputs": [
    {
     "data": {
      "text/html": [
       "<div>\n",
       "<style scoped>\n",
       "    .dataframe tbody tr th:only-of-type {\n",
       "        vertical-align: middle;\n",
       "    }\n",
       "\n",
       "    .dataframe tbody tr th {\n",
       "        vertical-align: top;\n",
       "    }\n",
       "\n",
       "    .dataframe thead th {\n",
       "        text-align: right;\n",
       "    }\n",
       "</style>\n",
       "<table border=\"1\" class=\"dataframe\">\n",
       "  <thead>\n",
       "    <tr style=\"text-align: right;\">\n",
       "      <th></th>\n",
       "      <th>total_images</th>\n",
       "      <th>last_price</th>\n",
       "      <th>total_area</th>\n",
       "      <th>first_day_exposition</th>\n",
       "      <th>rooms</th>\n",
       "      <th>ceiling_height</th>\n",
       "      <th>floors_total</th>\n",
       "      <th>living_area</th>\n",
       "      <th>floor</th>\n",
       "      <th>is_apartment</th>\n",
       "      <th>...</th>\n",
       "      <th>kitchen_area</th>\n",
       "      <th>balcony</th>\n",
       "      <th>locality_name</th>\n",
       "      <th>airports_nearest</th>\n",
       "      <th>city_сenters_nearest</th>\n",
       "      <th>parks_around_3000</th>\n",
       "      <th>parks_nearest</th>\n",
       "      <th>ponds_around_3000</th>\n",
       "      <th>ponds_nearest</th>\n",
       "      <th>days_exposition</th>\n",
       "    </tr>\n",
       "  </thead>\n",
       "  <tbody>\n",
       "    <tr>\n",
       "      <th>19540</th>\n",
       "      <td>8</td>\n",
       "      <td>420000000.0</td>\n",
       "      <td>900.0</td>\n",
       "      <td>2017-12-06</td>\n",
       "      <td>12</td>\n",
       "      <td>2.80</td>\n",
       "      <td>25</td>\n",
       "      <td>409.7</td>\n",
       "      <td>25</td>\n",
       "      <td>False</td>\n",
       "      <td>...</td>\n",
       "      <td>112.0</td>\n",
       "      <td>NaN</td>\n",
       "      <td>Санкт-Петербург</td>\n",
       "      <td>30706.0</td>\n",
       "      <td>7877.0</td>\n",
       "      <td>0.0</td>\n",
       "      <td>NaN</td>\n",
       "      <td>2.0</td>\n",
       "      <td>318.0</td>\n",
       "      <td>106.0</td>\n",
       "    </tr>\n",
       "    <tr>\n",
       "      <th>20215</th>\n",
       "      <td>2</td>\n",
       "      <td>85000000.0</td>\n",
       "      <td>249.7</td>\n",
       "      <td>2018-02-01</td>\n",
       "      <td>3</td>\n",
       "      <td>2.65</td>\n",
       "      <td>10</td>\n",
       "      <td>72.0</td>\n",
       "      <td>9</td>\n",
       "      <td>False</td>\n",
       "      <td>...</td>\n",
       "      <td>107.0</td>\n",
       "      <td>4.0</td>\n",
       "      <td>Санкт-Петербург</td>\n",
       "      <td>31532.0</td>\n",
       "      <td>4624.0</td>\n",
       "      <td>1.0</td>\n",
       "      <td>2218.0</td>\n",
       "      <td>2.0</td>\n",
       "      <td>99.0</td>\n",
       "      <td>26.0</td>\n",
       "    </tr>\n",
       "    <tr>\n",
       "      <th>2489</th>\n",
       "      <td>9</td>\n",
       "      <td>12500000.0</td>\n",
       "      <td>255.0</td>\n",
       "      <td>2017-04-21</td>\n",
       "      <td>3</td>\n",
       "      <td>2.65</td>\n",
       "      <td>2</td>\n",
       "      <td>153.9</td>\n",
       "      <td>2</td>\n",
       "      <td>False</td>\n",
       "      <td>...</td>\n",
       "      <td>100.7</td>\n",
       "      <td>0.0</td>\n",
       "      <td>Санкт-Петербург</td>\n",
       "      <td>29544.0</td>\n",
       "      <td>6916.0</td>\n",
       "      <td>0.0</td>\n",
       "      <td>NaN</td>\n",
       "      <td>3.0</td>\n",
       "      <td>198.0</td>\n",
       "      <td>102.0</td>\n",
       "    </tr>\n",
       "    <tr>\n",
       "      <th>5358</th>\n",
       "      <td>20</td>\n",
       "      <td>65000000.0</td>\n",
       "      <td>590.0</td>\n",
       "      <td>2019-02-14</td>\n",
       "      <td>15</td>\n",
       "      <td>3.50</td>\n",
       "      <td>6</td>\n",
       "      <td>409.0</td>\n",
       "      <td>3</td>\n",
       "      <td>False</td>\n",
       "      <td>...</td>\n",
       "      <td>100.0</td>\n",
       "      <td>NaN</td>\n",
       "      <td>Санкт-Петербург</td>\n",
       "      <td>24447.0</td>\n",
       "      <td>4666.0</td>\n",
       "      <td>1.0</td>\n",
       "      <td>767.0</td>\n",
       "      <td>0.0</td>\n",
       "      <td>NaN</td>\n",
       "      <td>14.0</td>\n",
       "    </tr>\n",
       "    <tr>\n",
       "      <th>16239</th>\n",
       "      <td>5</td>\n",
       "      <td>82400000.0</td>\n",
       "      <td>181.1</td>\n",
       "      <td>2017-05-24</td>\n",
       "      <td>3</td>\n",
       "      <td>3.90</td>\n",
       "      <td>9</td>\n",
       "      <td>58.2</td>\n",
       "      <td>4</td>\n",
       "      <td>False</td>\n",
       "      <td>...</td>\n",
       "      <td>93.2</td>\n",
       "      <td>NaN</td>\n",
       "      <td>Санкт-Петербург</td>\n",
       "      <td>25525.0</td>\n",
       "      <td>5845.0</td>\n",
       "      <td>2.0</td>\n",
       "      <td>116.0</td>\n",
       "      <td>0.0</td>\n",
       "      <td>NaN</td>\n",
       "      <td>501.0</td>\n",
       "    </tr>\n",
       "    <tr>\n",
       "      <th>16797</th>\n",
       "      <td>9</td>\n",
       "      <td>65850000.0</td>\n",
       "      <td>146.0</td>\n",
       "      <td>2017-07-14</td>\n",
       "      <td>2</td>\n",
       "      <td>2.65</td>\n",
       "      <td>9</td>\n",
       "      <td>40.0</td>\n",
       "      <td>3</td>\n",
       "      <td>False</td>\n",
       "      <td>...</td>\n",
       "      <td>93.0</td>\n",
       "      <td>0.0</td>\n",
       "      <td>Санкт-Петербург</td>\n",
       "      <td>25525.0</td>\n",
       "      <td>5845.0</td>\n",
       "      <td>2.0</td>\n",
       "      <td>116.0</td>\n",
       "      <td>0.0</td>\n",
       "      <td>NaN</td>\n",
       "      <td>77.0</td>\n",
       "    </tr>\n",
       "    <tr>\n",
       "      <th>10867</th>\n",
       "      <td>1</td>\n",
       "      <td>56844500.0</td>\n",
       "      <td>177.9</td>\n",
       "      <td>2015-01-15</td>\n",
       "      <td>3</td>\n",
       "      <td>2.65</td>\n",
       "      <td>6</td>\n",
       "      <td>87.2</td>\n",
       "      <td>5</td>\n",
       "      <td>True</td>\n",
       "      <td>...</td>\n",
       "      <td>87.2</td>\n",
       "      <td>NaN</td>\n",
       "      <td>Санкт-Петербург</td>\n",
       "      <td>21860.0</td>\n",
       "      <td>318.0</td>\n",
       "      <td>2.0</td>\n",
       "      <td>160.0</td>\n",
       "      <td>3.0</td>\n",
       "      <td>569.0</td>\n",
       "      <td>NaN</td>\n",
       "    </tr>\n",
       "    <tr>\n",
       "      <th>4394</th>\n",
       "      <td>20</td>\n",
       "      <td>57000000.0</td>\n",
       "      <td>174.0</td>\n",
       "      <td>2015-11-09</td>\n",
       "      <td>3</td>\n",
       "      <td>3.20</td>\n",
       "      <td>10</td>\n",
       "      <td>95.0</td>\n",
       "      <td>6</td>\n",
       "      <td>False</td>\n",
       "      <td>...</td>\n",
       "      <td>77.0</td>\n",
       "      <td>NaN</td>\n",
       "      <td>Санкт-Петербург</td>\n",
       "      <td>31706.0</td>\n",
       "      <td>4166.0</td>\n",
       "      <td>1.0</td>\n",
       "      <td>193.0</td>\n",
       "      <td>3.0</td>\n",
       "      <td>199.0</td>\n",
       "      <td>1039.0</td>\n",
       "    </tr>\n",
       "    <tr>\n",
       "      <th>492</th>\n",
       "      <td>18</td>\n",
       "      <td>95000000.0</td>\n",
       "      <td>216.0</td>\n",
       "      <td>2017-12-05</td>\n",
       "      <td>4</td>\n",
       "      <td>3.00</td>\n",
       "      <td>5</td>\n",
       "      <td>86.0</td>\n",
       "      <td>4</td>\n",
       "      <td>False</td>\n",
       "      <td>...</td>\n",
       "      <td>77.0</td>\n",
       "      <td>NaN</td>\n",
       "      <td>Санкт-Петербург</td>\n",
       "      <td>21740.0</td>\n",
       "      <td>436.0</td>\n",
       "      <td>2.0</td>\n",
       "      <td>138.0</td>\n",
       "      <td>3.0</td>\n",
       "      <td>620.0</td>\n",
       "      <td>14.0</td>\n",
       "    </tr>\n",
       "    <tr>\n",
       "      <th>14644</th>\n",
       "      <td>17</td>\n",
       "      <td>47000000.0</td>\n",
       "      <td>150.0</td>\n",
       "      <td>2017-02-28</td>\n",
       "      <td>4</td>\n",
       "      <td>3.70</td>\n",
       "      <td>6</td>\n",
       "      <td>58.0</td>\n",
       "      <td>5</td>\n",
       "      <td>False</td>\n",
       "      <td>...</td>\n",
       "      <td>75.0</td>\n",
       "      <td>1.0</td>\n",
       "      <td>Санкт-Петербург</td>\n",
       "      <td>16085.0</td>\n",
       "      <td>7616.0</td>\n",
       "      <td>0.0</td>\n",
       "      <td>NaN</td>\n",
       "      <td>0.0</td>\n",
       "      <td>NaN</td>\n",
       "      <td>507.0</td>\n",
       "    </tr>\n",
       "  </tbody>\n",
       "</table>\n",
       "<p>10 rows × 22 columns</p>\n",
       "</div>"
      ],
      "text/plain": [
       "       total_images   last_price  total_area first_day_exposition  rooms  \\\n",
       "19540             8  420000000.0       900.0           2017-12-06     12   \n",
       "20215             2   85000000.0       249.7           2018-02-01      3   \n",
       "2489              9   12500000.0       255.0           2017-04-21      3   \n",
       "5358             20   65000000.0       590.0           2019-02-14     15   \n",
       "16239             5   82400000.0       181.1           2017-05-24      3   \n",
       "16797             9   65850000.0       146.0           2017-07-14      2   \n",
       "10867             1   56844500.0       177.9           2015-01-15      3   \n",
       "4394             20   57000000.0       174.0           2015-11-09      3   \n",
       "492              18   95000000.0       216.0           2017-12-05      4   \n",
       "14644            17   47000000.0       150.0           2017-02-28      4   \n",
       "\n",
       "       ceiling_height  floors_total  living_area  floor  is_apartment  ...  \\\n",
       "19540            2.80            25        409.7     25         False  ...   \n",
       "20215            2.65            10         72.0      9         False  ...   \n",
       "2489             2.65             2        153.9      2         False  ...   \n",
       "5358             3.50             6        409.0      3         False  ...   \n",
       "16239            3.90             9         58.2      4         False  ...   \n",
       "16797            2.65             9         40.0      3         False  ...   \n",
       "10867            2.65             6         87.2      5          True  ...   \n",
       "4394             3.20            10         95.0      6         False  ...   \n",
       "492              3.00             5         86.0      4         False  ...   \n",
       "14644            3.70             6         58.0      5         False  ...   \n",
       "\n",
       "       kitchen_area  balcony    locality_name  airports_nearest  \\\n",
       "19540         112.0      NaN  Санкт-Петербург           30706.0   \n",
       "20215         107.0      4.0  Санкт-Петербург           31532.0   \n",
       "2489          100.7      0.0  Санкт-Петербург           29544.0   \n",
       "5358          100.0      NaN  Санкт-Петербург           24447.0   \n",
       "16239          93.2      NaN  Санкт-Петербург           25525.0   \n",
       "16797          93.0      0.0  Санкт-Петербург           25525.0   \n",
       "10867          87.2      NaN  Санкт-Петербург           21860.0   \n",
       "4394           77.0      NaN  Санкт-Петербург           31706.0   \n",
       "492            77.0      NaN  Санкт-Петербург           21740.0   \n",
       "14644          75.0      1.0  Санкт-Петербург           16085.0   \n",
       "\n",
       "      city_сenters_nearest  parks_around_3000  parks_nearest  \\\n",
       "19540               7877.0                0.0            NaN   \n",
       "20215               4624.0                1.0         2218.0   \n",
       "2489                6916.0                0.0            NaN   \n",
       "5358                4666.0                1.0          767.0   \n",
       "16239               5845.0                2.0          116.0   \n",
       "16797               5845.0                2.0          116.0   \n",
       "10867                318.0                2.0          160.0   \n",
       "4394                4166.0                1.0          193.0   \n",
       "492                  436.0                2.0          138.0   \n",
       "14644               7616.0                0.0            NaN   \n",
       "\n",
       "       ponds_around_3000  ponds_nearest  days_exposition  \n",
       "19540                2.0          318.0            106.0  \n",
       "20215                2.0           99.0             26.0  \n",
       "2489                 3.0          198.0            102.0  \n",
       "5358                 0.0            NaN             14.0  \n",
       "16239                0.0            NaN            501.0  \n",
       "16797                0.0            NaN             77.0  \n",
       "10867                3.0          569.0              NaN  \n",
       "4394                 3.0          199.0           1039.0  \n",
       "492                  3.0          620.0             14.0  \n",
       "14644                0.0            NaN            507.0  \n",
       "\n",
       "[10 rows x 22 columns]"
      ]
     },
     "execution_count": 30,
     "metadata": {},
     "output_type": "execute_result"
    }
   ],
   "source": [
    "data.sort_values(by='kitchen_area', ascending=False).head(10)"
   ]
  },
  {
   "cell_type": "markdown",
   "metadata": {},
   "source": [
    "Необходимо посмотреть на среднее и медианное значение столбца **kitchen_area**."
   ]
  },
  {
   "cell_type": "code",
   "execution_count": 31,
   "metadata": {},
   "outputs": [
    {
     "data": {
      "text/plain": [
       "10.564935903434078"
      ]
     },
     "execution_count": 31,
     "metadata": {},
     "output_type": "execute_result"
    }
   ],
   "source": [
    "data['kitchen_area'].mean()"
   ]
  },
  {
   "cell_type": "code",
   "execution_count": 32,
   "metadata": {},
   "outputs": [
    {
     "data": {
      "text/plain": [
       "9.1"
      ]
     },
     "execution_count": 32,
     "metadata": {},
     "output_type": "execute_result"
    }
   ],
   "source": [
    "data['kitchen_area'].median()"
   ]
  },
  {
   "cell_type": "markdown",
   "metadata": {},
   "source": [
    "Они почти не отличаются друг от друга, но присваивать квартире площадью **200 квадратных метров** кухню площадью в **9 квадратных метров** не кажется разумным. Предлагаю вычислить какую в среднем часть площади занимает кухня, умножить это на столбец **total_area** и тогда мы получим примерное значение **kitchen_area** учитывая общую площадь квартиры. А если квартира - студия, поставить значение **kitchen_area** равное нулю."
   ]
  },
  {
   "cell_type": "code",
   "execution_count": 33,
   "metadata": {
    "scrolled": true
   },
   "outputs": [
    {
     "name": "stdout",
     "output_type": "stream",
     "text": [
      "Количество пропущенных значений: 0\n"
     ]
    },
    {
     "data": {
      "text/html": [
       "<div>\n",
       "<style scoped>\n",
       "    .dataframe tbody tr th:only-of-type {\n",
       "        vertical-align: middle;\n",
       "    }\n",
       "\n",
       "    .dataframe tbody tr th {\n",
       "        vertical-align: top;\n",
       "    }\n",
       "\n",
       "    .dataframe thead th {\n",
       "        text-align: right;\n",
       "    }\n",
       "</style>\n",
       "<table border=\"1\" class=\"dataframe\">\n",
       "  <thead>\n",
       "    <tr style=\"text-align: right;\">\n",
       "      <th></th>\n",
       "      <th>total_images</th>\n",
       "      <th>last_price</th>\n",
       "      <th>total_area</th>\n",
       "      <th>first_day_exposition</th>\n",
       "      <th>rooms</th>\n",
       "      <th>ceiling_height</th>\n",
       "      <th>floors_total</th>\n",
       "      <th>living_area</th>\n",
       "      <th>floor</th>\n",
       "      <th>is_apartment</th>\n",
       "      <th>...</th>\n",
       "      <th>kitchen_area</th>\n",
       "      <th>balcony</th>\n",
       "      <th>locality_name</th>\n",
       "      <th>airports_nearest</th>\n",
       "      <th>city_сenters_nearest</th>\n",
       "      <th>parks_around_3000</th>\n",
       "      <th>parks_nearest</th>\n",
       "      <th>ponds_around_3000</th>\n",
       "      <th>ponds_nearest</th>\n",
       "      <th>days_exposition</th>\n",
       "    </tr>\n",
       "  </thead>\n",
       "  <tbody>\n",
       "    <tr>\n",
       "      <th>144</th>\n",
       "      <td>1</td>\n",
       "      <td>2450000.0</td>\n",
       "      <td>27.00</td>\n",
       "      <td>2017-03-30</td>\n",
       "      <td>0</td>\n",
       "      <td>2.65</td>\n",
       "      <td>24</td>\n",
       "      <td>15.500000</td>\n",
       "      <td>2</td>\n",
       "      <td>False</td>\n",
       "      <td>...</td>\n",
       "      <td>0.0</td>\n",
       "      <td>2.0</td>\n",
       "      <td>посёлок Мурино</td>\n",
       "      <td>NaN</td>\n",
       "      <td>NaN</td>\n",
       "      <td>NaN</td>\n",
       "      <td>NaN</td>\n",
       "      <td>NaN</td>\n",
       "      <td>NaN</td>\n",
       "      <td>181.0</td>\n",
       "    </tr>\n",
       "    <tr>\n",
       "      <th>440</th>\n",
       "      <td>8</td>\n",
       "      <td>2480000.0</td>\n",
       "      <td>27.11</td>\n",
       "      <td>2018-03-12</td>\n",
       "      <td>0</td>\n",
       "      <td>2.65</td>\n",
       "      <td>17</td>\n",
       "      <td>24.750000</td>\n",
       "      <td>4</td>\n",
       "      <td>False</td>\n",
       "      <td>...</td>\n",
       "      <td>0.0</td>\n",
       "      <td>2.0</td>\n",
       "      <td>Санкт-Петербург</td>\n",
       "      <td>38171.0</td>\n",
       "      <td>15015.0</td>\n",
       "      <td>0.0</td>\n",
       "      <td>NaN</td>\n",
       "      <td>2.0</td>\n",
       "      <td>982.0</td>\n",
       "      <td>64.0</td>\n",
       "    </tr>\n",
       "    <tr>\n",
       "      <th>608</th>\n",
       "      <td>2</td>\n",
       "      <td>1850000.0</td>\n",
       "      <td>25.00</td>\n",
       "      <td>2019-02-20</td>\n",
       "      <td>0</td>\n",
       "      <td>2.65</td>\n",
       "      <td>10</td>\n",
       "      <td>14.423077</td>\n",
       "      <td>7</td>\n",
       "      <td>False</td>\n",
       "      <td>...</td>\n",
       "      <td>0.0</td>\n",
       "      <td>NaN</td>\n",
       "      <td>посёлок Шушары</td>\n",
       "      <td>NaN</td>\n",
       "      <td>NaN</td>\n",
       "      <td>NaN</td>\n",
       "      <td>NaN</td>\n",
       "      <td>NaN</td>\n",
       "      <td>NaN</td>\n",
       "      <td>29.0</td>\n",
       "    </tr>\n",
       "    <tr>\n",
       "      <th>697</th>\n",
       "      <td>12</td>\n",
       "      <td>2500000.0</td>\n",
       "      <td>24.10</td>\n",
       "      <td>2017-12-01</td>\n",
       "      <td>0</td>\n",
       "      <td>2.75</td>\n",
       "      <td>25</td>\n",
       "      <td>17.500000</td>\n",
       "      <td>21</td>\n",
       "      <td>False</td>\n",
       "      <td>...</td>\n",
       "      <td>0.0</td>\n",
       "      <td>NaN</td>\n",
       "      <td>деревня Кудрово</td>\n",
       "      <td>NaN</td>\n",
       "      <td>NaN</td>\n",
       "      <td>NaN</td>\n",
       "      <td>NaN</td>\n",
       "      <td>NaN</td>\n",
       "      <td>NaN</td>\n",
       "      <td>201.0</td>\n",
       "    </tr>\n",
       "    <tr>\n",
       "      <th>716</th>\n",
       "      <td>5</td>\n",
       "      <td>1500000.0</td>\n",
       "      <td>17.00</td>\n",
       "      <td>2017-06-07</td>\n",
       "      <td>0</td>\n",
       "      <td>2.70</td>\n",
       "      <td>9</td>\n",
       "      <td>12.000000</td>\n",
       "      <td>1</td>\n",
       "      <td>False</td>\n",
       "      <td>...</td>\n",
       "      <td>0.0</td>\n",
       "      <td>0.0</td>\n",
       "      <td>посёлок Шушары</td>\n",
       "      <td>18654.0</td>\n",
       "      <td>29846.0</td>\n",
       "      <td>0.0</td>\n",
       "      <td>NaN</td>\n",
       "      <td>0.0</td>\n",
       "      <td>NaN</td>\n",
       "      <td>40.0</td>\n",
       "    </tr>\n",
       "    <tr>\n",
       "      <th>...</th>\n",
       "      <td>...</td>\n",
       "      <td>...</td>\n",
       "      <td>...</td>\n",
       "      <td>...</td>\n",
       "      <td>...</td>\n",
       "      <td>...</td>\n",
       "      <td>...</td>\n",
       "      <td>...</td>\n",
       "      <td>...</td>\n",
       "      <td>...</td>\n",
       "      <td>...</td>\n",
       "      <td>...</td>\n",
       "      <td>...</td>\n",
       "      <td>...</td>\n",
       "      <td>...</td>\n",
       "      <td>...</td>\n",
       "      <td>...</td>\n",
       "      <td>...</td>\n",
       "      <td>...</td>\n",
       "      <td>...</td>\n",
       "      <td>...</td>\n",
       "    </tr>\n",
       "    <tr>\n",
       "      <th>22867</th>\n",
       "      <td>8</td>\n",
       "      <td>3090000.0</td>\n",
       "      <td>30.00</td>\n",
       "      <td>2017-12-17</td>\n",
       "      <td>0</td>\n",
       "      <td>2.65</td>\n",
       "      <td>25</td>\n",
       "      <td>18.200000</td>\n",
       "      <td>5</td>\n",
       "      <td>False</td>\n",
       "      <td>...</td>\n",
       "      <td>0.0</td>\n",
       "      <td>NaN</td>\n",
       "      <td>Санкт-Петербург</td>\n",
       "      <td>35250.0</td>\n",
       "      <td>16414.0</td>\n",
       "      <td>0.0</td>\n",
       "      <td>NaN</td>\n",
       "      <td>1.0</td>\n",
       "      <td>400.0</td>\n",
       "      <td>211.0</td>\n",
       "    </tr>\n",
       "    <tr>\n",
       "      <th>22877</th>\n",
       "      <td>2</td>\n",
       "      <td>4280000.0</td>\n",
       "      <td>28.00</td>\n",
       "      <td>2017-10-26</td>\n",
       "      <td>0</td>\n",
       "      <td>2.70</td>\n",
       "      <td>19</td>\n",
       "      <td>18.000000</td>\n",
       "      <td>10</td>\n",
       "      <td>False</td>\n",
       "      <td>...</td>\n",
       "      <td>0.0</td>\n",
       "      <td>NaN</td>\n",
       "      <td>Санкт-Петербург</td>\n",
       "      <td>18982.0</td>\n",
       "      <td>7206.0</td>\n",
       "      <td>0.0</td>\n",
       "      <td>NaN</td>\n",
       "      <td>1.0</td>\n",
       "      <td>415.0</td>\n",
       "      <td>151.0</td>\n",
       "    </tr>\n",
       "    <tr>\n",
       "      <th>23210</th>\n",
       "      <td>7</td>\n",
       "      <td>3200000.0</td>\n",
       "      <td>26.00</td>\n",
       "      <td>2017-09-01</td>\n",
       "      <td>0</td>\n",
       "      <td>2.65</td>\n",
       "      <td>25</td>\n",
       "      <td>18.000000</td>\n",
       "      <td>16</td>\n",
       "      <td>False</td>\n",
       "      <td>...</td>\n",
       "      <td>0.0</td>\n",
       "      <td>0.0</td>\n",
       "      <td>Санкт-Петербург</td>\n",
       "      <td>11405.0</td>\n",
       "      <td>13222.0</td>\n",
       "      <td>0.0</td>\n",
       "      <td>NaN</td>\n",
       "      <td>1.0</td>\n",
       "      <td>623.0</td>\n",
       "      <td>14.0</td>\n",
       "    </tr>\n",
       "    <tr>\n",
       "      <th>23554</th>\n",
       "      <td>15</td>\n",
       "      <td>3350000.0</td>\n",
       "      <td>26.00</td>\n",
       "      <td>2018-09-07</td>\n",
       "      <td>0</td>\n",
       "      <td>2.65</td>\n",
       "      <td>19</td>\n",
       "      <td>15.000000</td>\n",
       "      <td>8</td>\n",
       "      <td>False</td>\n",
       "      <td>...</td>\n",
       "      <td>0.0</td>\n",
       "      <td>NaN</td>\n",
       "      <td>Санкт-Петербург</td>\n",
       "      <td>18090.0</td>\n",
       "      <td>17092.0</td>\n",
       "      <td>0.0</td>\n",
       "      <td>NaN</td>\n",
       "      <td>2.0</td>\n",
       "      <td>112.0</td>\n",
       "      <td>31.0</td>\n",
       "    </tr>\n",
       "    <tr>\n",
       "      <th>23637</th>\n",
       "      <td>8</td>\n",
       "      <td>2350000.0</td>\n",
       "      <td>26.00</td>\n",
       "      <td>2018-06-26</td>\n",
       "      <td>0</td>\n",
       "      <td>2.65</td>\n",
       "      <td>25</td>\n",
       "      <td>17.000000</td>\n",
       "      <td>4</td>\n",
       "      <td>False</td>\n",
       "      <td>...</td>\n",
       "      <td>0.0</td>\n",
       "      <td>2.0</td>\n",
       "      <td>посёлок Бугры</td>\n",
       "      <td>NaN</td>\n",
       "      <td>NaN</td>\n",
       "      <td>NaN</td>\n",
       "      <td>NaN</td>\n",
       "      <td>NaN</td>\n",
       "      <td>NaN</td>\n",
       "      <td>207.0</td>\n",
       "    </tr>\n",
       "  </tbody>\n",
       "</table>\n",
       "<p>146 rows × 22 columns</p>\n",
       "</div>"
      ],
      "text/plain": [
       "       total_images  last_price  total_area first_day_exposition  rooms  \\\n",
       "144               1   2450000.0       27.00           2017-03-30      0   \n",
       "440               8   2480000.0       27.11           2018-03-12      0   \n",
       "608               2   1850000.0       25.00           2019-02-20      0   \n",
       "697              12   2500000.0       24.10           2017-12-01      0   \n",
       "716               5   1500000.0       17.00           2017-06-07      0   \n",
       "...             ...         ...         ...                  ...    ...   \n",
       "22867             8   3090000.0       30.00           2017-12-17      0   \n",
       "22877             2   4280000.0       28.00           2017-10-26      0   \n",
       "23210             7   3200000.0       26.00           2017-09-01      0   \n",
       "23554            15   3350000.0       26.00           2018-09-07      0   \n",
       "23637             8   2350000.0       26.00           2018-06-26      0   \n",
       "\n",
       "       ceiling_height  floors_total  living_area  floor  is_apartment  ...  \\\n",
       "144              2.65            24    15.500000      2         False  ...   \n",
       "440              2.65            17    24.750000      4         False  ...   \n",
       "608              2.65            10    14.423077      7         False  ...   \n",
       "697              2.75            25    17.500000     21         False  ...   \n",
       "716              2.70             9    12.000000      1         False  ...   \n",
       "...               ...           ...          ...    ...           ...  ...   \n",
       "22867            2.65            25    18.200000      5         False  ...   \n",
       "22877            2.70            19    18.000000     10         False  ...   \n",
       "23210            2.65            25    18.000000     16         False  ...   \n",
       "23554            2.65            19    15.000000      8         False  ...   \n",
       "23637            2.65            25    17.000000      4         False  ...   \n",
       "\n",
       "       kitchen_area  balcony    locality_name  airports_nearest  \\\n",
       "144             0.0      2.0   посёлок Мурино               NaN   \n",
       "440             0.0      2.0  Санкт-Петербург           38171.0   \n",
       "608             0.0      NaN   посёлок Шушары               NaN   \n",
       "697             0.0      NaN  деревня Кудрово               NaN   \n",
       "716             0.0      0.0   посёлок Шушары           18654.0   \n",
       "...             ...      ...              ...               ...   \n",
       "22867           0.0      NaN  Санкт-Петербург           35250.0   \n",
       "22877           0.0      NaN  Санкт-Петербург           18982.0   \n",
       "23210           0.0      0.0  Санкт-Петербург           11405.0   \n",
       "23554           0.0      NaN  Санкт-Петербург           18090.0   \n",
       "23637           0.0      2.0    посёлок Бугры               NaN   \n",
       "\n",
       "      city_сenters_nearest  parks_around_3000  parks_nearest  \\\n",
       "144                    NaN                NaN            NaN   \n",
       "440                15015.0                0.0            NaN   \n",
       "608                    NaN                NaN            NaN   \n",
       "697                    NaN                NaN            NaN   \n",
       "716                29846.0                0.0            NaN   \n",
       "...                    ...                ...            ...   \n",
       "22867              16414.0                0.0            NaN   \n",
       "22877               7206.0                0.0            NaN   \n",
       "23210              13222.0                0.0            NaN   \n",
       "23554              17092.0                0.0            NaN   \n",
       "23637                  NaN                NaN            NaN   \n",
       "\n",
       "       ponds_around_3000  ponds_nearest  days_exposition  \n",
       "144                  NaN            NaN            181.0  \n",
       "440                  2.0          982.0             64.0  \n",
       "608                  NaN            NaN             29.0  \n",
       "697                  NaN            NaN            201.0  \n",
       "716                  0.0            NaN             40.0  \n",
       "...                  ...            ...              ...  \n",
       "22867                1.0          400.0            211.0  \n",
       "22877                1.0          415.0            151.0  \n",
       "23210                1.0          623.0             14.0  \n",
       "23554                2.0          112.0             31.0  \n",
       "23637                NaN            NaN            207.0  \n",
       "\n",
       "[146 rows x 22 columns]"
      ]
     },
     "execution_count": 33,
     "metadata": {},
     "output_type": "execute_result"
    }
   ],
   "source": [
    "data.loc[data['studio'] == True, 'kitchen_area'] = 0 \n",
    "kitchen_ratio = data['kitchen_area'].median() / data['total_area'].median()\n",
    "data['kitchen_area'].fillna(kitchen_ratio * data['total_area'], inplace=True)\n",
    "# Проверка того, что все действия выполнены верно\n",
    "print('Количество пропущенных значений:', data['kitchen_area'].isna().sum())\n",
    "data[data['studio'] == True]"
   ]
  },
  {
   "cell_type": "markdown",
   "metadata": {},
   "source": [
    "**balcony** — Число балконов. В этом столбце две проблемы. Во-первых, число балконов не может быть типом **float64** нужно поменять его на **int64**. Во-вторых, пропущенные значения. Посмотрим на данные внимательнее."
   ]
  },
  {
   "cell_type": "code",
   "execution_count": 34,
   "metadata": {},
   "outputs": [
    {
     "data": {
      "text/html": [
       "<div>\n",
       "<style scoped>\n",
       "    .dataframe tbody tr th:only-of-type {\n",
       "        vertical-align: middle;\n",
       "    }\n",
       "\n",
       "    .dataframe tbody tr th {\n",
       "        vertical-align: top;\n",
       "    }\n",
       "\n",
       "    .dataframe thead th {\n",
       "        text-align: right;\n",
       "    }\n",
       "</style>\n",
       "<table border=\"1\" class=\"dataframe\">\n",
       "  <thead>\n",
       "    <tr style=\"text-align: right;\">\n",
       "      <th></th>\n",
       "      <th>total_images</th>\n",
       "      <th>last_price</th>\n",
       "      <th>total_area</th>\n",
       "      <th>first_day_exposition</th>\n",
       "      <th>rooms</th>\n",
       "      <th>ceiling_height</th>\n",
       "      <th>floors_total</th>\n",
       "      <th>living_area</th>\n",
       "      <th>floor</th>\n",
       "      <th>is_apartment</th>\n",
       "      <th>...</th>\n",
       "      <th>kitchen_area</th>\n",
       "      <th>balcony</th>\n",
       "      <th>locality_name</th>\n",
       "      <th>airports_nearest</th>\n",
       "      <th>city_сenters_nearest</th>\n",
       "      <th>parks_around_3000</th>\n",
       "      <th>parks_nearest</th>\n",
       "      <th>ponds_around_3000</th>\n",
       "      <th>ponds_nearest</th>\n",
       "      <th>days_exposition</th>\n",
       "    </tr>\n",
       "  </thead>\n",
       "  <tbody>\n",
       "    <tr>\n",
       "      <th>8605</th>\n",
       "      <td>4</td>\n",
       "      <td>2600000.0</td>\n",
       "      <td>28.0</td>\n",
       "      <td>2016-03-09</td>\n",
       "      <td>1</td>\n",
       "      <td>2.65</td>\n",
       "      <td>20</td>\n",
       "      <td>19.5</td>\n",
       "      <td>14</td>\n",
       "      <td>False</td>\n",
       "      <td>...</td>\n",
       "      <td>4.000000</td>\n",
       "      <td>0.0</td>\n",
       "      <td>поселок Мурино</td>\n",
       "      <td>NaN</td>\n",
       "      <td>NaN</td>\n",
       "      <td>NaN</td>\n",
       "      <td>NaN</td>\n",
       "      <td>NaN</td>\n",
       "      <td>NaN</td>\n",
       "      <td>137.0</td>\n",
       "    </tr>\n",
       "    <tr>\n",
       "      <th>20266</th>\n",
       "      <td>9</td>\n",
       "      <td>5650000.0</td>\n",
       "      <td>69.1</td>\n",
       "      <td>2016-03-02</td>\n",
       "      <td>3</td>\n",
       "      <td>2.65</td>\n",
       "      <td>16</td>\n",
       "      <td>43.7</td>\n",
       "      <td>6</td>\n",
       "      <td>False</td>\n",
       "      <td>...</td>\n",
       "      <td>8.000000</td>\n",
       "      <td>0.0</td>\n",
       "      <td>Санкт-Петербург</td>\n",
       "      <td>13881.0</td>\n",
       "      <td>12677.0</td>\n",
       "      <td>0.0</td>\n",
       "      <td>NaN</td>\n",
       "      <td>0.0</td>\n",
       "      <td>NaN</td>\n",
       "      <td>335.0</td>\n",
       "    </tr>\n",
       "    <tr>\n",
       "      <th>9202</th>\n",
       "      <td>0</td>\n",
       "      <td>3500000.0</td>\n",
       "      <td>38.0</td>\n",
       "      <td>2016-02-01</td>\n",
       "      <td>1</td>\n",
       "      <td>2.65</td>\n",
       "      <td>12</td>\n",
       "      <td>20.0</td>\n",
       "      <td>6</td>\n",
       "      <td>False</td>\n",
       "      <td>...</td>\n",
       "      <td>6.576923</td>\n",
       "      <td>0.0</td>\n",
       "      <td>Санкт-Петербург</td>\n",
       "      <td>32899.0</td>\n",
       "      <td>11354.0</td>\n",
       "      <td>0.0</td>\n",
       "      <td>NaN</td>\n",
       "      <td>0.0</td>\n",
       "      <td>NaN</td>\n",
       "      <td>229.0</td>\n",
       "    </tr>\n",
       "    <tr>\n",
       "      <th>9195</th>\n",
       "      <td>8</td>\n",
       "      <td>1900000.0</td>\n",
       "      <td>33.0</td>\n",
       "      <td>2015-06-17</td>\n",
       "      <td>1</td>\n",
       "      <td>2.65</td>\n",
       "      <td>9</td>\n",
       "      <td>18.0</td>\n",
       "      <td>7</td>\n",
       "      <td>False</td>\n",
       "      <td>...</td>\n",
       "      <td>6.000000</td>\n",
       "      <td>0.0</td>\n",
       "      <td>Коммунар</td>\n",
       "      <td>NaN</td>\n",
       "      <td>NaN</td>\n",
       "      <td>NaN</td>\n",
       "      <td>NaN</td>\n",
       "      <td>NaN</td>\n",
       "      <td>NaN</td>\n",
       "      <td>783.0</td>\n",
       "    </tr>\n",
       "    <tr>\n",
       "      <th>20271</th>\n",
       "      <td>9</td>\n",
       "      <td>5300000.0</td>\n",
       "      <td>66.0</td>\n",
       "      <td>2016-04-30</td>\n",
       "      <td>2</td>\n",
       "      <td>2.65</td>\n",
       "      <td>23</td>\n",
       "      <td>31.4</td>\n",
       "      <td>5</td>\n",
       "      <td>False</td>\n",
       "      <td>...</td>\n",
       "      <td>15.000000</td>\n",
       "      <td>0.0</td>\n",
       "      <td>Санкт-Петербург</td>\n",
       "      <td>21928.0</td>\n",
       "      <td>17256.0</td>\n",
       "      <td>0.0</td>\n",
       "      <td>NaN</td>\n",
       "      <td>1.0</td>\n",
       "      <td>429.0</td>\n",
       "      <td>161.0</td>\n",
       "    </tr>\n",
       "    <tr>\n",
       "      <th>9185</th>\n",
       "      <td>4</td>\n",
       "      <td>3790000.0</td>\n",
       "      <td>73.0</td>\n",
       "      <td>2017-03-06</td>\n",
       "      <td>3</td>\n",
       "      <td>2.65</td>\n",
       "      <td>5</td>\n",
       "      <td>46.4</td>\n",
       "      <td>5</td>\n",
       "      <td>False</td>\n",
       "      <td>...</td>\n",
       "      <td>8.500000</td>\n",
       "      <td>0.0</td>\n",
       "      <td>Гатчина</td>\n",
       "      <td>NaN</td>\n",
       "      <td>NaN</td>\n",
       "      <td>NaN</td>\n",
       "      <td>NaN</td>\n",
       "      <td>NaN</td>\n",
       "      <td>NaN</td>\n",
       "      <td>181.0</td>\n",
       "    </tr>\n",
       "    <tr>\n",
       "      <th>20277</th>\n",
       "      <td>8</td>\n",
       "      <td>3380000.0</td>\n",
       "      <td>34.3</td>\n",
       "      <td>2017-01-09</td>\n",
       "      <td>1</td>\n",
       "      <td>2.65</td>\n",
       "      <td>4</td>\n",
       "      <td>15.0</td>\n",
       "      <td>1</td>\n",
       "      <td>False</td>\n",
       "      <td>...</td>\n",
       "      <td>8.500000</td>\n",
       "      <td>0.0</td>\n",
       "      <td>Санкт-Петербург</td>\n",
       "      <td>20371.0</td>\n",
       "      <td>1938.0</td>\n",
       "      <td>2.0</td>\n",
       "      <td>396.0</td>\n",
       "      <td>3.0</td>\n",
       "      <td>438.0</td>\n",
       "      <td>115.0</td>\n",
       "    </tr>\n",
       "    <tr>\n",
       "      <th>9180</th>\n",
       "      <td>11</td>\n",
       "      <td>4690000.0</td>\n",
       "      <td>56.0</td>\n",
       "      <td>2016-04-02</td>\n",
       "      <td>3</td>\n",
       "      <td>2.65</td>\n",
       "      <td>5</td>\n",
       "      <td>41.0</td>\n",
       "      <td>2</td>\n",
       "      <td>False</td>\n",
       "      <td>...</td>\n",
       "      <td>6.000000</td>\n",
       "      <td>0.0</td>\n",
       "      <td>Санкт-Петербург</td>\n",
       "      <td>39898.0</td>\n",
       "      <td>11601.0</td>\n",
       "      <td>1.0</td>\n",
       "      <td>385.0</td>\n",
       "      <td>0.0</td>\n",
       "      <td>NaN</td>\n",
       "      <td>146.0</td>\n",
       "    </tr>\n",
       "    <tr>\n",
       "      <th>20263</th>\n",
       "      <td>9</td>\n",
       "      <td>2450000.0</td>\n",
       "      <td>44.0</td>\n",
       "      <td>2015-03-18</td>\n",
       "      <td>2</td>\n",
       "      <td>2.65</td>\n",
       "      <td>5</td>\n",
       "      <td>29.0</td>\n",
       "      <td>1</td>\n",
       "      <td>False</td>\n",
       "      <td>...</td>\n",
       "      <td>5.600000</td>\n",
       "      <td>0.0</td>\n",
       "      <td>Гатчина</td>\n",
       "      <td>NaN</td>\n",
       "      <td>NaN</td>\n",
       "      <td>NaN</td>\n",
       "      <td>NaN</td>\n",
       "      <td>NaN</td>\n",
       "      <td>NaN</td>\n",
       "      <td>467.0</td>\n",
       "    </tr>\n",
       "    <tr>\n",
       "      <th>20278</th>\n",
       "      <td>2</td>\n",
       "      <td>2450000.0</td>\n",
       "      <td>35.0</td>\n",
       "      <td>2015-11-30</td>\n",
       "      <td>1</td>\n",
       "      <td>2.65</td>\n",
       "      <td>6</td>\n",
       "      <td>16.0</td>\n",
       "      <td>1</td>\n",
       "      <td>False</td>\n",
       "      <td>...</td>\n",
       "      <td>9.500000</td>\n",
       "      <td>0.0</td>\n",
       "      <td>поселок городского типа Токсово</td>\n",
       "      <td>NaN</td>\n",
       "      <td>NaN</td>\n",
       "      <td>NaN</td>\n",
       "      <td>NaN</td>\n",
       "      <td>NaN</td>\n",
       "      <td>NaN</td>\n",
       "      <td>553.0</td>\n",
       "    </tr>\n",
       "  </tbody>\n",
       "</table>\n",
       "<p>10 rows × 22 columns</p>\n",
       "</div>"
      ],
      "text/plain": [
       "       total_images  last_price  total_area first_day_exposition  rooms  \\\n",
       "8605              4   2600000.0        28.0           2016-03-09      1   \n",
       "20266             9   5650000.0        69.1           2016-03-02      3   \n",
       "9202              0   3500000.0        38.0           2016-02-01      1   \n",
       "9195              8   1900000.0        33.0           2015-06-17      1   \n",
       "20271             9   5300000.0        66.0           2016-04-30      2   \n",
       "9185              4   3790000.0        73.0           2017-03-06      3   \n",
       "20277             8   3380000.0        34.3           2017-01-09      1   \n",
       "9180             11   4690000.0        56.0           2016-04-02      3   \n",
       "20263             9   2450000.0        44.0           2015-03-18      2   \n",
       "20278             2   2450000.0        35.0           2015-11-30      1   \n",
       "\n",
       "       ceiling_height  floors_total  living_area  floor  is_apartment  ...  \\\n",
       "8605             2.65            20         19.5     14         False  ...   \n",
       "20266            2.65            16         43.7      6         False  ...   \n",
       "9202             2.65            12         20.0      6         False  ...   \n",
       "9195             2.65             9         18.0      7         False  ...   \n",
       "20271            2.65            23         31.4      5         False  ...   \n",
       "9185             2.65             5         46.4      5         False  ...   \n",
       "20277            2.65             4         15.0      1         False  ...   \n",
       "9180             2.65             5         41.0      2         False  ...   \n",
       "20263            2.65             5         29.0      1         False  ...   \n",
       "20278            2.65             6         16.0      1         False  ...   \n",
       "\n",
       "       kitchen_area  balcony                    locality_name  \\\n",
       "8605       4.000000      0.0                   поселок Мурино   \n",
       "20266      8.000000      0.0                  Санкт-Петербург   \n",
       "9202       6.576923      0.0                  Санкт-Петербург   \n",
       "9195       6.000000      0.0                         Коммунар   \n",
       "20271     15.000000      0.0                  Санкт-Петербург   \n",
       "9185       8.500000      0.0                          Гатчина   \n",
       "20277      8.500000      0.0                  Санкт-Петербург   \n",
       "9180       6.000000      0.0                  Санкт-Петербург   \n",
       "20263      5.600000      0.0                          Гатчина   \n",
       "20278      9.500000      0.0  поселок городского типа Токсово   \n",
       "\n",
       "       airports_nearest city_сenters_nearest  parks_around_3000  \\\n",
       "8605                NaN                  NaN                NaN   \n",
       "20266           13881.0              12677.0                0.0   \n",
       "9202            32899.0              11354.0                0.0   \n",
       "9195                NaN                  NaN                NaN   \n",
       "20271           21928.0              17256.0                0.0   \n",
       "9185                NaN                  NaN                NaN   \n",
       "20277           20371.0               1938.0                2.0   \n",
       "9180            39898.0              11601.0                1.0   \n",
       "20263               NaN                  NaN                NaN   \n",
       "20278               NaN                  NaN                NaN   \n",
       "\n",
       "       parks_nearest  ponds_around_3000  ponds_nearest  days_exposition  \n",
       "8605             NaN                NaN            NaN            137.0  \n",
       "20266            NaN                0.0            NaN            335.0  \n",
       "9202             NaN                0.0            NaN            229.0  \n",
       "9195             NaN                NaN            NaN            783.0  \n",
       "20271            NaN                1.0          429.0            161.0  \n",
       "9185             NaN                NaN            NaN            181.0  \n",
       "20277          396.0                3.0          438.0            115.0  \n",
       "9180           385.0                0.0            NaN            146.0  \n",
       "20263            NaN                NaN            NaN            467.0  \n",
       "20278            NaN                NaN            NaN            553.0  \n",
       "\n",
       "[10 rows x 22 columns]"
      ]
     },
     "execution_count": 34,
     "metadata": {},
     "output_type": "execute_result"
    }
   ],
   "source": [
    "data.sort_values(by='balcony').head(10)"
   ]
  },
  {
   "cell_type": "code",
   "execution_count": 35,
   "metadata": {},
   "outputs": [
    {
     "data": {
      "text/html": [
       "<div>\n",
       "<style scoped>\n",
       "    .dataframe tbody tr th:only-of-type {\n",
       "        vertical-align: middle;\n",
       "    }\n",
       "\n",
       "    .dataframe tbody tr th {\n",
       "        vertical-align: top;\n",
       "    }\n",
       "\n",
       "    .dataframe thead th {\n",
       "        text-align: right;\n",
       "    }\n",
       "</style>\n",
       "<table border=\"1\" class=\"dataframe\">\n",
       "  <thead>\n",
       "    <tr style=\"text-align: right;\">\n",
       "      <th></th>\n",
       "      <th>total_images</th>\n",
       "      <th>last_price</th>\n",
       "      <th>total_area</th>\n",
       "      <th>first_day_exposition</th>\n",
       "      <th>rooms</th>\n",
       "      <th>ceiling_height</th>\n",
       "      <th>floors_total</th>\n",
       "      <th>living_area</th>\n",
       "      <th>floor</th>\n",
       "      <th>is_apartment</th>\n",
       "      <th>...</th>\n",
       "      <th>kitchen_area</th>\n",
       "      <th>balcony</th>\n",
       "      <th>locality_name</th>\n",
       "      <th>airports_nearest</th>\n",
       "      <th>city_сenters_nearest</th>\n",
       "      <th>parks_around_3000</th>\n",
       "      <th>parks_nearest</th>\n",
       "      <th>ponds_around_3000</th>\n",
       "      <th>ponds_nearest</th>\n",
       "      <th>days_exposition</th>\n",
       "    </tr>\n",
       "  </thead>\n",
       "  <tbody>\n",
       "    <tr>\n",
       "      <th>19004</th>\n",
       "      <td>16</td>\n",
       "      <td>7800000.0</td>\n",
       "      <td>69.0</td>\n",
       "      <td>2018-02-28</td>\n",
       "      <td>2</td>\n",
       "      <td>2.75</td>\n",
       "      <td>24</td>\n",
       "      <td>38.0</td>\n",
       "      <td>20</td>\n",
       "      <td>False</td>\n",
       "      <td>...</td>\n",
       "      <td>14.0</td>\n",
       "      <td>5.0</td>\n",
       "      <td>Санкт-Петербург</td>\n",
       "      <td>36553.0</td>\n",
       "      <td>14693.0</td>\n",
       "      <td>0.0</td>\n",
       "      <td>NaN</td>\n",
       "      <td>0.0</td>\n",
       "      <td>NaN</td>\n",
       "      <td>312.0</td>\n",
       "    </tr>\n",
       "    <tr>\n",
       "      <th>22223</th>\n",
       "      <td>8</td>\n",
       "      <td>6750000.0</td>\n",
       "      <td>54.0</td>\n",
       "      <td>2018-07-23</td>\n",
       "      <td>2</td>\n",
       "      <td>2.70</td>\n",
       "      <td>18</td>\n",
       "      <td>28.5</td>\n",
       "      <td>14</td>\n",
       "      <td>False</td>\n",
       "      <td>...</td>\n",
       "      <td>11.7</td>\n",
       "      <td>5.0</td>\n",
       "      <td>Санкт-Петербург</td>\n",
       "      <td>45929.0</td>\n",
       "      <td>18654.0</td>\n",
       "      <td>0.0</td>\n",
       "      <td>NaN</td>\n",
       "      <td>0.0</td>\n",
       "      <td>NaN</td>\n",
       "      <td>70.0</td>\n",
       "    </tr>\n",
       "    <tr>\n",
       "      <th>13091</th>\n",
       "      <td>20</td>\n",
       "      <td>8200000.0</td>\n",
       "      <td>64.0</td>\n",
       "      <td>2016-11-24</td>\n",
       "      <td>2</td>\n",
       "      <td>2.75</td>\n",
       "      <td>20</td>\n",
       "      <td>32.5</td>\n",
       "      <td>9</td>\n",
       "      <td>False</td>\n",
       "      <td>...</td>\n",
       "      <td>12.0</td>\n",
       "      <td>5.0</td>\n",
       "      <td>Санкт-Петербург</td>\n",
       "      <td>7659.0</td>\n",
       "      <td>13841.0</td>\n",
       "      <td>0.0</td>\n",
       "      <td>NaN</td>\n",
       "      <td>0.0</td>\n",
       "      <td>NaN</td>\n",
       "      <td>194.0</td>\n",
       "    </tr>\n",
       "    <tr>\n",
       "      <th>15136</th>\n",
       "      <td>15</td>\n",
       "      <td>4580000.0</td>\n",
       "      <td>46.6</td>\n",
       "      <td>2018-09-03</td>\n",
       "      <td>1</td>\n",
       "      <td>2.60</td>\n",
       "      <td>10</td>\n",
       "      <td>25.9</td>\n",
       "      <td>5</td>\n",
       "      <td>False</td>\n",
       "      <td>...</td>\n",
       "      <td>8.8</td>\n",
       "      <td>5.0</td>\n",
       "      <td>Санкт-Петербург</td>\n",
       "      <td>29354.0</td>\n",
       "      <td>11781.0</td>\n",
       "      <td>1.0</td>\n",
       "      <td>144.0</td>\n",
       "      <td>1.0</td>\n",
       "      <td>164.0</td>\n",
       "      <td>23.0</td>\n",
       "    </tr>\n",
       "    <tr>\n",
       "      <th>3006</th>\n",
       "      <td>16</td>\n",
       "      <td>4950000.0</td>\n",
       "      <td>70.0</td>\n",
       "      <td>2018-11-17</td>\n",
       "      <td>3</td>\n",
       "      <td>2.70</td>\n",
       "      <td>17</td>\n",
       "      <td>42.0</td>\n",
       "      <td>2</td>\n",
       "      <td>False</td>\n",
       "      <td>...</td>\n",
       "      <td>9.5</td>\n",
       "      <td>5.0</td>\n",
       "      <td>деревня Новое Девяткино</td>\n",
       "      <td>NaN</td>\n",
       "      <td>NaN</td>\n",
       "      <td>NaN</td>\n",
       "      <td>NaN</td>\n",
       "      <td>NaN</td>\n",
       "      <td>NaN</td>\n",
       "      <td>40.0</td>\n",
       "    </tr>\n",
       "    <tr>\n",
       "      <th>22086</th>\n",
       "      <td>5</td>\n",
       "      <td>4650000.0</td>\n",
       "      <td>57.5</td>\n",
       "      <td>2017-12-06</td>\n",
       "      <td>2</td>\n",
       "      <td>2.80</td>\n",
       "      <td>10</td>\n",
       "      <td>30.0</td>\n",
       "      <td>8</td>\n",
       "      <td>False</td>\n",
       "      <td>...</td>\n",
       "      <td>12.0</td>\n",
       "      <td>5.0</td>\n",
       "      <td>Санкт-Петербург</td>\n",
       "      <td>26510.0</td>\n",
       "      <td>14301.0</td>\n",
       "      <td>0.0</td>\n",
       "      <td>NaN</td>\n",
       "      <td>0.0</td>\n",
       "      <td>NaN</td>\n",
       "      <td>72.0</td>\n",
       "    </tr>\n",
       "    <tr>\n",
       "      <th>17383</th>\n",
       "      <td>12</td>\n",
       "      <td>10990000.0</td>\n",
       "      <td>69.0</td>\n",
       "      <td>2017-10-04</td>\n",
       "      <td>2</td>\n",
       "      <td>2.80</td>\n",
       "      <td>22</td>\n",
       "      <td>29.5</td>\n",
       "      <td>7</td>\n",
       "      <td>False</td>\n",
       "      <td>...</td>\n",
       "      <td>17.5</td>\n",
       "      <td>5.0</td>\n",
       "      <td>Санкт-Петербург</td>\n",
       "      <td>44151.0</td>\n",
       "      <td>13731.0</td>\n",
       "      <td>1.0</td>\n",
       "      <td>633.0</td>\n",
       "      <td>0.0</td>\n",
       "      <td>NaN</td>\n",
       "      <td>377.0</td>\n",
       "    </tr>\n",
       "    <tr>\n",
       "      <th>7433</th>\n",
       "      <td>7</td>\n",
       "      <td>6800000.0</td>\n",
       "      <td>68.0</td>\n",
       "      <td>2017-11-02</td>\n",
       "      <td>2</td>\n",
       "      <td>2.50</td>\n",
       "      <td>9</td>\n",
       "      <td>39.0</td>\n",
       "      <td>2</td>\n",
       "      <td>False</td>\n",
       "      <td>...</td>\n",
       "      <td>9.0</td>\n",
       "      <td>5.0</td>\n",
       "      <td>Санкт-Петербург</td>\n",
       "      <td>28005.0</td>\n",
       "      <td>9894.0</td>\n",
       "      <td>0.0</td>\n",
       "      <td>NaN</td>\n",
       "      <td>2.0</td>\n",
       "      <td>365.0</td>\n",
       "      <td>82.0</td>\n",
       "    </tr>\n",
       "    <tr>\n",
       "      <th>22100</th>\n",
       "      <td>9</td>\n",
       "      <td>8700000.0</td>\n",
       "      <td>81.4</td>\n",
       "      <td>2018-10-29</td>\n",
       "      <td>3</td>\n",
       "      <td>2.55</td>\n",
       "      <td>10</td>\n",
       "      <td>51.6</td>\n",
       "      <td>1</td>\n",
       "      <td>False</td>\n",
       "      <td>...</td>\n",
       "      <td>12.6</td>\n",
       "      <td>5.0</td>\n",
       "      <td>Санкт-Петербург</td>\n",
       "      <td>51236.0</td>\n",
       "      <td>14282.0</td>\n",
       "      <td>0.0</td>\n",
       "      <td>NaN</td>\n",
       "      <td>0.0</td>\n",
       "      <td>NaN</td>\n",
       "      <td>112.0</td>\n",
       "    </tr>\n",
       "    <tr>\n",
       "      <th>10174</th>\n",
       "      <td>16</td>\n",
       "      <td>5900000.0</td>\n",
       "      <td>82.0</td>\n",
       "      <td>2018-07-15</td>\n",
       "      <td>3</td>\n",
       "      <td>2.60</td>\n",
       "      <td>16</td>\n",
       "      <td>45.0</td>\n",
       "      <td>8</td>\n",
       "      <td>False</td>\n",
       "      <td>...</td>\n",
       "      <td>10.0</td>\n",
       "      <td>5.0</td>\n",
       "      <td>Санкт-Петербург</td>\n",
       "      <td>18867.0</td>\n",
       "      <td>22291.0</td>\n",
       "      <td>0.0</td>\n",
       "      <td>NaN</td>\n",
       "      <td>1.0</td>\n",
       "      <td>733.0</td>\n",
       "      <td>45.0</td>\n",
       "    </tr>\n",
       "  </tbody>\n",
       "</table>\n",
       "<p>10 rows × 22 columns</p>\n",
       "</div>"
      ],
      "text/plain": [
       "       total_images  last_price  total_area first_day_exposition  rooms  \\\n",
       "19004            16   7800000.0        69.0           2018-02-28      2   \n",
       "22223             8   6750000.0        54.0           2018-07-23      2   \n",
       "13091            20   8200000.0        64.0           2016-11-24      2   \n",
       "15136            15   4580000.0        46.6           2018-09-03      1   \n",
       "3006             16   4950000.0        70.0           2018-11-17      3   \n",
       "22086             5   4650000.0        57.5           2017-12-06      2   \n",
       "17383            12  10990000.0        69.0           2017-10-04      2   \n",
       "7433              7   6800000.0        68.0           2017-11-02      2   \n",
       "22100             9   8700000.0        81.4           2018-10-29      3   \n",
       "10174            16   5900000.0        82.0           2018-07-15      3   \n",
       "\n",
       "       ceiling_height  floors_total  living_area  floor  is_apartment  ...  \\\n",
       "19004            2.75            24         38.0     20         False  ...   \n",
       "22223            2.70            18         28.5     14         False  ...   \n",
       "13091            2.75            20         32.5      9         False  ...   \n",
       "15136            2.60            10         25.9      5         False  ...   \n",
       "3006             2.70            17         42.0      2         False  ...   \n",
       "22086            2.80            10         30.0      8         False  ...   \n",
       "17383            2.80            22         29.5      7         False  ...   \n",
       "7433             2.50             9         39.0      2         False  ...   \n",
       "22100            2.55            10         51.6      1         False  ...   \n",
       "10174            2.60            16         45.0      8         False  ...   \n",
       "\n",
       "       kitchen_area  balcony            locality_name  airports_nearest  \\\n",
       "19004          14.0      5.0          Санкт-Петербург           36553.0   \n",
       "22223          11.7      5.0          Санкт-Петербург           45929.0   \n",
       "13091          12.0      5.0          Санкт-Петербург            7659.0   \n",
       "15136           8.8      5.0          Санкт-Петербург           29354.0   \n",
       "3006            9.5      5.0  деревня Новое Девяткино               NaN   \n",
       "22086          12.0      5.0          Санкт-Петербург           26510.0   \n",
       "17383          17.5      5.0          Санкт-Петербург           44151.0   \n",
       "7433            9.0      5.0          Санкт-Петербург           28005.0   \n",
       "22100          12.6      5.0          Санкт-Петербург           51236.0   \n",
       "10174          10.0      5.0          Санкт-Петербург           18867.0   \n",
       "\n",
       "      city_сenters_nearest  parks_around_3000  parks_nearest  \\\n",
       "19004              14693.0                0.0            NaN   \n",
       "22223              18654.0                0.0            NaN   \n",
       "13091              13841.0                0.0            NaN   \n",
       "15136              11781.0                1.0          144.0   \n",
       "3006                   NaN                NaN            NaN   \n",
       "22086              14301.0                0.0            NaN   \n",
       "17383              13731.0                1.0          633.0   \n",
       "7433                9894.0                0.0            NaN   \n",
       "22100              14282.0                0.0            NaN   \n",
       "10174              22291.0                0.0            NaN   \n",
       "\n",
       "       ponds_around_3000  ponds_nearest  days_exposition  \n",
       "19004                0.0            NaN            312.0  \n",
       "22223                0.0            NaN             70.0  \n",
       "13091                0.0            NaN            194.0  \n",
       "15136                1.0          164.0             23.0  \n",
       "3006                 NaN            NaN             40.0  \n",
       "22086                0.0            NaN             72.0  \n",
       "17383                0.0            NaN            377.0  \n",
       "7433                 2.0          365.0             82.0  \n",
       "22100                0.0            NaN            112.0  \n",
       "10174                1.0          733.0             45.0  \n",
       "\n",
       "[10 rows x 22 columns]"
      ]
     },
     "execution_count": 35,
     "metadata": {},
     "output_type": "execute_result"
    }
   ],
   "source": [
    "data.sort_values(by='balcony', ascending=False).head(10)"
   ]
  },
  {
   "cell_type": "markdown",
   "metadata": {},
   "source": [
    "Скорее всего пропуски в данных связаны с тем, что человек, который их заполнял просто не указывал число балконов там где их нет. Поэтому пропущенные значения просто заменим на 0. После заменим тиа данных на **int64**."
   ]
  },
  {
   "cell_type": "code",
   "execution_count": 36,
   "metadata": {},
   "outputs": [
    {
     "data": {
      "text/plain": [
       "0"
      ]
     },
     "execution_count": 36,
     "metadata": {},
     "output_type": "execute_result"
    }
   ],
   "source": [
    "data['balcony'].fillna(0, inplace=True)\n",
    "data['balcony'].isna().sum() # Проверка того, что все пропущенные значения удалены"
   ]
  },
  {
   "cell_type": "code",
   "execution_count": 37,
   "metadata": {},
   "outputs": [
    {
     "name": "stdout",
     "output_type": "stream",
     "text": [
      "<class 'pandas.core.frame.DataFrame'>\n",
      "Int64Index: 23603 entries, 0 to 23698\n",
      "Data columns (total 22 columns):\n",
      " #   Column                Non-Null Count  Dtype         \n",
      "---  ------                --------------  -----         \n",
      " 0   total_images          23603 non-null  int64         \n",
      " 1   last_price            23603 non-null  float64       \n",
      " 2   total_area            23603 non-null  float64       \n",
      " 3   first_day_exposition  23603 non-null  datetime64[ns]\n",
      " 4   rooms                 23603 non-null  int64         \n",
      " 5   ceiling_height        23603 non-null  float64       \n",
      " 6   floors_total          23603 non-null  int64         \n",
      " 7   living_area           23603 non-null  float64       \n",
      " 8   floor                 23603 non-null  int64         \n",
      " 9   is_apartment          23603 non-null  bool          \n",
      " 10  studio                23603 non-null  bool          \n",
      " 11  open_plan             23603 non-null  bool          \n",
      " 12  kitchen_area          23603 non-null  float64       \n",
      " 13  balcony               23603 non-null  int64         \n",
      " 14  locality_name         23555 non-null  object        \n",
      " 15  airports_nearest      18073 non-null  float64       \n",
      " 16  city_сenters_nearest  18096 non-null  float64       \n",
      " 17  parks_around_3000     18097 non-null  float64       \n",
      " 18  parks_nearest         8041 non-null   float64       \n",
      " 19  ponds_around_3000     18097 non-null  float64       \n",
      " 20  ponds_nearest         9056 non-null   float64       \n",
      " 21  days_exposition       20431 non-null  float64       \n",
      "dtypes: bool(3), datetime64[ns](1), float64(12), int64(5), object(1)\n",
      "memory usage: 3.7+ MB\n"
     ]
    }
   ],
   "source": [
    "data['balcony'] = data['balcony'].astype('int')\n",
    "data.info() # Проверка того, что тип данных поменялся "
   ]
  },
  {
   "cell_type": "markdown",
   "metadata": {},
   "source": [
    "**locality_name** — Название населённого пункта. В этом столбце необходимо проверить данные на дупликаты и разобраться с пропусками в них. Эти пропуски нельзя предугадать, поэтому данные в которых не указан населенный пункт просто исключим из таблицы."
   ]
  },
  {
   "cell_type": "code",
   "execution_count": 38,
   "metadata": {},
   "outputs": [
    {
     "data": {
      "text/plain": [
       "0"
      ]
     },
     "execution_count": 38,
     "metadata": {},
     "output_type": "execute_result"
    }
   ],
   "source": [
    "data.dropna(subset=['locality_name'], inplace=True)\n",
    "data['locality_name'].isna().sum() # Проверка того, что все пропущенные значения удалены"
   ]
  },
  {
   "cell_type": "code",
   "execution_count": 39,
   "metadata": {},
   "outputs": [
    {
     "data": {
      "text/plain": [
       "364"
      ]
     },
     "execution_count": 39,
     "metadata": {},
     "output_type": "execute_result"
    }
   ],
   "source": [
    "data['locality_name'].value_counts().count()"
   ]
  },
  {
   "cell_type": "markdown",
   "metadata": {},
   "source": [
    "Найдем неявные дубликаты."
   ]
  },
  {
   "cell_type": "code",
   "execution_count": 40,
   "metadata": {},
   "outputs": [
    {
     "data": {
      "text/plain": [
       "array(['Санкт-Петербург', 'посeлок Шушары', 'городской посeлок Янино-1',\n",
       "       'посeлок Парголово', 'Мурино', 'Ломоносов', 'Сертолово',\n",
       "       'Петергоф', 'Пушкин', 'Кудрово', 'Коммунар', 'Колпино',\n",
       "       'поселок городского типа Красный Бор', 'Гатчина', 'поселок Мурино',\n",
       "       'деревня Фeдоровское', 'Выборг', 'Кронштадт', 'Кировск',\n",
       "       'деревня Новое Девяткино', 'посeлок Металлострой',\n",
       "       'поселок Лебяжье', 'поселок Сиверский', 'поселок Молодцово',\n",
       "       'поселок городского типа Кузьмоловский',\n",
       "       'садовое товарищество Новая Ропша', 'Павловск',\n",
       "       'деревня Пикколово', 'Всеволожск', 'Волхов', 'Кингисепп',\n",
       "       'Приозерск', 'Сестрорецк', 'деревня Куттузи', 'посeлок Аннино',\n",
       "       'поселок городского типа Ефимовский', 'посeлок Плодовое',\n",
       "       'деревня Заклинье', 'поселок Торковичи', 'поселок Первомайское',\n",
       "       'Красное Село', 'посeлок Понтонный', 'Сясьстрой', 'деревня Старая',\n",
       "       'деревня Лесколово', 'посeлок Новый Свет', 'Сланцы',\n",
       "       'село Путилово', 'Ивангород', 'Шлиссельбург', 'Никольское',\n",
       "       'Зеленогорск', 'Сосновый Бор', 'поселок Новый Свет',\n",
       "       'деревня Оржицы', 'деревня Кальтино', 'поселок Романовка',\n",
       "       'посeлок Бугры', 'поселок Бугры', 'поселок городского типа Рощино',\n",
       "       'Кириши', 'Луга', 'Волосово', 'Отрадное', 'село Павлово',\n",
       "       'поселок Оредеж', 'село Копорье', 'поселок Красный Бор',\n",
       "       'посeлок Молодeжное', 'Тихвин', 'посeлок Победа', 'деревня Нурма',\n",
       "       'поселок городского типа Синявино', 'Тосно',\n",
       "       'поселок Кузьмоловский', 'посeлок Стрельна', 'Бокситогорск',\n",
       "       'посeлок Александровская', 'деревня Лопухинка', 'Пикалeво',\n",
       "       'поселок Терволово', 'поселок городского типа Советский',\n",
       "       'Подпорожье', 'посeлок Петровское', 'поселок Токсово',\n",
       "       'поселок Сельцо', 'поселок Вырица', 'деревня Кипень',\n",
       "       'деревня Келози', 'деревня Вартемяги', 'посeлок Тельмана',\n",
       "       'поселок Севастьяново', 'поселок Большая Ижора',\n",
       "       'городской посeлок Павлово', 'деревня Агалатово',\n",
       "       'посeлок Новогорелово', 'городской посeлок Лесогорский',\n",
       "       'деревня Лаголово', 'поселок Цвелодубово',\n",
       "       'поселок городского типа Рахья', 'поселок городского типа Вырица',\n",
       "       'деревня Белогорка', 'поселок Заводской',\n",
       "       'городской посeлок Новоселье', 'деревня Большие Колпаны',\n",
       "       'деревня Горбунки', 'деревня Батово', 'деревня Заневка',\n",
       "       'деревня Иссад', 'Приморск', 'городской посeлок Фeдоровское',\n",
       "       'деревня Мистолово', 'Новая Ладога', 'поселок Зимитицы',\n",
       "       'поселок Барышево', 'деревня Разметелево',\n",
       "       'поселок городского типа имени Свердлова', 'деревня Пеники',\n",
       "       'поселок Рябово', 'деревня Пудомяги', 'поселок станции Корнево',\n",
       "       'деревня Низино', 'деревня Бегуницы', 'посeлок Поляны',\n",
       "       'городской посeлок Мга', 'поселок Елизаветино',\n",
       "       'поселок Кузнечное', 'деревня Колтуши', 'поселок Запорожское',\n",
       "       'поселок Рощино', 'деревня Гостилицы', 'деревня Малое Карлино',\n",
       "       'посeлок Мичуринское', 'поселок Морозова', 'посeлок Песочный',\n",
       "       'посeлок Сосново', 'деревня Аро', 'поселок Ильичeво',\n",
       "       'поселок Тайцы', 'деревня Малое Верево', 'деревня Извара',\n",
       "       'поселок станции Вещево', 'село Паша', 'деревня Калитино',\n",
       "       'поселок Ульяновка', 'деревня Чудской Бор',\n",
       "       'поселок городского типа Дубровка', 'деревня Мины',\n",
       "       'поселок Войсковицы', 'поселок Свердлова', 'деревня Коркино',\n",
       "       'посeлок Ропша', 'поселок городского типа Приладожский',\n",
       "       'посeлок Щеглово', 'посeлок Гаврилово', 'Лодейное Поле',\n",
       "       'деревня Рабитицы', 'поселок городского типа Никольский',\n",
       "       'деревня Кузьмолово', 'деревня Малые Колпаны', 'поселок Тельмана',\n",
       "       'посeлок Петро-Славянка', 'городской посeлок Назия',\n",
       "       'посeлок Репино', 'посeлок Ильичeво', 'поселок Углово',\n",
       "       'поселок Старая Малукса', 'садовое товарищество Рахья',\n",
       "       'поселок Аннино', 'поселок Победа', 'деревня Меньково',\n",
       "       'деревня Старые Бегуницы', 'посeлок Сапeрный', 'поселок Семрино',\n",
       "       'поселок Гаврилово', 'поселок Глажево', 'поселок Кобринское',\n",
       "       'деревня Гарболово', 'деревня Юкки',\n",
       "       'поселок станции Приветнинское', 'деревня Мануйлово',\n",
       "       'деревня Пчева', 'поселок Поляны', 'поселок Цвылeво',\n",
       "       'поселок Мельниково', 'посeлок Пудость', 'посeлок Усть-Луга',\n",
       "       'Светогорск', 'Любань', 'поселок Селезнeво',\n",
       "       'поселок городского типа Рябово', 'Каменногорск', 'деревня Кривко',\n",
       "       'поселок Глебычево', 'деревня Парицы', 'поселок Жилпосeлок',\n",
       "       'поселок Мга', 'поселок Янино-1', 'посeлок Войскорово',\n",
       "       'село Никольское', 'посeлок Терволово', 'поселок Стеклянный',\n",
       "       'поселок Важины', 'посeлок Мыза-Ивановка', 'село Русско-Высоцкое',\n",
       "       'поселок городского типа Лебяжье',\n",
       "       'поселок городского типа Форносово', 'село Старая Ладога',\n",
       "       'поселок Житково', 'городской посeлок Виллози', 'деревня Лампово',\n",
       "       'деревня Шпаньково', 'деревня Лаврики', 'посeлок Сумино',\n",
       "       'посeлок Возрождение', 'деревня Старосиверская',\n",
       "       'посeлок Кикерино', 'поселок Возрождение',\n",
       "       'деревня Старое Хинколово', 'посeлок Пригородный',\n",
       "       'посeлок Торфяное', 'городской посeлок Будогощь',\n",
       "       'поселок Суходолье', 'поселок Красная Долина', 'деревня Хапо-Ое',\n",
       "       'поселок городского типа Дружная Горка', 'поселок Лисий Нос',\n",
       "       'деревня Яльгелево', 'посeлок Стеклянный', 'село Рождествено',\n",
       "       'деревня Старополье', 'посeлок Левашово', 'деревня Сяськелево',\n",
       "       'деревня Камышовка', 'садовое товарищество Лесная Поляна',\n",
       "       'деревня Хязельки', 'поселок Жилгородок', 'поселок Павлово',\n",
       "       'деревня Ялгино', 'поселок Новый Учхоз',\n",
       "       'городской посeлок Рощино', 'поселок Гончарово', 'поселок Почап',\n",
       "       'посeлок Сапeрное', 'посeлок Платформа 69-й километр',\n",
       "       'поселок Каложицы', 'деревня Фалилеево', 'деревня Пельгора',\n",
       "       'поселок городского типа Лесогорский', 'деревня Торошковичи',\n",
       "       'посeлок Белоостров', 'посeлок Алексеевка', 'поселок Серебрянский',\n",
       "       'поселок Лукаши', 'поселок Петровское', 'деревня Щеглово',\n",
       "       'поселок Мичуринское', 'деревня Тарасово', 'поселок Кингисеппский',\n",
       "       'поселок Вещево', 'поселок Ушаки', 'деревня Котлы',\n",
       "       'деревня Сижно', 'деревня Торосово', 'посeлок Форт Красная Горка',\n",
       "       'деревня Новолисино', 'поселок Громово', 'деревня Глинка',\n",
       "       'посeлок Мельниково', 'поселок городского типа Назия',\n",
       "       'деревня Старая Пустошь', 'поселок Коммунары', 'поселок Починок',\n",
       "       'поселок Вознесенье', 'деревня Разбегаево', 'поселок Гладкое',\n",
       "       'поселок Приветнинское', 'поселок Тeсово-4', 'посeлок Жилгородок',\n",
       "       'деревня Бор', 'посeлок Коробицыно', 'деревня Большая Вруда',\n",
       "       'деревня Курковицы', 'посeлок Лисий Нос',\n",
       "       'городской посeлок Советский', 'посeлок Кобралово',\n",
       "       'деревня Суоранда', 'поселок Кобралово',\n",
       "       'поселок городского типа Кондратьево',\n",
       "       'коттеджный поселок Счастье', 'поселок Любань', 'деревня Реброво',\n",
       "       'деревня Зимитицы', 'деревня Тойворово', 'поселок Семиозерье',\n",
       "       'поселок Лесное', 'поселок Совхозный', 'поселок Усть-Луга',\n",
       "       'посeлок Ленинское', 'посeлок Суйда', 'поселок Форносово',\n",
       "       'деревня Нижние Осельки', 'поселок Свирь', 'поселок Перово',\n",
       "       'Высоцк', 'поселок Гарболово', 'село Шум', 'поселок Котельский',\n",
       "       'поселок станции Лужайка', 'деревня Большая Пустомержа',\n",
       "       'поселок Красносельское', 'деревня Вахнова Кара', 'деревня Пижма',\n",
       "       'коттеджный поселок Кивеннапа Север', 'поселок Коробицыно',\n",
       "       'поселок Ромашки', 'посeлок Перово', 'деревня Каськово',\n",
       "       'деревня Куровицы', 'посeлок Плоское', 'поселок Сумино',\n",
       "       'поселок городского типа Большая Ижора', 'поселок Кирпичное',\n",
       "       'деревня Ям-Тесово', 'деревня Раздолье', 'деревня Терпилицы',\n",
       "       'поселок городского типа Токсово', 'посeлок Шугозеро',\n",
       "       'деревня Ваганово', 'поселок Пушное', 'садовое товарищество Садко',\n",
       "       'посeлок Усть-Ижора', 'деревня Выскатка',\n",
       "       'городской посeлок Свирьстрой', 'деревня Кисельня',\n",
       "       'посeлок Старая Малукса', 'деревня Трубников Бор',\n",
       "       'поселок Калитино', 'посeлок Высокоключевой',\n",
       "       'садовое товарищество Приладожский',\n",
       "       'посeлок Пансионат Зелeный Бор', 'деревня Ненимяки',\n",
       "       'поселок Пансионат Зелeный Бор', 'деревня Снегирeвка',\n",
       "       'деревня Рапполово', 'деревня Пустынка', 'поселок Рабитицы',\n",
       "       'деревня Большой Сабск', 'деревня Русско', 'деревня Лупполово',\n",
       "       'деревня Большое Рейзино', 'деревня Малая Романовка',\n",
       "       'поселок Дружноселье', 'поселок Пчевжа', 'поселок Володарское',\n",
       "       'деревня Нижняя', 'деревня Тихковицы', 'деревня Борисова Грива',\n",
       "       'посeлок Дзержинского'], dtype=object)"
      ]
     },
     "execution_count": 40,
     "metadata": {},
     "output_type": "execute_result"
    }
   ],
   "source": [
    "data['locality_name'] = (\n",
    "    data['locality_name']\n",
    "    .str.replace('ё', 'e')\n",
    "    .replace('посeлок городского типа', 'поселок', regex=True)\n",
    "    .replace('городской поселок', 'поселок', regex=True)\n",
    "    .replace('посeлок Мурино', 'Мурино', regex=True)\n",
    "    .replace('деревня Кудрово', 'Кудрово', regex=True)\n",
    "    .replace('посeлок станции', 'поселок', regex=True)\n",
    "    .replace('садоводческое некоммерческое товарищество', 'садовое товарищество', regex=True)\n",
    "    .replace('посeлок при железнодорожной станции', 'поселок', regex=True)\n",
    "    .replace('посeлок при железнодорожной станции', 'поселок', regex=True)\n",
    "    .replace('коттеджный посeлок', 'поселок', regex=True)\n",
    "    .replace('поселок имени', 'поселок', regex=True)\n",
    "    )\n",
    "data['locality_name'].unique()"
   ]
  },
  {
   "cell_type": "markdown",
   "metadata": {},
   "source": [
    "Следующий столбец в которой мы рассмотрим это **days_exposition**."
   ]
  },
  {
   "cell_type": "code",
   "execution_count": 41,
   "metadata": {},
   "outputs": [
    {
     "data": {
      "text/html": [
       "<div>\n",
       "<style scoped>\n",
       "    .dataframe tbody tr th:only-of-type {\n",
       "        vertical-align: middle;\n",
       "    }\n",
       "\n",
       "    .dataframe tbody tr th {\n",
       "        vertical-align: top;\n",
       "    }\n",
       "\n",
       "    .dataframe thead th {\n",
       "        text-align: right;\n",
       "    }\n",
       "</style>\n",
       "<table border=\"1\" class=\"dataframe\">\n",
       "  <thead>\n",
       "    <tr style=\"text-align: right;\">\n",
       "      <th></th>\n",
       "      <th>days_exposition</th>\n",
       "    </tr>\n",
       "    <tr>\n",
       "      <th>first_day_exposition</th>\n",
       "      <th></th>\n",
       "    </tr>\n",
       "  </thead>\n",
       "  <tbody>\n",
       "    <tr>\n",
       "      <th>2014</th>\n",
       "      <td>118</td>\n",
       "    </tr>\n",
       "    <tr>\n",
       "      <th>2015</th>\n",
       "      <td>1095</td>\n",
       "    </tr>\n",
       "    <tr>\n",
       "      <th>2016</th>\n",
       "      <td>2677</td>\n",
       "    </tr>\n",
       "    <tr>\n",
       "      <th>2017</th>\n",
       "      <td>7887</td>\n",
       "    </tr>\n",
       "    <tr>\n",
       "      <th>2018</th>\n",
       "      <td>7524</td>\n",
       "    </tr>\n",
       "    <tr>\n",
       "      <th>2019</th>\n",
       "      <td>1083</td>\n",
       "    </tr>\n",
       "  </tbody>\n",
       "</table>\n",
       "</div>"
      ],
      "text/plain": [
       "                      days_exposition\n",
       "first_day_exposition                 \n",
       "2014                              118\n",
       "2015                             1095\n",
       "2016                             2677\n",
       "2017                             7887\n",
       "2018                             7524\n",
       "2019                             1083"
      ]
     },
     "execution_count": 41,
     "metadata": {},
     "output_type": "execute_result"
    }
   ],
   "source": [
    "data.pivot_table(index=data['first_day_exposition'].dt.year, values='days_exposition', aggfunc='count')"
   ]
  },
  {
   "cell_type": "code",
   "execution_count": 42,
   "metadata": {},
   "outputs": [
    {
     "data": {
      "text/html": [
       "<div>\n",
       "<style scoped>\n",
       "    .dataframe tbody tr th:only-of-type {\n",
       "        vertical-align: middle;\n",
       "    }\n",
       "\n",
       "    .dataframe tbody tr th {\n",
       "        vertical-align: top;\n",
       "    }\n",
       "\n",
       "    .dataframe thead th {\n",
       "        text-align: right;\n",
       "    }\n",
       "</style>\n",
       "<table border=\"1\" class=\"dataframe\">\n",
       "  <thead>\n",
       "    <tr style=\"text-align: right;\">\n",
       "      <th></th>\n",
       "      <th>total_images</th>\n",
       "      <th>last_price</th>\n",
       "      <th>total_area</th>\n",
       "      <th>first_day_exposition</th>\n",
       "      <th>rooms</th>\n",
       "      <th>ceiling_height</th>\n",
       "      <th>floors_total</th>\n",
       "      <th>living_area</th>\n",
       "      <th>floor</th>\n",
       "      <th>is_apartment</th>\n",
       "      <th>...</th>\n",
       "      <th>kitchen_area</th>\n",
       "      <th>balcony</th>\n",
       "      <th>locality_name</th>\n",
       "      <th>airports_nearest</th>\n",
       "      <th>city_сenters_nearest</th>\n",
       "      <th>parks_around_3000</th>\n",
       "      <th>parks_nearest</th>\n",
       "      <th>ponds_around_3000</th>\n",
       "      <th>ponds_nearest</th>\n",
       "      <th>days_exposition</th>\n",
       "    </tr>\n",
       "  </thead>\n",
       "  <tbody>\n",
       "    <tr>\n",
       "      <th>0</th>\n",
       "      <td>20</td>\n",
       "      <td>13000000.0</td>\n",
       "      <td>108.0</td>\n",
       "      <td>2019-03-07</td>\n",
       "      <td>3</td>\n",
       "      <td>2.70</td>\n",
       "      <td>16</td>\n",
       "      <td>51.000000</td>\n",
       "      <td>8</td>\n",
       "      <td>False</td>\n",
       "      <td>...</td>\n",
       "      <td>25.000000</td>\n",
       "      <td>0</td>\n",
       "      <td>Санкт-Петербург</td>\n",
       "      <td>18863.0</td>\n",
       "      <td>16028.0</td>\n",
       "      <td>1.0</td>\n",
       "      <td>482.0</td>\n",
       "      <td>2.0</td>\n",
       "      <td>755.0</td>\n",
       "      <td>NaN</td>\n",
       "    </tr>\n",
       "    <tr>\n",
       "      <th>7</th>\n",
       "      <td>5</td>\n",
       "      <td>7915000.0</td>\n",
       "      <td>71.6</td>\n",
       "      <td>2019-04-18</td>\n",
       "      <td>2</td>\n",
       "      <td>2.65</td>\n",
       "      <td>24</td>\n",
       "      <td>41.307692</td>\n",
       "      <td>22</td>\n",
       "      <td>False</td>\n",
       "      <td>...</td>\n",
       "      <td>18.900000</td>\n",
       "      <td>2</td>\n",
       "      <td>Санкт-Петербург</td>\n",
       "      <td>23982.0</td>\n",
       "      <td>11634.0</td>\n",
       "      <td>0.0</td>\n",
       "      <td>NaN</td>\n",
       "      <td>0.0</td>\n",
       "      <td>NaN</td>\n",
       "      <td>NaN</td>\n",
       "    </tr>\n",
       "    <tr>\n",
       "      <th>44</th>\n",
       "      <td>13</td>\n",
       "      <td>5350000.0</td>\n",
       "      <td>40.0</td>\n",
       "      <td>2018-11-18</td>\n",
       "      <td>1</td>\n",
       "      <td>2.65</td>\n",
       "      <td>22</td>\n",
       "      <td>23.076923</td>\n",
       "      <td>3</td>\n",
       "      <td>False</td>\n",
       "      <td>...</td>\n",
       "      <td>6.923077</td>\n",
       "      <td>1</td>\n",
       "      <td>Санкт-Петербург</td>\n",
       "      <td>30471.0</td>\n",
       "      <td>11603.0</td>\n",
       "      <td>1.0</td>\n",
       "      <td>620.0</td>\n",
       "      <td>1.0</td>\n",
       "      <td>1152.0</td>\n",
       "      <td>NaN</td>\n",
       "    </tr>\n",
       "    <tr>\n",
       "      <th>45</th>\n",
       "      <td>17</td>\n",
       "      <td>5200000.0</td>\n",
       "      <td>50.6</td>\n",
       "      <td>2018-12-02</td>\n",
       "      <td>2</td>\n",
       "      <td>2.65</td>\n",
       "      <td>9</td>\n",
       "      <td>30.300000</td>\n",
       "      <td>7</td>\n",
       "      <td>False</td>\n",
       "      <td>...</td>\n",
       "      <td>7.000000</td>\n",
       "      <td>0</td>\n",
       "      <td>Санкт-Петербург</td>\n",
       "      <td>30011.0</td>\n",
       "      <td>12872.0</td>\n",
       "      <td>0.0</td>\n",
       "      <td>NaN</td>\n",
       "      <td>0.0</td>\n",
       "      <td>NaN</td>\n",
       "      <td>NaN</td>\n",
       "    </tr>\n",
       "    <tr>\n",
       "      <th>46</th>\n",
       "      <td>17</td>\n",
       "      <td>6600000.0</td>\n",
       "      <td>52.1</td>\n",
       "      <td>2019-01-31</td>\n",
       "      <td>2</td>\n",
       "      <td>2.60</td>\n",
       "      <td>24</td>\n",
       "      <td>29.700000</td>\n",
       "      <td>9</td>\n",
       "      <td>False</td>\n",
       "      <td>...</td>\n",
       "      <td>8.300000</td>\n",
       "      <td>2</td>\n",
       "      <td>Санкт-Петербург</td>\n",
       "      <td>15114.0</td>\n",
       "      <td>12702.0</td>\n",
       "      <td>0.0</td>\n",
       "      <td>NaN</td>\n",
       "      <td>0.0</td>\n",
       "      <td>NaN</td>\n",
       "      <td>NaN</td>\n",
       "    </tr>\n",
       "    <tr>\n",
       "      <th>49</th>\n",
       "      <td>1</td>\n",
       "      <td>3050000.0</td>\n",
       "      <td>30.8</td>\n",
       "      <td>2018-11-22</td>\n",
       "      <td>1</td>\n",
       "      <td>2.50</td>\n",
       "      <td>9</td>\n",
       "      <td>18.000000</td>\n",
       "      <td>7</td>\n",
       "      <td>False</td>\n",
       "      <td>...</td>\n",
       "      <td>6.000000</td>\n",
       "      <td>0</td>\n",
       "      <td>Санкт-Петербург</td>\n",
       "      <td>45341.0</td>\n",
       "      <td>16603.0</td>\n",
       "      <td>1.0</td>\n",
       "      <td>675.0</td>\n",
       "      <td>0.0</td>\n",
       "      <td>NaN</td>\n",
       "      <td>NaN</td>\n",
       "    </tr>\n",
       "    <tr>\n",
       "      <th>52</th>\n",
       "      <td>20</td>\n",
       "      <td>11795000.0</td>\n",
       "      <td>136.0</td>\n",
       "      <td>2017-09-22</td>\n",
       "      <td>6</td>\n",
       "      <td>3.00</td>\n",
       "      <td>2</td>\n",
       "      <td>94.000000</td>\n",
       "      <td>2</td>\n",
       "      <td>False</td>\n",
       "      <td>...</td>\n",
       "      <td>11.000000</td>\n",
       "      <td>1</td>\n",
       "      <td>Санкт-Петербург</td>\n",
       "      <td>16510.0</td>\n",
       "      <td>6582.0</td>\n",
       "      <td>1.0</td>\n",
       "      <td>526.0</td>\n",
       "      <td>0.0</td>\n",
       "      <td>NaN</td>\n",
       "      <td>NaN</td>\n",
       "    </tr>\n",
       "    <tr>\n",
       "      <th>71</th>\n",
       "      <td>20</td>\n",
       "      <td>4850000.0</td>\n",
       "      <td>57.5</td>\n",
       "      <td>2019-03-27</td>\n",
       "      <td>3</td>\n",
       "      <td>2.50</td>\n",
       "      <td>9</td>\n",
       "      <td>39.000000</td>\n",
       "      <td>8</td>\n",
       "      <td>False</td>\n",
       "      <td>...</td>\n",
       "      <td>6.200000</td>\n",
       "      <td>0</td>\n",
       "      <td>Санкт-Петербург</td>\n",
       "      <td>33623.0</td>\n",
       "      <td>12267.0</td>\n",
       "      <td>1.0</td>\n",
       "      <td>334.0</td>\n",
       "      <td>1.0</td>\n",
       "      <td>333.0</td>\n",
       "      <td>NaN</td>\n",
       "    </tr>\n",
       "    <tr>\n",
       "      <th>81</th>\n",
       "      <td>9</td>\n",
       "      <td>10949000.0</td>\n",
       "      <td>68.0</td>\n",
       "      <td>2018-12-27</td>\n",
       "      <td>1</td>\n",
       "      <td>2.65</td>\n",
       "      <td>10</td>\n",
       "      <td>39.230769</td>\n",
       "      <td>6</td>\n",
       "      <td>False</td>\n",
       "      <td>...</td>\n",
       "      <td>11.769231</td>\n",
       "      <td>0</td>\n",
       "      <td>Санкт-Петербург</td>\n",
       "      <td>NaN</td>\n",
       "      <td>NaN</td>\n",
       "      <td>NaN</td>\n",
       "      <td>NaN</td>\n",
       "      <td>NaN</td>\n",
       "      <td>NaN</td>\n",
       "      <td>NaN</td>\n",
       "    </tr>\n",
       "    <tr>\n",
       "      <th>84</th>\n",
       "      <td>11</td>\n",
       "      <td>2400000.0</td>\n",
       "      <td>43.9</td>\n",
       "      <td>2019-03-13</td>\n",
       "      <td>2</td>\n",
       "      <td>2.65</td>\n",
       "      <td>2</td>\n",
       "      <td>27.460000</td>\n",
       "      <td>1</td>\n",
       "      <td>False</td>\n",
       "      <td>...</td>\n",
       "      <td>5.200000</td>\n",
       "      <td>0</td>\n",
       "      <td>Кировск</td>\n",
       "      <td>NaN</td>\n",
       "      <td>NaN</td>\n",
       "      <td>NaN</td>\n",
       "      <td>NaN</td>\n",
       "      <td>NaN</td>\n",
       "      <td>NaN</td>\n",
       "      <td>NaN</td>\n",
       "    </tr>\n",
       "  </tbody>\n",
       "</table>\n",
       "<p>10 rows × 22 columns</p>\n",
       "</div>"
      ],
      "text/plain": [
       "    total_images  last_price  total_area first_day_exposition  rooms  \\\n",
       "0             20  13000000.0       108.0           2019-03-07      3   \n",
       "7              5   7915000.0        71.6           2019-04-18      2   \n",
       "44            13   5350000.0        40.0           2018-11-18      1   \n",
       "45            17   5200000.0        50.6           2018-12-02      2   \n",
       "46            17   6600000.0        52.1           2019-01-31      2   \n",
       "49             1   3050000.0        30.8           2018-11-22      1   \n",
       "52            20  11795000.0       136.0           2017-09-22      6   \n",
       "71            20   4850000.0        57.5           2019-03-27      3   \n",
       "81             9  10949000.0        68.0           2018-12-27      1   \n",
       "84            11   2400000.0        43.9           2019-03-13      2   \n",
       "\n",
       "    ceiling_height  floors_total  living_area  floor  is_apartment  ...  \\\n",
       "0             2.70            16    51.000000      8         False  ...   \n",
       "7             2.65            24    41.307692     22         False  ...   \n",
       "44            2.65            22    23.076923      3         False  ...   \n",
       "45            2.65             9    30.300000      7         False  ...   \n",
       "46            2.60            24    29.700000      9         False  ...   \n",
       "49            2.50             9    18.000000      7         False  ...   \n",
       "52            3.00             2    94.000000      2         False  ...   \n",
       "71            2.50             9    39.000000      8         False  ...   \n",
       "81            2.65            10    39.230769      6         False  ...   \n",
       "84            2.65             2    27.460000      1         False  ...   \n",
       "\n",
       "    kitchen_area  balcony    locality_name  airports_nearest  \\\n",
       "0      25.000000        0  Санкт-Петербург           18863.0   \n",
       "7      18.900000        2  Санкт-Петербург           23982.0   \n",
       "44      6.923077        1  Санкт-Петербург           30471.0   \n",
       "45      7.000000        0  Санкт-Петербург           30011.0   \n",
       "46      8.300000        2  Санкт-Петербург           15114.0   \n",
       "49      6.000000        0  Санкт-Петербург           45341.0   \n",
       "52     11.000000        1  Санкт-Петербург           16510.0   \n",
       "71      6.200000        0  Санкт-Петербург           33623.0   \n",
       "81     11.769231        0  Санкт-Петербург               NaN   \n",
       "84      5.200000        0          Кировск               NaN   \n",
       "\n",
       "   city_сenters_nearest  parks_around_3000  parks_nearest  ponds_around_3000  \\\n",
       "0               16028.0                1.0          482.0                2.0   \n",
       "7               11634.0                0.0            NaN                0.0   \n",
       "44              11603.0                1.0          620.0                1.0   \n",
       "45              12872.0                0.0            NaN                0.0   \n",
       "46              12702.0                0.0            NaN                0.0   \n",
       "49              16603.0                1.0          675.0                0.0   \n",
       "52               6582.0                1.0          526.0                0.0   \n",
       "71              12267.0                1.0          334.0                1.0   \n",
       "81                  NaN                NaN            NaN                NaN   \n",
       "84                  NaN                NaN            NaN                NaN   \n",
       "\n",
       "    ponds_nearest  days_exposition  \n",
       "0           755.0              NaN  \n",
       "7             NaN              NaN  \n",
       "44         1152.0              NaN  \n",
       "45            NaN              NaN  \n",
       "46            NaN              NaN  \n",
       "49            NaN              NaN  \n",
       "52            NaN              NaN  \n",
       "71          333.0              NaN  \n",
       "81            NaN              NaN  \n",
       "84            NaN              NaN  \n",
       "\n",
       "[10 rows x 22 columns]"
      ]
     },
     "execution_count": 42,
     "metadata": {},
     "output_type": "execute_result"
    }
   ],
   "source": [
    "data[data['days_exposition'].isna()].head(10)"
   ]
  },
  {
   "cell_type": "code",
   "execution_count": 43,
   "metadata": {},
   "outputs": [
    {
     "data": {
      "text/plain": [
       "3171"
      ]
     },
     "execution_count": 43,
     "metadata": {},
     "output_type": "execute_result"
    }
   ],
   "source": [
    "data['days_exposition'].isna().sum()"
   ]
  },
  {
   "cell_type": "code",
   "execution_count": 44,
   "metadata": {},
   "outputs": [
    {
     "data": {
      "text/plain": [
       "0.13380311405544537"
      ]
     },
     "execution_count": 44,
     "metadata": {},
     "output_type": "execute_result"
    }
   ],
   "source": [
    "data['days_exposition'].isna().sum() / data_before_treatments"
   ]
  },
  {
   "cell_type": "markdown",
   "metadata": {},
   "source": [
    "Столбец **days_exposition** является достаточно важным столбцом для нашего исследования, но никакой зависимости пропусков с другими данными увидеть не удалось. Пропущенные данные составляют около **13%** от общего объема данных.\n",
    "Так же не удастся заполнить пропуски в столбцах **parks_around_3000** и **ponds_around_3000**, так как невозможно выяснить чем должны быть заполнены пропуски."
   ]
  },
  {
   "cell_type": "code",
   "execution_count": 45,
   "metadata": {},
   "outputs": [
    {
     "name": "stdout",
     "output_type": "stream",
     "text": [
      "<class 'pandas.core.frame.DataFrame'>\n",
      "Int64Index: 23555 entries, 0 to 23698\n",
      "Data columns (total 22 columns):\n",
      " #   Column                Non-Null Count  Dtype         \n",
      "---  ------                --------------  -----         \n",
      " 0   total_images          23555 non-null  int64         \n",
      " 1   last_price            23555 non-null  float64       \n",
      " 2   total_area            23555 non-null  float64       \n",
      " 3   first_day_exposition  23555 non-null  datetime64[ns]\n",
      " 4   rooms                 23555 non-null  int64         \n",
      " 5   ceiling_height        23555 non-null  float64       \n",
      " 6   floors_total          23555 non-null  int64         \n",
      " 7   living_area           23555 non-null  float64       \n",
      " 8   floor                 23555 non-null  int64         \n",
      " 9   is_apartment          23555 non-null  bool          \n",
      " 10  studio                23555 non-null  bool          \n",
      " 11  open_plan             23555 non-null  bool          \n",
      " 12  kitchen_area          23555 non-null  float64       \n",
      " 13  balcony               23555 non-null  int64         \n",
      " 14  locality_name         23555 non-null  object        \n",
      " 15  airports_nearest      18033 non-null  float64       \n",
      " 16  city_сenters_nearest  18056 non-null  float64       \n",
      " 17  parks_around_3000     18057 non-null  float64       \n",
      " 18  parks_nearest         8026 non-null   float64       \n",
      " 19  ponds_around_3000     18057 non-null  float64       \n",
      " 20  ponds_nearest         9031 non-null   float64       \n",
      " 21  days_exposition       20384 non-null  float64       \n",
      "dtypes: bool(3), datetime64[ns](1), float64(12), int64(5), object(1)\n",
      "memory usage: 3.7+ MB\n"
     ]
    }
   ],
   "source": [
    "data.info()"
   ]
  },
  {
   "cell_type": "markdown",
   "metadata": {},
   "source": [
    "На этом с предобработкой данных окончено. Проверим какой процент данных мы отфильтровали во время предобработки."
   ]
  },
  {
   "cell_type": "code",
   "execution_count": 46,
   "metadata": {},
   "outputs": [
    {
     "data": {
      "text/plain": [
       "0.006076205747077901"
      ]
     },
     "execution_count": 46,
     "metadata": {},
     "output_type": "execute_result"
    }
   ],
   "source": [
    "1 - data.shape[0] / data_before_treatments"
   ]
  },
  {
   "cell_type": "markdown",
   "metadata": {},
   "source": [
    "Отлично, мы потеряли мене **1%** данных."
   ]
  },
  {
   "cell_type": "markdown",
   "metadata": {},
   "source": [
    "### Посчитайте и добавьте в таблицу новые столбцы"
   ]
  },
  {
   "cell_type": "markdown",
   "metadata": {},
   "source": [
    "#### Рассчет цены за квадратный метр.\n",
    "\n",
    "Необходимо рассчитать и добавить в таблицу столбец в котором будет храниться стоимость одного квадратного метра."
   ]
  },
  {
   "cell_type": "code",
   "execution_count": 47,
   "metadata": {},
   "outputs": [
    {
     "data": {
      "text/html": [
       "<div>\n",
       "<style scoped>\n",
       "    .dataframe tbody tr th:only-of-type {\n",
       "        vertical-align: middle;\n",
       "    }\n",
       "\n",
       "    .dataframe tbody tr th {\n",
       "        vertical-align: top;\n",
       "    }\n",
       "\n",
       "    .dataframe thead th {\n",
       "        text-align: right;\n",
       "    }\n",
       "</style>\n",
       "<table border=\"1\" class=\"dataframe\">\n",
       "  <thead>\n",
       "    <tr style=\"text-align: right;\">\n",
       "      <th></th>\n",
       "      <th>total_images</th>\n",
       "      <th>last_price</th>\n",
       "      <th>total_area</th>\n",
       "      <th>first_day_exposition</th>\n",
       "      <th>rooms</th>\n",
       "      <th>ceiling_height</th>\n",
       "      <th>floors_total</th>\n",
       "      <th>living_area</th>\n",
       "      <th>floor</th>\n",
       "      <th>is_apartment</th>\n",
       "      <th>...</th>\n",
       "      <th>balcony</th>\n",
       "      <th>locality_name</th>\n",
       "      <th>airports_nearest</th>\n",
       "      <th>city_сenters_nearest</th>\n",
       "      <th>parks_around_3000</th>\n",
       "      <th>parks_nearest</th>\n",
       "      <th>ponds_around_3000</th>\n",
       "      <th>ponds_nearest</th>\n",
       "      <th>days_exposition</th>\n",
       "      <th>price_per_square_meter</th>\n",
       "    </tr>\n",
       "  </thead>\n",
       "  <tbody>\n",
       "    <tr>\n",
       "      <th>0</th>\n",
       "      <td>20</td>\n",
       "      <td>13000000.0</td>\n",
       "      <td>108.0</td>\n",
       "      <td>2019-03-07</td>\n",
       "      <td>3</td>\n",
       "      <td>2.70</td>\n",
       "      <td>16</td>\n",
       "      <td>51.000000</td>\n",
       "      <td>8</td>\n",
       "      <td>False</td>\n",
       "      <td>...</td>\n",
       "      <td>0</td>\n",
       "      <td>Санкт-Петербург</td>\n",
       "      <td>18863.0</td>\n",
       "      <td>16028.0</td>\n",
       "      <td>1.0</td>\n",
       "      <td>482.0</td>\n",
       "      <td>2.0</td>\n",
       "      <td>755.0</td>\n",
       "      <td>NaN</td>\n",
       "      <td>120370.37</td>\n",
       "    </tr>\n",
       "    <tr>\n",
       "      <th>1</th>\n",
       "      <td>7</td>\n",
       "      <td>3350000.0</td>\n",
       "      <td>40.4</td>\n",
       "      <td>2018-12-04</td>\n",
       "      <td>1</td>\n",
       "      <td>2.65</td>\n",
       "      <td>11</td>\n",
       "      <td>18.600000</td>\n",
       "      <td>1</td>\n",
       "      <td>False</td>\n",
       "      <td>...</td>\n",
       "      <td>2</td>\n",
       "      <td>посeлок Шушары</td>\n",
       "      <td>12817.0</td>\n",
       "      <td>18603.0</td>\n",
       "      <td>0.0</td>\n",
       "      <td>NaN</td>\n",
       "      <td>0.0</td>\n",
       "      <td>NaN</td>\n",
       "      <td>81.0</td>\n",
       "      <td>82920.79</td>\n",
       "    </tr>\n",
       "    <tr>\n",
       "      <th>2</th>\n",
       "      <td>10</td>\n",
       "      <td>5196000.0</td>\n",
       "      <td>56.0</td>\n",
       "      <td>2015-08-20</td>\n",
       "      <td>2</td>\n",
       "      <td>2.65</td>\n",
       "      <td>5</td>\n",
       "      <td>34.300000</td>\n",
       "      <td>4</td>\n",
       "      <td>False</td>\n",
       "      <td>...</td>\n",
       "      <td>0</td>\n",
       "      <td>Санкт-Петербург</td>\n",
       "      <td>21741.0</td>\n",
       "      <td>13933.0</td>\n",
       "      <td>1.0</td>\n",
       "      <td>90.0</td>\n",
       "      <td>2.0</td>\n",
       "      <td>574.0</td>\n",
       "      <td>558.0</td>\n",
       "      <td>92785.71</td>\n",
       "    </tr>\n",
       "    <tr>\n",
       "      <th>3</th>\n",
       "      <td>0</td>\n",
       "      <td>64900000.0</td>\n",
       "      <td>159.0</td>\n",
       "      <td>2015-07-24</td>\n",
       "      <td>3</td>\n",
       "      <td>2.65</td>\n",
       "      <td>14</td>\n",
       "      <td>91.730769</td>\n",
       "      <td>9</td>\n",
       "      <td>False</td>\n",
       "      <td>...</td>\n",
       "      <td>0</td>\n",
       "      <td>Санкт-Петербург</td>\n",
       "      <td>28098.0</td>\n",
       "      <td>6800.0</td>\n",
       "      <td>2.0</td>\n",
       "      <td>84.0</td>\n",
       "      <td>3.0</td>\n",
       "      <td>234.0</td>\n",
       "      <td>424.0</td>\n",
       "      <td>408176.10</td>\n",
       "    </tr>\n",
       "    <tr>\n",
       "      <th>4</th>\n",
       "      <td>2</td>\n",
       "      <td>10000000.0</td>\n",
       "      <td>100.0</td>\n",
       "      <td>2018-06-19</td>\n",
       "      <td>2</td>\n",
       "      <td>3.03</td>\n",
       "      <td>14</td>\n",
       "      <td>32.000000</td>\n",
       "      <td>13</td>\n",
       "      <td>False</td>\n",
       "      <td>...</td>\n",
       "      <td>0</td>\n",
       "      <td>Санкт-Петербург</td>\n",
       "      <td>31856.0</td>\n",
       "      <td>8098.0</td>\n",
       "      <td>2.0</td>\n",
       "      <td>112.0</td>\n",
       "      <td>1.0</td>\n",
       "      <td>48.0</td>\n",
       "      <td>121.0</td>\n",
       "      <td>100000.00</td>\n",
       "    </tr>\n",
       "  </tbody>\n",
       "</table>\n",
       "<p>5 rows × 23 columns</p>\n",
       "</div>"
      ],
      "text/plain": [
       "   total_images  last_price  total_area first_day_exposition  rooms  \\\n",
       "0            20  13000000.0       108.0           2019-03-07      3   \n",
       "1             7   3350000.0        40.4           2018-12-04      1   \n",
       "2            10   5196000.0        56.0           2015-08-20      2   \n",
       "3             0  64900000.0       159.0           2015-07-24      3   \n",
       "4             2  10000000.0       100.0           2018-06-19      2   \n",
       "\n",
       "   ceiling_height  floors_total  living_area  floor  is_apartment  ...  \\\n",
       "0            2.70            16    51.000000      8         False  ...   \n",
       "1            2.65            11    18.600000      1         False  ...   \n",
       "2            2.65             5    34.300000      4         False  ...   \n",
       "3            2.65            14    91.730769      9         False  ...   \n",
       "4            3.03            14    32.000000     13         False  ...   \n",
       "\n",
       "   balcony    locality_name  airports_nearest  city_сenters_nearest  \\\n",
       "0        0  Санкт-Петербург           18863.0               16028.0   \n",
       "1        2   посeлок Шушары           12817.0               18603.0   \n",
       "2        0  Санкт-Петербург           21741.0               13933.0   \n",
       "3        0  Санкт-Петербург           28098.0                6800.0   \n",
       "4        0  Санкт-Петербург           31856.0                8098.0   \n",
       "\n",
       "  parks_around_3000  parks_nearest  ponds_around_3000  ponds_nearest  \\\n",
       "0               1.0          482.0                2.0          755.0   \n",
       "1               0.0            NaN                0.0            NaN   \n",
       "2               1.0           90.0                2.0          574.0   \n",
       "3               2.0           84.0                3.0          234.0   \n",
       "4               2.0          112.0                1.0           48.0   \n",
       "\n",
       "   days_exposition  price_per_square_meter  \n",
       "0              NaN               120370.37  \n",
       "1             81.0                82920.79  \n",
       "2            558.0                92785.71  \n",
       "3            424.0               408176.10  \n",
       "4            121.0               100000.00  \n",
       "\n",
       "[5 rows x 23 columns]"
      ]
     },
     "execution_count": 47,
     "metadata": {},
     "output_type": "execute_result"
    }
   ],
   "source": [
    "data['price_per_square_meter'] = data['last_price'] / data['total_area']\n",
    "data['price_per_square_meter'] = data['price_per_square_meter'].round(2)\n",
    "data.head()"
   ]
  },
  {
   "cell_type": "markdown",
   "metadata": {},
   "source": [
    "#### Нахождения дня недели, когда было опубликовано объявление.\n",
    "\n",
    "Необходимо определить день недели в который было опубликовано объявление о продаже. Дни недели начинаются с 0, т.е. 0 - понедельник, 1 - вторник и т.д.  "
   ]
  },
  {
   "cell_type": "code",
   "execution_count": 48,
   "metadata": {},
   "outputs": [
    {
     "data": {
      "text/html": [
       "<div>\n",
       "<style scoped>\n",
       "    .dataframe tbody tr th:only-of-type {\n",
       "        vertical-align: middle;\n",
       "    }\n",
       "\n",
       "    .dataframe tbody tr th {\n",
       "        vertical-align: top;\n",
       "    }\n",
       "\n",
       "    .dataframe thead th {\n",
       "        text-align: right;\n",
       "    }\n",
       "</style>\n",
       "<table border=\"1\" class=\"dataframe\">\n",
       "  <thead>\n",
       "    <tr style=\"text-align: right;\">\n",
       "      <th></th>\n",
       "      <th>total_images</th>\n",
       "      <th>last_price</th>\n",
       "      <th>total_area</th>\n",
       "      <th>first_day_exposition</th>\n",
       "      <th>rooms</th>\n",
       "      <th>ceiling_height</th>\n",
       "      <th>floors_total</th>\n",
       "      <th>living_area</th>\n",
       "      <th>floor</th>\n",
       "      <th>is_apartment</th>\n",
       "      <th>...</th>\n",
       "      <th>locality_name</th>\n",
       "      <th>airports_nearest</th>\n",
       "      <th>city_сenters_nearest</th>\n",
       "      <th>parks_around_3000</th>\n",
       "      <th>parks_nearest</th>\n",
       "      <th>ponds_around_3000</th>\n",
       "      <th>ponds_nearest</th>\n",
       "      <th>days_exposition</th>\n",
       "      <th>price_per_square_meter</th>\n",
       "      <th>weekday_exposition</th>\n",
       "    </tr>\n",
       "  </thead>\n",
       "  <tbody>\n",
       "    <tr>\n",
       "      <th>0</th>\n",
       "      <td>20</td>\n",
       "      <td>13000000.0</td>\n",
       "      <td>108.0</td>\n",
       "      <td>2019-03-07</td>\n",
       "      <td>3</td>\n",
       "      <td>2.70</td>\n",
       "      <td>16</td>\n",
       "      <td>51.000000</td>\n",
       "      <td>8</td>\n",
       "      <td>False</td>\n",
       "      <td>...</td>\n",
       "      <td>Санкт-Петербург</td>\n",
       "      <td>18863.0</td>\n",
       "      <td>16028.0</td>\n",
       "      <td>1.0</td>\n",
       "      <td>482.0</td>\n",
       "      <td>2.0</td>\n",
       "      <td>755.0</td>\n",
       "      <td>NaN</td>\n",
       "      <td>120370.37</td>\n",
       "      <td>3</td>\n",
       "    </tr>\n",
       "    <tr>\n",
       "      <th>1</th>\n",
       "      <td>7</td>\n",
       "      <td>3350000.0</td>\n",
       "      <td>40.4</td>\n",
       "      <td>2018-12-04</td>\n",
       "      <td>1</td>\n",
       "      <td>2.65</td>\n",
       "      <td>11</td>\n",
       "      <td>18.600000</td>\n",
       "      <td>1</td>\n",
       "      <td>False</td>\n",
       "      <td>...</td>\n",
       "      <td>посeлок Шушары</td>\n",
       "      <td>12817.0</td>\n",
       "      <td>18603.0</td>\n",
       "      <td>0.0</td>\n",
       "      <td>NaN</td>\n",
       "      <td>0.0</td>\n",
       "      <td>NaN</td>\n",
       "      <td>81.0</td>\n",
       "      <td>82920.79</td>\n",
       "      <td>1</td>\n",
       "    </tr>\n",
       "    <tr>\n",
       "      <th>2</th>\n",
       "      <td>10</td>\n",
       "      <td>5196000.0</td>\n",
       "      <td>56.0</td>\n",
       "      <td>2015-08-20</td>\n",
       "      <td>2</td>\n",
       "      <td>2.65</td>\n",
       "      <td>5</td>\n",
       "      <td>34.300000</td>\n",
       "      <td>4</td>\n",
       "      <td>False</td>\n",
       "      <td>...</td>\n",
       "      <td>Санкт-Петербург</td>\n",
       "      <td>21741.0</td>\n",
       "      <td>13933.0</td>\n",
       "      <td>1.0</td>\n",
       "      <td>90.0</td>\n",
       "      <td>2.0</td>\n",
       "      <td>574.0</td>\n",
       "      <td>558.0</td>\n",
       "      <td>92785.71</td>\n",
       "      <td>3</td>\n",
       "    </tr>\n",
       "    <tr>\n",
       "      <th>3</th>\n",
       "      <td>0</td>\n",
       "      <td>64900000.0</td>\n",
       "      <td>159.0</td>\n",
       "      <td>2015-07-24</td>\n",
       "      <td>3</td>\n",
       "      <td>2.65</td>\n",
       "      <td>14</td>\n",
       "      <td>91.730769</td>\n",
       "      <td>9</td>\n",
       "      <td>False</td>\n",
       "      <td>...</td>\n",
       "      <td>Санкт-Петербург</td>\n",
       "      <td>28098.0</td>\n",
       "      <td>6800.0</td>\n",
       "      <td>2.0</td>\n",
       "      <td>84.0</td>\n",
       "      <td>3.0</td>\n",
       "      <td>234.0</td>\n",
       "      <td>424.0</td>\n",
       "      <td>408176.10</td>\n",
       "      <td>4</td>\n",
       "    </tr>\n",
       "    <tr>\n",
       "      <th>4</th>\n",
       "      <td>2</td>\n",
       "      <td>10000000.0</td>\n",
       "      <td>100.0</td>\n",
       "      <td>2018-06-19</td>\n",
       "      <td>2</td>\n",
       "      <td>3.03</td>\n",
       "      <td>14</td>\n",
       "      <td>32.000000</td>\n",
       "      <td>13</td>\n",
       "      <td>False</td>\n",
       "      <td>...</td>\n",
       "      <td>Санкт-Петербург</td>\n",
       "      <td>31856.0</td>\n",
       "      <td>8098.0</td>\n",
       "      <td>2.0</td>\n",
       "      <td>112.0</td>\n",
       "      <td>1.0</td>\n",
       "      <td>48.0</td>\n",
       "      <td>121.0</td>\n",
       "      <td>100000.00</td>\n",
       "      <td>1</td>\n",
       "    </tr>\n",
       "  </tbody>\n",
       "</table>\n",
       "<p>5 rows × 24 columns</p>\n",
       "</div>"
      ],
      "text/plain": [
       "   total_images  last_price  total_area first_day_exposition  rooms  \\\n",
       "0            20  13000000.0       108.0           2019-03-07      3   \n",
       "1             7   3350000.0        40.4           2018-12-04      1   \n",
       "2            10   5196000.0        56.0           2015-08-20      2   \n",
       "3             0  64900000.0       159.0           2015-07-24      3   \n",
       "4             2  10000000.0       100.0           2018-06-19      2   \n",
       "\n",
       "   ceiling_height  floors_total  living_area  floor  is_apartment  ...  \\\n",
       "0            2.70            16    51.000000      8         False  ...   \n",
       "1            2.65            11    18.600000      1         False  ...   \n",
       "2            2.65             5    34.300000      4         False  ...   \n",
       "3            2.65            14    91.730769      9         False  ...   \n",
       "4            3.03            14    32.000000     13         False  ...   \n",
       "\n",
       "     locality_name  airports_nearest  city_сenters_nearest  parks_around_3000  \\\n",
       "0  Санкт-Петербург           18863.0               16028.0                1.0   \n",
       "1   посeлок Шушары           12817.0               18603.0                0.0   \n",
       "2  Санкт-Петербург           21741.0               13933.0                1.0   \n",
       "3  Санкт-Петербург           28098.0                6800.0                2.0   \n",
       "4  Санкт-Петербург           31856.0                8098.0                2.0   \n",
       "\n",
       "  parks_nearest  ponds_around_3000  ponds_nearest  days_exposition  \\\n",
       "0         482.0                2.0          755.0              NaN   \n",
       "1           NaN                0.0            NaN             81.0   \n",
       "2          90.0                2.0          574.0            558.0   \n",
       "3          84.0                3.0          234.0            424.0   \n",
       "4         112.0                1.0           48.0            121.0   \n",
       "\n",
       "   price_per_square_meter  weekday_exposition  \n",
       "0               120370.37                   3  \n",
       "1                82920.79                   1  \n",
       "2                92785.71                   3  \n",
       "3               408176.10                   4  \n",
       "4               100000.00                   1  \n",
       "\n",
       "[5 rows x 24 columns]"
      ]
     },
     "execution_count": 48,
     "metadata": {},
     "output_type": "execute_result"
    }
   ],
   "source": [
    "data['weekday_exposition'] = data['first_day_exposition'].dt.weekday\n",
    "data.head()"
   ]
  },
  {
   "cell_type": "markdown",
   "metadata": {},
   "source": [
    "#### Определения месяца, когда было опубликовано объявление.\n",
    "\n",
    "Необходимо добавить столбец в котором будет записан месяц в который было опублтиковано объявление о продаже."
   ]
  },
  {
   "cell_type": "code",
   "execution_count": 49,
   "metadata": {},
   "outputs": [
    {
     "data": {
      "text/html": [
       "<div>\n",
       "<style scoped>\n",
       "    .dataframe tbody tr th:only-of-type {\n",
       "        vertical-align: middle;\n",
       "    }\n",
       "\n",
       "    .dataframe tbody tr th {\n",
       "        vertical-align: top;\n",
       "    }\n",
       "\n",
       "    .dataframe thead th {\n",
       "        text-align: right;\n",
       "    }\n",
       "</style>\n",
       "<table border=\"1\" class=\"dataframe\">\n",
       "  <thead>\n",
       "    <tr style=\"text-align: right;\">\n",
       "      <th></th>\n",
       "      <th>total_images</th>\n",
       "      <th>last_price</th>\n",
       "      <th>total_area</th>\n",
       "      <th>first_day_exposition</th>\n",
       "      <th>rooms</th>\n",
       "      <th>ceiling_height</th>\n",
       "      <th>floors_total</th>\n",
       "      <th>living_area</th>\n",
       "      <th>floor</th>\n",
       "      <th>is_apartment</th>\n",
       "      <th>...</th>\n",
       "      <th>airports_nearest</th>\n",
       "      <th>city_сenters_nearest</th>\n",
       "      <th>parks_around_3000</th>\n",
       "      <th>parks_nearest</th>\n",
       "      <th>ponds_around_3000</th>\n",
       "      <th>ponds_nearest</th>\n",
       "      <th>days_exposition</th>\n",
       "      <th>price_per_square_meter</th>\n",
       "      <th>weekday_exposition</th>\n",
       "      <th>month_exposition</th>\n",
       "    </tr>\n",
       "  </thead>\n",
       "  <tbody>\n",
       "    <tr>\n",
       "      <th>0</th>\n",
       "      <td>20</td>\n",
       "      <td>13000000.0</td>\n",
       "      <td>108.0</td>\n",
       "      <td>2019-03-07</td>\n",
       "      <td>3</td>\n",
       "      <td>2.70</td>\n",
       "      <td>16</td>\n",
       "      <td>51.000000</td>\n",
       "      <td>8</td>\n",
       "      <td>False</td>\n",
       "      <td>...</td>\n",
       "      <td>18863.0</td>\n",
       "      <td>16028.0</td>\n",
       "      <td>1.0</td>\n",
       "      <td>482.0</td>\n",
       "      <td>2.0</td>\n",
       "      <td>755.0</td>\n",
       "      <td>NaN</td>\n",
       "      <td>120370.37</td>\n",
       "      <td>3</td>\n",
       "      <td>3</td>\n",
       "    </tr>\n",
       "    <tr>\n",
       "      <th>1</th>\n",
       "      <td>7</td>\n",
       "      <td>3350000.0</td>\n",
       "      <td>40.4</td>\n",
       "      <td>2018-12-04</td>\n",
       "      <td>1</td>\n",
       "      <td>2.65</td>\n",
       "      <td>11</td>\n",
       "      <td>18.600000</td>\n",
       "      <td>1</td>\n",
       "      <td>False</td>\n",
       "      <td>...</td>\n",
       "      <td>12817.0</td>\n",
       "      <td>18603.0</td>\n",
       "      <td>0.0</td>\n",
       "      <td>NaN</td>\n",
       "      <td>0.0</td>\n",
       "      <td>NaN</td>\n",
       "      <td>81.0</td>\n",
       "      <td>82920.79</td>\n",
       "      <td>1</td>\n",
       "      <td>12</td>\n",
       "    </tr>\n",
       "    <tr>\n",
       "      <th>2</th>\n",
       "      <td>10</td>\n",
       "      <td>5196000.0</td>\n",
       "      <td>56.0</td>\n",
       "      <td>2015-08-20</td>\n",
       "      <td>2</td>\n",
       "      <td>2.65</td>\n",
       "      <td>5</td>\n",
       "      <td>34.300000</td>\n",
       "      <td>4</td>\n",
       "      <td>False</td>\n",
       "      <td>...</td>\n",
       "      <td>21741.0</td>\n",
       "      <td>13933.0</td>\n",
       "      <td>1.0</td>\n",
       "      <td>90.0</td>\n",
       "      <td>2.0</td>\n",
       "      <td>574.0</td>\n",
       "      <td>558.0</td>\n",
       "      <td>92785.71</td>\n",
       "      <td>3</td>\n",
       "      <td>8</td>\n",
       "    </tr>\n",
       "    <tr>\n",
       "      <th>3</th>\n",
       "      <td>0</td>\n",
       "      <td>64900000.0</td>\n",
       "      <td>159.0</td>\n",
       "      <td>2015-07-24</td>\n",
       "      <td>3</td>\n",
       "      <td>2.65</td>\n",
       "      <td>14</td>\n",
       "      <td>91.730769</td>\n",
       "      <td>9</td>\n",
       "      <td>False</td>\n",
       "      <td>...</td>\n",
       "      <td>28098.0</td>\n",
       "      <td>6800.0</td>\n",
       "      <td>2.0</td>\n",
       "      <td>84.0</td>\n",
       "      <td>3.0</td>\n",
       "      <td>234.0</td>\n",
       "      <td>424.0</td>\n",
       "      <td>408176.10</td>\n",
       "      <td>4</td>\n",
       "      <td>7</td>\n",
       "    </tr>\n",
       "    <tr>\n",
       "      <th>4</th>\n",
       "      <td>2</td>\n",
       "      <td>10000000.0</td>\n",
       "      <td>100.0</td>\n",
       "      <td>2018-06-19</td>\n",
       "      <td>2</td>\n",
       "      <td>3.03</td>\n",
       "      <td>14</td>\n",
       "      <td>32.000000</td>\n",
       "      <td>13</td>\n",
       "      <td>False</td>\n",
       "      <td>...</td>\n",
       "      <td>31856.0</td>\n",
       "      <td>8098.0</td>\n",
       "      <td>2.0</td>\n",
       "      <td>112.0</td>\n",
       "      <td>1.0</td>\n",
       "      <td>48.0</td>\n",
       "      <td>121.0</td>\n",
       "      <td>100000.00</td>\n",
       "      <td>1</td>\n",
       "      <td>6</td>\n",
       "    </tr>\n",
       "  </tbody>\n",
       "</table>\n",
       "<p>5 rows × 25 columns</p>\n",
       "</div>"
      ],
      "text/plain": [
       "   total_images  last_price  total_area first_day_exposition  rooms  \\\n",
       "0            20  13000000.0       108.0           2019-03-07      3   \n",
       "1             7   3350000.0        40.4           2018-12-04      1   \n",
       "2            10   5196000.0        56.0           2015-08-20      2   \n",
       "3             0  64900000.0       159.0           2015-07-24      3   \n",
       "4             2  10000000.0       100.0           2018-06-19      2   \n",
       "\n",
       "   ceiling_height  floors_total  living_area  floor  is_apartment  ...  \\\n",
       "0            2.70            16    51.000000      8         False  ...   \n",
       "1            2.65            11    18.600000      1         False  ...   \n",
       "2            2.65             5    34.300000      4         False  ...   \n",
       "3            2.65            14    91.730769      9         False  ...   \n",
       "4            3.03            14    32.000000     13         False  ...   \n",
       "\n",
       "   airports_nearest  city_сenters_nearest  parks_around_3000  parks_nearest  \\\n",
       "0           18863.0               16028.0                1.0          482.0   \n",
       "1           12817.0               18603.0                0.0            NaN   \n",
       "2           21741.0               13933.0                1.0           90.0   \n",
       "3           28098.0                6800.0                2.0           84.0   \n",
       "4           31856.0                8098.0                2.0          112.0   \n",
       "\n",
       "  ponds_around_3000  ponds_nearest  days_exposition  price_per_square_meter  \\\n",
       "0               2.0          755.0              NaN               120370.37   \n",
       "1               0.0            NaN             81.0                82920.79   \n",
       "2               2.0          574.0            558.0                92785.71   \n",
       "3               3.0          234.0            424.0               408176.10   \n",
       "4               1.0           48.0            121.0               100000.00   \n",
       "\n",
       "   weekday_exposition  month_exposition  \n",
       "0                   3                 3  \n",
       "1                   1                12  \n",
       "2                   3                 8  \n",
       "3                   4                 7  \n",
       "4                   1                 6  \n",
       "\n",
       "[5 rows x 25 columns]"
      ]
     },
     "execution_count": 49,
     "metadata": {},
     "output_type": "execute_result"
    }
   ],
   "source": [
    "data['month_exposition'] = data['first_day_exposition'].dt.month\n",
    "data.head()"
   ]
  },
  {
   "cell_type": "markdown",
   "metadata": {},
   "source": [
    "#### Определения года, когда было опубликовано объявление.\n",
    "\n",
    "Необходимо добавить столбец в котором будет записан год в который было опублтиковано объявление о продаже."
   ]
  },
  {
   "cell_type": "code",
   "execution_count": 50,
   "metadata": {},
   "outputs": [
    {
     "data": {
      "text/html": [
       "<div>\n",
       "<style scoped>\n",
       "    .dataframe tbody tr th:only-of-type {\n",
       "        vertical-align: middle;\n",
       "    }\n",
       "\n",
       "    .dataframe tbody tr th {\n",
       "        vertical-align: top;\n",
       "    }\n",
       "\n",
       "    .dataframe thead th {\n",
       "        text-align: right;\n",
       "    }\n",
       "</style>\n",
       "<table border=\"1\" class=\"dataframe\">\n",
       "  <thead>\n",
       "    <tr style=\"text-align: right;\">\n",
       "      <th></th>\n",
       "      <th>total_images</th>\n",
       "      <th>last_price</th>\n",
       "      <th>total_area</th>\n",
       "      <th>first_day_exposition</th>\n",
       "      <th>rooms</th>\n",
       "      <th>ceiling_height</th>\n",
       "      <th>floors_total</th>\n",
       "      <th>living_area</th>\n",
       "      <th>floor</th>\n",
       "      <th>is_apartment</th>\n",
       "      <th>...</th>\n",
       "      <th>city_сenters_nearest</th>\n",
       "      <th>parks_around_3000</th>\n",
       "      <th>parks_nearest</th>\n",
       "      <th>ponds_around_3000</th>\n",
       "      <th>ponds_nearest</th>\n",
       "      <th>days_exposition</th>\n",
       "      <th>price_per_square_meter</th>\n",
       "      <th>weekday_exposition</th>\n",
       "      <th>month_exposition</th>\n",
       "      <th>year_exposition</th>\n",
       "    </tr>\n",
       "  </thead>\n",
       "  <tbody>\n",
       "    <tr>\n",
       "      <th>0</th>\n",
       "      <td>20</td>\n",
       "      <td>13000000.0</td>\n",
       "      <td>108.0</td>\n",
       "      <td>2019-03-07</td>\n",
       "      <td>3</td>\n",
       "      <td>2.70</td>\n",
       "      <td>16</td>\n",
       "      <td>51.000000</td>\n",
       "      <td>8</td>\n",
       "      <td>False</td>\n",
       "      <td>...</td>\n",
       "      <td>16028.0</td>\n",
       "      <td>1.0</td>\n",
       "      <td>482.0</td>\n",
       "      <td>2.0</td>\n",
       "      <td>755.0</td>\n",
       "      <td>NaN</td>\n",
       "      <td>120370.37</td>\n",
       "      <td>3</td>\n",
       "      <td>3</td>\n",
       "      <td>2019</td>\n",
       "    </tr>\n",
       "    <tr>\n",
       "      <th>1</th>\n",
       "      <td>7</td>\n",
       "      <td>3350000.0</td>\n",
       "      <td>40.4</td>\n",
       "      <td>2018-12-04</td>\n",
       "      <td>1</td>\n",
       "      <td>2.65</td>\n",
       "      <td>11</td>\n",
       "      <td>18.600000</td>\n",
       "      <td>1</td>\n",
       "      <td>False</td>\n",
       "      <td>...</td>\n",
       "      <td>18603.0</td>\n",
       "      <td>0.0</td>\n",
       "      <td>NaN</td>\n",
       "      <td>0.0</td>\n",
       "      <td>NaN</td>\n",
       "      <td>81.0</td>\n",
       "      <td>82920.79</td>\n",
       "      <td>1</td>\n",
       "      <td>12</td>\n",
       "      <td>2018</td>\n",
       "    </tr>\n",
       "    <tr>\n",
       "      <th>2</th>\n",
       "      <td>10</td>\n",
       "      <td>5196000.0</td>\n",
       "      <td>56.0</td>\n",
       "      <td>2015-08-20</td>\n",
       "      <td>2</td>\n",
       "      <td>2.65</td>\n",
       "      <td>5</td>\n",
       "      <td>34.300000</td>\n",
       "      <td>4</td>\n",
       "      <td>False</td>\n",
       "      <td>...</td>\n",
       "      <td>13933.0</td>\n",
       "      <td>1.0</td>\n",
       "      <td>90.0</td>\n",
       "      <td>2.0</td>\n",
       "      <td>574.0</td>\n",
       "      <td>558.0</td>\n",
       "      <td>92785.71</td>\n",
       "      <td>3</td>\n",
       "      <td>8</td>\n",
       "      <td>2015</td>\n",
       "    </tr>\n",
       "    <tr>\n",
       "      <th>3</th>\n",
       "      <td>0</td>\n",
       "      <td>64900000.0</td>\n",
       "      <td>159.0</td>\n",
       "      <td>2015-07-24</td>\n",
       "      <td>3</td>\n",
       "      <td>2.65</td>\n",
       "      <td>14</td>\n",
       "      <td>91.730769</td>\n",
       "      <td>9</td>\n",
       "      <td>False</td>\n",
       "      <td>...</td>\n",
       "      <td>6800.0</td>\n",
       "      <td>2.0</td>\n",
       "      <td>84.0</td>\n",
       "      <td>3.0</td>\n",
       "      <td>234.0</td>\n",
       "      <td>424.0</td>\n",
       "      <td>408176.10</td>\n",
       "      <td>4</td>\n",
       "      <td>7</td>\n",
       "      <td>2015</td>\n",
       "    </tr>\n",
       "    <tr>\n",
       "      <th>4</th>\n",
       "      <td>2</td>\n",
       "      <td>10000000.0</td>\n",
       "      <td>100.0</td>\n",
       "      <td>2018-06-19</td>\n",
       "      <td>2</td>\n",
       "      <td>3.03</td>\n",
       "      <td>14</td>\n",
       "      <td>32.000000</td>\n",
       "      <td>13</td>\n",
       "      <td>False</td>\n",
       "      <td>...</td>\n",
       "      <td>8098.0</td>\n",
       "      <td>2.0</td>\n",
       "      <td>112.0</td>\n",
       "      <td>1.0</td>\n",
       "      <td>48.0</td>\n",
       "      <td>121.0</td>\n",
       "      <td>100000.00</td>\n",
       "      <td>1</td>\n",
       "      <td>6</td>\n",
       "      <td>2018</td>\n",
       "    </tr>\n",
       "  </tbody>\n",
       "</table>\n",
       "<p>5 rows × 26 columns</p>\n",
       "</div>"
      ],
      "text/plain": [
       "   total_images  last_price  total_area first_day_exposition  rooms  \\\n",
       "0            20  13000000.0       108.0           2019-03-07      3   \n",
       "1             7   3350000.0        40.4           2018-12-04      1   \n",
       "2            10   5196000.0        56.0           2015-08-20      2   \n",
       "3             0  64900000.0       159.0           2015-07-24      3   \n",
       "4             2  10000000.0       100.0           2018-06-19      2   \n",
       "\n",
       "   ceiling_height  floors_total  living_area  floor  is_apartment  ...  \\\n",
       "0            2.70            16    51.000000      8         False  ...   \n",
       "1            2.65            11    18.600000      1         False  ...   \n",
       "2            2.65             5    34.300000      4         False  ...   \n",
       "3            2.65            14    91.730769      9         False  ...   \n",
       "4            3.03            14    32.000000     13         False  ...   \n",
       "\n",
       "   city_сenters_nearest  parks_around_3000  parks_nearest  ponds_around_3000  \\\n",
       "0               16028.0                1.0          482.0                2.0   \n",
       "1               18603.0                0.0            NaN                0.0   \n",
       "2               13933.0                1.0           90.0                2.0   \n",
       "3                6800.0                2.0           84.0                3.0   \n",
       "4                8098.0                2.0          112.0                1.0   \n",
       "\n",
       "  ponds_nearest  days_exposition  price_per_square_meter  weekday_exposition  \\\n",
       "0         755.0              NaN               120370.37                   3   \n",
       "1           NaN             81.0                82920.79                   1   \n",
       "2         574.0            558.0                92785.71                   3   \n",
       "3         234.0            424.0               408176.10                   4   \n",
       "4          48.0            121.0               100000.00                   1   \n",
       "\n",
       "   month_exposition  year_exposition  \n",
       "0                 3             2019  \n",
       "1                12             2018  \n",
       "2                 8             2015  \n",
       "3                 7             2015  \n",
       "4                 6             2018  \n",
       "\n",
       "[5 rows x 26 columns]"
      ]
     },
     "execution_count": 50,
     "metadata": {},
     "output_type": "execute_result"
    }
   ],
   "source": [
    "data['year_exposition'] = data['first_day_exposition'].dt.year\n",
    "data.head()"
   ]
  },
  {
   "cell_type": "markdown",
   "metadata": {},
   "source": [
    "####  Определение типа этажа квартиры.\n",
    "\n",
    "Необходимо добавить столбец в которм будет записан тип этажа квартивы. Если квартира находится на первом этоже добавить в столбец тип - \"первый\", если на последнем - \"последний\", в остальных случаях добавить тип - \"другой\"."
   ]
  },
  {
   "cell_type": "code",
   "execution_count": 51,
   "metadata": {},
   "outputs": [
    {
     "data": {
      "text/html": [
       "<div>\n",
       "<style scoped>\n",
       "    .dataframe tbody tr th:only-of-type {\n",
       "        vertical-align: middle;\n",
       "    }\n",
       "\n",
       "    .dataframe tbody tr th {\n",
       "        vertical-align: top;\n",
       "    }\n",
       "\n",
       "    .dataframe thead th {\n",
       "        text-align: right;\n",
       "    }\n",
       "</style>\n",
       "<table border=\"1\" class=\"dataframe\">\n",
       "  <thead>\n",
       "    <tr style=\"text-align: right;\">\n",
       "      <th></th>\n",
       "      <th>total_images</th>\n",
       "      <th>last_price</th>\n",
       "      <th>total_area</th>\n",
       "      <th>first_day_exposition</th>\n",
       "      <th>rooms</th>\n",
       "      <th>ceiling_height</th>\n",
       "      <th>floors_total</th>\n",
       "      <th>living_area</th>\n",
       "      <th>floor</th>\n",
       "      <th>is_apartment</th>\n",
       "      <th>...</th>\n",
       "      <th>parks_around_3000</th>\n",
       "      <th>parks_nearest</th>\n",
       "      <th>ponds_around_3000</th>\n",
       "      <th>ponds_nearest</th>\n",
       "      <th>days_exposition</th>\n",
       "      <th>price_per_square_meter</th>\n",
       "      <th>weekday_exposition</th>\n",
       "      <th>month_exposition</th>\n",
       "      <th>year_exposition</th>\n",
       "      <th>floor_category</th>\n",
       "    </tr>\n",
       "  </thead>\n",
       "  <tbody>\n",
       "    <tr>\n",
       "      <th>0</th>\n",
       "      <td>20</td>\n",
       "      <td>13000000.0</td>\n",
       "      <td>108.0</td>\n",
       "      <td>2019-03-07</td>\n",
       "      <td>3</td>\n",
       "      <td>2.70</td>\n",
       "      <td>16</td>\n",
       "      <td>51.000000</td>\n",
       "      <td>8</td>\n",
       "      <td>False</td>\n",
       "      <td>...</td>\n",
       "      <td>1.0</td>\n",
       "      <td>482.0</td>\n",
       "      <td>2.0</td>\n",
       "      <td>755.0</td>\n",
       "      <td>NaN</td>\n",
       "      <td>120370.37</td>\n",
       "      <td>3</td>\n",
       "      <td>3</td>\n",
       "      <td>2019</td>\n",
       "      <td>другой</td>\n",
       "    </tr>\n",
       "    <tr>\n",
       "      <th>1</th>\n",
       "      <td>7</td>\n",
       "      <td>3350000.0</td>\n",
       "      <td>40.4</td>\n",
       "      <td>2018-12-04</td>\n",
       "      <td>1</td>\n",
       "      <td>2.65</td>\n",
       "      <td>11</td>\n",
       "      <td>18.600000</td>\n",
       "      <td>1</td>\n",
       "      <td>False</td>\n",
       "      <td>...</td>\n",
       "      <td>0.0</td>\n",
       "      <td>NaN</td>\n",
       "      <td>0.0</td>\n",
       "      <td>NaN</td>\n",
       "      <td>81.0</td>\n",
       "      <td>82920.79</td>\n",
       "      <td>1</td>\n",
       "      <td>12</td>\n",
       "      <td>2018</td>\n",
       "      <td>первый</td>\n",
       "    </tr>\n",
       "    <tr>\n",
       "      <th>2</th>\n",
       "      <td>10</td>\n",
       "      <td>5196000.0</td>\n",
       "      <td>56.0</td>\n",
       "      <td>2015-08-20</td>\n",
       "      <td>2</td>\n",
       "      <td>2.65</td>\n",
       "      <td>5</td>\n",
       "      <td>34.300000</td>\n",
       "      <td>4</td>\n",
       "      <td>False</td>\n",
       "      <td>...</td>\n",
       "      <td>1.0</td>\n",
       "      <td>90.0</td>\n",
       "      <td>2.0</td>\n",
       "      <td>574.0</td>\n",
       "      <td>558.0</td>\n",
       "      <td>92785.71</td>\n",
       "      <td>3</td>\n",
       "      <td>8</td>\n",
       "      <td>2015</td>\n",
       "      <td>другой</td>\n",
       "    </tr>\n",
       "    <tr>\n",
       "      <th>3</th>\n",
       "      <td>0</td>\n",
       "      <td>64900000.0</td>\n",
       "      <td>159.0</td>\n",
       "      <td>2015-07-24</td>\n",
       "      <td>3</td>\n",
       "      <td>2.65</td>\n",
       "      <td>14</td>\n",
       "      <td>91.730769</td>\n",
       "      <td>9</td>\n",
       "      <td>False</td>\n",
       "      <td>...</td>\n",
       "      <td>2.0</td>\n",
       "      <td>84.0</td>\n",
       "      <td>3.0</td>\n",
       "      <td>234.0</td>\n",
       "      <td>424.0</td>\n",
       "      <td>408176.10</td>\n",
       "      <td>4</td>\n",
       "      <td>7</td>\n",
       "      <td>2015</td>\n",
       "      <td>другой</td>\n",
       "    </tr>\n",
       "    <tr>\n",
       "      <th>4</th>\n",
       "      <td>2</td>\n",
       "      <td>10000000.0</td>\n",
       "      <td>100.0</td>\n",
       "      <td>2018-06-19</td>\n",
       "      <td>2</td>\n",
       "      <td>3.03</td>\n",
       "      <td>14</td>\n",
       "      <td>32.000000</td>\n",
       "      <td>13</td>\n",
       "      <td>False</td>\n",
       "      <td>...</td>\n",
       "      <td>2.0</td>\n",
       "      <td>112.0</td>\n",
       "      <td>1.0</td>\n",
       "      <td>48.0</td>\n",
       "      <td>121.0</td>\n",
       "      <td>100000.00</td>\n",
       "      <td>1</td>\n",
       "      <td>6</td>\n",
       "      <td>2018</td>\n",
       "      <td>другой</td>\n",
       "    </tr>\n",
       "  </tbody>\n",
       "</table>\n",
       "<p>5 rows × 27 columns</p>\n",
       "</div>"
      ],
      "text/plain": [
       "   total_images  last_price  total_area first_day_exposition  rooms  \\\n",
       "0            20  13000000.0       108.0           2019-03-07      3   \n",
       "1             7   3350000.0        40.4           2018-12-04      1   \n",
       "2            10   5196000.0        56.0           2015-08-20      2   \n",
       "3             0  64900000.0       159.0           2015-07-24      3   \n",
       "4             2  10000000.0       100.0           2018-06-19      2   \n",
       "\n",
       "   ceiling_height  floors_total  living_area  floor  is_apartment  ...  \\\n",
       "0            2.70            16    51.000000      8         False  ...   \n",
       "1            2.65            11    18.600000      1         False  ...   \n",
       "2            2.65             5    34.300000      4         False  ...   \n",
       "3            2.65            14    91.730769      9         False  ...   \n",
       "4            3.03            14    32.000000     13         False  ...   \n",
       "\n",
       "   parks_around_3000  parks_nearest  ponds_around_3000  ponds_nearest  \\\n",
       "0                1.0          482.0                2.0          755.0   \n",
       "1                0.0            NaN                0.0            NaN   \n",
       "2                1.0           90.0                2.0          574.0   \n",
       "3                2.0           84.0                3.0          234.0   \n",
       "4                2.0          112.0                1.0           48.0   \n",
       "\n",
       "  days_exposition  price_per_square_meter  weekday_exposition  \\\n",
       "0             NaN               120370.37                   3   \n",
       "1            81.0                82920.79                   1   \n",
       "2           558.0                92785.71                   3   \n",
       "3           424.0               408176.10                   4   \n",
       "4           121.0               100000.00                   1   \n",
       "\n",
       "   month_exposition  year_exposition  floor_category  \n",
       "0                 3             2019          другой  \n",
       "1                12             2018          первый  \n",
       "2                 8             2015          другой  \n",
       "3                 7             2015          другой  \n",
       "4                 6             2018          другой  \n",
       "\n",
       "[5 rows x 27 columns]"
      ]
     },
     "execution_count": 51,
     "metadata": {},
     "output_type": "execute_result"
    }
   ],
   "source": [
    "def floor_category(row):\n",
    "    floor = row['floor']\n",
    "    floors_total = row['floors_total']\n",
    "    if floor == 1:\n",
    "        return 'первый'\n",
    "    elif floor == floors_total:\n",
    "        return 'последний'\n",
    "    else:\n",
    "        return 'другой'\n",
    "    \n",
    "data['floor_category'] = data.apply(floor_category, axis=1)\n",
    "data.head()"
   ]
  },
  {
   "cell_type": "markdown",
   "metadata": {},
   "source": [
    "#### Определить расстояние до центра в километрах.\n",
    "\n",
    "Необходимо добавить столбце в котором будет храниться расстояние от дома до центра в киломертах и округлить, до ближайшего целого значения. Получить столбец типа **int64** получить не выйдет, так как у нас остались пропуски в данных."
   ]
  },
  {
   "cell_type": "code",
   "execution_count": 52,
   "metadata": {},
   "outputs": [
    {
     "data": {
      "text/html": [
       "<div>\n",
       "<style scoped>\n",
       "    .dataframe tbody tr th:only-of-type {\n",
       "        vertical-align: middle;\n",
       "    }\n",
       "\n",
       "    .dataframe tbody tr th {\n",
       "        vertical-align: top;\n",
       "    }\n",
       "\n",
       "    .dataframe thead th {\n",
       "        text-align: right;\n",
       "    }\n",
       "</style>\n",
       "<table border=\"1\" class=\"dataframe\">\n",
       "  <thead>\n",
       "    <tr style=\"text-align: right;\">\n",
       "      <th></th>\n",
       "      <th>total_images</th>\n",
       "      <th>last_price</th>\n",
       "      <th>total_area</th>\n",
       "      <th>first_day_exposition</th>\n",
       "      <th>rooms</th>\n",
       "      <th>ceiling_height</th>\n",
       "      <th>floors_total</th>\n",
       "      <th>living_area</th>\n",
       "      <th>floor</th>\n",
       "      <th>is_apartment</th>\n",
       "      <th>...</th>\n",
       "      <th>parks_nearest</th>\n",
       "      <th>ponds_around_3000</th>\n",
       "      <th>ponds_nearest</th>\n",
       "      <th>days_exposition</th>\n",
       "      <th>price_per_square_meter</th>\n",
       "      <th>weekday_exposition</th>\n",
       "      <th>month_exposition</th>\n",
       "      <th>year_exposition</th>\n",
       "      <th>floor_category</th>\n",
       "      <th>city_сenters_nearest_km</th>\n",
       "    </tr>\n",
       "  </thead>\n",
       "  <tbody>\n",
       "    <tr>\n",
       "      <th>0</th>\n",
       "      <td>20</td>\n",
       "      <td>13000000.0</td>\n",
       "      <td>108.0</td>\n",
       "      <td>2019-03-07</td>\n",
       "      <td>3</td>\n",
       "      <td>2.70</td>\n",
       "      <td>16</td>\n",
       "      <td>51.000000</td>\n",
       "      <td>8</td>\n",
       "      <td>False</td>\n",
       "      <td>...</td>\n",
       "      <td>482.0</td>\n",
       "      <td>2.0</td>\n",
       "      <td>755.0</td>\n",
       "      <td>NaN</td>\n",
       "      <td>120370.37</td>\n",
       "      <td>3</td>\n",
       "      <td>3</td>\n",
       "      <td>2019</td>\n",
       "      <td>другой</td>\n",
       "      <td>16.0</td>\n",
       "    </tr>\n",
       "    <tr>\n",
       "      <th>1</th>\n",
       "      <td>7</td>\n",
       "      <td>3350000.0</td>\n",
       "      <td>40.4</td>\n",
       "      <td>2018-12-04</td>\n",
       "      <td>1</td>\n",
       "      <td>2.65</td>\n",
       "      <td>11</td>\n",
       "      <td>18.600000</td>\n",
       "      <td>1</td>\n",
       "      <td>False</td>\n",
       "      <td>...</td>\n",
       "      <td>NaN</td>\n",
       "      <td>0.0</td>\n",
       "      <td>NaN</td>\n",
       "      <td>81.0</td>\n",
       "      <td>82920.79</td>\n",
       "      <td>1</td>\n",
       "      <td>12</td>\n",
       "      <td>2018</td>\n",
       "      <td>первый</td>\n",
       "      <td>19.0</td>\n",
       "    </tr>\n",
       "    <tr>\n",
       "      <th>2</th>\n",
       "      <td>10</td>\n",
       "      <td>5196000.0</td>\n",
       "      <td>56.0</td>\n",
       "      <td>2015-08-20</td>\n",
       "      <td>2</td>\n",
       "      <td>2.65</td>\n",
       "      <td>5</td>\n",
       "      <td>34.300000</td>\n",
       "      <td>4</td>\n",
       "      <td>False</td>\n",
       "      <td>...</td>\n",
       "      <td>90.0</td>\n",
       "      <td>2.0</td>\n",
       "      <td>574.0</td>\n",
       "      <td>558.0</td>\n",
       "      <td>92785.71</td>\n",
       "      <td>3</td>\n",
       "      <td>8</td>\n",
       "      <td>2015</td>\n",
       "      <td>другой</td>\n",
       "      <td>14.0</td>\n",
       "    </tr>\n",
       "    <tr>\n",
       "      <th>3</th>\n",
       "      <td>0</td>\n",
       "      <td>64900000.0</td>\n",
       "      <td>159.0</td>\n",
       "      <td>2015-07-24</td>\n",
       "      <td>3</td>\n",
       "      <td>2.65</td>\n",
       "      <td>14</td>\n",
       "      <td>91.730769</td>\n",
       "      <td>9</td>\n",
       "      <td>False</td>\n",
       "      <td>...</td>\n",
       "      <td>84.0</td>\n",
       "      <td>3.0</td>\n",
       "      <td>234.0</td>\n",
       "      <td>424.0</td>\n",
       "      <td>408176.10</td>\n",
       "      <td>4</td>\n",
       "      <td>7</td>\n",
       "      <td>2015</td>\n",
       "      <td>другой</td>\n",
       "      <td>7.0</td>\n",
       "    </tr>\n",
       "    <tr>\n",
       "      <th>4</th>\n",
       "      <td>2</td>\n",
       "      <td>10000000.0</td>\n",
       "      <td>100.0</td>\n",
       "      <td>2018-06-19</td>\n",
       "      <td>2</td>\n",
       "      <td>3.03</td>\n",
       "      <td>14</td>\n",
       "      <td>32.000000</td>\n",
       "      <td>13</td>\n",
       "      <td>False</td>\n",
       "      <td>...</td>\n",
       "      <td>112.0</td>\n",
       "      <td>1.0</td>\n",
       "      <td>48.0</td>\n",
       "      <td>121.0</td>\n",
       "      <td>100000.00</td>\n",
       "      <td>1</td>\n",
       "      <td>6</td>\n",
       "      <td>2018</td>\n",
       "      <td>другой</td>\n",
       "      <td>8.0</td>\n",
       "    </tr>\n",
       "  </tbody>\n",
       "</table>\n",
       "<p>5 rows × 28 columns</p>\n",
       "</div>"
      ],
      "text/plain": [
       "   total_images  last_price  total_area first_day_exposition  rooms  \\\n",
       "0            20  13000000.0       108.0           2019-03-07      3   \n",
       "1             7   3350000.0        40.4           2018-12-04      1   \n",
       "2            10   5196000.0        56.0           2015-08-20      2   \n",
       "3             0  64900000.0       159.0           2015-07-24      3   \n",
       "4             2  10000000.0       100.0           2018-06-19      2   \n",
       "\n",
       "   ceiling_height  floors_total  living_area  floor  is_apartment  ...  \\\n",
       "0            2.70            16    51.000000      8         False  ...   \n",
       "1            2.65            11    18.600000      1         False  ...   \n",
       "2            2.65             5    34.300000      4         False  ...   \n",
       "3            2.65            14    91.730769      9         False  ...   \n",
       "4            3.03            14    32.000000     13         False  ...   \n",
       "\n",
       "   parks_nearest  ponds_around_3000  ponds_nearest  days_exposition  \\\n",
       "0          482.0                2.0          755.0              NaN   \n",
       "1            NaN                0.0            NaN             81.0   \n",
       "2           90.0                2.0          574.0            558.0   \n",
       "3           84.0                3.0          234.0            424.0   \n",
       "4          112.0                1.0           48.0            121.0   \n",
       "\n",
       "  price_per_square_meter  weekday_exposition  month_exposition  \\\n",
       "0              120370.37                   3                 3   \n",
       "1               82920.79                   1                12   \n",
       "2               92785.71                   3                 8   \n",
       "3              408176.10                   4                 7   \n",
       "4              100000.00                   1                 6   \n",
       "\n",
       "   year_exposition  floor_category  city_сenters_nearest_km  \n",
       "0             2019          другой                     16.0  \n",
       "1             2018          первый                     19.0  \n",
       "2             2015          другой                     14.0  \n",
       "3             2015          другой                      7.0  \n",
       "4             2018          другой                      8.0  \n",
       "\n",
       "[5 rows x 28 columns]"
      ]
     },
     "execution_count": 52,
     "metadata": {},
     "output_type": "execute_result"
    }
   ],
   "source": [
    "data['city_сenters_nearest_km'] = data['city_сenters_nearest'] / 1000\n",
    "data['city_сenters_nearest_km'] = data['city_сenters_nearest_km'].round(0)\n",
    "data.head()"
   ]
  },
  {
   "cell_type": "markdown",
   "metadata": {},
   "source": [
    "### Проведите исследовательский анализ данных"
   ]
  },
  {
   "cell_type": "markdown",
   "metadata": {},
   "source": [
    "#### Изучение основных параметров."
   ]
  },
  {
   "cell_type": "code",
   "execution_count": 53,
   "metadata": {},
   "outputs": [
    {
     "data": {
      "image/png": "[encoded data removed]",
      "text/plain": [
       "<Figure size 432x288 with 1 Axes>"
      ]
     },
     "metadata": {
      "needs_background": "light"
     },
     "output_type": "display_data"
    },
    {
     "name": "stdout",
     "output_type": "stream",
     "text": [
      "Квартиры с наибольшей площадью: \n",
      " 19540    900.0\n",
      "12859    631.2\n",
      "3117     631.0\n",
      "15651    618.0\n",
      "5358     590.0\n",
      "Name: total_area, dtype: float64\n"
     ]
    }
   ],
   "source": [
    "# Изучение общей площади\n",
    "data.hist('total_area', bins=30, range=(10,200), grid=True)\n",
    "plt.title('Площадь квартир')\n",
    "plt.xlabel('Квадратные метры')\n",
    "plt.ylabel('Количество квартир')\n",
    "plt.show()\n",
    "print(\n",
    "    'Квартиры с наибольшей площадью:', '\\n',\n",
    "    data['total_area'].sort_values(ascending=False).head()\n",
    ")"
   ]
  },
  {
   "cell_type": "markdown",
   "metadata": {},
   "source": [
    "Больштнство продаваемых квартир имеют площадь в районе **40 метров квадратных**. А самая большая из представленных квартир имеет площадь **900 метров квадратных**."
   ]
  },
  {
   "cell_type": "code",
   "execution_count": 54,
   "metadata": {},
   "outputs": [
    {
     "data": {
      "image/png": "[encoded data removed]",
      "text/plain": [
       "<Figure size 432x288 with 1 Axes>"
      ]
     },
     "metadata": {
      "needs_background": "light"
     },
     "output_type": "display_data"
    },
    {
     "name": "stdout",
     "output_type": "stream",
     "text": [
      "Квартиры с наибольшей жилой площадью: \n",
      " 19540    409.700000\n",
      "5358     409.000000\n",
      "3117     364.038462\n",
      "12401    347.500000\n",
      "4237     332.000000\n",
      "Name: living_area, dtype: float64\n"
     ]
    }
   ],
   "source": [
    "# Изучение жилой площади\n",
    "data.hist('living_area', bins=30, range=(10,120), grid=True)\n",
    "plt.title('Жилая площадь')\n",
    "plt.xlabel('Квадратные метры')\n",
    "plt.ylabel('Количество квартир')\n",
    "plt.show()\n",
    "print(\n",
    "    'Квартиры с наибольшей жилой площадью:', '\\n',\n",
    "    data['living_area'].sort_values(ascending=False).head()\n",
    ")"
   ]
  },
  {
   "cell_type": "markdown",
   "metadata": {},
   "source": [
    "Наибольшее число квартир имеет жилую площадь около **20 мтеров квадратных**. Квартира с самой большой жилой площадью, предмтавленная в нашей выборке, имеет жилую площадь **409.7 метров квадратных**."
   ]
  },
  {
   "cell_type": "code",
   "execution_count": 55,
   "metadata": {},
   "outputs": [
    {
     "data": {
      "image/png": "[encoded data removed]",
      "text/plain": [
       "<Figure size 432x288 with 1 Axes>"
      ]
     },
     "metadata": {
      "needs_background": "light"
     },
     "output_type": "display_data"
    },
    {
     "name": "stdout",
     "output_type": "stream",
     "text": [
      "Квартиры с наибольшей площадью кухни: \n",
      " 19540    112.0\n",
      "20215    107.0\n",
      "2489     100.7\n",
      "5358     100.0\n",
      "16239     93.2\n",
      "Name: kitchen_area, dtype: float64\n"
     ]
    }
   ],
   "source": [
    "# Изучение площадь кухни\n",
    "data.hist('kitchen_area', bins=30, range=(10,50), grid=True)\n",
    "plt.title('Площадь кухни')\n",
    "plt.xlabel('Квадратные метры')\n",
    "plt.ylabel('Количество квартир')\n",
    "plt.show()\n",
    "print(\n",
    "    'Квартиры с наибольшей площадью кухни:', '\\n',\n",
    "    data['kitchen_area'].sort_values(ascending=False).head()\n",
    ")"
   ]
  },
  {
   "cell_type": "markdown",
   "metadata": {},
   "source": [
    "Большинство квартир представленных в выборке имеют площадь кухни равную **10 - 12 метрам квадратным**. Наибольшая площадь кухни из пердставленных вариантов равна **112 метров квадратных**."
   ]
  },
  {
   "cell_type": "code",
   "execution_count": 56,
   "metadata": {},
   "outputs": [
    {
     "data": {
      "image/png": "[encoded data removed]",
      "text/plain": [
       "<Figure size 432x288 with 1 Axes>"
      ]
     },
     "metadata": {
      "needs_background": "light"
     },
     "output_type": "display_data"
    },
    {
     "name": "stdout",
     "output_type": "stream",
     "text": [
      "Квартиры с наибольшей стоимостью: \n",
      " 12971    763000000.0\n",
      "19540    420000000.0\n",
      "14706    401300000.0\n",
      "1436     330000000.0\n",
      "15651    300000000.0\n",
      "Name: last_price, dtype: float64\n"
     ]
    }
   ],
   "source": [
    "# Изучение цен на недвижимость\n",
    "data.hist('last_price', bins=30, grid=True, range=(0,20000000))\n",
    "plt.title('Цена недвижимости')\n",
    "plt.xlabel('Цена')\n",
    "plt.ylabel('Количество квартир')\n",
    "plt.show()\n",
    "print(\n",
    "    'Квартиры с наибольшей стоимостью:', '\\n',\n",
    "    data['last_price'].sort_values(ascending=False).head()\n",
    ")"
   ]
  },
  {
   "cell_type": "markdown",
   "metadata": {},
   "source": [
    "Больщинство квартир из представленных объявлений продаются за **4 млн. р.**. Самая дорогая квартира представленная в списке стоит **763 млн. р.**."
   ]
  },
  {
   "cell_type": "code",
   "execution_count": 57,
   "metadata": {},
   "outputs": [
    {
     "data": {
      "image/png": "[encoded data removed]",
      "text/plain": [
       "<Figure size 432x288 with 1 Axes>"
      ]
     },
     "metadata": {
      "needs_background": "light"
     },
     "output_type": "display_data"
    },
    {
     "name": "stdout",
     "output_type": "stream",
     "text": [
      "Квартиры с наибольшим количсетвом комнат: \n",
      " 14498    19\n",
      "18848    16\n",
      "5358     15\n",
      "866      14\n",
      "20829    14\n",
      "Name: rooms, dtype: int64\n"
     ]
    }
   ],
   "source": [
    "# Изучение числа количества комнат\n",
    "data.hist('rooms', bins=20, grid=True, range=(1, 8))\n",
    "plt.title('Количество комнат')\n",
    "plt.xlabel('Число комнат')\n",
    "plt.ylabel('Количество квартир')\n",
    "plt.show()\n",
    "print(\n",
    "    'Квартиры с наибольшим количсетвом комнат:', '\\n',\n",
    "    data['rooms'].sort_values(ascending=False).head()\n",
    ")"
   ]
  },
  {
   "cell_type": "markdown",
   "metadata": {},
   "source": [
    "Большинство квартир в выборке имеют **1** или **2** комнаты. Самое большое число комнат в квартире представленной в выборке равно **19**."
   ]
  },
  {
   "cell_type": "code",
   "execution_count": 58,
   "metadata": {},
   "outputs": [
    {
     "data": {
      "image/png": "[encoded data removed]",
      "text/plain": [
       "<Figure size 432x288 with 1 Axes>"
      ]
     },
     "metadata": {
      "needs_background": "light"
     },
     "output_type": "display_data"
    },
    {
     "name": "stdout",
     "output_type": "stream",
     "text": [
      "Квартиры с самыми высокими потолками: \n",
      " 20264    6.0\n",
      "21227    5.8\n",
      "1388     5.6\n",
      "7578     5.5\n",
      "1026     5.3\n",
      "Name: ceiling_height, dtype: float64\n"
     ]
    }
   ],
   "source": [
    "# Изучение высоты потолков в квартирах\n",
    "data.hist('ceiling_height', grid=True, range=(2, 4))\n",
    "plt.title('Выстоа потолков в квартире')\n",
    "plt.xlabel('Высота потолков')\n",
    "plt.ylabel('Количество квартир')\n",
    "plt.show()\n",
    "print(\n",
    "    'Квартиры с самыми высокими потолками:', '\\n',\n",
    "    data['ceiling_height'].sort_values(ascending=False).head()\n",
    ")"
   ]
  },
  {
   "cell_type": "markdown",
   "metadata": {},
   "source": [
    "Чаще всего выста потолков в данной выборке равна **2.6 м**. Самые высокие потолки в выборке имеют высоту **8.3 м**."
   ]
  },
  {
   "cell_type": "code",
   "execution_count": 59,
   "metadata": {},
   "outputs": [
    {
     "data": {
      "image/png": "[encoded data removed]",
      "text/plain": [
       "<Figure size 432x288 with 1 Axes>"
      ]
     },
     "metadata": {
      "needs_background": "light"
     },
     "output_type": "display_data"
    }
   ],
   "source": [
    "# Изучение типов этажей в квартире\n",
    "plt.hist(data['floor_category'])\n",
    "plt.title('Площадь квартир')\n",
    "plt.xlabel('Квадратные метры')\n",
    "plt.ylabel('Количество квартир')\n",
    "plt.show()"
   ]
  },
  {
   "cell_type": "markdown",
   "metadata": {},
   "source": [
    "Как было логично предположить, большинство квартир находятся между первым и последним этожом. Доля квартир на последнем этаже чуть больше чем, квартир на первом."
   ]
  },
  {
   "cell_type": "code",
   "execution_count": 60,
   "metadata": {},
   "outputs": [
    {
     "data": {
      "image/png": "[encoded data removed]",
      "text/plain": [
       "<Figure size 432x288 with 1 Axes>"
      ]
     },
     "metadata": {
      "needs_background": "light"
     },
     "output_type": "display_data"
    },
    {
     "name": "stdout",
     "output_type": "stream",
     "text": [
      "Квартиры с самыми высокими потолками: \n",
      " 2253     60\n",
      "16731    52\n",
      "397      36\n",
      "11079    36\n",
      "5807     36\n",
      "Name: floors_total, dtype: int64\n"
     ]
    }
   ],
   "source": [
    "# Изучение общего количиства этажей в доме\n",
    "data.hist('floors_total', bins=20, grid=True, range=(1, 30))\n",
    "plt.title('Количество этажей в доме')\n",
    "plt.xlabel('Число этажей')\n",
    "plt.ylabel('Количество квартир')\n",
    "plt.show()\n",
    "print(\n",
    "    'Квартиры с самыми высокими потолками:', '\\n',\n",
    "    data['floors_total'].sort_values(ascending=False).head()\n",
    ")"
   ]
  },
  {
   "cell_type": "markdown",
   "metadata": {},
   "source": [
    "Большинство квартир продается в пятиэтажных домах. Самый высокий дом иммет **60 этажей**."
   ]
  },
  {
   "cell_type": "code",
   "execution_count": 61,
   "metadata": {},
   "outputs": [
    {
     "data": {
      "image/png": "[encoded data removed]",
      "text/plain": [
       "<Figure size 432x288 with 1 Axes>"
      ]
     },
     "metadata": {
      "needs_background": "light"
     },
     "output_type": "display_data"
    },
    {
     "name": "stdout",
     "output_type": "stream",
     "text": [
      "Самая удаленная от центра квартира:  \n",
      " 9640    65968.0\n",
      "Name: city_сenters_nearest, dtype: float64\n"
     ]
    }
   ],
   "source": [
    "# Изучение расстояния до центра города в метрах\n",
    "data.hist('city_сenters_nearest', bins=50, grid=True, range=(0, 40000))\n",
    "plt.title('Расстояние до центра города в метрах')\n",
    "plt.xlabel('Расстояние до центра города')\n",
    "plt.ylabel('Количество квартир')\n",
    "plt.show()\n",
    "print(\n",
    "    'Самая удаленная от центра квартира: ', '\\n',\n",
    "    data['city_сenters_nearest'].sort_values(ascending=False).head(1),\n",
    ")"
   ]
  },
  {
   "cell_type": "markdown",
   "metadata": {},
   "source": [
    "Большинство квартир находится на расстоянии **15000 м - 15 км** от центра города. Есть несколько квартир находящихся в самом его центре. Самая удаленная от центра квартира находится в **65 км** от него. "
   ]
  },
  {
   "cell_type": "code",
   "execution_count": 62,
   "metadata": {},
   "outputs": [
    {
     "data": {
      "image/png": "[encoded data removed]",
      "text/plain": [
       "<Figure size 432x288 with 1 Axes>"
      ]
     },
     "metadata": {
      "needs_background": "light"
     },
     "output_type": "display_data"
    },
    {
     "name": "stdout",
     "output_type": "stream",
     "text": [
      "Самая удаленные от парка квартиры:  \n",
      " 20726    1344.0\n",
      "19138    1341.0\n",
      "19924    1341.0\n",
      "1476     1337.0\n",
      "12054    1313.0\n",
      "Name: ponds_nearest, dtype: float64\n"
     ]
    }
   ],
   "source": [
    "# Изучение расстояния до ближайшего парка\n",
    "data.hist('ponds_nearest', bins=30, grid=True, range=(0, 1500))\n",
    "plt.title('Расстояние до ближайшего парка')\n",
    "plt.xlabel('Расстояние до ближайшего парка')\n",
    "plt.ylabel('Количество квартир')\n",
    "plt.show()\n",
    "print(\n",
    "    'Самая удаленные от парка квартиры: ', '\\n',\n",
    "    data['ponds_nearest'].sort_values(ascending=False).head(),\n",
    ")"
   ]
  },
  {
   "cell_type": "markdown",
   "metadata": {},
   "source": [
    "Большинство квартир пердставлненных в выборке находятся в **400-ах метрах** от парка. Есть квартиры, которые расположены прямо у входа в парк. Самая дальняя от парка квартира находится в **1344-ах метрах от него**, но скорее всего есть квартиры и дальше, просто продавец решил не указывать эту информацию."
   ]
  },
  {
   "cell_type": "markdown",
   "metadata": {},
   "source": [
    "#### Изучения срока продажи квартир.\n",
    "\n",
    "Необходимо изучить как продавались квартиры и определить какие продажи можно считать быстрыми, а какие необыкновенно долгими."
   ]
  },
  {
   "cell_type": "code",
   "execution_count": 63,
   "metadata": {},
   "outputs": [
    {
     "data": {
      "text/plain": [
       "<AxesSubplot:>"
      ]
     },
     "execution_count": 63,
     "metadata": {},
     "output_type": "execute_result"
    },
    {
     "data": {
      "image/png": "[encoded data removed]",
      "text/plain": [
       "<Figure size 864x504 with 1 Axes>"
      ]
     },
     "metadata": {
      "needs_background": "light"
     },
     "output_type": "display_data"
    }
   ],
   "source": [
    "# Код ревьюера\n",
    "data['days_exposition'].hist(bins=50, figsize=(12, 7))"
   ]
  },
  {
   "cell_type": "code",
   "execution_count": 64,
   "metadata": {},
   "outputs": [
    {
     "data": {
      "text/plain": [
       "181.0"
      ]
     },
     "execution_count": 64,
     "metadata": {},
     "output_type": "execute_result"
    }
   ],
   "source": [
    "data['days_exposition'].mean().round(0)"
   ]
  },
  {
   "cell_type": "code",
   "execution_count": 65,
   "metadata": {},
   "outputs": [
    {
     "data": {
      "text/plain": [
       "95.0"
      ]
     },
     "execution_count": 65,
     "metadata": {},
     "output_type": "execute_result"
    }
   ],
   "source": [
    "data['days_exposition'].median()"
   ]
  },
  {
   "cell_type": "markdown",
   "metadata": {},
   "source": [
    "Среднее время продажи квартиры равно **181 день**, медианное **95 дней**. Построим гистограмму для того, чтобы более вниательно изучить данные."
   ]
  },
  {
   "cell_type": "code",
   "execution_count": 66,
   "metadata": {},
   "outputs": [
    {
     "data": {
      "text/plain": [
       "(0.0, 700.0)"
      ]
     },
     "execution_count": 66,
     "metadata": {},
     "output_type": "execute_result"
    },
    {
     "data": {
      "image/png": "[encoded data removed]",
      "text/plain": [
       "<Figure size 648x504 with 1 Axes>"
      ]
     },
     "metadata": {
      "needs_background": "light"
     },
     "output_type": "display_data"
    }
   ],
   "source": [
    "data.boxplot(column='days_exposition', figsize=(9, 7))\n",
    "plt.ylim(0, 700)"
   ]
  },
  {
   "cell_type": "markdown",
   "metadata": {},
   "source": [
    "Из диаграммы размаха видно, что большинство квартир продаются достаточно быстро. Рассмотрим данные более точно при помощи метода .describe()."
   ]
  },
  {
   "cell_type": "code",
   "execution_count": 67,
   "metadata": {},
   "outputs": [
    {
     "data": {
      "text/plain": [
       "count    20384.000000\n",
       "mean       180.737637\n",
       "std        219.754208\n",
       "min          1.000000\n",
       "25%         45.000000\n",
       "50%         95.000000\n",
       "75%        231.000000\n",
       "max       1580.000000\n",
       "Name: days_exposition, dtype: float64"
      ]
     },
     "execution_count": 67,
     "metadata": {},
     "output_type": "execute_result"
    }
   ],
   "source": [
    "data['days_exposition'].describe()"
   ]
  },
  {
   "cell_type": "markdown",
   "metadata": {},
   "source": [
    "Исходя из полученных данных можно сказать, что большинство квартир продается в течении **95 - 100 дней** с момента публикации.\n",
    "\n",
    "Продажу можно считать быстрой, если она состоялась в течении **45 дней** и долгой, если она длилась более **230** дней."
   ]
  },
  {
   "cell_type": "markdown",
   "metadata": {},
   "source": [
    "#### Изучение факторов влияющих на стоимость квартиры.\n",
    "\n",
    "Необходимо определить какие из факторов больше всего влияют на стоимость квартиры."
   ]
  },
  {
   "cell_type": "code",
   "execution_count": 68,
   "metadata": {},
   "outputs": [
    {
     "data": {
      "image/png": "[encoded data removed]",
      "text/plain": [
       "<Figure size 648x504 with 1 Axes>"
      ]
     },
     "metadata": {
      "needs_background": "light"
     },
     "output_type": "display_data"
    },
    {
     "name": "stdout",
     "output_type": "stream",
     "text": [
      "            last_price  total_area\n",
      "last_price    1.000000    0.739087\n",
      "total_area    0.739087    1.000000\n"
     ]
    }
   ],
   "source": [
    "# Зависимость цены от общей площади\n",
    "(\n",
    "    data\n",
    "    .pivot_table(index='total_area', values='last_price')\n",
    "    .plot(style='o', grid=True, figsize=(9, 7), alpha=0.2)\n",
    ")\n",
    "plt.show()\n",
    "print(\n",
    "    data\n",
    "    .pivot_table(index='floor', values=['total_area', 'last_price'] )\n",
    "    .corr()\n",
    ")"
   ]
  },
  {
   "cell_type": "code",
   "execution_count": 69,
   "metadata": {},
   "outputs": [
    {
     "data": {
      "image/png": "[encoded data removed]",
      "text/plain": [
       "<Figure size 648x504 with 1 Axes>"
      ]
     },
     "metadata": {
      "needs_background": "light"
     },
     "output_type": "display_data"
    },
    {
     "name": "stdout",
     "output_type": "stream",
     "text": [
      "             last_price  living_area\n",
      "last_price     1.000000     0.626717\n",
      "living_area    0.626717     1.000000\n"
     ]
    }
   ],
   "source": [
    "# Зависимость цены от жилой площади\n",
    "(\n",
    "    data\n",
    "    .pivot_table(index='living_area', values='last_price')\n",
    "    .plot(style='o', grid=True, figsize=(9, 7), alpha=0.2)\n",
    ")\n",
    "plt.show()\n",
    "print(\n",
    "    data\n",
    "    .pivot_table(index='floor', values=['living_area', 'last_price'] )\n",
    "    .corr()\n",
    ")"
   ]
  },
  {
   "cell_type": "code",
   "execution_count": 70,
   "metadata": {},
   "outputs": [
    {
     "data": {
      "image/png": "[encoded data removed]",
      "text/plain": [
       "<Figure size 648x504 with 1 Axes>"
      ]
     },
     "metadata": {
      "needs_background": "light"
     },
     "output_type": "display_data"
    },
    {
     "name": "stdout",
     "output_type": "stream",
     "text": [
      "              kitchen_area  last_price\n",
      "kitchen_area       1.00000     0.30975\n",
      "last_price         0.30975     1.00000\n"
     ]
    }
   ],
   "source": [
    "# Зависимость цены от площади кухни\n",
    "(\n",
    "    data\n",
    "    .pivot_table(index='kitchen_area', values='last_price')\n",
    "    .plot(style='o', grid=True, figsize=(9, 7), alpha=0.2)\n",
    ")\n",
    "plt.show()\n",
    "print(\n",
    "    data\n",
    "    .pivot_table(index='floor', values=['kitchen_area', 'last_price'] )\n",
    "    .corr()\n",
    ")"
   ]
  },
  {
   "cell_type": "code",
   "execution_count": 71,
   "metadata": {},
   "outputs": [
    {
     "data": {
      "image/png": "[encoded data removed]",
      "text/plain": [
       "<Figure size 648x504 with 1 Axes>"
      ]
     },
     "metadata": {
      "needs_background": "light"
     },
     "output_type": "display_data"
    },
    {
     "name": "stdout",
     "output_type": "stream",
     "text": [
      "            last_price     rooms\n",
      "last_price    1.000000  0.442834\n",
      "rooms         0.442834  1.000000\n"
     ]
    }
   ],
   "source": [
    "# Зависимость цены от количества комнат\n",
    "(\n",
    "    data\n",
    "    .pivot_table(index='rooms', values='last_price')\n",
    "    .plot(style='o-', grid=True, figsize=(9, 7), alpha=1)\n",
    ")\n",
    "plt.show()\n",
    "print(\n",
    "    data\n",
    "    .pivot_table(index='floor', values=['rooms', 'last_price'] )\n",
    "    .corr()\n",
    ")"
   ]
  },
  {
   "cell_type": "code",
   "execution_count": 72,
   "metadata": {},
   "outputs": [
    {
     "data": {
      "image/png": "[encoded data removed]",
      "text/plain": [
       "<Figure size 648x504 with 1 Axes>"
      ]
     },
     "metadata": {
      "needs_background": "light"
     },
     "output_type": "display_data"
    }
   ],
   "source": [
    "# Зависимость цены от типа этажа\n",
    "(\n",
    "    data\n",
    "    .pivot_table(index='floor_category', values='last_price')\n",
    "    .plot(style='o-', grid=True, figsize=(9, 7), alpha=1)\n",
    ")\n",
    "plt.show()"
   ]
  },
  {
   "cell_type": "code",
   "execution_count": 73,
   "metadata": {},
   "outputs": [
    {
     "data": {
      "image/png": "[encoded data removed]",
      "text/plain": [
       "<Figure size 648x504 with 1 Axes>"
      ]
     },
     "metadata": {
      "needs_background": "light"
     },
     "output_type": "display_data"
    },
    {
     "name": "stdout",
     "output_type": "stream",
     "text": [
      "                    last_price  weekday_exposition\n",
      "last_price            1.000000            0.323736\n",
      "weekday_exposition    0.323736            1.000000\n"
     ]
    },
    {
     "data": {
      "image/png": "[encoded data removed]",
      "text/plain": [
       "<Figure size 648x504 with 1 Axes>"
      ]
     },
     "metadata": {
      "needs_background": "light"
     },
     "output_type": "display_data"
    },
    {
     "name": "stdout",
     "output_type": "stream",
     "text": [
      "                  last_price  month_exposition\n",
      "last_price          1.000000         -0.020535\n",
      "month_exposition   -0.020535          1.000000\n"
     ]
    },
    {
     "data": {
      "image/png": "[encoded data removed]",
      "text/plain": [
       "<Figure size 648x504 with 1 Axes>"
      ]
     },
     "metadata": {
      "needs_background": "light"
     },
     "output_type": "display_data"
    },
    {
     "name": "stdout",
     "output_type": "stream",
     "text": [
      "                 last_price  year_exposition\n",
      "last_price          1.00000         -0.05514\n",
      "year_exposition    -0.05514          1.00000\n"
     ]
    }
   ],
   "source": [
    "# Зависимость цены от дня недели размещения\n",
    "(\n",
    "    data\n",
    "    .pivot_table(index='weekday_exposition', values='last_price')\n",
    "    .plot(style='o-', grid=True, figsize=(9, 7), alpha=1)\n",
    ")\n",
    "plt.show()\n",
    "print(\n",
    "    data\n",
    "    .pivot_table(index='floor', values=['weekday_exposition', 'last_price'] )\n",
    "    .corr()\n",
    ")\n",
    "\n",
    "# Зависимость цены от месяца размещения\n",
    "(\n",
    "    data\n",
    "    .pivot_table(index='month_exposition', values='last_price')\n",
    "    .plot(style='o-', grid=True, figsize=(9, 7), alpha=1)\n",
    ")\n",
    "plt.show()\n",
    "print(\n",
    "    data\n",
    "    .pivot_table(index='floor', values=['month_exposition', 'last_price'] )\n",
    "    .corr()\n",
    ")\n",
    "\n",
    "# Зависимость цены от месяца размещения\n",
    "(\n",
    "    data\n",
    "    .pivot_table(index='year_exposition', values='last_price')\n",
    "    .plot(style='o-', grid=True, figsize=(9, 7), alpha=1)\n",
    ")\n",
    "plt.show()\n",
    "print(\n",
    "    data\n",
    "    .pivot_table(index='floor', values=['year_exposition', 'last_price'] )\n",
    "    .corr()\n",
    ")"
   ]
  },
  {
   "cell_type": "markdown",
   "metadata": {},
   "source": [
    "**Вывод**\n",
    "\n",
    "Судя по проведенным исследованиям наибольшее влияние на стоимость недвижимости имеет ее общая площадь, с ней же у цены наибольший коэффициент корреляции. Зависимость от жилой площади примерно такая же, как и от общей. Площадь кухни на графике распределяется аналогично двум предыдущим площадаям, но коэффициент корреляции слишком маленький, чтобы делать какие-то выводы. \n",
    "\n",
    "Интересным фактом оказалось то, что количество комнат в квартире не имеет сильного влияния на ее стоимость. На графике виден некоторый выброс, но скорее всего это из-за одного или нескольких значений. \n",
    "\n",
    "И судя по полученным данным цена квартиры никак не зависит от дня недели когда она была выставлена на продажу и от месяца. Так же можно найти интересным то, что не цена не зависит от года размещения объявления."
   ]
  },
  {
   "cell_type": "markdown",
   "metadata": {},
   "source": [
    "#### Рассчет средней цены квадратного метра в десяти населенных пунктах с большим числом объявлений.\n",
    "\n",
    "Необходимо рассчитать среднюю стоимось одного квадратного метра в десяти населенных пунктах с наибольшим количиством объявлений."
   ]
  },
  {
   "cell_type": "code",
   "execution_count": 74,
   "metadata": {},
   "outputs": [
    {
     "data": {
      "text/html": [
       "<div>\n",
       "<style scoped>\n",
       "    .dataframe tbody tr th:only-of-type {\n",
       "        vertical-align: middle;\n",
       "    }\n",
       "\n",
       "    .dataframe tbody tr th {\n",
       "        vertical-align: top;\n",
       "    }\n",
       "\n",
       "    .dataframe thead th {\n",
       "        text-align: right;\n",
       "    }\n",
       "</style>\n",
       "<table border=\"1\" class=\"dataframe\">\n",
       "  <thead>\n",
       "    <tr style=\"text-align: right;\">\n",
       "      <th></th>\n",
       "      <th>price_per_square_meter</th>\n",
       "    </tr>\n",
       "    <tr>\n",
       "      <th>locality_name</th>\n",
       "      <th></th>\n",
       "    </tr>\n",
       "  </thead>\n",
       "  <tbody>\n",
       "    <tr>\n",
       "      <th>Санкт-Петербург</th>\n",
       "      <td>114841.153293</td>\n",
       "    </tr>\n",
       "    <tr>\n",
       "      <th>Пушкин</th>\n",
       "      <td>103125.819377</td>\n",
       "    </tr>\n",
       "    <tr>\n",
       "      <th>Кудрово</th>\n",
       "      <td>95260.846128</td>\n",
       "    </tr>\n",
       "    <tr>\n",
       "      <th>посeлок Парголово</th>\n",
       "      <td>90175.913089</td>\n",
       "    </tr>\n",
       "    <tr>\n",
       "      <th>Мурино</th>\n",
       "      <td>86105.897545</td>\n",
       "    </tr>\n",
       "    <tr>\n",
       "      <th>посeлок Шушары</th>\n",
       "      <td>78551.344647</td>\n",
       "    </tr>\n",
       "    <tr>\n",
       "      <th>Колпино</th>\n",
       "      <td>75424.579112</td>\n",
       "    </tr>\n",
       "    <tr>\n",
       "      <th>Гатчина</th>\n",
       "      <td>68746.146515</td>\n",
       "    </tr>\n",
       "    <tr>\n",
       "      <th>Всеволожск</th>\n",
       "      <td>68654.473970</td>\n",
       "    </tr>\n",
       "    <tr>\n",
       "      <th>Выборг</th>\n",
       "      <td>58141.909325</td>\n",
       "    </tr>\n",
       "  </tbody>\n",
       "</table>\n",
       "</div>"
      ],
      "text/plain": [
       "                   price_per_square_meter\n",
       "locality_name                            \n",
       "Санкт-Петербург             114841.153293\n",
       "Пушкин                      103125.819377\n",
       "Кудрово                      95260.846128\n",
       "посeлок Парголово            90175.913089\n",
       "Мурино                       86105.897545\n",
       "посeлок Шушары               78551.344647\n",
       "Колпино                      75424.579112\n",
       "Гатчина                      68746.146515\n",
       "Всеволожск                   68654.473970\n",
       "Выборг                       58141.909325"
      ]
     },
     "execution_count": 74,
     "metadata": {},
     "output_type": "execute_result"
    }
   ],
   "source": [
    "top_ten_city = data['locality_name'].value_counts().head(10)\n",
    "(\n",
    "    data\n",
    "    .query('locality_name in @top_ten_city.index')\n",
    "    .pivot_table(index='locality_name', values='price_per_square_meter', aggfunc='mean')\n",
    "    .sort_values(by='price_per_square_meter', ascending=False)\n",
    ")"
   ]
  },
  {
   "cell_type": "markdown",
   "metadata": {},
   "source": [
    "Из полученной таблицы видно, что самые высокие цены на один квадратный метр недвижимости в Санкт-Петербурге, но отличие от цен в Пушкине не такое большое. Самая маленькая цена на квадратный метр из топ 10 городов в Выборге."
   ]
  },
  {
   "cell_type": "markdown",
   "metadata": {},
   "source": [
    "#### Изучени изменения цены для каждого километра от центра Петербурга.\n",
    "\n",
    "Необходимо изучить как изменяеться цена при удалении/приближении недвижимости к центру Санкт-Петербурга."
   ]
  },
  {
   "cell_type": "code",
   "execution_count": 75,
   "metadata": {},
   "outputs": [
    {
     "data": {
      "text/plain": [
       "<AxesSubplot:xlabel='city_сenters_nearest_km'>"
      ]
     },
     "execution_count": 75,
     "metadata": {},
     "output_type": "execute_result"
    },
    {
     "data": {
      "image/png": "[encoded data removed]",
      "text/plain": [
       "<Figure size 648x504 with 1 Axes>"
      ]
     },
     "metadata": {
      "needs_background": "light"
     },
     "output_type": "display_data"
    }
   ],
   "source": [
    "(\n",
    "    data\n",
    "    .query('locality_name == \"Санкт-Петербург\"')\n",
    "    .pivot_table(index='city_сenters_nearest_km', values='last_price')\n",
    "    .plot(style='o-', grid=True, figsize=(9, 7))\n",
    ")"
   ]
  },
  {
   "cell_type": "markdown",
   "metadata": {},
   "source": [
    "**Вывод**\n",
    "\n",
    "Как и следовало ожидать, что при приближении к центру города цены на недвижимось кратно возрастают относительно окраин. Переходной точкой можно считать расстояние в **9 км** от центра города, после него цены на недвижимомть не так сильно разняться."
   ]
  },
  {
   "cell_type": "markdown",
   "metadata": {},
   "source": [
    "### Общий вывод"
   ]
  },
  {
   "cell_type": "markdown",
   "metadata": {},
   "source": [
    "Была проведена большая работа по предобработке и анализу данных. Были изучены зависимости стоимости квартиры от различных факторов, была изучена информация о сроках продажи квартир и стоимость одного квадратного метра в 10 городах с наибольшим числом объявлений.\n",
    "\n",
    "**Срок продажи квартиры**\n",
    "\n",
    "- Большинство квартир продаются в течении 95 - 100 дней со дня публикации объявлнеия.\n",
    "- Если квартира продана быстрее чем за 45 дней можно считать это быстрой продажей.\n",
    "- Если квартира продона более чем за 230 дней можно считать это долгой продажей.\n",
    "\n",
    "**Факторы влияющие на стоимость квартиры**\n",
    "\n",
    "- Наибольшее влияние на стоимость квартиры имеет ее расположение относительно центра города (чем ближе к центру тем дороже).\n",
    "- Так же большое влияние на стоимость квартиры имеет ее общая и жилая площадь (чем больше тем дороже квартира).\n",
    "- День недели, месяц и год не имееют практически никакого влияния на стоимость недвижимости.\n",
    "\n",
    "**Стоимость квадратного метра в 10 городах с самым большим количиством объявлений**\n",
    "\n",
    "- Самая высокая цена за квадратный метр в Санкт-Петербурге, она равна 114841 р. за квадратный метр.\n",
    "- Самая низкая цена за квадратный метр в Выборге, она равна 58141 р. за квадратный метр.\n"
   ]
  }
 ],
 "metadata": {
  "ExecuteTimeLog": [
   {
    "duration": 765,
    "start_time": "2023-09-05T10:10:46.071Z"
   },
   {
    "duration": 80,
    "start_time": "2023-09-05T10:10:58.600Z"
   },
   {
    "duration": 103,
    "start_time": "2023-09-05T10:11:30.351Z"
   },
   {
    "duration": 100,
    "start_time": "2023-09-05T10:14:55.565Z"
   },
   {
    "duration": 127,
    "start_time": "2023-09-05T10:15:12.971Z"
   },
   {
    "duration": 17,
    "start_time": "2023-09-05T10:15:52.495Z"
   },
   {
    "duration": 2730,
    "start_time": "2023-09-05T10:45:25.564Z"
   },
   {
    "duration": 2720,
    "start_time": "2023-09-05T10:46:17.102Z"
   },
   {
    "duration": 2128,
    "start_time": "2023-09-05T10:46:52.776Z"
   },
   {
    "duration": 2787,
    "start_time": "2023-09-05T10:49:00.356Z"
   },
   {
    "duration": 2691,
    "start_time": "2023-09-05T10:50:15.742Z"
   },
   {
    "duration": 7,
    "start_time": "2023-09-05T10:58:12.402Z"
   },
   {
    "duration": 6,
    "start_time": "2023-09-05T10:59:15.343Z"
   },
   {
    "duration": 6,
    "start_time": "2023-09-05T11:03:14.093Z"
   },
   {
    "duration": 3125,
    "start_time": "2023-09-05T11:14:08.446Z"
   },
   {
    "duration": 2782,
    "start_time": "2023-09-05T11:14:30.142Z"
   },
   {
    "duration": 7,
    "start_time": "2023-09-05T11:15:56.362Z"
   },
   {
    "duration": 110,
    "start_time": "2023-09-05T11:17:57.717Z"
   },
   {
    "duration": 90,
    "start_time": "2023-09-05T11:18:03.413Z"
   },
   {
    "duration": 13,
    "start_time": "2023-09-05T11:18:11.803Z"
   },
   {
    "duration": 199,
    "start_time": "2023-09-05T11:18:25.673Z"
   },
   {
    "duration": 175,
    "start_time": "2023-09-05T11:18:59.268Z"
   },
   {
    "duration": 268,
    "start_time": "2023-09-05T11:19:06.009Z"
   },
   {
    "duration": 196,
    "start_time": "2023-09-05T11:19:15.235Z"
   },
   {
    "duration": 187,
    "start_time": "2023-09-05T11:20:56.457Z"
   },
   {
    "duration": 10,
    "start_time": "2023-09-05T11:21:50.468Z"
   },
   {
    "duration": 8,
    "start_time": "2023-09-05T11:22:11.999Z"
   },
   {
    "duration": 5,
    "start_time": "2023-09-05T11:22:17.531Z"
   },
   {
    "duration": 8,
    "start_time": "2023-09-05T11:22:22.028Z"
   },
   {
    "duration": 7,
    "start_time": "2023-09-05T11:22:35.931Z"
   },
   {
    "duration": 7,
    "start_time": "2023-09-05T11:22:52.126Z"
   },
   {
    "duration": 8,
    "start_time": "2023-09-05T11:23:02.098Z"
   },
   {
    "duration": 3,
    "start_time": "2023-09-05T11:28:47.341Z"
   },
   {
    "duration": 48,
    "start_time": "2023-09-05T14:30:22.198Z"
   },
   {
    "duration": 587,
    "start_time": "2023-09-05T14:30:34.606Z"
   },
   {
    "duration": 18,
    "start_time": "2023-09-05T14:30:35.196Z"
   },
   {
    "duration": 2989,
    "start_time": "2023-09-05T14:30:35.216Z"
   },
   {
    "duration": 6,
    "start_time": "2023-09-05T14:30:38.207Z"
   },
   {
    "duration": 23,
    "start_time": "2023-09-05T14:30:38.215Z"
   },
   {
    "duration": 199,
    "start_time": "2023-09-05T14:30:38.240Z"
   },
   {
    "duration": 17,
    "start_time": "2023-09-05T14:30:38.440Z"
   },
   {
    "duration": 8,
    "start_time": "2023-09-05T14:31:20.827Z"
   },
   {
    "duration": 5,
    "start_time": "2023-09-05T14:31:25.866Z"
   },
   {
    "duration": 8,
    "start_time": "2023-09-05T14:33:43.039Z"
   },
   {
    "duration": 19,
    "start_time": "2023-09-05T14:33:56.525Z"
   },
   {
    "duration": 87,
    "start_time": "2023-09-05T14:34:20.394Z"
   },
   {
    "duration": 17,
    "start_time": "2023-09-05T14:34:25.015Z"
   },
   {
    "duration": 7,
    "start_time": "2023-09-05T14:35:11.395Z"
   },
   {
    "duration": 7,
    "start_time": "2023-09-05T14:35:19.393Z"
   },
   {
    "duration": 6,
    "start_time": "2023-09-05T14:35:22.227Z"
   },
   {
    "duration": 41,
    "start_time": "2023-09-05T14:37:21.918Z"
   },
   {
    "duration": 39,
    "start_time": "2023-09-05T14:53:10.735Z"
   },
   {
    "duration": 74,
    "start_time": "2023-09-05T15:00:41.012Z"
   },
   {
    "duration": 70,
    "start_time": "2023-09-05T15:00:46.676Z"
   },
   {
    "duration": 16,
    "start_time": "2023-09-05T15:01:08.722Z"
   },
   {
    "duration": 47,
    "start_time": "2023-09-05T15:02:03.241Z"
   },
   {
    "duration": 15,
    "start_time": "2023-09-05T15:03:12.252Z"
   },
   {
    "duration": 37,
    "start_time": "2023-09-05T15:03:33.612Z"
   },
   {
    "duration": 13,
    "start_time": "2023-09-05T15:04:16.386Z"
   },
   {
    "duration": 16,
    "start_time": "2023-09-05T15:04:26.805Z"
   },
   {
    "duration": 13,
    "start_time": "2023-09-05T15:05:02.944Z"
   },
   {
    "duration": 40,
    "start_time": "2023-09-05T15:05:11.632Z"
   },
   {
    "duration": 5,
    "start_time": "2023-09-05T15:06:43.557Z"
   },
   {
    "duration": 10,
    "start_time": "2023-09-05T15:06:57.559Z"
   },
   {
    "duration": 11,
    "start_time": "2023-09-05T15:09:11.984Z"
   },
   {
    "duration": 5,
    "start_time": "2023-09-05T15:10:05.315Z"
   },
   {
    "duration": 4903,
    "start_time": "2023-09-05T15:10:16.364Z"
   },
   {
    "duration": 61,
    "start_time": "2023-09-05T15:10:43.652Z"
   },
   {
    "duration": 78,
    "start_time": "2023-09-05T15:10:53.786Z"
   },
   {
    "duration": 10,
    "start_time": "2023-09-05T15:15:19.388Z"
   },
   {
    "duration": 58,
    "start_time": "2023-09-05T15:16:10.769Z"
   },
   {
    "duration": 35,
    "start_time": "2023-09-05T15:16:30.170Z"
   },
   {
    "duration": 36,
    "start_time": "2023-09-05T15:16:58.449Z"
   },
   {
    "duration": 46,
    "start_time": "2023-09-05T15:18:26.687Z"
   },
   {
    "duration": 64,
    "start_time": "2023-09-05T15:18:39.117Z"
   },
   {
    "duration": 38,
    "start_time": "2023-09-05T15:19:17.709Z"
   },
   {
    "duration": 52,
    "start_time": "2023-09-05T15:22:15.277Z"
   },
   {
    "duration": 42,
    "start_time": "2023-09-05T15:25:20.520Z"
   },
   {
    "duration": 312,
    "start_time": "2023-09-05T15:25:37.989Z"
   },
   {
    "duration": 253,
    "start_time": "2023-09-05T15:25:55.628Z"
   },
   {
    "duration": 186,
    "start_time": "2023-09-05T15:26:06.308Z"
   },
   {
    "duration": 523,
    "start_time": "2023-09-05T15:26:13.400Z"
   },
   {
    "duration": 17,
    "start_time": "2023-09-05T15:26:13.925Z"
   },
   {
    "duration": 2794,
    "start_time": "2023-09-05T15:26:13.943Z"
   },
   {
    "duration": 6,
    "start_time": "2023-09-05T15:26:16.739Z"
   },
   {
    "duration": 80,
    "start_time": "2023-09-05T15:26:16.748Z"
   },
   {
    "duration": 48,
    "start_time": "2023-09-05T15:26:16.830Z"
   },
   {
    "duration": 211,
    "start_time": "2023-09-05T15:26:16.879Z"
   },
   {
    "duration": 5,
    "start_time": "2023-09-05T15:26:17.092Z"
   },
   {
    "duration": 21,
    "start_time": "2023-09-05T15:26:17.099Z"
   },
   {
    "duration": 21,
    "start_time": "2023-09-05T15:26:17.122Z"
   },
   {
    "duration": 40,
    "start_time": "2023-09-05T15:26:17.145Z"
   },
   {
    "duration": 39,
    "start_time": "2023-09-05T15:26:17.186Z"
   },
   {
    "duration": 82,
    "start_time": "2023-09-05T15:26:17.226Z"
   },
   {
    "duration": 4,
    "start_time": "2023-09-05T15:28:14.050Z"
   },
   {
    "duration": 5,
    "start_time": "2023-09-05T15:28:15.738Z"
   },
   {
    "duration": 35,
    "start_time": "2023-09-05T15:28:41.873Z"
   },
   {
    "duration": 32,
    "start_time": "2023-09-05T15:36:31.307Z"
   },
   {
    "duration": 45,
    "start_time": "2023-09-05T15:38:38.990Z"
   },
   {
    "duration": 38,
    "start_time": "2023-09-05T15:38:55.676Z"
   },
   {
    "duration": 29,
    "start_time": "2023-09-05T15:39:01.794Z"
   },
   {
    "duration": 10,
    "start_time": "2023-09-05T15:39:08.490Z"
   },
   {
    "duration": 199,
    "start_time": "2023-09-05T15:40:14.218Z"
   },
   {
    "duration": 6,
    "start_time": "2023-09-05T15:42:00.511Z"
   },
   {
    "duration": 5,
    "start_time": "2023-09-05T15:42:02.590Z"
   },
   {
    "duration": 574,
    "start_time": "2023-09-05T15:42:08.395Z"
   },
   {
    "duration": 24,
    "start_time": "2023-09-05T15:42:08.971Z"
   },
   {
    "duration": 2787,
    "start_time": "2023-09-05T15:42:08.998Z"
   },
   {
    "duration": 6,
    "start_time": "2023-09-05T15:42:11.788Z"
   },
   {
    "duration": 92,
    "start_time": "2023-09-05T15:42:11.797Z"
   },
   {
    "duration": 47,
    "start_time": "2023-09-05T15:42:11.891Z"
   },
   {
    "duration": 33,
    "start_time": "2023-09-05T15:42:11.956Z"
   },
   {
    "duration": 10,
    "start_time": "2023-09-05T15:42:11.990Z"
   },
   {
    "duration": 210,
    "start_time": "2023-09-05T15:42:12.001Z"
   },
   {
    "duration": 5,
    "start_time": "2023-09-05T15:42:12.213Z"
   },
   {
    "duration": 11,
    "start_time": "2023-09-05T15:42:12.220Z"
   },
   {
    "duration": 47,
    "start_time": "2023-09-05T15:42:12.233Z"
   },
   {
    "duration": 40,
    "start_time": "2023-09-05T15:42:12.281Z"
   },
   {
    "duration": 62,
    "start_time": "2023-09-05T15:42:12.325Z"
   },
   {
    "duration": 36,
    "start_time": "2023-09-05T15:43:45.042Z"
   },
   {
    "duration": 90,
    "start_time": "2023-09-05T15:45:15.032Z"
   },
   {
    "duration": 7,
    "start_time": "2023-09-05T15:45:20.378Z"
   },
   {
    "duration": 60,
    "start_time": "2023-09-05T15:46:58.805Z"
   },
   {
    "duration": 50,
    "start_time": "2023-09-05T15:47:30.171Z"
   },
   {
    "duration": 517,
    "start_time": "2023-09-05T15:47:34.708Z"
   },
   {
    "duration": 15,
    "start_time": "2023-09-05T15:47:35.227Z"
   },
   {
    "duration": 2909,
    "start_time": "2023-09-05T15:47:35.244Z"
   },
   {
    "duration": 5,
    "start_time": "2023-09-05T15:47:38.156Z"
   },
   {
    "duration": 71,
    "start_time": "2023-09-05T15:47:38.163Z"
   },
   {
    "duration": 63,
    "start_time": "2023-09-05T15:47:38.237Z"
   },
   {
    "duration": 31,
    "start_time": "2023-09-05T15:47:38.302Z"
   },
   {
    "duration": 53,
    "start_time": "2023-09-05T15:47:38.335Z"
   },
   {
    "duration": 201,
    "start_time": "2023-09-05T15:47:38.390Z"
   },
   {
    "duration": 5,
    "start_time": "2023-09-05T15:47:38.593Z"
   },
   {
    "duration": 7,
    "start_time": "2023-09-05T15:47:38.600Z"
   },
   {
    "duration": 56,
    "start_time": "2023-09-05T15:47:38.609Z"
   },
   {
    "duration": 44,
    "start_time": "2023-09-05T15:47:38.667Z"
   },
   {
    "duration": 115,
    "start_time": "2023-09-05T15:47:38.713Z"
   },
   {
    "duration": 255,
    "start_time": "2023-09-05T15:48:08.808Z"
   },
   {
    "duration": 6,
    "start_time": "2023-09-05T15:48:24.789Z"
   },
   {
    "duration": 546,
    "start_time": "2023-09-05T15:48:49.887Z"
   },
   {
    "duration": 15,
    "start_time": "2023-09-05T15:48:50.435Z"
   },
   {
    "duration": 2821,
    "start_time": "2023-09-05T15:48:50.456Z"
   },
   {
    "duration": 6,
    "start_time": "2023-09-05T15:48:53.279Z"
   },
   {
    "duration": 62,
    "start_time": "2023-09-05T15:48:53.287Z"
   },
   {
    "duration": 44,
    "start_time": "2023-09-05T15:48:53.350Z"
   },
   {
    "duration": 32,
    "start_time": "2023-09-05T15:48:53.395Z"
   },
   {
    "duration": 51,
    "start_time": "2023-09-05T15:48:53.428Z"
   },
   {
    "duration": 216,
    "start_time": "2023-09-05T15:48:53.481Z"
   },
   {
    "duration": 5,
    "start_time": "2023-09-05T15:48:53.699Z"
   },
   {
    "duration": 8,
    "start_time": "2023-09-05T15:48:53.705Z"
   },
   {
    "duration": 53,
    "start_time": "2023-09-05T15:48:53.715Z"
   },
   {
    "duration": 42,
    "start_time": "2023-09-05T15:48:53.769Z"
   },
   {
    "duration": 73,
    "start_time": "2023-09-05T15:48:53.813Z"
   },
   {
    "duration": 179,
    "start_time": "2023-09-05T15:49:04.609Z"
   },
   {
    "duration": 17,
    "start_time": "2023-09-05T15:50:16.990Z"
   },
   {
    "duration": 21,
    "start_time": "2023-09-05T15:50:53.134Z"
   },
   {
    "duration": 574,
    "start_time": "2023-09-05T15:51:24.703Z"
   },
   {
    "duration": 24,
    "start_time": "2023-09-05T15:51:27.758Z"
   },
   {
    "duration": 3292,
    "start_time": "2023-09-05T15:51:30.313Z"
   },
   {
    "duration": 6,
    "start_time": "2023-09-05T15:51:35.587Z"
   },
   {
    "duration": 97,
    "start_time": "2023-09-05T15:51:38.822Z"
   },
   {
    "duration": 590,
    "start_time": "2023-09-05T16:07:05.560Z"
   },
   {
    "duration": 16,
    "start_time": "2023-09-05T16:07:06.156Z"
   },
   {
    "duration": 2879,
    "start_time": "2023-09-05T16:07:06.174Z"
   },
   {
    "duration": 6,
    "start_time": "2023-09-05T16:07:09.055Z"
   },
   {
    "duration": 56,
    "start_time": "2023-09-05T16:07:09.063Z"
   },
   {
    "duration": 62,
    "start_time": "2023-09-05T16:07:09.121Z"
   },
   {
    "duration": 29,
    "start_time": "2023-09-05T16:07:09.185Z"
   },
   {
    "duration": 2,
    "start_time": "2023-09-05T16:07:09.216Z"
   },
   {
    "duration": 216,
    "start_time": "2023-09-05T16:07:09.220Z"
   },
   {
    "duration": 19,
    "start_time": "2023-09-05T16:07:09.439Z"
   },
   {
    "duration": 98,
    "start_time": "2023-09-05T16:07:09.460Z"
   },
   {
    "duration": 0,
    "start_time": "2023-09-05T16:07:09.560Z"
   },
   {
    "duration": 0,
    "start_time": "2023-09-05T16:07:09.561Z"
   },
   {
    "duration": 0,
    "start_time": "2023-09-05T16:07:09.563Z"
   },
   {
    "duration": 7,
    "start_time": "2023-09-05T16:07:32.534Z"
   },
   {
    "duration": 18,
    "start_time": "2023-09-05T16:09:07.952Z"
   },
   {
    "duration": 15,
    "start_time": "2023-09-05T16:09:13.475Z"
   },
   {
    "duration": 586,
    "start_time": "2023-09-05T16:09:53.036Z"
   },
   {
    "duration": 17,
    "start_time": "2023-09-05T16:09:57.228Z"
   },
   {
    "duration": 2844,
    "start_time": "2023-09-05T16:10:01.241Z"
   },
   {
    "duration": 6,
    "start_time": "2023-09-05T16:10:09.076Z"
   },
   {
    "duration": 55,
    "start_time": "2023-09-05T16:10:12.066Z"
   },
   {
    "duration": 4,
    "start_time": "2023-09-05T16:10:43.094Z"
   },
   {
    "duration": 5,
    "start_time": "2023-09-05T16:11:27.664Z"
   },
   {
    "duration": 5,
    "start_time": "2023-09-05T16:11:33.193Z"
   },
   {
    "duration": 7,
    "start_time": "2023-09-05T16:11:42.449Z"
   },
   {
    "duration": 6,
    "start_time": "2023-09-05T16:11:58.038Z"
   },
   {
    "duration": 5,
    "start_time": "2023-09-05T16:12:14.774Z"
   },
   {
    "duration": 6,
    "start_time": "2023-09-05T16:14:09.529Z"
   },
   {
    "duration": 14,
    "start_time": "2023-09-05T16:14:24.563Z"
   },
   {
    "duration": 6,
    "start_time": "2023-09-05T16:14:47.574Z"
   },
   {
    "duration": 8,
    "start_time": "2023-09-05T16:16:07.572Z"
   },
   {
    "duration": 533,
    "start_time": "2023-09-05T16:16:27.193Z"
   },
   {
    "duration": 17,
    "start_time": "2023-09-05T16:16:30.770Z"
   },
   {
    "duration": 2796,
    "start_time": "2023-09-05T16:16:34.088Z"
   },
   {
    "duration": 7,
    "start_time": "2023-09-05T16:16:41.127Z"
   },
   {
    "duration": 55,
    "start_time": "2023-09-05T16:16:44.723Z"
   },
   {
    "duration": 10,
    "start_time": "2023-09-05T16:16:48.816Z"
   },
   {
    "duration": 6,
    "start_time": "2023-09-05T16:17:06.558Z"
   },
   {
    "duration": 6,
    "start_time": "2023-09-05T16:17:16.112Z"
   },
   {
    "duration": 49,
    "start_time": "2023-09-05T16:17:29.757Z"
   },
   {
    "duration": 6,
    "start_time": "2023-09-05T16:17:33.943Z"
   },
   {
    "duration": 43,
    "start_time": "2023-09-05T16:18:21.625Z"
   },
   {
    "duration": 557,
    "start_time": "2023-09-05T16:18:28.079Z"
   },
   {
    "duration": 21,
    "start_time": "2023-09-05T16:18:28.638Z"
   },
   {
    "duration": 2920,
    "start_time": "2023-09-05T16:18:28.661Z"
   },
   {
    "duration": 6,
    "start_time": "2023-09-05T16:18:31.583Z"
   },
   {
    "duration": 76,
    "start_time": "2023-09-05T16:18:31.591Z"
   },
   {
    "duration": 19,
    "start_time": "2023-09-05T16:18:31.669Z"
   },
   {
    "duration": 57,
    "start_time": "2023-09-05T16:18:31.690Z"
   },
   {
    "duration": 82,
    "start_time": "2023-09-05T16:18:31.749Z"
   },
   {
    "duration": 5,
    "start_time": "2023-09-05T16:18:31.833Z"
   },
   {
    "duration": 77,
    "start_time": "2023-09-05T16:18:31.840Z"
   },
   {
    "duration": 2,
    "start_time": "2023-09-05T16:18:31.919Z"
   },
   {
    "duration": 228,
    "start_time": "2023-09-05T16:18:31.923Z"
   },
   {
    "duration": 6,
    "start_time": "2023-09-05T16:18:32.157Z"
   },
   {
    "duration": 41,
    "start_time": "2023-09-05T16:18:32.166Z"
   },
   {
    "duration": 56,
    "start_time": "2023-09-05T16:18:32.209Z"
   },
   {
    "duration": 47,
    "start_time": "2023-09-05T16:18:32.267Z"
   },
   {
    "duration": 60,
    "start_time": "2023-09-05T16:18:32.316Z"
   },
   {
    "duration": 6,
    "start_time": "2023-09-05T16:22:00.971Z"
   },
   {
    "duration": 7,
    "start_time": "2023-09-05T16:22:19.453Z"
   },
   {
    "duration": 8,
    "start_time": "2023-09-05T16:24:31.296Z"
   },
   {
    "duration": 8,
    "start_time": "2023-09-05T16:26:01.558Z"
   },
   {
    "duration": 601,
    "start_time": "2023-09-05T16:28:08.287Z"
   },
   {
    "duration": 25,
    "start_time": "2023-09-05T16:28:08.890Z"
   },
   {
    "duration": 2808,
    "start_time": "2023-09-05T16:28:08.917Z"
   },
   {
    "duration": 6,
    "start_time": "2023-09-05T16:28:11.727Z"
   },
   {
    "duration": 53,
    "start_time": "2023-09-05T16:28:11.736Z"
   },
   {
    "duration": 6,
    "start_time": "2023-09-05T16:28:11.791Z"
   },
   {
    "duration": 7,
    "start_time": "2023-09-05T16:28:11.798Z"
   },
   {
    "duration": 9,
    "start_time": "2023-09-05T16:28:11.806Z"
   },
   {
    "duration": 73,
    "start_time": "2023-09-05T16:28:11.817Z"
   },
   {
    "duration": 7,
    "start_time": "2023-09-05T16:28:11.892Z"
   },
   {
    "duration": 41,
    "start_time": "2023-09-05T16:28:11.901Z"
   },
   {
    "duration": 3,
    "start_time": "2023-09-05T16:28:11.955Z"
   },
   {
    "duration": 199,
    "start_time": "2023-09-05T16:28:11.960Z"
   },
   {
    "duration": 6,
    "start_time": "2023-09-05T16:28:12.161Z"
   },
   {
    "duration": 8,
    "start_time": "2023-09-05T16:28:12.168Z"
   },
   {
    "duration": 31,
    "start_time": "2023-09-05T16:28:12.178Z"
   },
   {
    "duration": 69,
    "start_time": "2023-09-05T16:28:12.210Z"
   },
   {
    "duration": 60,
    "start_time": "2023-09-05T16:28:12.280Z"
   },
   {
    "duration": 594,
    "start_time": "2023-09-05T16:29:07.466Z"
   },
   {
    "duration": 21,
    "start_time": "2023-09-05T16:29:08.062Z"
   },
   {
    "duration": 2891,
    "start_time": "2023-09-05T16:29:08.086Z"
   },
   {
    "duration": 6,
    "start_time": "2023-09-05T16:29:10.979Z"
   },
   {
    "duration": 77,
    "start_time": "2023-09-05T16:29:10.987Z"
   },
   {
    "duration": 26,
    "start_time": "2023-09-05T16:29:11.066Z"
   },
   {
    "duration": 38,
    "start_time": "2023-09-05T16:29:11.094Z"
   },
   {
    "duration": 11,
    "start_time": "2023-09-05T16:29:11.134Z"
   },
   {
    "duration": 59,
    "start_time": "2023-09-05T16:29:11.148Z"
   },
   {
    "duration": 6,
    "start_time": "2023-09-05T16:29:11.209Z"
   },
   {
    "duration": 39,
    "start_time": "2023-09-05T16:29:11.217Z"
   },
   {
    "duration": 3,
    "start_time": "2023-09-05T16:29:11.258Z"
   },
   {
    "duration": 210,
    "start_time": "2023-09-05T16:29:11.263Z"
   },
   {
    "duration": 5,
    "start_time": "2023-09-05T16:29:11.476Z"
   },
   {
    "duration": 7,
    "start_time": "2023-09-05T16:29:11.483Z"
   },
   {
    "duration": 39,
    "start_time": "2023-09-05T16:29:11.491Z"
   },
   {
    "duration": 39,
    "start_time": "2023-09-05T16:29:11.557Z"
   },
   {
    "duration": 69,
    "start_time": "2023-09-05T16:29:11.597Z"
   },
   {
    "duration": 70,
    "start_time": "2023-09-05T16:31:56.766Z"
   },
   {
    "duration": 571,
    "start_time": "2023-09-05T16:32:44.766Z"
   },
   {
    "duration": 20,
    "start_time": "2023-09-05T16:32:45.339Z"
   },
   {
    "duration": 2760,
    "start_time": "2023-09-05T16:32:45.361Z"
   },
   {
    "duration": 6,
    "start_time": "2023-09-05T16:32:48.123Z"
   },
   {
    "duration": 65,
    "start_time": "2023-09-05T16:32:48.131Z"
   },
   {
    "duration": 6,
    "start_time": "2023-09-05T16:32:48.198Z"
   },
   {
    "duration": 11,
    "start_time": "2023-09-05T16:32:48.206Z"
   },
   {
    "duration": 17,
    "start_time": "2023-09-05T16:32:48.219Z"
   },
   {
    "duration": 107,
    "start_time": "2023-09-05T16:32:48.238Z"
   },
   {
    "duration": 34,
    "start_time": "2023-09-05T16:32:48.348Z"
   },
   {
    "duration": 65,
    "start_time": "2023-09-05T16:32:48.384Z"
   },
   {
    "duration": 0,
    "start_time": "2023-09-05T16:32:48.451Z"
   },
   {
    "duration": 0,
    "start_time": "2023-09-05T16:32:48.452Z"
   },
   {
    "duration": 0,
    "start_time": "2023-09-05T16:32:48.454Z"
   },
   {
    "duration": 0,
    "start_time": "2023-09-05T16:32:48.455Z"
   },
   {
    "duration": 0,
    "start_time": "2023-09-05T16:32:48.457Z"
   },
   {
    "duration": 0,
    "start_time": "2023-09-05T16:32:48.458Z"
   },
   {
    "duration": 38,
    "start_time": "2023-09-05T16:33:24.344Z"
   },
   {
    "duration": 559,
    "start_time": "2023-09-05T16:34:26.259Z"
   },
   {
    "duration": 24,
    "start_time": "2023-09-05T16:34:26.821Z"
   },
   {
    "duration": 2775,
    "start_time": "2023-09-05T16:34:26.858Z"
   },
   {
    "duration": 6,
    "start_time": "2023-09-05T16:34:29.635Z"
   },
   {
    "duration": 44,
    "start_time": "2023-09-05T16:34:29.643Z"
   },
   {
    "duration": 5,
    "start_time": "2023-09-05T16:34:29.689Z"
   },
   {
    "duration": 13,
    "start_time": "2023-09-05T16:34:29.695Z"
   },
   {
    "duration": 7,
    "start_time": "2023-09-05T16:34:29.710Z"
   },
   {
    "duration": 62,
    "start_time": "2023-09-05T16:34:29.719Z"
   },
   {
    "duration": 32,
    "start_time": "2023-09-05T16:34:29.783Z"
   },
   {
    "duration": 59,
    "start_time": "2023-09-05T16:34:29.817Z"
   },
   {
    "duration": 208,
    "start_time": "2023-09-05T16:34:29.878Z"
   },
   {
    "duration": 6,
    "start_time": "2023-09-05T16:34:30.089Z"
   },
   {
    "duration": 65,
    "start_time": "2023-09-05T16:34:30.100Z"
   },
   {
    "duration": 60,
    "start_time": "2023-09-05T16:34:30.167Z"
   },
   {
    "duration": 67,
    "start_time": "2023-09-05T16:34:30.229Z"
   },
   {
    "duration": 75,
    "start_time": "2023-09-05T16:34:30.298Z"
   },
   {
    "duration": 69,
    "start_time": "2023-09-05T16:40:03.982Z"
   },
   {
    "duration": 8,
    "start_time": "2023-09-05T16:45:16.069Z"
   },
   {
    "duration": 11,
    "start_time": "2023-09-05T16:45:34.003Z"
   },
   {
    "duration": 11,
    "start_time": "2023-09-05T16:46:23.788Z"
   },
   {
    "duration": 76,
    "start_time": "2023-09-05T16:49:44.571Z"
   },
   {
    "duration": 13,
    "start_time": "2023-09-05T16:49:49.553Z"
   },
   {
    "duration": 9,
    "start_time": "2023-09-05T16:50:24.734Z"
   },
   {
    "duration": 8,
    "start_time": "2023-09-05T16:55:13.651Z"
   },
   {
    "duration": 10,
    "start_time": "2023-09-05T16:56:17.041Z"
   },
   {
    "duration": 1084,
    "start_time": "2023-09-05T16:58:43.537Z"
   },
   {
    "duration": 28,
    "start_time": "2023-09-05T16:59:07.277Z"
   },
   {
    "duration": 12,
    "start_time": "2023-09-05T17:31:30.482Z"
   },
   {
    "duration": 627,
    "start_time": "2023-09-05T17:31:37.075Z"
   },
   {
    "duration": 902,
    "start_time": "2023-09-05T17:31:55.731Z"
   },
   {
    "duration": 19,
    "start_time": "2023-09-05T17:32:05.934Z"
   },
   {
    "duration": 21,
    "start_time": "2023-09-05T17:32:43.659Z"
   },
   {
    "duration": 20,
    "start_time": "2023-09-05T17:33:04.958Z"
   },
   {
    "duration": 589,
    "start_time": "2023-09-05T17:33:13.035Z"
   },
   {
    "duration": 17,
    "start_time": "2023-09-05T17:33:13.626Z"
   },
   {
    "duration": 2672,
    "start_time": "2023-09-05T17:33:13.657Z"
   },
   {
    "duration": 6,
    "start_time": "2023-09-05T17:33:16.332Z"
   },
   {
    "duration": 27,
    "start_time": "2023-09-05T17:33:16.341Z"
   },
   {
    "duration": 40,
    "start_time": "2023-09-05T17:33:16.370Z"
   },
   {
    "duration": 6,
    "start_time": "2023-09-05T17:33:16.412Z"
   },
   {
    "duration": 39,
    "start_time": "2023-09-05T17:33:16.419Z"
   },
   {
    "duration": 7,
    "start_time": "2023-09-05T17:33:16.460Z"
   },
   {
    "duration": 48,
    "start_time": "2023-09-05T17:33:16.469Z"
   },
   {
    "duration": 47,
    "start_time": "2023-09-05T17:33:16.518Z"
   },
   {
    "duration": 34,
    "start_time": "2023-09-05T17:33:16.567Z"
   },
   {
    "duration": 192,
    "start_time": "2023-09-05T17:33:16.603Z"
   },
   {
    "duration": 42,
    "start_time": "2023-09-05T17:33:16.796Z"
   },
   {
    "duration": 37,
    "start_time": "2023-09-05T17:33:16.856Z"
   },
   {
    "duration": 8,
    "start_time": "2023-09-05T17:33:16.895Z"
   },
   {
    "duration": 10,
    "start_time": "2023-09-05T17:33:16.905Z"
   },
   {
    "duration": 15,
    "start_time": "2023-09-05T17:35:05.580Z"
   },
   {
    "duration": 1459,
    "start_time": "2023-09-05T19:38:19.315Z"
   },
   {
    "duration": 25,
    "start_time": "2023-09-05T19:38:20.777Z"
   },
   {
    "duration": 3770,
    "start_time": "2023-09-05T19:38:20.806Z"
   },
   {
    "duration": 6,
    "start_time": "2023-09-05T19:38:24.578Z"
   },
   {
    "duration": 39,
    "start_time": "2023-09-05T19:38:24.587Z"
   },
   {
    "duration": 93,
    "start_time": "2023-09-05T19:38:24.627Z"
   },
   {
    "duration": 6,
    "start_time": "2023-09-05T19:38:24.721Z"
   },
   {
    "duration": 26,
    "start_time": "2023-09-05T19:38:24.729Z"
   },
   {
    "duration": 60,
    "start_time": "2023-09-05T19:38:24.756Z"
   },
   {
    "duration": 91,
    "start_time": "2023-09-05T19:38:24.818Z"
   },
   {
    "duration": 33,
    "start_time": "2023-09-05T19:38:24.911Z"
   },
   {
    "duration": 53,
    "start_time": "2023-09-05T19:38:24.946Z"
   },
   {
    "duration": 248,
    "start_time": "2023-09-05T19:38:25.001Z"
   },
   {
    "duration": 51,
    "start_time": "2023-09-05T19:38:25.259Z"
   },
   {
    "duration": 56,
    "start_time": "2023-09-05T19:38:25.312Z"
   },
   {
    "duration": 19,
    "start_time": "2023-09-05T19:38:25.377Z"
   },
   {
    "duration": 16,
    "start_time": "2023-09-05T19:38:25.398Z"
   },
   {
    "duration": 30,
    "start_time": "2023-09-05T19:38:25.416Z"
   },
   {
    "duration": 1668,
    "start_time": "2023-09-05T19:41:10.728Z"
   },
   {
    "duration": 6,
    "start_time": "2023-09-05T19:41:23.771Z"
   },
   {
    "duration": 5,
    "start_time": "2023-09-05T19:41:34.498Z"
   },
   {
    "duration": 68,
    "start_time": "2023-09-05T19:42:09.397Z"
   },
   {
    "duration": 52,
    "start_time": "2023-09-05T19:42:28.339Z"
   },
   {
    "duration": 83,
    "start_time": "2023-09-05T19:42:50.819Z"
   },
   {
    "duration": 1456,
    "start_time": "2023-09-05T20:11:13.689Z"
   },
   {
    "duration": 8,
    "start_time": "2023-09-05T20:11:20.073Z"
   },
   {
    "duration": 56,
    "start_time": "2023-09-05T20:19:05.834Z"
   },
   {
    "duration": 47,
    "start_time": "2023-09-05T20:19:16.334Z"
   },
   {
    "duration": 9,
    "start_time": "2023-09-05T20:24:13.073Z"
   },
   {
    "duration": 13,
    "start_time": "2023-09-05T20:25:13.663Z"
   },
   {
    "duration": 1450,
    "start_time": "2023-09-05T20:27:57.427Z"
   },
   {
    "duration": 1285,
    "start_time": "2023-09-06T07:17:49.678Z"
   },
   {
    "duration": 17,
    "start_time": "2023-09-06T07:17:50.965Z"
   },
   {
    "duration": 3478,
    "start_time": "2023-09-06T07:17:50.984Z"
   },
   {
    "duration": 6,
    "start_time": "2023-09-06T07:17:54.464Z"
   },
   {
    "duration": 52,
    "start_time": "2023-09-06T07:17:54.472Z"
   },
   {
    "duration": 61,
    "start_time": "2023-09-06T07:17:54.531Z"
   },
   {
    "duration": 28,
    "start_time": "2023-09-06T07:17:54.593Z"
   },
   {
    "duration": 19,
    "start_time": "2023-09-06T07:17:54.625Z"
   },
   {
    "duration": 16,
    "start_time": "2023-09-06T07:17:54.646Z"
   },
   {
    "duration": 77,
    "start_time": "2023-09-06T07:17:54.664Z"
   },
   {
    "duration": 33,
    "start_time": "2023-09-06T07:17:54.742Z"
   },
   {
    "duration": 58,
    "start_time": "2023-09-06T07:17:54.777Z"
   },
   {
    "duration": 216,
    "start_time": "2023-09-06T07:17:54.842Z"
   },
   {
    "duration": 38,
    "start_time": "2023-09-06T07:17:55.060Z"
   },
   {
    "duration": 58,
    "start_time": "2023-09-06T07:17:55.110Z"
   },
   {
    "duration": 46,
    "start_time": "2023-09-06T07:17:55.170Z"
   },
   {
    "duration": 23,
    "start_time": "2023-09-06T07:17:55.218Z"
   },
   {
    "duration": 79,
    "start_time": "2023-09-06T07:17:55.244Z"
   },
   {
    "duration": 9,
    "start_time": "2023-09-06T07:17:55.325Z"
   },
   {
    "duration": 65,
    "start_time": "2023-09-06T07:17:55.336Z"
   },
   {
    "duration": 55,
    "start_time": "2023-09-06T07:17:55.403Z"
   },
   {
    "duration": 1793,
    "start_time": "2023-09-06T07:17:55.459Z"
   },
   {
    "duration": 6,
    "start_time": "2023-09-06T07:18:08.367Z"
   },
   {
    "duration": 16,
    "start_time": "2023-09-06T07:19:00.232Z"
   },
   {
    "duration": 6,
    "start_time": "2023-09-06T07:21:21.161Z"
   },
   {
    "duration": 38,
    "start_time": "2023-09-06T07:22:08.765Z"
   },
   {
    "duration": 38,
    "start_time": "2023-09-06T07:24:47.664Z"
   },
   {
    "duration": 6,
    "start_time": "2023-09-06T07:26:02.863Z"
   },
   {
    "duration": 5,
    "start_time": "2023-09-06T07:26:06.091Z"
   },
   {
    "duration": 6,
    "start_time": "2023-09-06T07:26:21.373Z"
   },
   {
    "duration": 12,
    "start_time": "2023-09-06T07:27:27.836Z"
   },
   {
    "duration": 207,
    "start_time": "2023-09-06T07:27:32.666Z"
   },
   {
    "duration": 11,
    "start_time": "2023-09-06T07:27:47.982Z"
   },
   {
    "duration": 4,
    "start_time": "2023-09-06T07:27:52.069Z"
   },
   {
    "duration": 14,
    "start_time": "2023-09-06T07:28:11.469Z"
   },
   {
    "duration": 10,
    "start_time": "2023-09-06T07:28:12.738Z"
   },
   {
    "duration": 55,
    "start_time": "2023-09-06T07:33:34.017Z"
   },
   {
    "duration": 638,
    "start_time": "2023-09-06T07:33:41.197Z"
   },
   {
    "duration": 27,
    "start_time": "2023-09-06T07:33:41.838Z"
   },
   {
    "duration": 3412,
    "start_time": "2023-09-06T07:33:41.868Z"
   },
   {
    "duration": 8,
    "start_time": "2023-09-06T07:33:45.283Z"
   },
   {
    "duration": 57,
    "start_time": "2023-09-06T07:33:45.295Z"
   },
   {
    "duration": 74,
    "start_time": "2023-09-06T07:33:45.354Z"
   },
   {
    "duration": 10,
    "start_time": "2023-09-06T07:33:45.434Z"
   },
   {
    "duration": 151,
    "start_time": "2023-09-06T07:33:45.446Z"
   },
   {
    "duration": 185,
    "start_time": "2023-09-06T07:33:45.599Z"
   },
   {
    "duration": 204,
    "start_time": "2023-09-06T07:33:45.787Z"
   },
   {
    "duration": 40,
    "start_time": "2023-09-06T07:33:45.993Z"
   },
   {
    "duration": 42,
    "start_time": "2023-09-06T07:33:46.034Z"
   },
   {
    "duration": 312,
    "start_time": "2023-09-06T07:33:46.078Z"
   },
   {
    "duration": 62,
    "start_time": "2023-09-06T07:33:46.392Z"
   },
   {
    "duration": 73,
    "start_time": "2023-09-06T07:33:46.456Z"
   },
   {
    "duration": 13,
    "start_time": "2023-09-06T07:33:46.534Z"
   },
   {
    "duration": 18,
    "start_time": "2023-09-06T07:33:46.550Z"
   },
   {
    "duration": 8,
    "start_time": "2023-09-06T07:33:46.583Z"
   },
   {
    "duration": 67,
    "start_time": "2023-09-06T07:33:46.595Z"
   },
   {
    "duration": 12,
    "start_time": "2023-09-06T07:33:46.665Z"
   },
   {
    "duration": 47,
    "start_time": "2023-09-06T07:33:46.679Z"
   },
   {
    "duration": 54,
    "start_time": "2023-09-06T07:33:46.728Z"
   },
   {
    "duration": 75,
    "start_time": "2023-09-06T07:33:46.785Z"
   },
   {
    "duration": 7,
    "start_time": "2023-09-06T07:33:46.862Z"
   },
   {
    "duration": 7,
    "start_time": "2023-09-06T07:33:56.800Z"
   },
   {
    "duration": 46,
    "start_time": "2023-09-06T07:34:51.225Z"
   },
   {
    "duration": 50,
    "start_time": "2023-09-06T07:47:17.681Z"
   },
   {
    "duration": 151,
    "start_time": "2023-09-06T07:47:49.079Z"
   },
   {
    "duration": 44,
    "start_time": "2023-09-06T07:47:57.993Z"
   },
   {
    "duration": 40,
    "start_time": "2023-09-06T07:49:04.631Z"
   },
   {
    "duration": 37,
    "start_time": "2023-09-06T07:49:11.966Z"
   },
   {
    "duration": 4,
    "start_time": "2023-09-06T07:49:33.266Z"
   },
   {
    "duration": 32,
    "start_time": "2023-09-06T07:51:48.585Z"
   },
   {
    "duration": 25,
    "start_time": "2023-09-06T07:52:36.377Z"
   },
   {
    "duration": 445,
    "start_time": "2023-09-06T07:53:21.161Z"
   },
   {
    "duration": 1511,
    "start_time": "2023-09-06T07:54:57.573Z"
   },
   {
    "duration": 1075,
    "start_time": "2023-09-06T07:56:43.274Z"
   },
   {
    "duration": 29,
    "start_time": "2023-09-06T07:58:13.134Z"
   },
   {
    "duration": 20,
    "start_time": "2023-09-06T07:58:39.477Z"
   },
   {
    "duration": 34,
    "start_time": "2023-09-06T07:59:10.505Z"
   },
   {
    "duration": 91,
    "start_time": "2023-09-06T07:59:45.330Z"
   },
   {
    "duration": 57,
    "start_time": "2023-09-06T08:00:50.990Z"
   },
   {
    "duration": 25,
    "start_time": "2023-09-06T08:01:09.315Z"
   },
   {
    "duration": 29,
    "start_time": "2023-09-06T08:01:45.365Z"
   },
   {
    "duration": 74,
    "start_time": "2023-09-06T08:02:52.543Z"
   },
   {
    "duration": 59,
    "start_time": "2023-09-06T08:03:00.027Z"
   },
   {
    "duration": 79,
    "start_time": "2023-09-06T08:03:14.573Z"
   },
   {
    "duration": 9,
    "start_time": "2023-09-06T08:12:16.683Z"
   },
   {
    "duration": 19,
    "start_time": "2023-09-06T08:12:38.135Z"
   },
   {
    "duration": 10,
    "start_time": "2023-09-06T08:13:12.771Z"
   },
   {
    "duration": 64,
    "start_time": "2023-09-06T08:13:33.897Z"
   },
   {
    "duration": 80,
    "start_time": "2023-09-06T08:13:52.643Z"
   },
   {
    "duration": 85,
    "start_time": "2023-09-06T08:13:58.737Z"
   },
   {
    "duration": 23,
    "start_time": "2023-09-06T08:18:12.105Z"
   },
   {
    "duration": 18,
    "start_time": "2023-09-06T08:18:19.964Z"
   },
   {
    "duration": 45,
    "start_time": "2023-09-06T08:18:39.972Z"
   },
   {
    "duration": 34,
    "start_time": "2023-09-06T08:19:54.362Z"
   },
   {
    "duration": 42,
    "start_time": "2023-09-06T08:20:00.630Z"
   },
   {
    "duration": 13,
    "start_time": "2023-09-06T08:20:15.246Z"
   },
   {
    "duration": 13,
    "start_time": "2023-09-06T08:20:27.966Z"
   },
   {
    "duration": 16,
    "start_time": "2023-09-06T08:21:28.390Z"
   },
   {
    "duration": 49,
    "start_time": "2023-09-06T08:25:05.483Z"
   },
   {
    "duration": 63,
    "start_time": "2023-09-06T08:25:38.630Z"
   },
   {
    "duration": 7,
    "start_time": "2023-09-06T08:28:39.066Z"
   },
   {
    "duration": 3603,
    "start_time": "2023-09-06T08:30:18.369Z"
   },
   {
    "duration": 18,
    "start_time": "2023-09-06T08:30:29.838Z"
   },
   {
    "duration": 24,
    "start_time": "2023-09-06T08:30:46.109Z"
   },
   {
    "duration": 8,
    "start_time": "2023-09-06T08:30:59.774Z"
   },
   {
    "duration": 15,
    "start_time": "2023-09-06T08:31:07.365Z"
   },
   {
    "duration": 6,
    "start_time": "2023-09-06T08:32:10.356Z"
   },
   {
    "duration": 7,
    "start_time": "2023-09-06T08:32:29.869Z"
   },
   {
    "duration": 16,
    "start_time": "2023-09-06T08:32:31.724Z"
   },
   {
    "duration": 15,
    "start_time": "2023-09-06T08:32:40.490Z"
   },
   {
    "duration": 16,
    "start_time": "2023-09-06T08:35:53.806Z"
   },
   {
    "duration": 48,
    "start_time": "2023-09-06T08:46:52.099Z"
   },
   {
    "duration": 45,
    "start_time": "2023-09-06T08:47:16.196Z"
   },
   {
    "duration": 33,
    "start_time": "2023-09-06T08:47:42.490Z"
   },
   {
    "duration": 17,
    "start_time": "2023-09-06T08:52:51.708Z"
   },
   {
    "duration": 13,
    "start_time": "2023-09-06T08:53:09.260Z"
   },
   {
    "duration": 10,
    "start_time": "2023-09-06T08:53:31.266Z"
   },
   {
    "duration": 19,
    "start_time": "2023-09-06T08:54:34.483Z"
   },
   {
    "duration": 9,
    "start_time": "2023-09-06T08:54:59.852Z"
   },
   {
    "duration": 11,
    "start_time": "2023-09-06T08:58:37.934Z"
   },
   {
    "duration": 53,
    "start_time": "2023-09-06T09:02:31.243Z"
   },
   {
    "duration": 57,
    "start_time": "2023-09-06T09:02:39.584Z"
   },
   {
    "duration": 72,
    "start_time": "2023-09-06T09:03:24.799Z"
   },
   {
    "duration": 107,
    "start_time": "2023-09-06T09:04:41.398Z"
   },
   {
    "duration": 105,
    "start_time": "2023-09-06T09:05:04.264Z"
   },
   {
    "duration": 27,
    "start_time": "2023-09-06T09:07:59.960Z"
   },
   {
    "duration": 24,
    "start_time": "2023-09-06T09:08:07.154Z"
   },
   {
    "duration": 119,
    "start_time": "2023-09-06T09:08:10.142Z"
   },
   {
    "duration": 24,
    "start_time": "2023-09-06T09:08:18.596Z"
   },
   {
    "duration": 856,
    "start_time": "2023-09-06T09:08:31.011Z"
   },
   {
    "duration": 54,
    "start_time": "2023-09-06T09:08:31.871Z"
   },
   {
    "duration": 26,
    "start_time": "2023-09-06T09:08:31.928Z"
   },
   {
    "duration": 3598,
    "start_time": "2023-09-06T09:08:31.957Z"
   },
   {
    "duration": 9,
    "start_time": "2023-09-06T09:08:35.559Z"
   },
   {
    "duration": 241,
    "start_time": "2023-09-06T09:08:35.573Z"
   },
   {
    "duration": 153,
    "start_time": "2023-09-06T09:08:35.817Z"
   },
   {
    "duration": 8,
    "start_time": "2023-09-06T09:08:35.973Z"
   },
   {
    "duration": 11,
    "start_time": "2023-09-06T09:08:35.983Z"
   },
   {
    "duration": 15,
    "start_time": "2023-09-06T09:08:36.011Z"
   },
   {
    "duration": 93,
    "start_time": "2023-09-06T09:08:36.029Z"
   },
   {
    "duration": 59,
    "start_time": "2023-09-06T09:08:36.126Z"
   },
   {
    "duration": 74,
    "start_time": "2023-09-06T09:08:36.187Z"
   },
   {
    "duration": 359,
    "start_time": "2023-09-06T09:08:36.265Z"
   },
   {
    "duration": 64,
    "start_time": "2023-09-06T09:08:36.627Z"
   },
   {
    "duration": 33,
    "start_time": "2023-09-06T09:08:36.693Z"
   },
   {
    "duration": 98,
    "start_time": "2023-09-06T09:08:36.728Z"
   },
   {
    "duration": 16,
    "start_time": "2023-09-06T09:08:36.828Z"
   },
   {
    "duration": 24,
    "start_time": "2023-09-06T09:08:36.847Z"
   },
   {
    "duration": 34,
    "start_time": "2023-09-06T09:08:36.874Z"
   },
   {
    "duration": 52,
    "start_time": "2023-09-06T09:08:36.911Z"
   },
   {
    "duration": 18,
    "start_time": "2023-09-06T09:08:36.965Z"
   },
   {
    "duration": 41,
    "start_time": "2023-09-06T09:08:36.986Z"
   },
   {
    "duration": 59,
    "start_time": "2023-09-06T09:08:37.030Z"
   },
   {
    "duration": 57,
    "start_time": "2023-09-06T09:08:37.111Z"
   },
   {
    "duration": 7,
    "start_time": "2023-09-06T09:08:37.171Z"
   },
   {
    "duration": 31,
    "start_time": "2023-09-06T09:08:37.181Z"
   },
   {
    "duration": 7,
    "start_time": "2023-09-06T09:08:37.215Z"
   },
   {
    "duration": 18,
    "start_time": "2023-09-06T09:08:37.224Z"
   },
   {
    "duration": 23,
    "start_time": "2023-09-06T09:08:37.245Z"
   },
   {
    "duration": 93,
    "start_time": "2023-09-06T09:08:37.271Z"
   },
   {
    "duration": 72,
    "start_time": "2023-09-06T09:08:37.366Z"
   },
   {
    "duration": 10,
    "start_time": "2023-09-06T09:08:37.441Z"
   },
   {
    "duration": 25,
    "start_time": "2023-09-06T09:08:37.453Z"
   },
   {
    "duration": 48,
    "start_time": "2023-09-06T09:08:37.480Z"
   },
   {
    "duration": 15,
    "start_time": "2023-09-06T09:08:37.532Z"
   },
   {
    "duration": 110,
    "start_time": "2023-09-06T09:08:37.550Z"
   },
   {
    "duration": 6,
    "start_time": "2023-09-06T09:10:52.240Z"
   },
   {
    "duration": 109,
    "start_time": "2023-09-06T09:12:16.111Z"
   },
   {
    "duration": 11,
    "start_time": "2023-09-06T09:12:26.144Z"
   },
   {
    "duration": 16,
    "start_time": "2023-09-06T09:12:31.568Z"
   },
   {
    "duration": 10,
    "start_time": "2023-09-06T09:12:36.940Z"
   },
   {
    "duration": 42,
    "start_time": "2023-09-06T09:12:54.916Z"
   },
   {
    "duration": 59,
    "start_time": "2023-09-06T09:13:31.789Z"
   },
   {
    "duration": 109,
    "start_time": "2023-09-06T09:14:03.950Z"
   },
   {
    "duration": 113,
    "start_time": "2023-09-06T09:14:26.611Z"
   },
   {
    "duration": 1146,
    "start_time": "2023-09-06T13:06:17.640Z"
   },
   {
    "duration": 27,
    "start_time": "2023-09-06T13:06:18.788Z"
   },
   {
    "duration": 15,
    "start_time": "2023-09-06T13:06:18.817Z"
   },
   {
    "duration": 2997,
    "start_time": "2023-09-06T13:06:18.834Z"
   },
   {
    "duration": 6,
    "start_time": "2023-09-06T13:06:21.834Z"
   },
   {
    "duration": 26,
    "start_time": "2023-09-06T13:06:21.842Z"
   },
   {
    "duration": 42,
    "start_time": "2023-09-06T13:06:21.870Z"
   },
   {
    "duration": 6,
    "start_time": "2023-09-06T13:06:21.914Z"
   },
   {
    "duration": 14,
    "start_time": "2023-09-06T13:06:21.922Z"
   },
   {
    "duration": 13,
    "start_time": "2023-09-06T13:06:21.938Z"
   },
   {
    "duration": 57,
    "start_time": "2023-09-06T13:06:21.954Z"
   },
   {
    "duration": 32,
    "start_time": "2023-09-06T13:06:22.013Z"
   },
   {
    "duration": 38,
    "start_time": "2023-09-06T13:06:22.047Z"
   },
   {
    "duration": 207,
    "start_time": "2023-09-06T13:06:22.113Z"
   },
   {
    "duration": 40,
    "start_time": "2023-09-06T13:06:22.322Z"
   },
   {
    "duration": 54,
    "start_time": "2023-09-06T13:06:22.364Z"
   },
   {
    "duration": 53,
    "start_time": "2023-09-06T13:06:22.420Z"
   },
   {
    "duration": 34,
    "start_time": "2023-09-06T13:06:22.475Z"
   },
   {
    "duration": 10,
    "start_time": "2023-09-06T13:06:22.512Z"
   },
   {
    "duration": 6,
    "start_time": "2023-09-06T13:06:22.524Z"
   },
   {
    "duration": 36,
    "start_time": "2023-09-06T13:06:22.532Z"
   },
   {
    "duration": 61,
    "start_time": "2023-09-06T13:06:22.570Z"
   },
   {
    "duration": 10,
    "start_time": "2023-09-06T13:06:22.633Z"
   },
   {
    "duration": 33,
    "start_time": "2023-09-06T13:06:22.645Z"
   },
   {
    "duration": 57,
    "start_time": "2023-09-06T13:06:22.680Z"
   },
   {
    "duration": 45,
    "start_time": "2023-09-06T13:06:22.739Z"
   },
   {
    "duration": 5,
    "start_time": "2023-09-06T13:06:22.786Z"
   },
   {
    "duration": 21,
    "start_time": "2023-09-06T13:06:22.792Z"
   },
   {
    "duration": 1418,
    "start_time": "2023-09-06T13:08:02.369Z"
   },
   {
    "duration": 55,
    "start_time": "2023-09-06T13:08:12.055Z"
   },
   {
    "duration": 10,
    "start_time": "2023-09-06T13:12:13.720Z"
   },
   {
    "duration": 191,
    "start_time": "2023-09-06T13:12:18.508Z"
   },
   {
    "duration": 115,
    "start_time": "2023-09-06T13:12:45.847Z"
   },
   {
    "duration": 41,
    "start_time": "2023-09-06T13:13:27.163Z"
   },
   {
    "duration": 42,
    "start_time": "2023-09-06T13:14:10.344Z"
   },
   {
    "duration": 549,
    "start_time": "2023-09-06T13:14:28.342Z"
   },
   {
    "duration": 31,
    "start_time": "2023-09-06T13:14:28.893Z"
   },
   {
    "duration": 16,
    "start_time": "2023-09-06T13:14:28.926Z"
   },
   {
    "duration": 2928,
    "start_time": "2023-09-06T13:14:28.943Z"
   },
   {
    "duration": 6,
    "start_time": "2023-09-06T13:14:31.875Z"
   },
   {
    "duration": 107,
    "start_time": "2023-09-06T13:14:31.884Z"
   },
   {
    "duration": 91,
    "start_time": "2023-09-06T13:14:31.993Z"
   },
   {
    "duration": 19,
    "start_time": "2023-09-06T13:14:32.086Z"
   },
   {
    "duration": 42,
    "start_time": "2023-09-06T13:14:32.107Z"
   },
   {
    "duration": 13,
    "start_time": "2023-09-06T13:14:32.151Z"
   },
   {
    "duration": 56,
    "start_time": "2023-09-06T13:14:32.166Z"
   },
   {
    "duration": 34,
    "start_time": "2023-09-06T13:14:32.224Z"
   },
   {
    "duration": 58,
    "start_time": "2023-09-06T13:14:32.260Z"
   },
   {
    "duration": 223,
    "start_time": "2023-09-06T13:14:32.321Z"
   },
   {
    "duration": 64,
    "start_time": "2023-09-06T13:14:32.547Z"
   },
   {
    "duration": 16,
    "start_time": "2023-09-06T13:14:32.613Z"
   },
   {
    "duration": 82,
    "start_time": "2023-09-06T13:14:32.632Z"
   },
   {
    "duration": 11,
    "start_time": "2023-09-06T13:14:32.717Z"
   },
   {
    "duration": 18,
    "start_time": "2023-09-06T13:14:32.730Z"
   },
   {
    "duration": 15,
    "start_time": "2023-09-06T13:14:32.750Z"
   },
   {
    "duration": 10,
    "start_time": "2023-09-06T13:14:32.768Z"
   },
   {
    "duration": 51,
    "start_time": "2023-09-06T13:14:32.809Z"
   },
   {
    "duration": 12,
    "start_time": "2023-09-06T13:14:32.863Z"
   },
   {
    "duration": 33,
    "start_time": "2023-09-06T13:14:32.877Z"
   },
   {
    "duration": 50,
    "start_time": "2023-09-06T13:14:32.913Z"
   },
   {
    "duration": 68,
    "start_time": "2023-09-06T13:14:32.965Z"
   },
   {
    "duration": 6,
    "start_time": "2023-09-06T13:14:33.035Z"
   },
   {
    "duration": 97,
    "start_time": "2023-09-06T13:14:33.043Z"
   },
   {
    "duration": 47,
    "start_time": "2023-09-06T13:14:39.120Z"
   },
   {
    "duration": 6,
    "start_time": "2023-09-06T13:14:54.740Z"
   },
   {
    "duration": 49,
    "start_time": "2023-09-06T13:16:00.675Z"
   },
   {
    "duration": 49,
    "start_time": "2023-09-06T13:16:25.399Z"
   },
   {
    "duration": 8,
    "start_time": "2023-09-06T13:17:07.802Z"
   },
   {
    "duration": 8,
    "start_time": "2023-09-06T13:17:34.223Z"
   },
   {
    "duration": 9,
    "start_time": "2023-09-06T13:17:41.534Z"
   },
   {
    "duration": 14,
    "start_time": "2023-09-06T13:17:41.546Z"
   },
   {
    "duration": 19,
    "start_time": "2023-09-06T13:17:41.562Z"
   },
   {
    "duration": 16,
    "start_time": "2023-09-06T13:17:41.583Z"
   },
   {
    "duration": 9,
    "start_time": "2023-09-06T13:17:41.601Z"
   },
   {
    "duration": 12,
    "start_time": "2023-09-06T13:17:41.612Z"
   },
   {
    "duration": 8,
    "start_time": "2023-09-06T13:17:41.626Z"
   },
   {
    "duration": 5,
    "start_time": "2023-09-06T13:17:41.636Z"
   },
   {
    "duration": 8,
    "start_time": "2023-09-06T13:17:41.643Z"
   },
   {
    "duration": 52,
    "start_time": "2023-09-06T13:18:08.270Z"
   },
   {
    "duration": 7,
    "start_time": "2023-09-06T13:18:14.408Z"
   },
   {
    "duration": 0,
    "start_time": "2023-09-06T13:18:14.417Z"
   },
   {
    "duration": 0,
    "start_time": "2023-09-06T13:18:14.418Z"
   },
   {
    "duration": 0,
    "start_time": "2023-09-06T13:18:14.419Z"
   },
   {
    "duration": 16,
    "start_time": "2023-09-06T13:18:14.422Z"
   },
   {
    "duration": 0,
    "start_time": "2023-09-06T13:18:14.440Z"
   },
   {
    "duration": 0,
    "start_time": "2023-09-06T13:18:14.441Z"
   },
   {
    "duration": 0,
    "start_time": "2023-09-06T13:18:14.442Z"
   },
   {
    "duration": 7,
    "start_time": "2023-09-06T13:18:14.924Z"
   },
   {
    "duration": 8,
    "start_time": "2023-09-06T13:18:28.072Z"
   },
   {
    "duration": 595,
    "start_time": "2023-09-06T13:18:41.174Z"
   },
   {
    "duration": 27,
    "start_time": "2023-09-06T13:18:41.772Z"
   },
   {
    "duration": 21,
    "start_time": "2023-09-06T13:18:41.801Z"
   },
   {
    "duration": 2966,
    "start_time": "2023-09-06T13:18:41.825Z"
   },
   {
    "duration": 7,
    "start_time": "2023-09-06T13:18:44.794Z"
   },
   {
    "duration": 136,
    "start_time": "2023-09-06T13:18:44.803Z"
   },
   {
    "duration": 44,
    "start_time": "2023-09-06T13:18:44.941Z"
   },
   {
    "duration": 5,
    "start_time": "2023-09-06T13:18:44.987Z"
   },
   {
    "duration": 26,
    "start_time": "2023-09-06T13:18:44.994Z"
   },
   {
    "duration": 41,
    "start_time": "2023-09-06T13:18:45.023Z"
   },
   {
    "duration": 64,
    "start_time": "2023-09-06T13:18:45.066Z"
   },
   {
    "duration": 34,
    "start_time": "2023-09-06T13:18:45.132Z"
   },
   {
    "duration": 54,
    "start_time": "2023-09-06T13:18:45.168Z"
   },
   {
    "duration": 244,
    "start_time": "2023-09-06T13:18:45.224Z"
   },
   {
    "duration": 49,
    "start_time": "2023-09-06T13:18:45.471Z"
   },
   {
    "duration": 13,
    "start_time": "2023-09-06T13:18:45.521Z"
   },
   {
    "duration": 52,
    "start_time": "2023-09-06T13:18:45.535Z"
   },
   {
    "duration": 22,
    "start_time": "2023-09-06T13:18:45.589Z"
   },
   {
    "duration": 7,
    "start_time": "2023-09-06T13:18:45.613Z"
   },
   {
    "duration": 4,
    "start_time": "2023-09-06T13:18:45.623Z"
   },
   {
    "duration": 10,
    "start_time": "2023-09-06T13:18:45.628Z"
   },
   {
    "duration": 41,
    "start_time": "2023-09-06T13:18:45.640Z"
   },
   {
    "duration": 32,
    "start_time": "2023-09-06T13:18:45.683Z"
   },
   {
    "duration": 19,
    "start_time": "2023-09-06T13:18:45.716Z"
   },
   {
    "duration": 37,
    "start_time": "2023-09-06T13:18:45.736Z"
   },
   {
    "duration": 59,
    "start_time": "2023-09-06T13:18:45.775Z"
   },
   {
    "duration": 5,
    "start_time": "2023-09-06T13:18:45.835Z"
   },
   {
    "duration": 5,
    "start_time": "2023-09-06T13:18:45.844Z"
   },
   {
    "duration": 67,
    "start_time": "2023-09-06T13:18:45.851Z"
   },
   {
    "duration": 14,
    "start_time": "2023-09-06T13:18:50.678Z"
   },
   {
    "duration": 24,
    "start_time": "2023-09-06T13:19:01.847Z"
   },
   {
    "duration": 43,
    "start_time": "2023-09-06T13:19:13.716Z"
   },
   {
    "duration": 11,
    "start_time": "2023-09-06T13:19:38.951Z"
   },
   {
    "duration": 9,
    "start_time": "2023-09-06T13:19:57.079Z"
   },
   {
    "duration": 14,
    "start_time": "2023-09-06T13:20:00.152Z"
   },
   {
    "duration": 36,
    "start_time": "2023-09-06T13:20:44.433Z"
   },
   {
    "duration": 52,
    "start_time": "2023-09-06T13:20:54.874Z"
   },
   {
    "duration": 2012,
    "start_time": "2023-09-06T13:21:14.019Z"
   },
   {
    "duration": 1827,
    "start_time": "2023-09-06T13:21:16.626Z"
   },
   {
    "duration": 53,
    "start_time": "2023-09-06T13:21:24.601Z"
   },
   {
    "duration": 16,
    "start_time": "2023-09-06T13:24:41.158Z"
   },
   {
    "duration": 32,
    "start_time": "2023-09-06T13:24:44.588Z"
   },
   {
    "duration": 605,
    "start_time": "2023-09-06T13:29:06.601Z"
   },
   {
    "duration": 28,
    "start_time": "2023-09-06T13:29:07.208Z"
   },
   {
    "duration": 18,
    "start_time": "2023-09-06T13:29:07.238Z"
   },
   {
    "duration": 2945,
    "start_time": "2023-09-06T13:29:07.258Z"
   },
   {
    "duration": 9,
    "start_time": "2023-09-06T13:29:10.207Z"
   },
   {
    "duration": 43,
    "start_time": "2023-09-06T13:29:10.218Z"
   },
   {
    "duration": 68,
    "start_time": "2023-09-06T13:29:10.263Z"
   },
   {
    "duration": 6,
    "start_time": "2023-09-06T13:29:10.332Z"
   },
   {
    "duration": 10,
    "start_time": "2023-09-06T13:29:10.341Z"
   },
   {
    "duration": 14,
    "start_time": "2023-09-06T13:29:10.353Z"
   },
   {
    "duration": 88,
    "start_time": "2023-09-06T13:29:10.369Z"
   },
   {
    "duration": 35,
    "start_time": "2023-09-06T13:29:10.459Z"
   },
   {
    "duration": 65,
    "start_time": "2023-09-06T13:29:10.496Z"
   },
   {
    "duration": 223,
    "start_time": "2023-09-06T13:29:10.565Z"
   },
   {
    "duration": 47,
    "start_time": "2023-09-06T13:29:10.791Z"
   },
   {
    "duration": 12,
    "start_time": "2023-09-06T13:29:10.841Z"
   },
   {
    "duration": 66,
    "start_time": "2023-09-06T13:29:10.855Z"
   },
   {
    "duration": 11,
    "start_time": "2023-09-06T13:29:10.923Z"
   },
   {
    "duration": 8,
    "start_time": "2023-09-06T13:29:10.936Z"
   },
   {
    "duration": 6,
    "start_time": "2023-09-06T13:29:10.947Z"
   },
   {
    "duration": 9,
    "start_time": "2023-09-06T13:29:10.955Z"
   },
   {
    "duration": 83,
    "start_time": "2023-09-06T13:29:10.966Z"
   },
   {
    "duration": 9,
    "start_time": "2023-09-06T13:29:11.051Z"
   },
   {
    "duration": 19,
    "start_time": "2023-09-06T13:29:11.062Z"
   },
   {
    "duration": 58,
    "start_time": "2023-09-06T13:29:11.083Z"
   },
   {
    "duration": 38,
    "start_time": "2023-09-06T13:29:11.143Z"
   },
   {
    "duration": 27,
    "start_time": "2023-09-06T13:29:11.183Z"
   },
   {
    "duration": 6,
    "start_time": "2023-09-06T13:29:11.212Z"
   },
   {
    "duration": 53,
    "start_time": "2023-09-06T13:29:20.528Z"
   },
   {
    "duration": 37,
    "start_time": "2023-09-06T13:29:29.099Z"
   },
   {
    "duration": 34,
    "start_time": "2023-09-06T13:29:37.880Z"
   },
   {
    "duration": 583,
    "start_time": "2023-09-06T13:32:09.825Z"
   },
   {
    "duration": 36,
    "start_time": "2023-09-06T13:32:10.411Z"
   },
   {
    "duration": 20,
    "start_time": "2023-09-06T13:32:10.449Z"
   },
   {
    "duration": 3207,
    "start_time": "2023-09-06T13:32:10.472Z"
   },
   {
    "duration": 5,
    "start_time": "2023-09-06T13:32:13.681Z"
   },
   {
    "duration": 23,
    "start_time": "2023-09-06T13:32:13.688Z"
   },
   {
    "duration": 48,
    "start_time": "2023-09-06T13:32:13.713Z"
   },
   {
    "duration": 5,
    "start_time": "2023-09-06T13:32:13.763Z"
   },
   {
    "duration": 7,
    "start_time": "2023-09-06T13:32:13.769Z"
   },
   {
    "duration": 32,
    "start_time": "2023-09-06T13:32:13.779Z"
   },
   {
    "duration": 49,
    "start_time": "2023-09-06T13:32:13.815Z"
   },
   {
    "duration": 57,
    "start_time": "2023-09-06T13:32:13.866Z"
   },
   {
    "duration": 37,
    "start_time": "2023-09-06T13:32:13.925Z"
   },
   {
    "duration": 231,
    "start_time": "2023-09-06T13:32:13.964Z"
   },
   {
    "duration": 55,
    "start_time": "2023-09-06T13:32:14.196Z"
   },
   {
    "duration": 13,
    "start_time": "2023-09-06T13:32:14.253Z"
   },
   {
    "duration": 72,
    "start_time": "2023-09-06T13:32:14.268Z"
   },
   {
    "duration": 9,
    "start_time": "2023-09-06T13:32:14.342Z"
   },
   {
    "duration": 10,
    "start_time": "2023-09-06T13:32:14.353Z"
   },
   {
    "duration": 6,
    "start_time": "2023-09-06T13:32:14.365Z"
   },
   {
    "duration": 40,
    "start_time": "2023-09-06T13:32:14.372Z"
   },
   {
    "duration": 44,
    "start_time": "2023-09-06T13:32:14.415Z"
   },
   {
    "duration": 11,
    "start_time": "2023-09-06T13:32:14.462Z"
   },
   {
    "duration": 49,
    "start_time": "2023-09-06T13:32:14.475Z"
   },
   {
    "duration": 43,
    "start_time": "2023-09-06T13:32:14.527Z"
   },
   {
    "duration": 80,
    "start_time": "2023-09-06T13:32:14.573Z"
   },
   {
    "duration": 5,
    "start_time": "2023-09-06T13:32:14.655Z"
   },
   {
    "duration": 6,
    "start_time": "2023-09-06T13:32:14.664Z"
   },
   {
    "duration": 45,
    "start_time": "2023-09-06T13:32:29.689Z"
   },
   {
    "duration": 56,
    "start_time": "2023-09-06T13:32:57.213Z"
   },
   {
    "duration": 46,
    "start_time": "2023-09-06T13:34:14.104Z"
   },
   {
    "duration": 63,
    "start_time": "2023-09-06T13:34:20.523Z"
   },
   {
    "duration": 49,
    "start_time": "2023-09-06T13:34:57.931Z"
   },
   {
    "duration": 63,
    "start_time": "2023-09-06T13:35:40.520Z"
   },
   {
    "duration": 88,
    "start_time": "2023-09-06T13:35:52.525Z"
   },
   {
    "duration": 70,
    "start_time": "2023-09-06T13:37:22.592Z"
   },
   {
    "duration": 560,
    "start_time": "2023-09-06T13:37:59.367Z"
   },
   {
    "duration": 28,
    "start_time": "2023-09-06T13:37:59.929Z"
   },
   {
    "duration": 16,
    "start_time": "2023-09-06T13:37:59.959Z"
   },
   {
    "duration": 3050,
    "start_time": "2023-09-06T13:37:59.977Z"
   },
   {
    "duration": 5,
    "start_time": "2023-09-06T13:38:03.030Z"
   },
   {
    "duration": 26,
    "start_time": "2023-09-06T13:38:03.037Z"
   },
   {
    "duration": 51,
    "start_time": "2023-09-06T13:38:03.065Z"
   },
   {
    "duration": 5,
    "start_time": "2023-09-06T13:38:03.118Z"
   },
   {
    "duration": 23,
    "start_time": "2023-09-06T13:38:03.124Z"
   },
   {
    "duration": 22,
    "start_time": "2023-09-06T13:38:03.149Z"
   },
   {
    "duration": 66,
    "start_time": "2023-09-06T13:38:03.173Z"
   },
   {
    "duration": 34,
    "start_time": "2023-09-06T13:38:03.241Z"
   },
   {
    "duration": 48,
    "start_time": "2023-09-06T13:38:03.277Z"
   },
   {
    "duration": 217,
    "start_time": "2023-09-06T13:38:03.329Z"
   },
   {
    "duration": 42,
    "start_time": "2023-09-06T13:38:03.548Z"
   },
   {
    "duration": 28,
    "start_time": "2023-09-06T13:38:03.592Z"
   },
   {
    "duration": 41,
    "start_time": "2023-09-06T13:38:03.622Z"
   },
   {
    "duration": 10,
    "start_time": "2023-09-06T13:38:03.665Z"
   },
   {
    "duration": 41,
    "start_time": "2023-09-06T13:38:03.676Z"
   },
   {
    "duration": 16,
    "start_time": "2023-09-06T13:38:03.719Z"
   },
   {
    "duration": 8,
    "start_time": "2023-09-06T13:38:03.737Z"
   },
   {
    "duration": 79,
    "start_time": "2023-09-06T13:38:03.748Z"
   },
   {
    "duration": 10,
    "start_time": "2023-09-06T13:38:03.828Z"
   },
   {
    "duration": 27,
    "start_time": "2023-09-06T13:38:03.840Z"
   },
   {
    "duration": 57,
    "start_time": "2023-09-06T13:38:03.869Z"
   },
   {
    "duration": 39,
    "start_time": "2023-09-06T13:38:03.927Z"
   },
   {
    "duration": 6,
    "start_time": "2023-09-06T13:38:03.968Z"
   },
   {
    "duration": 24,
    "start_time": "2023-09-06T13:38:03.976Z"
   },
   {
    "duration": 58,
    "start_time": "2023-09-06T13:38:04.011Z"
   },
   {
    "duration": 11,
    "start_time": "2023-09-06T13:38:04.071Z"
   },
   {
    "duration": 48,
    "start_time": "2023-09-06T13:38:04.083Z"
   },
   {
    "duration": 37,
    "start_time": "2023-09-06T13:38:04.133Z"
   },
   {
    "duration": 5,
    "start_time": "2023-09-06T13:38:04.172Z"
   },
   {
    "duration": 39,
    "start_time": "2023-09-06T13:38:04.179Z"
   },
   {
    "duration": 13,
    "start_time": "2023-09-06T13:38:04.220Z"
   },
   {
    "duration": 17,
    "start_time": "2023-09-06T13:38:04.234Z"
   },
   {
    "duration": 73,
    "start_time": "2023-09-06T13:38:04.252Z"
   },
   {
    "duration": 551,
    "start_time": "2023-09-06T14:12:06.991Z"
   },
   {
    "duration": 26,
    "start_time": "2023-09-06T14:12:07.544Z"
   },
   {
    "duration": 15,
    "start_time": "2023-09-06T14:12:07.572Z"
   },
   {
    "duration": 3057,
    "start_time": "2023-09-06T14:12:07.590Z"
   },
   {
    "duration": 7,
    "start_time": "2023-09-06T14:12:10.649Z"
   },
   {
    "duration": 32,
    "start_time": "2023-09-06T14:12:10.657Z"
   },
   {
    "duration": 52,
    "start_time": "2023-09-06T14:12:10.691Z"
   },
   {
    "duration": 5,
    "start_time": "2023-09-06T14:12:10.745Z"
   },
   {
    "duration": 6,
    "start_time": "2023-09-06T14:12:10.752Z"
   },
   {
    "duration": 6,
    "start_time": "2023-09-06T14:12:10.761Z"
   },
   {
    "duration": 79,
    "start_time": "2023-09-06T14:12:10.769Z"
   },
   {
    "duration": 32,
    "start_time": "2023-09-06T14:12:10.850Z"
   },
   {
    "duration": 61,
    "start_time": "2023-09-06T14:12:10.884Z"
   },
   {
    "duration": 225,
    "start_time": "2023-09-06T14:12:10.946Z"
   },
   {
    "duration": 59,
    "start_time": "2023-09-06T14:12:11.173Z"
   },
   {
    "duration": 11,
    "start_time": "2023-09-06T14:12:11.233Z"
   },
   {
    "duration": 37,
    "start_time": "2023-09-06T14:12:11.246Z"
   },
   {
    "duration": 26,
    "start_time": "2023-09-06T14:12:11.285Z"
   },
   {
    "duration": 13,
    "start_time": "2023-09-06T14:12:11.313Z"
   },
   {
    "duration": 5,
    "start_time": "2023-09-06T14:12:11.328Z"
   },
   {
    "duration": 6,
    "start_time": "2023-09-06T14:12:11.334Z"
   },
   {
    "duration": 36,
    "start_time": "2023-09-06T14:12:11.341Z"
   },
   {
    "duration": 15,
    "start_time": "2023-09-06T14:12:11.410Z"
   },
   {
    "duration": 19,
    "start_time": "2023-09-06T14:12:11.426Z"
   },
   {
    "duration": 37,
    "start_time": "2023-09-06T14:12:11.447Z"
   },
   {
    "duration": 69,
    "start_time": "2023-09-06T14:12:11.485Z"
   },
   {
    "duration": 5,
    "start_time": "2023-09-06T14:12:11.555Z"
   },
   {
    "duration": 9,
    "start_time": "2023-09-06T14:12:11.563Z"
   },
   {
    "duration": 67,
    "start_time": "2023-09-06T14:12:11.574Z"
   },
   {
    "duration": 10,
    "start_time": "2023-09-06T14:12:11.643Z"
   },
   {
    "duration": 54,
    "start_time": "2023-09-06T14:12:11.655Z"
   },
   {
    "duration": 46,
    "start_time": "2023-09-06T14:12:11.712Z"
   },
   {
    "duration": 6,
    "start_time": "2023-09-06T14:12:11.759Z"
   },
   {
    "duration": 19,
    "start_time": "2023-09-06T14:12:11.766Z"
   },
   {
    "duration": 30,
    "start_time": "2023-09-06T14:12:11.786Z"
   },
   {
    "duration": 10,
    "start_time": "2023-09-06T14:12:11.819Z"
   },
   {
    "duration": 97,
    "start_time": "2023-09-06T14:12:11.830Z"
   },
   {
    "duration": 74,
    "start_time": "2023-09-06T14:15:29.463Z"
   },
   {
    "duration": 91,
    "start_time": "2023-09-06T14:21:42.681Z"
   },
   {
    "duration": 81,
    "start_time": "2023-09-06T14:22:07.153Z"
   },
   {
    "duration": 102,
    "start_time": "2023-09-06T14:22:57.063Z"
   },
   {
    "duration": 111,
    "start_time": "2023-09-06T14:23:49.462Z"
   },
   {
    "duration": 218,
    "start_time": "2023-09-06T14:29:18.571Z"
   },
   {
    "duration": 9,
    "start_time": "2023-09-06T14:29:34.796Z"
   },
   {
    "duration": 8,
    "start_time": "2023-09-06T14:30:29.548Z"
   },
   {
    "duration": 8,
    "start_time": "2023-09-06T14:30:55.030Z"
   },
   {
    "duration": 8,
    "start_time": "2023-09-06T14:31:15.887Z"
   },
   {
    "duration": 215,
    "start_time": "2023-09-06T14:31:23.801Z"
   },
   {
    "duration": 242,
    "start_time": "2023-09-06T14:31:28.718Z"
   },
   {
    "duration": 370,
    "start_time": "2023-09-06T14:31:42.411Z"
   },
   {
    "duration": 231,
    "start_time": "2023-09-06T14:32:05.093Z"
   },
   {
    "duration": 227,
    "start_time": "2023-09-06T14:33:18.329Z"
   },
   {
    "duration": 233,
    "start_time": "2023-09-06T14:35:02.891Z"
   },
   {
    "duration": 240,
    "start_time": "2023-09-06T14:36:11.603Z"
   },
   {
    "duration": 1378,
    "start_time": "2023-09-06T16:26:09.863Z"
   },
   {
    "duration": 25,
    "start_time": "2023-09-06T16:26:11.243Z"
   },
   {
    "duration": 44,
    "start_time": "2023-09-06T16:26:11.270Z"
   },
   {
    "duration": 3682,
    "start_time": "2023-09-06T16:26:11.316Z"
   },
   {
    "duration": 9,
    "start_time": "2023-09-06T16:26:15.001Z"
   },
   {
    "duration": 104,
    "start_time": "2023-09-06T16:26:15.012Z"
   },
   {
    "duration": 75,
    "start_time": "2023-09-06T16:26:15.118Z"
   },
   {
    "duration": 15,
    "start_time": "2023-09-06T16:26:15.201Z"
   },
   {
    "duration": 18,
    "start_time": "2023-09-06T16:26:15.218Z"
   },
   {
    "duration": 37,
    "start_time": "2023-09-06T16:26:15.240Z"
   },
   {
    "duration": 81,
    "start_time": "2023-09-06T16:26:15.279Z"
   },
   {
    "duration": 50,
    "start_time": "2023-09-06T16:26:15.361Z"
   },
   {
    "duration": 52,
    "start_time": "2023-09-06T16:26:15.414Z"
   },
   {
    "duration": 257,
    "start_time": "2023-09-06T16:26:15.470Z"
   },
   {
    "duration": 67,
    "start_time": "2023-09-06T16:26:15.729Z"
   },
   {
    "duration": 19,
    "start_time": "2023-09-06T16:26:15.799Z"
   },
   {
    "duration": 66,
    "start_time": "2023-09-06T16:26:15.820Z"
   },
   {
    "duration": 13,
    "start_time": "2023-09-06T16:26:15.888Z"
   },
   {
    "duration": 25,
    "start_time": "2023-09-06T16:26:15.903Z"
   },
   {
    "duration": 10,
    "start_time": "2023-09-06T16:26:15.930Z"
   },
   {
    "duration": 23,
    "start_time": "2023-09-06T16:26:15.942Z"
   },
   {
    "duration": 183,
    "start_time": "2023-09-06T16:26:15.968Z"
   },
   {
    "duration": 10,
    "start_time": "2023-09-06T16:26:16.154Z"
   },
   {
    "duration": 49,
    "start_time": "2023-09-06T16:26:16.166Z"
   },
   {
    "duration": 54,
    "start_time": "2023-09-06T16:26:16.218Z"
   },
   {
    "duration": 82,
    "start_time": "2023-09-06T16:26:16.274Z"
   },
   {
    "duration": 39,
    "start_time": "2023-09-06T16:26:16.358Z"
   },
   {
    "duration": 34,
    "start_time": "2023-09-06T16:26:16.402Z"
   },
   {
    "duration": 92,
    "start_time": "2023-09-06T16:26:16.439Z"
   },
   {
    "duration": 12,
    "start_time": "2023-09-06T16:26:16.534Z"
   },
   {
    "duration": 64,
    "start_time": "2023-09-06T16:26:16.548Z"
   },
   {
    "duration": 52,
    "start_time": "2023-09-06T16:26:16.614Z"
   },
   {
    "duration": 27,
    "start_time": "2023-09-06T16:26:16.668Z"
   },
   {
    "duration": 30,
    "start_time": "2023-09-06T16:26:16.698Z"
   },
   {
    "duration": 41,
    "start_time": "2023-09-06T16:26:16.731Z"
   },
   {
    "duration": 23,
    "start_time": "2023-09-06T16:26:16.774Z"
   },
   {
    "duration": 419,
    "start_time": "2023-09-06T16:26:16.799Z"
   },
   {
    "duration": 313,
    "start_time": "2023-09-06T16:26:33.651Z"
   },
   {
    "duration": 294,
    "start_time": "2023-09-06T16:26:41.851Z"
   },
   {
    "duration": 303,
    "start_time": "2023-09-06T16:26:54.303Z"
   },
   {
    "duration": 303,
    "start_time": "2023-09-06T16:27:21.120Z"
   },
   {
    "duration": 316,
    "start_time": "2023-09-06T16:27:32.347Z"
   },
   {
    "duration": 283,
    "start_time": "2023-09-06T16:28:55.363Z"
   },
   {
    "duration": 13,
    "start_time": "2023-09-06T16:29:45.135Z"
   },
   {
    "duration": 4,
    "start_time": "2023-09-06T16:33:25.864Z"
   },
   {
    "duration": 5,
    "start_time": "2023-09-06T16:33:54.223Z"
   },
   {
    "duration": 7,
    "start_time": "2023-09-06T16:34:48.298Z"
   },
   {
    "duration": 12,
    "start_time": "2023-09-06T16:38:16.525Z"
   },
   {
    "duration": 8,
    "start_time": "2023-09-06T16:38:17.913Z"
   },
   {
    "duration": 19,
    "start_time": "2023-09-06T16:38:19.372Z"
   },
   {
    "duration": 38,
    "start_time": "2023-09-06T16:51:03.120Z"
   },
   {
    "duration": 109,
    "start_time": "2023-09-06T16:51:45.367Z"
   },
   {
    "duration": 69,
    "start_time": "2023-09-06T16:51:58.061Z"
   },
   {
    "duration": 42,
    "start_time": "2023-09-06T16:58:07.422Z"
   },
   {
    "duration": 71,
    "start_time": "2023-09-06T17:01:17.208Z"
   },
   {
    "duration": 53,
    "start_time": "2023-09-06T17:01:21.513Z"
   },
   {
    "duration": 30,
    "start_time": "2023-09-06T17:01:32.444Z"
   },
   {
    "duration": 54,
    "start_time": "2023-09-06T17:03:11.256Z"
   },
   {
    "duration": 3296,
    "start_time": "2023-09-06T17:11:28.004Z"
   },
   {
    "duration": 2797,
    "start_time": "2023-09-06T17:11:45.742Z"
   },
   {
    "duration": 506,
    "start_time": "2023-09-06T17:12:32.557Z"
   },
   {
    "duration": 410,
    "start_time": "2023-09-06T17:12:50.139Z"
   },
   {
    "duration": 600,
    "start_time": "2023-09-06T17:13:15.023Z"
   },
   {
    "duration": 17,
    "start_time": "2023-09-06T17:16:00.344Z"
   },
   {
    "duration": 598,
    "start_time": "2023-09-06T17:16:23.560Z"
   },
   {
    "duration": 32,
    "start_time": "2023-09-06T17:16:24.160Z"
   },
   {
    "duration": 19,
    "start_time": "2023-09-06T17:16:24.195Z"
   },
   {
    "duration": 3306,
    "start_time": "2023-09-06T17:16:24.217Z"
   },
   {
    "duration": 6,
    "start_time": "2023-09-06T17:16:27.526Z"
   },
   {
    "duration": 23,
    "start_time": "2023-09-06T17:16:27.533Z"
   },
   {
    "duration": 50,
    "start_time": "2023-09-06T17:16:27.558Z"
   },
   {
    "duration": 8,
    "start_time": "2023-09-06T17:16:27.614Z"
   },
   {
    "duration": 17,
    "start_time": "2023-09-06T17:16:27.623Z"
   },
   {
    "duration": 7,
    "start_time": "2023-09-06T17:16:27.642Z"
   },
   {
    "duration": 60,
    "start_time": "2023-09-06T17:16:27.650Z"
   },
   {
    "duration": 41,
    "start_time": "2023-09-06T17:16:27.713Z"
   },
   {
    "duration": 38,
    "start_time": "2023-09-06T17:16:27.756Z"
   },
   {
    "duration": 240,
    "start_time": "2023-09-06T17:16:27.800Z"
   },
   {
    "duration": 45,
    "start_time": "2023-09-06T17:16:28.041Z"
   },
   {
    "duration": 15,
    "start_time": "2023-09-06T17:16:28.088Z"
   },
   {
    "duration": 30,
    "start_time": "2023-09-06T17:16:28.106Z"
   },
   {
    "duration": 59,
    "start_time": "2023-09-06T17:16:28.138Z"
   },
   {
    "duration": 10,
    "start_time": "2023-09-06T17:16:28.200Z"
   },
   {
    "duration": 18,
    "start_time": "2023-09-06T17:16:28.213Z"
   },
   {
    "duration": 5,
    "start_time": "2023-09-06T17:16:28.236Z"
   },
   {
    "duration": 8,
    "start_time": "2023-09-06T17:16:28.243Z"
   },
   {
    "duration": 74,
    "start_time": "2023-09-06T17:16:28.253Z"
   },
   {
    "duration": 8,
    "start_time": "2023-09-06T17:16:28.335Z"
   },
   {
    "duration": 22,
    "start_time": "2023-09-06T17:16:28.344Z"
   },
   {
    "duration": 74,
    "start_time": "2023-09-06T17:16:28.368Z"
   },
   {
    "duration": 35,
    "start_time": "2023-09-06T17:16:28.444Z"
   },
   {
    "duration": 6,
    "start_time": "2023-09-06T17:16:28.488Z"
   },
   {
    "duration": 29,
    "start_time": "2023-09-06T17:16:28.496Z"
   },
   {
    "duration": 44,
    "start_time": "2023-09-06T17:16:28.528Z"
   },
   {
    "duration": 23,
    "start_time": "2023-09-06T17:16:28.574Z"
   },
   {
    "duration": 50,
    "start_time": "2023-09-06T17:16:28.612Z"
   },
   {
    "duration": 53,
    "start_time": "2023-09-06T17:16:28.664Z"
   },
   {
    "duration": 7,
    "start_time": "2023-09-06T17:16:28.721Z"
   },
   {
    "duration": 20,
    "start_time": "2023-09-06T17:16:28.730Z"
   },
   {
    "duration": 12,
    "start_time": "2023-09-06T17:16:28.751Z"
   },
   {
    "duration": 13,
    "start_time": "2023-09-06T17:16:28.765Z"
   },
   {
    "duration": 336,
    "start_time": "2023-09-06T17:16:28.780Z"
   },
   {
    "duration": 7,
    "start_time": "2023-09-06T17:16:29.120Z"
   },
   {
    "duration": 14,
    "start_time": "2023-09-06T17:16:29.130Z"
   },
   {
    "duration": 3,
    "start_time": "2023-09-06T17:16:29.147Z"
   },
   {
    "duration": 16,
    "start_time": "2023-09-06T17:16:29.152Z"
   },
   {
    "duration": 37,
    "start_time": "2023-09-06T17:16:29.169Z"
   },
   {
    "duration": 42,
    "start_time": "2023-09-06T17:16:29.207Z"
   },
   {
    "duration": 44,
    "start_time": "2023-09-06T17:16:29.252Z"
   },
   {
    "duration": 37,
    "start_time": "2023-09-06T17:16:29.298Z"
   },
   {
    "duration": 490,
    "start_time": "2023-09-06T17:16:29.337Z"
   },
   {
    "duration": 97,
    "start_time": "2023-09-06T17:19:57.424Z"
   },
   {
    "duration": 12,
    "start_time": "2023-09-06T17:21:33.811Z"
   },
   {
    "duration": 19,
    "start_time": "2023-09-06T17:21:49.679Z"
   },
   {
    "duration": 192,
    "start_time": "2023-09-06T17:22:30.477Z"
   },
   {
    "duration": 158,
    "start_time": "2023-09-06T17:22:57.505Z"
   },
   {
    "duration": 21,
    "start_time": "2023-09-06T17:23:40.507Z"
   },
   {
    "duration": 14,
    "start_time": "2023-09-06T17:24:33.025Z"
   },
   {
    "duration": 6,
    "start_time": "2023-09-06T17:24:45.824Z"
   },
   {
    "duration": 26,
    "start_time": "2023-09-06T17:24:47.917Z"
   },
   {
    "duration": 4,
    "start_time": "2023-09-06T17:25:22.156Z"
   },
   {
    "duration": 8,
    "start_time": "2023-09-06T17:32:06.344Z"
   },
   {
    "duration": 15,
    "start_time": "2023-09-06T17:32:06.503Z"
   },
   {
    "duration": 35,
    "start_time": "2023-09-06T17:59:44.708Z"
   },
   {
    "duration": 819,
    "start_time": "2023-09-06T17:59:57.009Z"
   },
   {
    "duration": 39,
    "start_time": "2023-09-06T17:59:57.838Z"
   },
   {
    "duration": 40,
    "start_time": "2023-09-06T17:59:57.879Z"
   },
   {
    "duration": 4093,
    "start_time": "2023-09-06T17:59:57.926Z"
   },
   {
    "duration": 12,
    "start_time": "2023-09-06T18:00:02.023Z"
   },
   {
    "duration": 308,
    "start_time": "2023-09-06T18:00:02.039Z"
   },
   {
    "duration": 583,
    "start_time": "2023-09-06T18:00:02.349Z"
   },
   {
    "duration": 613,
    "start_time": "2023-09-06T18:00:02.934Z"
   },
   {
    "duration": 204,
    "start_time": "2023-09-06T18:00:03.549Z"
   },
   {
    "duration": 66,
    "start_time": "2023-09-06T18:00:03.755Z"
   },
   {
    "duration": 49,
    "start_time": "2023-09-06T18:00:03.828Z"
   },
   {
    "duration": 45,
    "start_time": "2023-09-06T18:00:03.879Z"
   },
   {
    "duration": 54,
    "start_time": "2023-09-06T18:00:03.942Z"
   },
   {
    "duration": 271,
    "start_time": "2023-09-06T18:00:04.000Z"
   },
   {
    "duration": 72,
    "start_time": "2023-09-06T18:00:04.272Z"
   },
   {
    "duration": 13,
    "start_time": "2023-09-06T18:00:04.346Z"
   },
   {
    "duration": 72,
    "start_time": "2023-09-06T18:00:04.361Z"
   },
   {
    "duration": 42,
    "start_time": "2023-09-06T18:00:04.435Z"
   },
   {
    "duration": 21,
    "start_time": "2023-09-06T18:00:04.479Z"
   },
   {
    "duration": 45,
    "start_time": "2023-09-06T18:00:04.502Z"
   },
   {
    "duration": 42,
    "start_time": "2023-09-06T18:00:04.549Z"
   },
   {
    "duration": 47,
    "start_time": "2023-09-06T18:00:04.601Z"
   },
   {
    "duration": 78,
    "start_time": "2023-09-06T18:00:04.649Z"
   },
   {
    "duration": 17,
    "start_time": "2023-09-06T18:00:04.729Z"
   },
   {
    "duration": 15,
    "start_time": "2023-09-06T18:00:04.748Z"
   },
   {
    "duration": 56,
    "start_time": "2023-09-06T18:00:04.765Z"
   },
   {
    "duration": 46,
    "start_time": "2023-09-06T18:00:04.823Z"
   },
   {
    "duration": 28,
    "start_time": "2023-09-06T18:00:04.871Z"
   },
   {
    "duration": 49,
    "start_time": "2023-09-06T18:00:04.901Z"
   },
   {
    "duration": 113,
    "start_time": "2023-09-06T18:00:04.952Z"
   },
   {
    "duration": 11,
    "start_time": "2023-09-06T18:00:05.067Z"
   },
   {
    "duration": 107,
    "start_time": "2023-09-06T18:00:05.080Z"
   },
   {
    "duration": 68,
    "start_time": "2023-09-06T18:00:05.190Z"
   },
   {
    "duration": 7,
    "start_time": "2023-09-06T18:00:05.259Z"
   },
   {
    "duration": 52,
    "start_time": "2023-09-06T18:00:05.268Z"
   },
   {
    "duration": 24,
    "start_time": "2023-09-06T18:00:05.326Z"
   },
   {
    "duration": 17,
    "start_time": "2023-09-06T18:00:05.352Z"
   },
   {
    "duration": 402,
    "start_time": "2023-09-06T18:00:05.371Z"
   },
   {
    "duration": 6,
    "start_time": "2023-09-06T18:00:05.774Z"
   },
   {
    "duration": 235,
    "start_time": "2023-09-06T18:00:05.785Z"
   },
   {
    "duration": 0,
    "start_time": "2023-09-06T18:00:06.022Z"
   },
   {
    "duration": 0,
    "start_time": "2023-09-06T18:00:06.024Z"
   },
   {
    "duration": 0,
    "start_time": "2023-09-06T18:00:06.025Z"
   },
   {
    "duration": 0,
    "start_time": "2023-09-06T18:00:06.027Z"
   },
   {
    "duration": 0,
    "start_time": "2023-09-06T18:00:06.028Z"
   },
   {
    "duration": 0,
    "start_time": "2023-09-06T18:00:06.030Z"
   },
   {
    "duration": 0,
    "start_time": "2023-09-06T18:00:06.031Z"
   },
   {
    "duration": 687,
    "start_time": "2023-09-06T18:02:06.048Z"
   },
   {
    "duration": 34,
    "start_time": "2023-09-06T18:02:06.740Z"
   },
   {
    "duration": 24,
    "start_time": "2023-09-06T18:02:06.776Z"
   },
   {
    "duration": 3734,
    "start_time": "2023-09-06T18:02:06.802Z"
   },
   {
    "duration": 9,
    "start_time": "2023-09-06T18:02:10.539Z"
   },
   {
    "duration": 39,
    "start_time": "2023-09-06T18:02:10.552Z"
   },
   {
    "duration": 60,
    "start_time": "2023-09-06T18:02:10.597Z"
   },
   {
    "duration": 5,
    "start_time": "2023-09-06T18:02:10.659Z"
   },
   {
    "duration": 38,
    "start_time": "2023-09-06T18:02:10.665Z"
   },
   {
    "duration": 25,
    "start_time": "2023-09-06T18:02:10.716Z"
   },
   {
    "duration": 58,
    "start_time": "2023-09-06T18:02:10.745Z"
   },
   {
    "duration": 54,
    "start_time": "2023-09-06T18:02:10.805Z"
   },
   {
    "duration": 57,
    "start_time": "2023-09-06T18:02:10.860Z"
   },
   {
    "duration": 254,
    "start_time": "2023-09-06T18:02:10.921Z"
   },
   {
    "duration": 88,
    "start_time": "2023-09-06T18:02:11.176Z"
   },
   {
    "duration": 99,
    "start_time": "2023-09-06T18:02:11.267Z"
   },
   {
    "duration": 19,
    "start_time": "2023-09-06T18:02:11.368Z"
   },
   {
    "duration": 65,
    "start_time": "2023-09-06T18:02:11.389Z"
   },
   {
    "duration": 8,
    "start_time": "2023-09-06T18:02:11.456Z"
   },
   {
    "duration": 11,
    "start_time": "2023-09-06T18:02:11.465Z"
   },
   {
    "duration": 34,
    "start_time": "2023-09-06T18:02:11.478Z"
   },
   {
    "duration": 21,
    "start_time": "2023-09-06T18:02:11.513Z"
   },
   {
    "duration": 41,
    "start_time": "2023-09-06T18:02:11.536Z"
   },
   {
    "duration": 37,
    "start_time": "2023-09-06T18:02:11.579Z"
   },
   {
    "duration": 22,
    "start_time": "2023-09-06T18:02:11.618Z"
   },
   {
    "duration": 80,
    "start_time": "2023-09-06T18:02:11.642Z"
   },
   {
    "duration": 44,
    "start_time": "2023-09-06T18:02:11.731Z"
   },
   {
    "duration": 16,
    "start_time": "2023-09-06T18:02:11.777Z"
   },
   {
    "duration": 10,
    "start_time": "2023-09-06T18:02:11.801Z"
   },
   {
    "duration": 63,
    "start_time": "2023-09-06T18:02:11.815Z"
   },
   {
    "duration": 52,
    "start_time": "2023-09-06T18:02:11.880Z"
   },
   {
    "duration": 58,
    "start_time": "2023-09-06T18:02:11.942Z"
   },
   {
    "duration": 66,
    "start_time": "2023-09-06T18:02:12.002Z"
   },
   {
    "duration": 7,
    "start_time": "2023-09-06T18:02:12.070Z"
   },
   {
    "duration": 60,
    "start_time": "2023-09-06T18:02:12.079Z"
   },
   {
    "duration": 16,
    "start_time": "2023-09-06T18:02:12.141Z"
   },
   {
    "duration": 8,
    "start_time": "2023-09-06T18:02:12.158Z"
   },
   {
    "duration": 398,
    "start_time": "2023-09-06T18:02:12.168Z"
   },
   {
    "duration": 23,
    "start_time": "2023-09-06T18:02:12.568Z"
   },
   {
    "duration": 2908,
    "start_time": "2023-09-06T18:02:12.604Z"
   },
   {
    "duration": 0,
    "start_time": "2023-09-06T18:02:15.516Z"
   },
   {
    "duration": 0,
    "start_time": "2023-09-06T18:02:15.518Z"
   },
   {
    "duration": 0,
    "start_time": "2023-09-06T18:02:15.524Z"
   },
   {
    "duration": 0,
    "start_time": "2023-09-06T18:02:15.525Z"
   },
   {
    "duration": 0,
    "start_time": "2023-09-06T18:02:15.526Z"
   },
   {
    "duration": 0,
    "start_time": "2023-09-06T18:02:15.527Z"
   },
   {
    "duration": 0,
    "start_time": "2023-09-06T18:02:15.528Z"
   },
   {
    "duration": 681,
    "start_time": "2023-09-06T18:02:36.223Z"
   },
   {
    "duration": 47,
    "start_time": "2023-09-06T18:02:36.906Z"
   },
   {
    "duration": 19,
    "start_time": "2023-09-06T18:02:36.955Z"
   },
   {
    "duration": 3553,
    "start_time": "2023-09-06T18:02:36.976Z"
   },
   {
    "duration": 8,
    "start_time": "2023-09-06T18:02:40.535Z"
   },
   {
    "duration": 27,
    "start_time": "2023-09-06T18:02:40.544Z"
   },
   {
    "duration": 87,
    "start_time": "2023-09-06T18:02:40.573Z"
   },
   {
    "duration": 5,
    "start_time": "2023-09-06T18:02:40.662Z"
   },
   {
    "duration": 6,
    "start_time": "2023-09-06T18:02:40.669Z"
   },
   {
    "duration": 11,
    "start_time": "2023-09-06T18:02:40.677Z"
   },
   {
    "duration": 69,
    "start_time": "2023-09-06T18:02:40.690Z"
   },
   {
    "duration": 36,
    "start_time": "2023-09-06T18:02:40.761Z"
   },
   {
    "duration": 54,
    "start_time": "2023-09-06T18:02:40.801Z"
   },
   {
    "duration": 272,
    "start_time": "2023-09-06T18:02:40.858Z"
   },
   {
    "duration": 44,
    "start_time": "2023-09-06T18:02:41.132Z"
   },
   {
    "duration": 16,
    "start_time": "2023-09-06T18:02:41.177Z"
   },
   {
    "duration": 53,
    "start_time": "2023-09-06T18:02:41.196Z"
   },
   {
    "duration": 64,
    "start_time": "2023-09-06T18:02:41.251Z"
   },
   {
    "duration": 26,
    "start_time": "2023-09-06T18:02:41.321Z"
   },
   {
    "duration": 7,
    "start_time": "2023-09-06T18:02:41.352Z"
   },
   {
    "duration": 4,
    "start_time": "2023-09-06T18:02:41.360Z"
   },
   {
    "duration": 20,
    "start_time": "2023-09-06T18:02:41.366Z"
   },
   {
    "duration": 54,
    "start_time": "2023-09-06T18:02:41.388Z"
   },
   {
    "duration": 8,
    "start_time": "2023-09-06T18:02:41.448Z"
   },
   {
    "duration": 25,
    "start_time": "2023-09-06T18:02:41.457Z"
   },
   {
    "duration": 55,
    "start_time": "2023-09-06T18:02:41.484Z"
   },
   {
    "duration": 41,
    "start_time": "2023-09-06T18:02:41.540Z"
   },
   {
    "duration": 5,
    "start_time": "2023-09-06T18:02:41.582Z"
   },
   {
    "duration": 7,
    "start_time": "2023-09-06T18:02:41.589Z"
   },
   {
    "duration": 69,
    "start_time": "2023-09-06T18:02:41.599Z"
   },
   {
    "duration": 13,
    "start_time": "2023-09-06T18:02:41.670Z"
   },
   {
    "duration": 58,
    "start_time": "2023-09-06T18:02:41.684Z"
   },
   {
    "duration": 35,
    "start_time": "2023-09-06T18:02:41.744Z"
   },
   {
    "duration": 12,
    "start_time": "2023-09-06T18:02:41.780Z"
   },
   {
    "duration": 31,
    "start_time": "2023-09-06T18:02:41.794Z"
   },
   {
    "duration": 19,
    "start_time": "2023-09-06T18:02:41.826Z"
   },
   {
    "duration": 11,
    "start_time": "2023-09-06T18:02:41.849Z"
   },
   {
    "duration": 380,
    "start_time": "2023-09-06T18:02:41.862Z"
   },
   {
    "duration": 6,
    "start_time": "2023-09-06T18:02:42.246Z"
   },
   {
    "duration": 20,
    "start_time": "2023-09-06T18:02:42.255Z"
   },
   {
    "duration": 20,
    "start_time": "2023-09-06T18:02:42.279Z"
   },
   {
    "duration": 27,
    "start_time": "2023-09-06T18:02:42.301Z"
   },
   {
    "duration": 33,
    "start_time": "2023-09-06T18:02:42.330Z"
   },
   {
    "duration": 34,
    "start_time": "2023-09-06T18:02:42.365Z"
   },
   {
    "duration": 44,
    "start_time": "2023-09-06T18:02:42.401Z"
   },
   {
    "duration": 27,
    "start_time": "2023-09-06T18:02:42.447Z"
   },
   {
    "duration": 574,
    "start_time": "2023-09-06T18:02:42.481Z"
   },
   {
    "duration": 517,
    "start_time": "2023-09-06T18:02:57.058Z"
   },
   {
    "duration": 182,
    "start_time": "2023-09-06T18:13:37.020Z"
   },
   {
    "duration": 45,
    "start_time": "2023-09-06T18:14:10.664Z"
   },
   {
    "duration": 31,
    "start_time": "2023-09-06T18:14:24.580Z"
   },
   {
    "duration": 120,
    "start_time": "2023-09-06T18:15:36.056Z"
   },
   {
    "duration": 55,
    "start_time": "2023-09-06T18:15:58.656Z"
   },
   {
    "duration": 21,
    "start_time": "2023-09-06T18:20:47.950Z"
   },
   {
    "duration": 0,
    "start_time": "2023-09-06T18:28:29.744Z"
   },
   {
    "duration": 15,
    "start_time": "2023-09-06T18:28:33.439Z"
   },
   {
    "duration": 136,
    "start_time": "2023-09-06T18:28:41.738Z"
   },
   {
    "duration": 10,
    "start_time": "2023-09-06T18:28:47.811Z"
   },
   {
    "duration": 27,
    "start_time": "2023-09-06T18:29:03.110Z"
   },
   {
    "duration": 66,
    "start_time": "2023-09-06T20:39:57.168Z"
   },
   {
    "duration": 636,
    "start_time": "2023-09-06T20:41:05.363Z"
   },
   {
    "duration": 26,
    "start_time": "2023-09-06T20:41:06.001Z"
   },
   {
    "duration": 16,
    "start_time": "2023-09-06T20:41:06.029Z"
   },
   {
    "duration": 3094,
    "start_time": "2023-09-06T20:41:06.047Z"
   },
   {
    "duration": 5,
    "start_time": "2023-09-06T20:41:09.144Z"
   },
   {
    "duration": 31,
    "start_time": "2023-09-06T20:41:09.151Z"
   },
   {
    "duration": 49,
    "start_time": "2023-09-06T20:41:09.184Z"
   },
   {
    "duration": 5,
    "start_time": "2023-09-06T20:41:09.235Z"
   },
   {
    "duration": 10,
    "start_time": "2023-09-06T20:41:09.241Z"
   },
   {
    "duration": 13,
    "start_time": "2023-09-06T20:41:09.266Z"
   },
   {
    "duration": 58,
    "start_time": "2023-09-06T20:41:09.281Z"
   },
   {
    "duration": 47,
    "start_time": "2023-09-06T20:41:09.340Z"
   },
   {
    "duration": 35,
    "start_time": "2023-09-06T20:41:09.388Z"
   },
   {
    "duration": 224,
    "start_time": "2023-09-06T20:41:09.426Z"
   },
   {
    "duration": 53,
    "start_time": "2023-09-06T20:41:09.651Z"
   },
   {
    "duration": 12,
    "start_time": "2023-09-06T20:41:09.706Z"
   },
   {
    "duration": 19,
    "start_time": "2023-09-06T20:41:09.720Z"
   },
   {
    "duration": 63,
    "start_time": "2023-09-06T20:41:09.740Z"
   },
   {
    "duration": 8,
    "start_time": "2023-09-06T20:41:09.805Z"
   },
   {
    "duration": 8,
    "start_time": "2023-09-06T20:41:09.815Z"
   },
   {
    "duration": 8,
    "start_time": "2023-09-06T20:41:09.824Z"
   },
   {
    "duration": 121,
    "start_time": "2023-09-06T20:41:09.833Z"
   },
   {
    "duration": 52,
    "start_time": "2023-09-06T20:41:09.956Z"
   },
   {
    "duration": 25,
    "start_time": "2023-09-06T20:41:10.009Z"
   },
   {
    "duration": 49,
    "start_time": "2023-09-06T20:41:10.036Z"
   },
   {
    "duration": 64,
    "start_time": "2023-09-06T20:41:10.086Z"
   },
   {
    "duration": 49,
    "start_time": "2023-09-06T20:41:10.152Z"
   },
   {
    "duration": 5,
    "start_time": "2023-09-06T20:41:10.204Z"
   },
   {
    "duration": 16,
    "start_time": "2023-09-06T20:41:10.211Z"
   },
   {
    "duration": 60,
    "start_time": "2023-09-06T20:41:10.229Z"
   },
   {
    "duration": 10,
    "start_time": "2023-09-06T20:41:10.291Z"
   },
   {
    "duration": 42,
    "start_time": "2023-09-06T20:41:10.303Z"
   },
   {
    "duration": 58,
    "start_time": "2023-09-06T20:41:10.347Z"
   },
   {
    "duration": 6,
    "start_time": "2023-09-06T20:41:10.407Z"
   },
   {
    "duration": 32,
    "start_time": "2023-09-06T20:41:10.415Z"
   },
   {
    "duration": 25,
    "start_time": "2023-09-06T20:41:10.449Z"
   },
   {
    "duration": 10,
    "start_time": "2023-09-06T20:41:10.476Z"
   },
   {
    "duration": 248,
    "start_time": "2023-09-06T20:41:10.487Z"
   },
   {
    "duration": 5,
    "start_time": "2023-09-06T20:41:10.737Z"
   },
   {
    "duration": 10,
    "start_time": "2023-09-06T20:41:10.743Z"
   },
   {
    "duration": 9,
    "start_time": "2023-09-06T20:41:10.770Z"
   },
   {
    "duration": 18,
    "start_time": "2023-09-06T20:41:10.782Z"
   },
   {
    "duration": 29,
    "start_time": "2023-09-06T20:41:10.802Z"
   },
   {
    "duration": 852,
    "start_time": "2023-09-07T06:36:19.021Z"
   },
   {
    "duration": 26,
    "start_time": "2023-09-07T06:36:19.875Z"
   },
   {
    "duration": 23,
    "start_time": "2023-09-07T06:36:19.902Z"
   },
   {
    "duration": 3314,
    "start_time": "2023-09-07T06:36:19.929Z"
   },
   {
    "duration": 6,
    "start_time": "2023-09-07T06:36:23.246Z"
   },
   {
    "duration": 33,
    "start_time": "2023-09-07T06:36:23.253Z"
   },
   {
    "duration": 51,
    "start_time": "2023-09-07T06:36:23.287Z"
   },
   {
    "duration": 5,
    "start_time": "2023-09-07T06:36:23.340Z"
   },
   {
    "duration": 20,
    "start_time": "2023-09-07T06:36:23.347Z"
   },
   {
    "duration": 13,
    "start_time": "2023-09-07T06:36:23.369Z"
   },
   {
    "duration": 76,
    "start_time": "2023-09-07T06:36:23.383Z"
   },
   {
    "duration": 30,
    "start_time": "2023-09-07T06:36:23.461Z"
   },
   {
    "duration": 46,
    "start_time": "2023-09-07T06:36:23.509Z"
   },
   {
    "duration": 237,
    "start_time": "2023-09-07T06:36:23.558Z"
   },
   {
    "duration": 57,
    "start_time": "2023-09-07T06:36:23.797Z"
   },
   {
    "duration": 10,
    "start_time": "2023-09-07T06:36:23.856Z"
   },
   {
    "duration": 19,
    "start_time": "2023-09-07T06:36:23.868Z"
   },
   {
    "duration": 63,
    "start_time": "2023-09-07T06:36:23.889Z"
   },
   {
    "duration": 11,
    "start_time": "2023-09-07T06:36:23.954Z"
   },
   {
    "duration": 34,
    "start_time": "2023-09-07T06:36:23.967Z"
   },
   {
    "duration": 15,
    "start_time": "2023-09-07T06:36:24.003Z"
   },
   {
    "duration": 93,
    "start_time": "2023-09-07T06:36:24.021Z"
   },
   {
    "duration": 36,
    "start_time": "2023-09-07T06:36:24.116Z"
   },
   {
    "duration": 238,
    "start_time": "2023-09-07T06:36:24.154Z"
   },
   {
    "duration": 103,
    "start_time": "2023-09-07T06:36:24.394Z"
   },
   {
    "duration": 129,
    "start_time": "2023-09-07T06:36:24.499Z"
   },
   {
    "duration": 48,
    "start_time": "2023-09-07T06:36:24.630Z"
   },
   {
    "duration": 23,
    "start_time": "2023-09-07T06:36:24.680Z"
   },
   {
    "duration": 108,
    "start_time": "2023-09-07T06:36:24.705Z"
   },
   {
    "duration": 177,
    "start_time": "2023-09-07T06:36:24.815Z"
   },
   {
    "duration": 10,
    "start_time": "2023-09-07T06:36:24.994Z"
   },
   {
    "duration": 40,
    "start_time": "2023-09-07T06:36:25.006Z"
   },
   {
    "duration": 34,
    "start_time": "2023-09-07T06:36:25.048Z"
   },
   {
    "duration": 5,
    "start_time": "2023-09-07T06:36:25.084Z"
   },
   {
    "duration": 22,
    "start_time": "2023-09-07T06:36:25.110Z"
   },
   {
    "duration": 12,
    "start_time": "2023-09-07T06:36:25.135Z"
   },
   {
    "duration": 7,
    "start_time": "2023-09-07T06:36:25.149Z"
   },
   {
    "duration": 310,
    "start_time": "2023-09-07T06:36:25.158Z"
   },
   {
    "duration": 4,
    "start_time": "2023-09-07T06:36:25.470Z"
   },
   {
    "duration": 23,
    "start_time": "2023-09-07T06:36:25.476Z"
   },
   {
    "duration": 10,
    "start_time": "2023-09-07T06:36:25.505Z"
   },
   {
    "duration": 25,
    "start_time": "2023-09-07T06:36:25.517Z"
   },
   {
    "duration": 28,
    "start_time": "2023-09-07T06:36:25.543Z"
   },
   {
    "duration": 54,
    "start_time": "2023-09-07T06:36:25.573Z"
   },
   {
    "duration": 30,
    "start_time": "2023-09-07T06:36:25.630Z"
   },
   {
    "duration": 27,
    "start_time": "2023-09-07T06:36:25.661Z"
   },
   {
    "duration": 352,
    "start_time": "2023-09-07T06:36:25.709Z"
   },
   {
    "duration": 26,
    "start_time": "2023-09-07T06:36:26.063Z"
   },
   {
    "duration": 19,
    "start_time": "2023-09-07T06:36:52.776Z"
   },
   {
    "duration": 16,
    "start_time": "2023-09-07T06:42:28.954Z"
   },
   {
    "duration": 89,
    "start_time": "2023-09-07T06:42:38.091Z"
   },
   {
    "duration": 680,
    "start_time": "2023-09-07T06:43:11.494Z"
   },
   {
    "duration": 40,
    "start_time": "2023-09-07T06:43:12.176Z"
   },
   {
    "duration": 26,
    "start_time": "2023-09-07T06:43:12.219Z"
   },
   {
    "duration": 3008,
    "start_time": "2023-09-07T06:43:12.247Z"
   },
   {
    "duration": 8,
    "start_time": "2023-09-07T06:43:15.257Z"
   },
   {
    "duration": 39,
    "start_time": "2023-09-07T06:43:15.267Z"
   },
   {
    "duration": 124,
    "start_time": "2023-09-07T06:43:15.308Z"
   },
   {
    "duration": 61,
    "start_time": "2023-09-07T06:43:15.434Z"
   },
   {
    "duration": 32,
    "start_time": "2023-09-07T06:43:15.496Z"
   },
   {
    "duration": 8,
    "start_time": "2023-09-07T06:43:15.534Z"
   },
   {
    "duration": 55,
    "start_time": "2023-09-07T06:43:15.544Z"
   },
   {
    "duration": 49,
    "start_time": "2023-09-07T06:43:15.600Z"
   },
   {
    "duration": 72,
    "start_time": "2023-09-07T06:43:15.651Z"
   },
   {
    "duration": 241,
    "start_time": "2023-09-07T06:43:15.725Z"
   },
   {
    "duration": 53,
    "start_time": "2023-09-07T06:43:15.968Z"
   },
   {
    "duration": 18,
    "start_time": "2023-09-07T06:43:16.024Z"
   },
   {
    "duration": 25,
    "start_time": "2023-09-07T06:43:16.043Z"
   },
   {
    "duration": 79,
    "start_time": "2023-09-07T06:43:16.069Z"
   },
   {
    "duration": 8,
    "start_time": "2023-09-07T06:43:16.150Z"
   },
   {
    "duration": 25,
    "start_time": "2023-09-07T06:43:16.160Z"
   },
   {
    "duration": 18,
    "start_time": "2023-09-07T06:43:16.187Z"
   },
   {
    "duration": 9,
    "start_time": "2023-09-07T06:43:16.207Z"
   },
   {
    "duration": 53,
    "start_time": "2023-09-07T06:43:16.217Z"
   },
   {
    "duration": 17,
    "start_time": "2023-09-07T06:43:16.273Z"
   },
   {
    "duration": 44,
    "start_time": "2023-09-07T06:43:16.292Z"
   },
   {
    "duration": 41,
    "start_time": "2023-09-07T06:43:16.338Z"
   },
   {
    "duration": 57,
    "start_time": "2023-09-07T06:43:16.381Z"
   },
   {
    "duration": 6,
    "start_time": "2023-09-07T06:43:16.443Z"
   },
   {
    "duration": 26,
    "start_time": "2023-09-07T06:43:16.451Z"
   },
   {
    "duration": 85,
    "start_time": "2023-09-07T06:43:16.480Z"
   },
   {
    "duration": 11,
    "start_time": "2023-09-07T06:43:16.567Z"
   },
   {
    "duration": 70,
    "start_time": "2023-09-07T06:43:16.580Z"
   },
   {
    "duration": 34,
    "start_time": "2023-09-07T06:43:16.652Z"
   },
   {
    "duration": 5,
    "start_time": "2023-09-07T06:43:16.688Z"
   },
   {
    "duration": 33,
    "start_time": "2023-09-07T06:43:16.714Z"
   },
   {
    "duration": 28,
    "start_time": "2023-09-07T06:43:16.748Z"
   },
   {
    "duration": 11,
    "start_time": "2023-09-07T06:43:16.777Z"
   },
   {
    "duration": 282,
    "start_time": "2023-09-07T06:43:16.790Z"
   },
   {
    "duration": 4,
    "start_time": "2023-09-07T06:43:17.074Z"
   },
   {
    "duration": 9,
    "start_time": "2023-09-07T06:43:17.080Z"
   },
   {
    "duration": 28,
    "start_time": "2023-09-07T06:43:17.091Z"
   },
   {
    "duration": 19,
    "start_time": "2023-09-07T06:43:17.122Z"
   },
   {
    "duration": 28,
    "start_time": "2023-09-07T06:43:17.143Z"
   },
   {
    "duration": 142,
    "start_time": "2023-09-07T06:43:17.173Z"
   },
   {
    "duration": 200,
    "start_time": "2023-09-07T06:43:17.317Z"
   },
   {
    "duration": 37,
    "start_time": "2023-09-07T06:43:17.518Z"
   },
   {
    "duration": 476,
    "start_time": "2023-09-07T06:43:17.557Z"
   },
   {
    "duration": 25,
    "start_time": "2023-09-07T06:43:18.035Z"
   },
   {
    "duration": 102,
    "start_time": "2023-09-07T06:43:18.062Z"
   },
   {
    "duration": 140,
    "start_time": "2023-09-07T06:43:50.130Z"
   },
   {
    "duration": 211,
    "start_time": "2023-09-07T06:43:57.579Z"
   },
   {
    "duration": 211,
    "start_time": "2023-09-07T06:44:12.070Z"
   },
   {
    "duration": 218,
    "start_time": "2023-09-07T06:47:38.756Z"
   },
   {
    "duration": 225,
    "start_time": "2023-09-07T06:48:27.549Z"
   },
   {
    "duration": 222,
    "start_time": "2023-09-07T06:51:23.550Z"
   },
   {
    "duration": 227,
    "start_time": "2023-09-07T06:51:36.928Z"
   },
   {
    "duration": 242,
    "start_time": "2023-09-07T06:51:44.007Z"
   },
   {
    "duration": 220,
    "start_time": "2023-09-07T06:51:59.949Z"
   },
   {
    "duration": 248,
    "start_time": "2023-09-07T06:54:42.651Z"
   },
   {
    "duration": 206,
    "start_time": "2023-09-07T06:55:10.352Z"
   },
   {
    "duration": 304,
    "start_time": "2023-09-07T06:55:20.194Z"
   },
   {
    "duration": 188,
    "start_time": "2023-09-07T06:58:30.897Z"
   },
   {
    "duration": 198,
    "start_time": "2023-09-07T06:58:39.584Z"
   },
   {
    "duration": 214,
    "start_time": "2023-09-07T06:58:54.444Z"
   },
   {
    "duration": 211,
    "start_time": "2023-09-07T07:03:11.031Z"
   },
   {
    "duration": 214,
    "start_time": "2023-09-07T07:03:57.573Z"
   },
   {
    "duration": 1233,
    "start_time": "2023-09-07T12:59:04.722Z"
   },
   {
    "duration": 29,
    "start_time": "2023-09-07T12:59:05.958Z"
   },
   {
    "duration": 21,
    "start_time": "2023-09-07T12:59:05.989Z"
   },
   {
    "duration": 2714,
    "start_time": "2023-09-07T12:59:06.011Z"
   },
   {
    "duration": 6,
    "start_time": "2023-09-07T12:59:08.728Z"
   },
   {
    "duration": 38,
    "start_time": "2023-09-07T12:59:08.735Z"
   },
   {
    "duration": 63,
    "start_time": "2023-09-07T12:59:08.775Z"
   },
   {
    "duration": 8,
    "start_time": "2023-09-07T12:59:08.856Z"
   },
   {
    "duration": 11,
    "start_time": "2023-09-07T12:59:08.867Z"
   },
   {
    "duration": 10,
    "start_time": "2023-09-07T12:59:08.880Z"
   },
   {
    "duration": 80,
    "start_time": "2023-09-07T12:59:08.892Z"
   },
   {
    "duration": 37,
    "start_time": "2023-09-07T12:59:08.975Z"
   },
   {
    "duration": 68,
    "start_time": "2023-09-07T12:59:09.015Z"
   },
   {
    "duration": 214,
    "start_time": "2023-09-07T12:59:09.087Z"
   },
   {
    "duration": 36,
    "start_time": "2023-09-07T12:59:09.303Z"
   },
   {
    "duration": 25,
    "start_time": "2023-09-07T12:59:09.340Z"
   },
   {
    "duration": 15,
    "start_time": "2023-09-07T12:59:09.366Z"
   },
   {
    "duration": 41,
    "start_time": "2023-09-07T12:59:09.383Z"
   },
   {
    "duration": 34,
    "start_time": "2023-09-07T12:59:09.426Z"
   },
   {
    "duration": 8,
    "start_time": "2023-09-07T12:59:09.461Z"
   },
   {
    "duration": 5,
    "start_time": "2023-09-07T12:59:09.470Z"
   },
   {
    "duration": 114,
    "start_time": "2023-09-07T12:59:09.477Z"
   },
   {
    "duration": 33,
    "start_time": "2023-09-07T12:59:09.593Z"
   },
   {
    "duration": 8,
    "start_time": "2023-09-07T12:59:09.628Z"
   },
   {
    "duration": 29,
    "start_time": "2023-09-07T12:59:09.638Z"
   },
   {
    "duration": 37,
    "start_time": "2023-09-07T12:59:09.669Z"
   },
   {
    "duration": 63,
    "start_time": "2023-09-07T12:59:09.707Z"
   },
   {
    "duration": 6,
    "start_time": "2023-09-07T12:59:09.772Z"
   },
   {
    "duration": 15,
    "start_time": "2023-09-07T12:59:09.780Z"
   },
   {
    "duration": 64,
    "start_time": "2023-09-07T12:59:09.798Z"
   },
   {
    "duration": 10,
    "start_time": "2023-09-07T12:59:09.864Z"
   },
   {
    "duration": 58,
    "start_time": "2023-09-07T12:59:09.876Z"
   },
   {
    "duration": 48,
    "start_time": "2023-09-07T12:59:09.937Z"
   },
   {
    "duration": 5,
    "start_time": "2023-09-07T12:59:09.987Z"
   },
   {
    "duration": 23,
    "start_time": "2023-09-07T12:59:09.994Z"
   },
   {
    "duration": 22,
    "start_time": "2023-09-07T12:59:10.019Z"
   },
   {
    "duration": 24,
    "start_time": "2023-09-07T12:59:10.043Z"
   },
   {
    "duration": 241,
    "start_time": "2023-09-07T12:59:10.069Z"
   },
   {
    "duration": 6,
    "start_time": "2023-09-07T12:59:10.312Z"
   },
   {
    "duration": 23,
    "start_time": "2023-09-07T12:59:10.319Z"
   },
   {
    "duration": 92,
    "start_time": "2023-09-07T12:59:10.346Z"
   },
   {
    "duration": 45,
    "start_time": "2023-09-07T12:59:10.440Z"
   },
   {
    "duration": 51,
    "start_time": "2023-09-07T12:59:10.487Z"
   },
   {
    "duration": 28,
    "start_time": "2023-09-07T12:59:10.540Z"
   },
   {
    "duration": 29,
    "start_time": "2023-09-07T12:59:10.571Z"
   },
   {
    "duration": 27,
    "start_time": "2023-09-07T12:59:10.602Z"
   },
   {
    "duration": 426,
    "start_time": "2023-09-07T12:59:10.631Z"
   },
   {
    "duration": 27,
    "start_time": "2023-09-07T12:59:11.059Z"
   },
   {
    "duration": 214,
    "start_time": "2023-09-07T12:59:11.088Z"
   },
   {
    "duration": 198,
    "start_time": "2023-09-07T12:59:11.304Z"
   },
   {
    "duration": 221,
    "start_time": "2023-09-07T12:59:11.504Z"
   },
   {
    "duration": 237,
    "start_time": "2023-09-07T12:59:11.727Z"
   },
   {
    "duration": 241,
    "start_time": "2023-09-07T13:03:30.691Z"
   },
   {
    "duration": 238,
    "start_time": "2023-09-07T13:03:53.557Z"
   },
   {
    "duration": 243,
    "start_time": "2023-09-07T13:03:59.100Z"
   },
   {
    "duration": 203,
    "start_time": "2023-09-07T13:04:20.509Z"
   },
   {
    "duration": 101,
    "start_time": "2023-09-07T13:08:49.959Z"
   },
   {
    "duration": 12,
    "start_time": "2023-09-07T13:10:11.600Z"
   },
   {
    "duration": 24,
    "start_time": "2023-09-07T13:10:15.305Z"
   },
   {
    "duration": 335,
    "start_time": "2023-09-07T13:10:31.233Z"
   },
   {
    "duration": 203,
    "start_time": "2023-09-07T13:11:43.304Z"
   },
   {
    "duration": 176,
    "start_time": "2023-09-07T13:16:35.067Z"
   },
   {
    "duration": 19,
    "start_time": "2023-09-07T13:17:12.885Z"
   },
   {
    "duration": 17,
    "start_time": "2023-09-07T13:17:33.243Z"
   },
   {
    "duration": 80,
    "start_time": "2023-09-07T13:18:03.424Z"
   },
   {
    "duration": 14,
    "start_time": "2023-09-07T13:18:05.722Z"
   },
   {
    "duration": 188,
    "start_time": "2023-09-07T13:18:09.802Z"
   },
   {
    "duration": 207,
    "start_time": "2023-09-07T13:18:26.902Z"
   },
   {
    "duration": 9,
    "start_time": "2023-09-07T13:21:28.485Z"
   },
   {
    "duration": 9,
    "start_time": "2023-09-07T13:21:40.283Z"
   },
   {
    "duration": 1745,
    "start_time": "2023-09-07T13:24:35.499Z"
   },
   {
    "duration": 134,
    "start_time": "2023-09-07T13:25:01.390Z"
   },
   {
    "duration": 168,
    "start_time": "2023-09-07T13:29:21.719Z"
   },
   {
    "duration": 190,
    "start_time": "2023-09-07T13:29:32.539Z"
   },
   {
    "duration": 216,
    "start_time": "2023-09-07T13:29:38.701Z"
   },
   {
    "duration": 169,
    "start_time": "2023-09-07T13:29:43.050Z"
   },
   {
    "duration": 164,
    "start_time": "2023-09-07T13:29:53.420Z"
   },
   {
    "duration": 314,
    "start_time": "2023-09-07T13:30:00.209Z"
   },
   {
    "duration": 17,
    "start_time": "2023-09-07T13:32:56.514Z"
   },
   {
    "duration": 172,
    "start_time": "2023-09-07T13:33:14.495Z"
   },
   {
    "duration": 169,
    "start_time": "2023-09-07T13:33:22.053Z"
   },
   {
    "duration": 213,
    "start_time": "2023-09-07T13:33:44.145Z"
   },
   {
    "duration": 287,
    "start_time": "2023-09-07T13:33:48.854Z"
   },
   {
    "duration": 235,
    "start_time": "2023-09-07T13:33:52.233Z"
   },
   {
    "duration": 255,
    "start_time": "2023-09-07T13:35:04.743Z"
   },
   {
    "duration": 292,
    "start_time": "2023-09-07T13:35:48.914Z"
   },
   {
    "duration": 224,
    "start_time": "2023-09-07T13:36:15.633Z"
   },
   {
    "duration": 31,
    "start_time": "2023-09-07T13:39:11.232Z"
   },
   {
    "duration": 15,
    "start_time": "2023-09-07T13:39:13.710Z"
   },
   {
    "duration": 383,
    "start_time": "2023-09-07T13:40:35.395Z"
   },
   {
    "duration": 234,
    "start_time": "2023-09-07T13:40:43.166Z"
   },
   {
    "duration": 235,
    "start_time": "2023-09-07T13:40:50.780Z"
   },
   {
    "duration": 214,
    "start_time": "2023-09-07T13:40:59.204Z"
   },
   {
    "duration": 4,
    "start_time": "2023-09-07T13:47:51.823Z"
   },
   {
    "duration": 5,
    "start_time": "2023-09-07T13:48:00.541Z"
   },
   {
    "duration": 5,
    "start_time": "2023-09-07T13:48:13.584Z"
   },
   {
    "duration": 184,
    "start_time": "2023-09-07T13:50:32.906Z"
   },
   {
    "duration": 176,
    "start_time": "2023-09-07T13:50:47.734Z"
   },
   {
    "duration": 202,
    "start_time": "2023-09-07T13:50:53.435Z"
   },
   {
    "duration": 229,
    "start_time": "2023-09-07T13:50:57.955Z"
   },
   {
    "duration": 13,
    "start_time": "2023-09-07T13:53:18.151Z"
   },
   {
    "duration": 3,
    "start_time": "2023-09-07T14:11:36.002Z"
   },
   {
    "duration": 157,
    "start_time": "2023-09-07T14:27:07.624Z"
   },
   {
    "duration": 300,
    "start_time": "2023-09-07T14:27:16.389Z"
   },
   {
    "duration": 158,
    "start_time": "2023-09-07T14:27:22.025Z"
   },
   {
    "duration": 158,
    "start_time": "2023-09-07T14:27:27.116Z"
   },
   {
    "duration": 149,
    "start_time": "2023-09-07T14:27:30.843Z"
   },
   {
    "duration": 167,
    "start_time": "2023-09-07T14:29:00.645Z"
   },
   {
    "duration": 174,
    "start_time": "2023-09-07T14:29:56.094Z"
   },
   {
    "duration": 201,
    "start_time": "2023-09-07T14:30:22.798Z"
   },
   {
    "duration": 177,
    "start_time": "2023-09-07T14:31:01.397Z"
   },
   {
    "duration": 152,
    "start_time": "2023-09-07T14:31:55.772Z"
   },
   {
    "duration": 163,
    "start_time": "2023-09-07T14:33:08.503Z"
   },
   {
    "duration": 165,
    "start_time": "2023-09-07T14:33:23.974Z"
   },
   {
    "duration": 158,
    "start_time": "2023-09-07T14:34:10.573Z"
   },
   {
    "duration": 187,
    "start_time": "2023-09-07T14:35:31.279Z"
   },
   {
    "duration": 174,
    "start_time": "2023-09-07T14:35:45.832Z"
   },
   {
    "duration": 169,
    "start_time": "2023-09-07T14:35:52.673Z"
   },
   {
    "duration": 139,
    "start_time": "2023-09-07T14:36:05.372Z"
   },
   {
    "duration": 171,
    "start_time": "2023-09-07T14:36:09.841Z"
   },
   {
    "duration": 369,
    "start_time": "2023-09-07T14:36:17.303Z"
   },
   {
    "duration": 171,
    "start_time": "2023-09-07T14:36:25.596Z"
   },
   {
    "duration": 181,
    "start_time": "2023-09-07T14:36:34.313Z"
   },
   {
    "duration": 178,
    "start_time": "2023-09-07T14:36:42.680Z"
   },
   {
    "duration": 192,
    "start_time": "2023-09-07T14:38:17.521Z"
   },
   {
    "duration": 183,
    "start_time": "2023-09-07T14:38:28.184Z"
   },
   {
    "duration": 174,
    "start_time": "2023-09-07T14:38:32.461Z"
   },
   {
    "duration": 186,
    "start_time": "2023-09-07T14:39:12.314Z"
   },
   {
    "duration": 169,
    "start_time": "2023-09-07T14:48:59.570Z"
   },
   {
    "duration": 16,
    "start_time": "2023-09-07T14:52:31.239Z"
   },
   {
    "duration": 205,
    "start_time": "2023-09-07T14:54:13.006Z"
   },
   {
    "duration": 212,
    "start_time": "2023-09-07T14:54:31.192Z"
   },
   {
    "duration": 201,
    "start_time": "2023-09-07T14:54:36.172Z"
   },
   {
    "duration": 410,
    "start_time": "2023-09-07T14:56:32.770Z"
   },
   {
    "duration": 393,
    "start_time": "2023-09-07T14:56:55.170Z"
   },
   {
    "duration": 752,
    "start_time": "2023-09-07T14:57:46.689Z"
   },
   {
    "duration": 17,
    "start_time": "2023-09-07T15:29:28.388Z"
   },
   {
    "duration": 24,
    "start_time": "2023-09-07T15:30:16.446Z"
   },
   {
    "duration": 22,
    "start_time": "2023-09-07T15:32:56.225Z"
   },
   {
    "duration": 24,
    "start_time": "2023-09-07T15:33:35.948Z"
   },
   {
    "duration": 17,
    "start_time": "2023-09-07T15:33:46.448Z"
   },
   {
    "duration": 29,
    "start_time": "2023-09-07T15:33:56.948Z"
   },
   {
    "duration": 25,
    "start_time": "2023-09-07T15:36:39.109Z"
   },
   {
    "duration": 24,
    "start_time": "2023-09-07T15:37:16.399Z"
   },
   {
    "duration": 28,
    "start_time": "2023-09-07T15:37:23.808Z"
   },
   {
    "duration": 26,
    "start_time": "2023-09-07T15:37:45.337Z"
   },
   {
    "duration": 19,
    "start_time": "2023-09-07T15:50:49.405Z"
   },
   {
    "duration": 31,
    "start_time": "2023-09-07T15:50:56.786Z"
   },
   {
    "duration": 11,
    "start_time": "2023-09-07T15:51:34.626Z"
   },
   {
    "duration": 21,
    "start_time": "2023-09-07T15:55:44.837Z"
   },
   {
    "duration": 190,
    "start_time": "2023-09-07T15:56:59.681Z"
   },
   {
    "duration": 796,
    "start_time": "2023-09-07T16:08:52.383Z"
   },
   {
    "duration": 26,
    "start_time": "2023-09-07T16:08:53.181Z"
   },
   {
    "duration": 16,
    "start_time": "2023-09-07T16:08:53.209Z"
   },
   {
    "duration": 2518,
    "start_time": "2023-09-07T16:08:53.227Z"
   },
   {
    "duration": 6,
    "start_time": "2023-09-07T16:08:55.749Z"
   },
   {
    "duration": 27,
    "start_time": "2023-09-07T16:08:55.756Z"
   },
   {
    "duration": 41,
    "start_time": "2023-09-07T16:08:55.785Z"
   },
   {
    "duration": 4,
    "start_time": "2023-09-07T16:08:55.828Z"
   },
   {
    "duration": 6,
    "start_time": "2023-09-07T16:08:55.856Z"
   },
   {
    "duration": 8,
    "start_time": "2023-09-07T16:08:55.863Z"
   },
   {
    "duration": 45,
    "start_time": "2023-09-07T16:08:55.873Z"
   },
   {
    "duration": 67,
    "start_time": "2023-09-07T16:08:55.920Z"
   },
   {
    "duration": 42,
    "start_time": "2023-09-07T16:08:55.989Z"
   },
   {
    "duration": 233,
    "start_time": "2023-09-07T16:08:56.034Z"
   },
   {
    "duration": 39,
    "start_time": "2023-09-07T16:08:56.268Z"
   },
   {
    "duration": 12,
    "start_time": "2023-09-07T16:08:56.309Z"
   },
   {
    "duration": 41,
    "start_time": "2023-09-07T16:08:56.323Z"
   },
   {
    "duration": 40,
    "start_time": "2023-09-07T16:08:56.366Z"
   },
   {
    "duration": 10,
    "start_time": "2023-09-07T16:08:56.408Z"
   },
   {
    "duration": 12,
    "start_time": "2023-09-07T16:08:56.420Z"
   },
   {
    "duration": 26,
    "start_time": "2023-09-07T16:08:56.434Z"
   },
   {
    "duration": 118,
    "start_time": "2023-09-07T16:08:56.462Z"
   },
   {
    "duration": 43,
    "start_time": "2023-09-07T16:08:56.582Z"
   },
   {
    "duration": 8,
    "start_time": "2023-09-07T16:08:56.627Z"
   },
   {
    "duration": 22,
    "start_time": "2023-09-07T16:08:56.637Z"
   },
   {
    "duration": 37,
    "start_time": "2023-09-07T16:08:56.661Z"
   },
   {
    "duration": 58,
    "start_time": "2023-09-07T16:08:56.700Z"
   },
   {
    "duration": 6,
    "start_time": "2023-09-07T16:08:56.761Z"
   },
   {
    "duration": 20,
    "start_time": "2023-09-07T16:08:56.770Z"
   },
   {
    "duration": 58,
    "start_time": "2023-09-07T16:08:56.793Z"
   },
   {
    "duration": 12,
    "start_time": "2023-09-07T16:08:56.856Z"
   },
   {
    "duration": 44,
    "start_time": "2023-09-07T16:08:56.870Z"
   },
   {
    "duration": 53,
    "start_time": "2023-09-07T16:08:56.916Z"
   },
   {
    "duration": 6,
    "start_time": "2023-09-07T16:08:56.971Z"
   },
   {
    "duration": 31,
    "start_time": "2023-09-07T16:08:56.978Z"
   },
   {
    "duration": 17,
    "start_time": "2023-09-07T16:08:57.011Z"
   },
   {
    "duration": 27,
    "start_time": "2023-09-07T16:08:57.030Z"
   },
   {
    "duration": 243,
    "start_time": "2023-09-07T16:08:57.059Z"
   },
   {
    "duration": 6,
    "start_time": "2023-09-07T16:08:57.304Z"
   },
   {
    "duration": 13,
    "start_time": "2023-09-07T16:08:57.312Z"
   },
   {
    "duration": 7,
    "start_time": "2023-09-07T16:08:57.330Z"
   },
   {
    "duration": 14,
    "start_time": "2023-09-07T16:08:57.356Z"
   },
   {
    "duration": 28,
    "start_time": "2023-09-07T16:08:57.372Z"
   },
   {
    "duration": 29,
    "start_time": "2023-09-07T16:08:57.402Z"
   },
   {
    "duration": 42,
    "start_time": "2023-09-07T16:08:57.458Z"
   },
   {
    "duration": 28,
    "start_time": "2023-09-07T16:08:57.502Z"
   },
   {
    "duration": 325,
    "start_time": "2023-09-07T16:08:57.532Z"
   },
   {
    "duration": 27,
    "start_time": "2023-09-07T16:08:57.859Z"
   },
   {
    "duration": 253,
    "start_time": "2023-09-07T16:08:57.888Z"
   },
   {
    "duration": 204,
    "start_time": "2023-09-07T16:08:58.143Z"
   },
   {
    "duration": 211,
    "start_time": "2023-09-07T16:08:58.349Z"
   },
   {
    "duration": 209,
    "start_time": "2023-09-07T16:08:58.562Z"
   },
   {
    "duration": 263,
    "start_time": "2023-09-07T16:08:58.773Z"
   },
   {
    "duration": 192,
    "start_time": "2023-09-07T16:08:59.038Z"
   },
   {
    "duration": 152,
    "start_time": "2023-09-07T16:08:59.232Z"
   },
   {
    "duration": 183,
    "start_time": "2023-09-07T16:08:59.386Z"
   },
   {
    "duration": 359,
    "start_time": "2023-09-07T16:08:59.570Z"
   },
   {
    "duration": 208,
    "start_time": "2023-09-07T16:08:59.931Z"
   },
   {
    "duration": 5,
    "start_time": "2023-09-07T16:09:00.141Z"
   },
   {
    "duration": 22,
    "start_time": "2023-09-07T16:09:00.157Z"
   },
   {
    "duration": 229,
    "start_time": "2023-09-07T16:09:00.181Z"
   },
   {
    "duration": 11,
    "start_time": "2023-09-07T16:09:00.412Z"
   },
   {
    "duration": 209,
    "start_time": "2023-09-07T16:09:00.425Z"
   },
   {
    "duration": 181,
    "start_time": "2023-09-07T16:09:00.636Z"
   },
   {
    "duration": 187,
    "start_time": "2023-09-07T16:09:00.819Z"
   },
   {
    "duration": 190,
    "start_time": "2023-09-07T16:09:01.008Z"
   },
   {
    "duration": 167,
    "start_time": "2023-09-07T16:09:01.200Z"
   },
   {
    "duration": 556,
    "start_time": "2023-09-07T16:09:01.369Z"
   },
   {
    "duration": 38,
    "start_time": "2023-09-07T16:09:01.927Z"
   },
   {
    "duration": 261,
    "start_time": "2023-09-07T16:09:01.968Z"
   },
   {
    "duration": 1457,
    "start_time": "2023-09-07T17:07:46.433Z"
   },
   {
    "duration": 38,
    "start_time": "2023-09-07T17:07:47.892Z"
   },
   {
    "duration": 26,
    "start_time": "2023-09-07T17:07:47.931Z"
   },
   {
    "duration": 3170,
    "start_time": "2023-09-07T17:07:47.959Z"
   },
   {
    "duration": 14,
    "start_time": "2023-09-07T17:07:51.130Z"
   },
   {
    "duration": 30,
    "start_time": "2023-09-07T17:07:51.149Z"
   },
   {
    "duration": 78,
    "start_time": "2023-09-07T17:07:51.182Z"
   },
   {
    "duration": 6,
    "start_time": "2023-09-07T17:07:51.262Z"
   },
   {
    "duration": 31,
    "start_time": "2023-09-07T17:07:51.269Z"
   },
   {
    "duration": 45,
    "start_time": "2023-09-07T17:07:51.303Z"
   },
   {
    "duration": 64,
    "start_time": "2023-09-07T17:07:51.350Z"
   },
   {
    "duration": 41,
    "start_time": "2023-09-07T17:07:51.423Z"
   },
   {
    "duration": 49,
    "start_time": "2023-09-07T17:07:51.466Z"
   },
   {
    "duration": 236,
    "start_time": "2023-09-07T17:07:51.519Z"
   },
   {
    "duration": 58,
    "start_time": "2023-09-07T17:07:51.757Z"
   },
   {
    "duration": 32,
    "start_time": "2023-09-07T17:07:51.816Z"
   },
   {
    "duration": 16,
    "start_time": "2023-09-07T17:07:51.850Z"
   },
   {
    "duration": 60,
    "start_time": "2023-09-07T17:07:51.868Z"
   },
   {
    "duration": 16,
    "start_time": "2023-09-07T17:07:51.933Z"
   },
   {
    "duration": 45,
    "start_time": "2023-09-07T17:07:51.952Z"
   },
   {
    "duration": 29,
    "start_time": "2023-09-07T17:07:51.999Z"
   },
   {
    "duration": 16,
    "start_time": "2023-09-07T17:07:52.033Z"
   },
   {
    "duration": 74,
    "start_time": "2023-09-07T17:07:52.051Z"
   },
   {
    "duration": 335,
    "start_time": "2023-09-07T17:07:52.127Z"
   },
   {
    "duration": 119,
    "start_time": "2023-09-07T17:07:52.465Z"
   },
   {
    "duration": 101,
    "start_time": "2023-09-07T17:07:52.586Z"
   },
   {
    "duration": 60,
    "start_time": "2023-09-07T17:07:52.689Z"
   },
   {
    "duration": 5,
    "start_time": "2023-09-07T17:07:52.754Z"
   },
   {
    "duration": 42,
    "start_time": "2023-09-07T17:07:52.761Z"
   },
   {
    "duration": 174,
    "start_time": "2023-09-07T17:07:52.805Z"
   },
   {
    "duration": 14,
    "start_time": "2023-09-07T17:07:52.981Z"
   },
   {
    "duration": 139,
    "start_time": "2023-09-07T17:07:52.997Z"
   },
   {
    "duration": 49,
    "start_time": "2023-09-07T17:07:53.138Z"
   },
   {
    "duration": 21,
    "start_time": "2023-09-07T17:07:53.188Z"
   },
   {
    "duration": 41,
    "start_time": "2023-09-07T17:07:53.211Z"
   },
   {
    "duration": 33,
    "start_time": "2023-09-07T17:07:53.260Z"
   },
   {
    "duration": 55,
    "start_time": "2023-09-07T17:07:53.294Z"
   },
   {
    "duration": 376,
    "start_time": "2023-09-07T17:07:53.352Z"
   },
   {
    "duration": 9,
    "start_time": "2023-09-07T17:07:53.738Z"
   },
   {
    "duration": 28,
    "start_time": "2023-09-07T17:07:53.749Z"
   },
   {
    "duration": 49,
    "start_time": "2023-09-07T17:07:53.778Z"
   },
   {
    "duration": 27,
    "start_time": "2023-09-07T17:07:53.828Z"
   },
   {
    "duration": 43,
    "start_time": "2023-09-07T17:07:53.857Z"
   },
   {
    "duration": 52,
    "start_time": "2023-09-07T17:07:53.903Z"
   },
   {
    "duration": 46,
    "start_time": "2023-09-07T17:07:53.956Z"
   },
   {
    "duration": 38,
    "start_time": "2023-09-07T17:07:54.003Z"
   },
   {
    "duration": 492,
    "start_time": "2023-09-07T17:07:54.049Z"
   },
   {
    "duration": 42,
    "start_time": "2023-09-07T17:07:54.543Z"
   },
   {
    "duration": 276,
    "start_time": "2023-09-07T17:07:54.601Z"
   },
   {
    "duration": 260,
    "start_time": "2023-09-07T17:07:54.880Z"
   },
   {
    "duration": 237,
    "start_time": "2023-09-07T17:07:55.149Z"
   },
   {
    "duration": 249,
    "start_time": "2023-09-07T17:07:55.388Z"
   },
   {
    "duration": 222,
    "start_time": "2023-09-07T17:07:55.639Z"
   },
   {
    "duration": 222,
    "start_time": "2023-09-07T17:07:55.863Z"
   },
   {
    "duration": 173,
    "start_time": "2023-09-07T17:07:56.087Z"
   },
   {
    "duration": 225,
    "start_time": "2023-09-07T17:07:56.262Z"
   },
   {
    "duration": 277,
    "start_time": "2023-09-07T17:07:56.489Z"
   },
   {
    "duration": 378,
    "start_time": "2023-09-07T17:07:56.768Z"
   },
   {
    "duration": 6,
    "start_time": "2023-09-07T17:07:57.150Z"
   },
   {
    "duration": 36,
    "start_time": "2023-09-07T17:07:57.158Z"
   },
   {
    "duration": 276,
    "start_time": "2023-09-07T17:07:57.195Z"
   },
   {
    "duration": 8,
    "start_time": "2023-09-07T17:07:57.473Z"
   },
   {
    "duration": 194,
    "start_time": "2023-09-07T17:07:57.483Z"
   },
   {
    "duration": 203,
    "start_time": "2023-09-07T17:07:57.679Z"
   },
   {
    "duration": 201,
    "start_time": "2023-09-07T17:07:57.884Z"
   },
   {
    "duration": 217,
    "start_time": "2023-09-07T17:07:58.087Z"
   },
   {
    "duration": 189,
    "start_time": "2023-09-07T17:07:58.306Z"
   },
   {
    "duration": 773,
    "start_time": "2023-09-07T17:07:58.496Z"
   },
   {
    "duration": 42,
    "start_time": "2023-09-07T17:07:59.270Z"
   },
   {
    "duration": 223,
    "start_time": "2023-09-07T17:07:59.314Z"
   },
   {
    "duration": 150,
    "start_time": "2023-09-07T17:10:03.622Z"
   },
   {
    "duration": 49,
    "start_time": "2023-09-07T17:10:03.994Z"
   },
   {
    "duration": 24,
    "start_time": "2023-09-07T17:10:04.234Z"
   },
   {
    "duration": 3121,
    "start_time": "2023-09-07T17:10:04.621Z"
   },
   {
    "duration": 6,
    "start_time": "2023-09-07T17:10:07.744Z"
   },
   {
    "duration": 24,
    "start_time": "2023-09-07T17:10:07.852Z"
   },
   {
    "duration": 57,
    "start_time": "2023-09-07T17:10:08.890Z"
   },
   {
    "duration": 6,
    "start_time": "2023-09-07T17:10:12.483Z"
   },
   {
    "duration": 6,
    "start_time": "2023-09-07T17:10:13.086Z"
   },
   {
    "duration": 10,
    "start_time": "2023-09-07T17:10:14.030Z"
   },
   {
    "duration": 64,
    "start_time": "2023-09-07T17:10:14.928Z"
   },
   {
    "duration": 11,
    "start_time": "2023-09-07T17:10:16.032Z"
   },
   {
    "duration": 12,
    "start_time": "2023-09-07T17:16:20.827Z"
   },
   {
    "duration": 163,
    "start_time": "2023-09-07T17:16:26.082Z"
   },
   {
    "duration": 167,
    "start_time": "2023-09-07T17:16:26.472Z"
   },
   {
    "duration": 20,
    "start_time": "2023-09-07T17:16:26.731Z"
   },
   {
    "duration": 3017,
    "start_time": "2023-09-07T17:16:27.224Z"
   },
   {
    "duration": 7,
    "start_time": "2023-09-07T17:16:30.244Z"
   },
   {
    "duration": 115,
    "start_time": "2023-09-07T17:16:30.253Z"
   },
   {
    "duration": 48,
    "start_time": "2023-09-07T17:16:30.719Z"
   },
   {
    "duration": 10,
    "start_time": "2023-09-07T17:16:31.096Z"
   },
   {
    "duration": 6,
    "start_time": "2023-09-07T17:16:31.432Z"
   },
   {
    "duration": 12,
    "start_time": "2023-09-07T17:16:32.444Z"
   },
   {
    "duration": 6,
    "start_time": "2023-09-07T17:16:33.981Z"
   },
   {
    "duration": 94,
    "start_time": "2023-09-07T17:16:42.154Z"
   },
   {
    "duration": 9,
    "start_time": "2023-09-07T17:16:47.936Z"
   },
   {
    "duration": 7,
    "start_time": "2023-09-07T17:17:34.580Z"
   },
   {
    "duration": 1011,
    "start_time": "2023-09-07T17:32:06.148Z"
   },
   {
    "duration": 28,
    "start_time": "2023-09-07T17:32:07.162Z"
   },
   {
    "duration": 40,
    "start_time": "2023-09-07T17:32:07.192Z"
   },
   {
    "duration": 3160,
    "start_time": "2023-09-07T17:32:07.234Z"
   },
   {
    "duration": 12,
    "start_time": "2023-09-07T17:32:10.396Z"
   },
   {
    "duration": 271,
    "start_time": "2023-09-07T17:32:10.412Z"
   },
   {
    "duration": 83,
    "start_time": "2023-09-07T17:32:10.685Z"
   },
   {
    "duration": 5,
    "start_time": "2023-09-07T17:32:10.770Z"
   },
   {
    "duration": 55,
    "start_time": "2023-09-07T17:32:10.777Z"
   },
   {
    "duration": 59,
    "start_time": "2023-09-07T17:32:10.836Z"
   },
   {
    "duration": 86,
    "start_time": "2023-09-07T17:32:10.896Z"
   },
   {
    "duration": 111,
    "start_time": "2023-09-07T17:32:10.985Z"
   },
   {
    "duration": 59,
    "start_time": "2023-09-07T17:32:11.098Z"
   },
   {
    "duration": 37,
    "start_time": "2023-09-07T17:32:11.159Z"
   },
   {
    "duration": 233,
    "start_time": "2023-09-07T17:32:11.198Z"
   },
   {
    "duration": 42,
    "start_time": "2023-09-07T17:32:11.433Z"
   },
   {
    "duration": 13,
    "start_time": "2023-09-07T17:32:11.477Z"
   },
   {
    "duration": 58,
    "start_time": "2023-09-07T17:32:11.491Z"
   },
   {
    "duration": 63,
    "start_time": "2023-09-07T17:32:11.551Z"
   },
   {
    "duration": 28,
    "start_time": "2023-09-07T17:32:11.616Z"
   },
   {
    "duration": 115,
    "start_time": "2023-09-07T17:32:11.647Z"
   },
   {
    "duration": 161,
    "start_time": "2023-09-07T17:32:11.763Z"
   },
   {
    "duration": 135,
    "start_time": "2023-09-07T17:32:11.925Z"
   },
   {
    "duration": 95,
    "start_time": "2023-09-07T17:32:12.061Z"
   },
   {
    "duration": 9,
    "start_time": "2023-09-07T17:32:12.159Z"
   },
   {
    "duration": 46,
    "start_time": "2023-09-07T17:32:12.169Z"
   },
   {
    "duration": 43,
    "start_time": "2023-09-07T17:32:12.224Z"
   },
   {
    "duration": 39,
    "start_time": "2023-09-07T17:32:12.271Z"
   },
   {
    "duration": 7,
    "start_time": "2023-09-07T17:32:12.312Z"
   },
   {
    "duration": 35,
    "start_time": "2023-09-07T17:32:12.321Z"
   },
   {
    "duration": 406,
    "start_time": "2023-09-07T17:32:12.358Z"
   },
   {
    "duration": 71,
    "start_time": "2023-09-07T17:32:12.766Z"
   },
   {
    "duration": 288,
    "start_time": "2023-09-07T17:32:12.842Z"
   },
   {
    "duration": 49,
    "start_time": "2023-09-07T17:32:13.131Z"
   },
   {
    "duration": 7,
    "start_time": "2023-09-07T17:32:13.182Z"
   },
   {
    "duration": 55,
    "start_time": "2023-09-07T17:32:13.191Z"
   },
   {
    "duration": 16,
    "start_time": "2023-09-07T17:32:13.248Z"
   },
   {
    "duration": 27,
    "start_time": "2023-09-07T17:32:13.265Z"
   },
   {
    "duration": 331,
    "start_time": "2023-09-07T17:32:13.294Z"
   },
   {
    "duration": 4,
    "start_time": "2023-09-07T17:32:13.627Z"
   },
   {
    "duration": 41,
    "start_time": "2023-09-07T17:32:13.633Z"
   },
   {
    "duration": 47,
    "start_time": "2023-09-07T17:32:13.676Z"
   },
   {
    "duration": 21,
    "start_time": "2023-09-07T17:32:13.729Z"
   },
   {
    "duration": 27,
    "start_time": "2023-09-07T17:32:13.752Z"
   },
   {
    "duration": 38,
    "start_time": "2023-09-07T17:32:13.781Z"
   },
   {
    "duration": 36,
    "start_time": "2023-09-07T17:32:13.823Z"
   },
   {
    "duration": 117,
    "start_time": "2023-09-07T17:32:13.860Z"
   },
   {
    "duration": 616,
    "start_time": "2023-09-07T17:32:13.979Z"
   },
   {
    "duration": 37,
    "start_time": "2023-09-07T17:32:14.597Z"
   },
   {
    "duration": 293,
    "start_time": "2023-09-07T17:32:14.636Z"
   },
   {
    "duration": 243,
    "start_time": "2023-09-07T17:32:14.931Z"
   },
   {
    "duration": 272,
    "start_time": "2023-09-07T17:32:15.175Z"
   },
   {
    "duration": 227,
    "start_time": "2023-09-07T17:32:15.449Z"
   },
   {
    "duration": 245,
    "start_time": "2023-09-07T17:32:15.677Z"
   },
   {
    "duration": 215,
    "start_time": "2023-09-07T17:32:15.933Z"
   },
   {
    "duration": 153,
    "start_time": "2023-09-07T17:32:16.150Z"
   },
   {
    "duration": 204,
    "start_time": "2023-09-07T17:32:16.305Z"
   },
   {
    "duration": 267,
    "start_time": "2023-09-07T17:32:16.511Z"
   },
   {
    "duration": 415,
    "start_time": "2023-09-07T17:32:16.779Z"
   },
   {
    "duration": 30,
    "start_time": "2023-09-07T17:32:17.203Z"
   },
   {
    "duration": 11,
    "start_time": "2023-09-07T17:32:17.243Z"
   },
   {
    "duration": 263,
    "start_time": "2023-09-07T17:32:17.256Z"
   },
   {
    "duration": 18,
    "start_time": "2023-09-07T17:32:17.524Z"
   },
   {
    "duration": 195,
    "start_time": "2023-09-07T17:32:17.543Z"
   },
   {
    "duration": 204,
    "start_time": "2023-09-07T17:32:17.739Z"
   },
   {
    "duration": 228,
    "start_time": "2023-09-07T17:32:17.947Z"
   },
   {
    "duration": 212,
    "start_time": "2023-09-07T17:32:18.177Z"
   },
   {
    "duration": 226,
    "start_time": "2023-09-07T17:32:18.391Z"
   },
   {
    "duration": 701,
    "start_time": "2023-09-07T17:32:18.620Z"
   },
   {
    "duration": 37,
    "start_time": "2023-09-07T17:32:19.323Z"
   },
   {
    "duration": 218,
    "start_time": "2023-09-07T17:32:19.362Z"
   },
   {
    "duration": 55,
    "start_time": "2023-09-08T11:01:31.200Z"
   },
   {
    "duration": 1476,
    "start_time": "2023-09-08T11:01:36.296Z"
   },
   {
    "duration": 29,
    "start_time": "2023-09-08T11:01:44.123Z"
   },
   {
    "duration": 20,
    "start_time": "2023-09-08T11:01:47.539Z"
   },
   {
    "duration": 3,
    "start_time": "2023-09-08T11:01:50.107Z"
   },
   {
    "duration": 41,
    "start_time": "2023-09-08T11:06:18.965Z"
   },
   {
    "duration": 115,
    "start_time": "2023-09-08T11:06:31.559Z"
   },
   {
    "duration": 26,
    "start_time": "2023-09-08T11:06:31.676Z"
   },
   {
    "duration": 33,
    "start_time": "2023-09-08T11:06:31.705Z"
   },
   {
    "duration": 56,
    "start_time": "2023-09-08T11:06:31.740Z"
   },
   {
    "duration": 2492,
    "start_time": "2023-09-08T11:06:31.798Z"
   },
   {
    "duration": 5,
    "start_time": "2023-09-08T11:06:34.292Z"
   },
   {
    "duration": 29,
    "start_time": "2023-09-08T11:06:34.299Z"
   },
   {
    "duration": 297,
    "start_time": "2023-09-08T11:06:34.330Z"
   },
   {
    "duration": 14,
    "start_time": "2023-09-08T11:06:34.628Z"
   },
   {
    "duration": 10,
    "start_time": "2023-09-08T11:07:00.588Z"
   },
   {
    "duration": 8,
    "start_time": "2023-09-08T11:08:12.326Z"
   },
   {
    "duration": 8,
    "start_time": "2023-09-08T11:08:32.547Z"
   },
   {
    "duration": 6,
    "start_time": "2023-09-08T11:08:32.569Z"
   },
   {
    "duration": 22,
    "start_time": "2023-09-08T11:08:32.577Z"
   },
   {
    "duration": 23,
    "start_time": "2023-09-08T11:08:32.600Z"
   },
   {
    "duration": 53,
    "start_time": "2023-09-08T11:08:32.624Z"
   },
   {
    "duration": 30,
    "start_time": "2023-09-08T11:08:32.680Z"
   },
   {
    "duration": 44,
    "start_time": "2023-09-08T11:08:32.712Z"
   },
   {
    "duration": 222,
    "start_time": "2023-09-08T11:08:32.758Z"
   },
   {
    "duration": 57,
    "start_time": "2023-09-08T11:08:32.983Z"
   },
   {
    "duration": 11,
    "start_time": "2023-09-08T11:08:33.676Z"
   },
   {
    "duration": 106,
    "start_time": "2023-09-08T11:08:33.689Z"
   },
   {
    "duration": 145,
    "start_time": "2023-09-08T11:08:33.797Z"
   },
   {
    "duration": 48,
    "start_time": "2023-09-08T11:08:33.945Z"
   },
   {
    "duration": 29,
    "start_time": "2023-09-08T11:08:33.995Z"
   },
   {
    "duration": 76,
    "start_time": "2023-09-08T11:08:34.026Z"
   },
   {
    "duration": 15,
    "start_time": "2023-09-08T11:08:34.103Z"
   },
   {
    "duration": 132,
    "start_time": "2023-09-08T11:08:34.120Z"
   },
   {
    "duration": 21,
    "start_time": "2023-09-08T11:08:34.253Z"
   },
   {
    "duration": 13,
    "start_time": "2023-09-08T11:08:34.345Z"
   },
   {
    "duration": 45,
    "start_time": "2023-09-08T11:08:34.360Z"
   },
   {
    "duration": 35,
    "start_time": "2023-09-08T11:08:34.407Z"
   },
   {
    "duration": 5,
    "start_time": "2023-09-08T11:08:34.444Z"
   },
   {
    "duration": 17,
    "start_time": "2023-09-08T11:08:34.451Z"
   },
   {
    "duration": 54,
    "start_time": "2023-09-08T11:08:34.470Z"
   },
   {
    "duration": 10,
    "start_time": "2023-09-08T11:08:34.525Z"
   },
   {
    "duration": 35,
    "start_time": "2023-09-08T11:08:34.536Z"
   },
   {
    "duration": 52,
    "start_time": "2023-09-08T11:08:34.573Z"
   },
   {
    "duration": 5,
    "start_time": "2023-09-08T11:08:34.626Z"
   },
   {
    "duration": 48,
    "start_time": "2023-09-08T11:08:34.633Z"
   },
   {
    "duration": 18,
    "start_time": "2023-09-08T11:08:34.683Z"
   },
   {
    "duration": 12,
    "start_time": "2023-09-08T11:08:34.703Z"
   },
   {
    "duration": 254,
    "start_time": "2023-09-08T11:08:34.718Z"
   },
   {
    "duration": 5,
    "start_time": "2023-09-08T11:08:34.974Z"
   },
   {
    "duration": 8,
    "start_time": "2023-09-08T11:08:36.014Z"
   },
   {
    "duration": 143,
    "start_time": "2023-09-08T11:08:36.024Z"
   },
   {
    "duration": 275,
    "start_time": "2023-09-08T11:08:36.169Z"
   },
   {
    "duration": 133,
    "start_time": "2023-09-08T11:08:36.446Z"
   },
   {
    "duration": 65,
    "start_time": "2023-09-08T11:08:36.582Z"
   },
   {
    "duration": 32,
    "start_time": "2023-09-08T11:08:36.648Z"
   },
   {
    "duration": 69,
    "start_time": "2023-09-08T11:08:36.681Z"
   },
   {
    "duration": 281,
    "start_time": "2023-09-08T11:08:36.752Z"
   },
   {
    "duration": 24,
    "start_time": "2023-09-08T11:08:37.034Z"
   },
   {
    "duration": 207,
    "start_time": "2023-09-08T11:08:37.059Z"
   },
   {
    "duration": 175,
    "start_time": "2023-09-08T11:08:37.267Z"
   },
   {
    "duration": 187,
    "start_time": "2023-09-08T11:08:37.444Z"
   },
   {
    "duration": 192,
    "start_time": "2023-09-08T11:08:37.632Z"
   },
   {
    "duration": 172,
    "start_time": "2023-09-08T11:08:37.826Z"
   },
   {
    "duration": 176,
    "start_time": "2023-09-08T11:08:37.999Z"
   },
   {
    "duration": 147,
    "start_time": "2023-09-08T11:08:38.177Z"
   },
   {
    "duration": 161,
    "start_time": "2023-09-08T11:08:39.329Z"
   },
   {
    "duration": 293,
    "start_time": "2023-09-08T11:08:39.492Z"
   },
   {
    "duration": 181,
    "start_time": "2023-09-08T11:08:39.786Z"
   },
   {
    "duration": 4,
    "start_time": "2023-09-08T11:08:39.968Z"
   },
   {
    "duration": 85,
    "start_time": "2023-09-08T11:08:39.974Z"
   },
   {
    "duration": 437,
    "start_time": "2023-09-08T11:08:40.061Z"
   },
   {
    "duration": 9,
    "start_time": "2023-09-08T11:08:40.500Z"
   },
   {
    "duration": 213,
    "start_time": "2023-09-08T11:08:40.511Z"
   },
   {
    "duration": 151,
    "start_time": "2023-09-08T11:08:40.726Z"
   },
   {
    "duration": 165,
    "start_time": "2023-09-08T11:08:40.879Z"
   },
   {
    "duration": 178,
    "start_time": "2023-09-08T11:08:41.046Z"
   },
   {
    "duration": 158,
    "start_time": "2023-09-08T11:08:41.226Z"
   },
   {
    "duration": 517,
    "start_time": "2023-09-08T11:08:41.386Z"
   },
   {
    "duration": 33,
    "start_time": "2023-09-08T11:08:41.904Z"
   },
   {
    "duration": 187,
    "start_time": "2023-09-08T11:08:41.939Z"
   },
   {
    "duration": 114,
    "start_time": "2023-09-08T11:09:20.076Z"
   },
   {
    "duration": 22,
    "start_time": "2023-09-08T11:09:20.191Z"
   },
   {
    "duration": 13,
    "start_time": "2023-09-08T11:09:20.224Z"
   },
   {
    "duration": 15,
    "start_time": "2023-09-08T11:09:20.238Z"
   },
   {
    "duration": 2435,
    "start_time": "2023-09-08T11:09:20.255Z"
   },
   {
    "duration": 5,
    "start_time": "2023-09-08T11:09:22.692Z"
   },
   {
    "duration": 30,
    "start_time": "2023-09-08T11:09:22.699Z"
   },
   {
    "duration": 6,
    "start_time": "2023-09-08T11:09:22.731Z"
   },
   {
    "duration": 9,
    "start_time": "2023-09-08T11:10:28.109Z"
   },
   {
    "duration": 5,
    "start_time": "2023-09-08T11:11:26.207Z"
   },
   {
    "duration": 5,
    "start_time": "2023-09-08T11:11:41.020Z"
   },
   {
    "duration": 7,
    "start_time": "2023-09-08T11:12:07.535Z"
   },
   {
    "duration": 7,
    "start_time": "2023-09-08T11:19:23.773Z"
   },
   {
    "duration": 44,
    "start_time": "2023-09-08T11:19:29.966Z"
   },
   {
    "duration": 37,
    "start_time": "2023-09-08T11:21:22.376Z"
   },
   {
    "duration": 38,
    "start_time": "2023-09-08T11:23:00.316Z"
   },
   {
    "duration": 38,
    "start_time": "2023-09-08T11:23:31.227Z"
   },
   {
    "duration": 190,
    "start_time": "2023-09-08T11:23:40.764Z"
   },
   {
    "duration": 168,
    "start_time": "2023-09-08T11:23:48.407Z"
   },
   {
    "duration": 813,
    "start_time": "2023-09-08T11:24:45.667Z"
   },
   {
    "duration": 25,
    "start_time": "2023-09-08T11:24:46.482Z"
   },
   {
    "duration": 25,
    "start_time": "2023-09-08T11:24:46.509Z"
   },
   {
    "duration": 4,
    "start_time": "2023-09-08T11:24:46.537Z"
   },
   {
    "duration": 2479,
    "start_time": "2023-09-08T11:24:46.543Z"
   },
   {
    "duration": 6,
    "start_time": "2023-09-08T11:24:49.024Z"
   },
   {
    "duration": 30,
    "start_time": "2023-09-08T11:24:49.032Z"
   },
   {
    "duration": 6,
    "start_time": "2023-09-08T11:24:49.064Z"
   },
   {
    "duration": 14,
    "start_time": "2023-09-08T11:24:49.072Z"
   },
   {
    "duration": 11,
    "start_time": "2023-09-08T11:24:49.089Z"
   },
   {
    "duration": 24,
    "start_time": "2023-09-08T11:24:49.101Z"
   },
   {
    "duration": 8,
    "start_time": "2023-09-08T11:24:49.127Z"
   },
   {
    "duration": 11,
    "start_time": "2023-09-08T11:24:49.138Z"
   },
   {
    "duration": 48,
    "start_time": "2023-09-08T11:24:49.150Z"
   },
   {
    "duration": 55,
    "start_time": "2023-09-08T11:24:49.200Z"
   },
   {
    "duration": 35,
    "start_time": "2023-09-08T11:24:49.256Z"
   },
   {
    "duration": 189,
    "start_time": "2023-09-08T11:24:49.292Z"
   },
   {
    "duration": 48,
    "start_time": "2023-09-08T11:24:49.483Z"
   },
   {
    "duration": 14,
    "start_time": "2023-09-08T11:24:49.533Z"
   },
   {
    "duration": 22,
    "start_time": "2023-09-08T11:24:49.549Z"
   },
   {
    "duration": 42,
    "start_time": "2023-09-08T11:32:10.381Z"
   },
   {
    "duration": 73,
    "start_time": "2023-09-08T11:35:55.429Z"
   },
   {
    "duration": 11,
    "start_time": "2023-09-08T11:36:06.675Z"
   },
   {
    "duration": 7,
    "start_time": "2023-09-08T11:36:23.923Z"
   },
   {
    "duration": 5,
    "start_time": "2023-09-08T11:36:37.334Z"
   },
   {
    "duration": 15,
    "start_time": "2023-09-08T11:37:45.309Z"
   },
   {
    "duration": 8,
    "start_time": "2023-09-08T11:38:10.282Z"
   },
   {
    "duration": 9,
    "start_time": "2023-09-08T11:38:15.738Z"
   },
   {
    "duration": 11,
    "start_time": "2023-09-08T11:38:20.489Z"
   },
   {
    "duration": 16,
    "start_time": "2023-09-08T11:38:23.909Z"
   },
   {
    "duration": 13,
    "start_time": "2023-09-08T11:39:03.295Z"
   },
   {
    "duration": 54,
    "start_time": "2023-09-08T11:39:57.095Z"
   },
   {
    "duration": 10,
    "start_time": "2023-09-08T11:40:45.630Z"
   },
   {
    "duration": 6,
    "start_time": "2023-09-08T11:40:59.225Z"
   },
   {
    "duration": 5,
    "start_time": "2023-09-08T11:41:01.133Z"
   },
   {
    "duration": 49,
    "start_time": "2023-09-08T11:41:03.472Z"
   },
   {
    "duration": 124,
    "start_time": "2023-09-08T11:45:31.222Z"
   },
   {
    "duration": 23,
    "start_time": "2023-09-08T11:45:31.348Z"
   },
   {
    "duration": 54,
    "start_time": "2023-09-08T11:45:31.373Z"
   },
   {
    "duration": 53,
    "start_time": "2023-09-08T11:45:31.428Z"
   },
   {
    "duration": 2499,
    "start_time": "2023-09-08T11:45:31.483Z"
   },
   {
    "duration": 6,
    "start_time": "2023-09-08T11:45:33.984Z"
   },
   {
    "duration": 43,
    "start_time": "2023-09-08T11:45:33.992Z"
   },
   {
    "duration": 12,
    "start_time": "2023-09-08T11:45:34.036Z"
   },
   {
    "duration": 38,
    "start_time": "2023-09-08T11:45:34.050Z"
   },
   {
    "duration": 47,
    "start_time": "2023-09-08T11:45:34.089Z"
   },
   {
    "duration": 14,
    "start_time": "2023-09-08T11:45:34.137Z"
   },
   {
    "duration": 8,
    "start_time": "2023-09-08T11:45:34.153Z"
   },
   {
    "duration": 20,
    "start_time": "2023-09-08T11:45:34.162Z"
   },
   {
    "duration": 38,
    "start_time": "2023-09-08T11:45:34.185Z"
   },
   {
    "duration": 31,
    "start_time": "2023-09-08T11:45:34.224Z"
   },
   {
    "duration": 35,
    "start_time": "2023-09-08T11:45:34.257Z"
   },
   {
    "duration": 198,
    "start_time": "2023-09-08T11:45:34.294Z"
   },
   {
    "duration": 47,
    "start_time": "2023-09-08T11:45:34.494Z"
   },
   {
    "duration": 50,
    "start_time": "2023-09-08T11:45:34.543Z"
   },
   {
    "duration": 132,
    "start_time": "2023-09-08T11:45:34.595Z"
   },
   {
    "duration": 125,
    "start_time": "2023-09-08T11:45:34.728Z"
   },
   {
    "duration": 6,
    "start_time": "2023-09-08T11:45:48.202Z"
   },
   {
    "duration": 5,
    "start_time": "2023-09-08T11:45:49.978Z"
   },
   {
    "duration": 50,
    "start_time": "2023-09-08T11:45:52.886Z"
   },
   {
    "duration": 29,
    "start_time": "2023-09-08T11:46:28.373Z"
   },
   {
    "duration": 27,
    "start_time": "2023-09-08T11:46:58.074Z"
   },
   {
    "duration": 33,
    "start_time": "2023-09-08T11:47:08.422Z"
   },
   {
    "duration": 755,
    "start_time": "2023-09-08T11:47:53.038Z"
   },
   {
    "duration": 25,
    "start_time": "2023-09-08T11:47:53.794Z"
   },
   {
    "duration": 14,
    "start_time": "2023-09-08T11:47:53.825Z"
   },
   {
    "duration": 6,
    "start_time": "2023-09-08T11:47:53.841Z"
   },
   {
    "duration": 2366,
    "start_time": "2023-09-08T11:47:53.848Z"
   },
   {
    "duration": 6,
    "start_time": "2023-09-08T11:47:56.216Z"
   },
   {
    "duration": 33,
    "start_time": "2023-09-08T11:47:56.223Z"
   },
   {
    "duration": 6,
    "start_time": "2023-09-08T11:47:56.258Z"
   },
   {
    "duration": 16,
    "start_time": "2023-09-08T11:47:56.265Z"
   },
   {
    "duration": 4,
    "start_time": "2023-09-08T11:47:56.283Z"
   },
   {
    "duration": 6,
    "start_time": "2023-09-08T11:47:56.288Z"
   },
   {
    "duration": 6,
    "start_time": "2023-09-08T11:47:56.295Z"
   },
   {
    "duration": 20,
    "start_time": "2023-09-08T11:47:56.304Z"
   },
   {
    "duration": 39,
    "start_time": "2023-09-08T11:47:56.325Z"
   },
   {
    "duration": 32,
    "start_time": "2023-09-08T11:47:56.366Z"
   },
   {
    "duration": 51,
    "start_time": "2023-09-08T11:47:56.400Z"
   },
   {
    "duration": 169,
    "start_time": "2023-09-08T11:47:56.453Z"
   },
   {
    "duration": 36,
    "start_time": "2023-09-08T11:47:56.624Z"
   },
   {
    "duration": 10,
    "start_time": "2023-09-08T11:47:56.661Z"
   },
   {
    "duration": 17,
    "start_time": "2023-09-08T11:47:56.672Z"
   },
   {
    "duration": 58,
    "start_time": "2023-09-08T11:47:56.691Z"
   },
   {
    "duration": 6,
    "start_time": "2023-09-08T11:48:33.719Z"
   },
   {
    "duration": 42,
    "start_time": "2023-09-08T11:51:31.291Z"
   },
   {
    "duration": 34,
    "start_time": "2023-09-08T11:54:28.678Z"
   },
   {
    "duration": 47,
    "start_time": "2023-09-08T11:54:36.877Z"
   },
   {
    "duration": 767,
    "start_time": "2023-09-08T11:55:18.833Z"
   },
   {
    "duration": 27,
    "start_time": "2023-09-08T11:55:19.602Z"
   },
   {
    "duration": 99,
    "start_time": "2023-09-08T11:55:19.631Z"
   },
   {
    "duration": 62,
    "start_time": "2023-09-08T11:55:19.732Z"
   },
   {
    "duration": 2398,
    "start_time": "2023-09-08T11:55:19.796Z"
   },
   {
    "duration": 6,
    "start_time": "2023-09-08T11:55:22.196Z"
   },
   {
    "duration": 125,
    "start_time": "2023-09-08T11:55:22.203Z"
   },
   {
    "duration": 53,
    "start_time": "2023-09-08T11:55:22.330Z"
   },
   {
    "duration": 53,
    "start_time": "2023-09-08T11:55:22.385Z"
   },
   {
    "duration": 25,
    "start_time": "2023-09-08T11:55:22.442Z"
   },
   {
    "duration": 24,
    "start_time": "2023-09-08T11:55:22.469Z"
   },
   {
    "duration": 17,
    "start_time": "2023-09-08T11:55:22.495Z"
   },
   {
    "duration": 21,
    "start_time": "2023-09-08T11:55:22.514Z"
   },
   {
    "duration": 61,
    "start_time": "2023-09-08T11:55:22.537Z"
   },
   {
    "duration": 32,
    "start_time": "2023-09-08T11:55:22.600Z"
   },
   {
    "duration": 32,
    "start_time": "2023-09-08T11:55:22.634Z"
   },
   {
    "duration": 182,
    "start_time": "2023-09-08T11:55:22.668Z"
   },
   {
    "duration": 36,
    "start_time": "2023-09-08T11:55:22.852Z"
   },
   {
    "duration": 73,
    "start_time": "2023-09-08T11:55:22.890Z"
   },
   {
    "duration": 29,
    "start_time": "2023-09-08T11:55:22.966Z"
   },
   {
    "duration": 40,
    "start_time": "2023-09-08T11:55:22.997Z"
   },
   {
    "duration": 7,
    "start_time": "2023-09-08T11:55:23.039Z"
   },
   {
    "duration": 53,
    "start_time": "2023-09-08T11:55:23.048Z"
   },
   {
    "duration": 38,
    "start_time": "2023-09-08T11:55:23.103Z"
   },
   {
    "duration": 35,
    "start_time": "2023-09-08T11:55:23.142Z"
   },
   {
    "duration": 113,
    "start_time": "2023-09-08T11:55:23.179Z"
   },
   {
    "duration": 13,
    "start_time": "2023-09-08T11:55:23.294Z"
   },
   {
    "duration": 40,
    "start_time": "2023-09-08T11:55:23.310Z"
   },
   {
    "duration": 38,
    "start_time": "2023-09-08T11:55:23.352Z"
   },
   {
    "duration": 44,
    "start_time": "2023-09-08T11:55:23.391Z"
   },
   {
    "duration": 4,
    "start_time": "2023-09-08T11:55:23.437Z"
   },
   {
    "duration": 28,
    "start_time": "2023-09-08T11:55:23.442Z"
   },
   {
    "duration": 37,
    "start_time": "2023-09-08T11:55:33.005Z"
   },
   {
    "duration": 4,
    "start_time": "2023-09-08T11:55:59.072Z"
   },
   {
    "duration": 58,
    "start_time": "2023-09-08T11:56:40.883Z"
   },
   {
    "duration": 6,
    "start_time": "2023-09-08T11:57:00.380Z"
   },
   {
    "duration": 10,
    "start_time": "2023-09-08T11:57:14.792Z"
   },
   {
    "duration": 4,
    "start_time": "2023-09-08T11:57:29.031Z"
   },
   {
    "duration": 34,
    "start_time": "2023-09-08T11:58:46.367Z"
   },
   {
    "duration": 5,
    "start_time": "2023-09-08T11:59:39.097Z"
   },
   {
    "duration": 5,
    "start_time": "2023-09-08T11:59:39.803Z"
   },
   {
    "duration": 841,
    "start_time": "2023-09-08T12:00:49.114Z"
   },
   {
    "duration": 25,
    "start_time": "2023-09-08T12:00:49.956Z"
   },
   {
    "duration": 278,
    "start_time": "2023-09-08T12:00:49.983Z"
   },
   {
    "duration": 27,
    "start_time": "2023-09-08T12:00:50.263Z"
   },
   {
    "duration": 2401,
    "start_time": "2023-09-08T12:00:50.293Z"
   },
   {
    "duration": 6,
    "start_time": "2023-09-08T12:00:52.695Z"
   },
   {
    "duration": 27,
    "start_time": "2023-09-08T12:00:52.702Z"
   },
   {
    "duration": 6,
    "start_time": "2023-09-08T12:00:52.730Z"
   },
   {
    "duration": 19,
    "start_time": "2023-09-08T12:00:52.738Z"
   },
   {
    "duration": 10,
    "start_time": "2023-09-08T12:00:52.759Z"
   },
   {
    "duration": 19,
    "start_time": "2023-09-08T12:00:52.771Z"
   },
   {
    "duration": 6,
    "start_time": "2023-09-08T12:00:52.792Z"
   },
   {
    "duration": 8,
    "start_time": "2023-09-08T12:00:52.799Z"
   },
   {
    "duration": 47,
    "start_time": "2023-09-08T12:00:52.810Z"
   },
   {
    "duration": 38,
    "start_time": "2023-09-08T12:00:52.859Z"
   },
   {
    "duration": 59,
    "start_time": "2023-09-08T12:00:52.899Z"
   },
   {
    "duration": 194,
    "start_time": "2023-09-08T12:00:52.961Z"
   },
   {
    "duration": 39,
    "start_time": "2023-09-08T12:00:53.157Z"
   },
   {
    "duration": 28,
    "start_time": "2023-09-08T12:00:53.197Z"
   },
   {
    "duration": 16,
    "start_time": "2023-09-08T12:00:53.227Z"
   },
   {
    "duration": 40,
    "start_time": "2023-09-08T12:00:53.245Z"
   },
   {
    "duration": 6,
    "start_time": "2023-09-08T12:00:53.287Z"
   },
   {
    "duration": 8,
    "start_time": "2023-09-08T12:00:53.294Z"
   },
   {
    "duration": 24,
    "start_time": "2023-09-08T12:00:53.303Z"
   },
   {
    "duration": 7,
    "start_time": "2023-09-08T12:00:53.328Z"
   },
   {
    "duration": 34,
    "start_time": "2023-09-08T12:00:53.337Z"
   },
   {
    "duration": 6,
    "start_time": "2023-09-08T12:00:53.373Z"
   },
   {
    "duration": 15,
    "start_time": "2023-09-08T12:00:53.381Z"
   },
   {
    "duration": 52,
    "start_time": "2023-09-08T12:00:53.397Z"
   },
   {
    "duration": 33,
    "start_time": "2023-09-08T12:00:53.450Z"
   },
   {
    "duration": 4,
    "start_time": "2023-09-08T12:00:53.485Z"
   },
   {
    "duration": 18,
    "start_time": "2023-09-08T12:00:53.490Z"
   },
   {
    "duration": 55,
    "start_time": "2023-09-08T12:00:53.509Z"
   },
   {
    "duration": 3,
    "start_time": "2023-09-08T12:00:53.566Z"
   },
   {
    "duration": 35,
    "start_time": "2023-09-08T12:01:49.195Z"
   },
   {
    "duration": 35,
    "start_time": "2023-09-08T12:01:51.243Z"
   },
   {
    "duration": 6,
    "start_time": "2023-09-08T12:01:54.333Z"
   },
   {
    "duration": 17,
    "start_time": "2023-09-08T12:01:56.562Z"
   },
   {
    "duration": 16,
    "start_time": "2023-09-08T12:02:12.005Z"
   },
   {
    "duration": 7,
    "start_time": "2023-09-08T12:02:12.486Z"
   },
   {
    "duration": 208,
    "start_time": "2023-09-08T12:02:14.064Z"
   },
   {
    "duration": 82,
    "start_time": "2023-09-08T12:33:54.409Z"
   },
   {
    "duration": 10,
    "start_time": "2023-09-08T12:34:01.491Z"
   },
   {
    "duration": 8,
    "start_time": "2023-09-08T12:34:31.450Z"
   },
   {
    "duration": 38,
    "start_time": "2023-09-08T12:34:34.240Z"
   },
   {
    "duration": 14,
    "start_time": "2023-09-08T12:35:07.161Z"
   },
   {
    "duration": 7,
    "start_time": "2023-09-08T12:35:28.830Z"
   },
   {
    "duration": 7,
    "start_time": "2023-09-08T12:35:43.679Z"
   },
   {
    "duration": 14,
    "start_time": "2023-09-08T12:35:52.179Z"
   },
   {
    "duration": 18,
    "start_time": "2023-09-08T12:36:16.225Z"
   },
   {
    "duration": 19,
    "start_time": "2023-09-08T12:37:11.433Z"
   },
   {
    "duration": 5,
    "start_time": "2023-09-08T12:38:04.000Z"
   },
   {
    "duration": 78,
    "start_time": "2023-09-08T12:39:24.313Z"
   },
   {
    "duration": 83,
    "start_time": "2023-09-08T12:41:14.801Z"
   },
   {
    "duration": 12,
    "start_time": "2023-09-08T12:42:06.861Z"
   },
   {
    "duration": 36,
    "start_time": "2023-09-08T12:42:50.432Z"
   },
   {
    "duration": 11,
    "start_time": "2023-09-08T12:52:26.148Z"
   },
   {
    "duration": 12,
    "start_time": "2023-09-08T12:54:06.603Z"
   },
   {
    "duration": 12,
    "start_time": "2023-09-08T12:54:13.347Z"
   },
   {
    "duration": 30,
    "start_time": "2023-09-08T12:54:24.766Z"
   },
   {
    "duration": 15,
    "start_time": "2023-09-08T12:56:04.663Z"
   },
   {
    "duration": 17,
    "start_time": "2023-09-08T12:56:22.444Z"
   },
   {
    "duration": 15,
    "start_time": "2023-09-08T12:56:40.715Z"
   },
   {
    "duration": 14,
    "start_time": "2023-09-08T13:00:53.267Z"
   },
   {
    "duration": 14,
    "start_time": "2023-09-08T13:01:16.418Z"
   },
   {
    "duration": 35,
    "start_time": "2023-09-08T13:01:59.720Z"
   },
   {
    "duration": 41,
    "start_time": "2023-09-08T13:02:05.938Z"
   },
   {
    "duration": 6,
    "start_time": "2023-09-08T13:02:45.578Z"
   },
   {
    "duration": 5,
    "start_time": "2023-09-08T13:03:28.575Z"
   },
   {
    "duration": 5,
    "start_time": "2023-09-08T13:05:59.101Z"
   },
   {
    "duration": 6,
    "start_time": "2023-09-08T13:09:51.863Z"
   },
   {
    "duration": 14,
    "start_time": "2023-09-08T13:10:09.267Z"
   },
   {
    "duration": 4,
    "start_time": "2023-09-08T13:10:52.384Z"
   },
   {
    "duration": 13,
    "start_time": "2023-09-08T13:11:02.666Z"
   },
   {
    "duration": 789,
    "start_time": "2023-09-08T13:11:29.237Z"
   },
   {
    "duration": 28,
    "start_time": "2023-09-08T13:11:30.027Z"
   },
   {
    "duration": 83,
    "start_time": "2023-09-08T13:11:30.056Z"
   },
   {
    "duration": 107,
    "start_time": "2023-09-08T13:11:30.142Z"
   },
   {
    "duration": 2775,
    "start_time": "2023-09-08T13:11:30.251Z"
   },
   {
    "duration": 5,
    "start_time": "2023-09-08T13:11:33.028Z"
   },
   {
    "duration": 62,
    "start_time": "2023-09-08T13:11:33.035Z"
   },
   {
    "duration": 30,
    "start_time": "2023-09-08T13:11:33.099Z"
   },
   {
    "duration": 37,
    "start_time": "2023-09-08T13:11:33.131Z"
   },
   {
    "duration": 32,
    "start_time": "2023-09-08T13:11:33.170Z"
   },
   {
    "duration": 79,
    "start_time": "2023-09-08T13:11:33.204Z"
   },
   {
    "duration": 90,
    "start_time": "2023-09-08T13:11:33.285Z"
   },
   {
    "duration": 67,
    "start_time": "2023-09-08T13:11:33.376Z"
   },
   {
    "duration": 73,
    "start_time": "2023-09-08T13:11:33.445Z"
   },
   {
    "duration": 35,
    "start_time": "2023-09-08T13:11:33.521Z"
   },
   {
    "duration": 175,
    "start_time": "2023-09-08T13:11:33.558Z"
   },
   {
    "duration": 422,
    "start_time": "2023-09-08T13:11:33.734Z"
   },
   {
    "duration": 38,
    "start_time": "2023-09-08T13:11:34.158Z"
   },
   {
    "duration": 200,
    "start_time": "2023-09-08T13:11:34.198Z"
   },
   {
    "duration": 144,
    "start_time": "2023-09-08T13:11:34.400Z"
   },
   {
    "duration": 150,
    "start_time": "2023-09-08T13:11:34.546Z"
   },
   {
    "duration": 16,
    "start_time": "2023-09-08T13:11:34.697Z"
   },
   {
    "duration": 66,
    "start_time": "2023-09-08T13:11:34.714Z"
   },
   {
    "duration": 87,
    "start_time": "2023-09-08T13:11:34.781Z"
   },
   {
    "duration": 37,
    "start_time": "2023-09-08T13:11:34.869Z"
   },
   {
    "duration": 174,
    "start_time": "2023-09-08T13:11:34.908Z"
   },
   {
    "duration": 85,
    "start_time": "2023-09-08T13:11:35.084Z"
   },
   {
    "duration": 41,
    "start_time": "2023-09-08T13:11:35.172Z"
   },
   {
    "duration": 65,
    "start_time": "2023-09-08T13:11:35.215Z"
   },
   {
    "duration": 89,
    "start_time": "2023-09-08T13:11:35.282Z"
   },
   {
    "duration": 37,
    "start_time": "2023-09-08T13:11:35.373Z"
   },
   {
    "duration": 62,
    "start_time": "2023-09-08T13:11:35.411Z"
   },
   {
    "duration": 94,
    "start_time": "2023-09-08T13:11:35.474Z"
   },
   {
    "duration": 39,
    "start_time": "2023-09-08T13:11:35.569Z"
   },
   {
    "duration": 45,
    "start_time": "2023-09-08T13:11:35.609Z"
   },
   {
    "duration": 28,
    "start_time": "2023-09-08T13:11:35.656Z"
   },
   {
    "duration": 63,
    "start_time": "2023-09-08T13:11:35.686Z"
   },
   {
    "duration": 29,
    "start_time": "2023-09-08T13:11:35.750Z"
   },
   {
    "duration": 40,
    "start_time": "2023-09-08T13:11:35.780Z"
   },
   {
    "duration": 334,
    "start_time": "2023-09-08T13:11:35.821Z"
   },
   {
    "duration": 13,
    "start_time": "2023-09-08T13:11:36.157Z"
   },
   {
    "duration": 128,
    "start_time": "2023-09-08T13:11:36.172Z"
   },
   {
    "duration": 43,
    "start_time": "2023-09-08T13:11:36.303Z"
   },
   {
    "duration": 48,
    "start_time": "2023-09-08T13:11:36.348Z"
   },
   {
    "duration": 46,
    "start_time": "2023-09-08T13:11:36.398Z"
   },
   {
    "duration": 69,
    "start_time": "2023-09-08T13:12:38.817Z"
   },
   {
    "duration": 4,
    "start_time": "2023-09-08T13:12:46.967Z"
   },
   {
    "duration": 3,
    "start_time": "2023-09-08T13:13:04.175Z"
   },
   {
    "duration": 4,
    "start_time": "2023-09-08T13:13:59.988Z"
   },
   {
    "duration": 836,
    "start_time": "2023-09-08T13:15:21.711Z"
   },
   {
    "duration": 28,
    "start_time": "2023-09-08T13:15:22.550Z"
   },
   {
    "duration": 36,
    "start_time": "2023-09-08T13:15:22.580Z"
   },
   {
    "duration": 27,
    "start_time": "2023-09-08T13:15:22.619Z"
   },
   {
    "duration": 2317,
    "start_time": "2023-09-08T13:15:22.649Z"
   },
   {
    "duration": 5,
    "start_time": "2023-09-08T13:15:24.968Z"
   },
   {
    "duration": 42,
    "start_time": "2023-09-08T13:15:24.975Z"
   },
   {
    "duration": 19,
    "start_time": "2023-09-08T13:15:25.018Z"
   },
   {
    "duration": 21,
    "start_time": "2023-09-08T13:15:25.038Z"
   },
   {
    "duration": 38,
    "start_time": "2023-09-08T13:15:25.060Z"
   },
   {
    "duration": 21,
    "start_time": "2023-09-08T13:15:25.099Z"
   },
   {
    "duration": 21,
    "start_time": "2023-09-08T13:15:25.122Z"
   },
   {
    "duration": 34,
    "start_time": "2023-09-08T13:15:25.144Z"
   },
   {
    "duration": 50,
    "start_time": "2023-09-08T13:15:25.181Z"
   },
   {
    "duration": 35,
    "start_time": "2023-09-08T13:15:25.233Z"
   },
   {
    "duration": 36,
    "start_time": "2023-09-08T13:15:25.270Z"
   },
   {
    "duration": 204,
    "start_time": "2023-09-08T13:15:25.308Z"
   },
   {
    "duration": 42,
    "start_time": "2023-09-08T13:15:25.514Z"
   },
   {
    "duration": 11,
    "start_time": "2023-09-08T13:15:25.558Z"
   },
   {
    "duration": 15,
    "start_time": "2023-09-08T13:15:25.571Z"
   },
   {
    "duration": 63,
    "start_time": "2023-09-08T13:15:25.587Z"
   },
   {
    "duration": 6,
    "start_time": "2023-09-08T13:15:25.651Z"
   },
   {
    "duration": 5,
    "start_time": "2023-09-08T13:15:25.659Z"
   },
   {
    "duration": 15,
    "start_time": "2023-09-08T13:15:25.666Z"
   },
   {
    "duration": 12,
    "start_time": "2023-09-08T13:15:25.683Z"
   },
   {
    "duration": 129,
    "start_time": "2023-09-08T13:15:25.697Z"
   },
   {
    "duration": 9,
    "start_time": "2023-09-08T13:15:25.828Z"
   },
   {
    "duration": 21,
    "start_time": "2023-09-08T13:15:25.839Z"
   },
   {
    "duration": 35,
    "start_time": "2023-09-08T13:15:25.862Z"
   },
   {
    "duration": 58,
    "start_time": "2023-09-08T13:15:25.899Z"
   },
   {
    "duration": 4,
    "start_time": "2023-09-08T13:15:25.959Z"
   },
   {
    "duration": 8,
    "start_time": "2023-09-08T13:15:25.965Z"
   },
   {
    "duration": 82,
    "start_time": "2023-09-08T13:15:25.974Z"
   },
   {
    "duration": 69,
    "start_time": "2023-09-08T13:15:26.059Z"
   },
   {
    "duration": 46,
    "start_time": "2023-09-08T13:15:26.130Z"
   },
   {
    "duration": 7,
    "start_time": "2023-09-08T13:15:26.178Z"
   },
   {
    "duration": 43,
    "start_time": "2023-09-08T13:15:26.187Z"
   },
   {
    "duration": 16,
    "start_time": "2023-09-08T13:15:26.232Z"
   },
   {
    "duration": 11,
    "start_time": "2023-09-08T13:15:26.250Z"
   },
   {
    "duration": 245,
    "start_time": "2023-09-08T13:15:26.263Z"
   },
   {
    "duration": 21,
    "start_time": "2023-09-08T13:15:26.511Z"
   },
   {
    "duration": 86,
    "start_time": "2023-09-08T13:15:26.533Z"
   },
   {
    "duration": 35,
    "start_time": "2023-09-08T13:15:26.621Z"
   },
   {
    "duration": 8,
    "start_time": "2023-09-08T13:15:26.658Z"
   },
   {
    "duration": 30,
    "start_time": "2023-09-08T13:15:26.668Z"
   },
   {
    "duration": 4,
    "start_time": "2023-09-08T13:15:26.700Z"
   },
   {
    "duration": 40,
    "start_time": "2023-09-08T13:15:26.706Z"
   },
   {
    "duration": 28,
    "start_time": "2023-09-08T13:15:26.748Z"
   },
   {
    "duration": 59,
    "start_time": "2023-09-08T13:15:26.778Z"
   },
   {
    "duration": 36,
    "start_time": "2023-09-08T13:15:26.839Z"
   },
   {
    "duration": 325,
    "start_time": "2023-09-08T13:15:26.878Z"
   },
   {
    "duration": 37,
    "start_time": "2023-09-08T13:15:27.206Z"
   },
   {
    "duration": 196,
    "start_time": "2023-09-08T13:15:27.245Z"
   },
   {
    "duration": 189,
    "start_time": "2023-09-08T13:15:27.443Z"
   },
   {
    "duration": 200,
    "start_time": "2023-09-08T13:15:27.634Z"
   },
   {
    "duration": 206,
    "start_time": "2023-09-08T13:15:27.835Z"
   },
   {
    "duration": 196,
    "start_time": "2023-09-08T13:15:28.043Z"
   },
   {
    "duration": 193,
    "start_time": "2023-09-08T13:15:28.241Z"
   },
   {
    "duration": 143,
    "start_time": "2023-09-08T13:15:28.436Z"
   },
   {
    "duration": 197,
    "start_time": "2023-09-08T13:15:28.581Z"
   },
   {
    "duration": 339,
    "start_time": "2023-09-08T13:15:28.780Z"
   },
   {
    "duration": 179,
    "start_time": "2023-09-08T13:15:29.124Z"
   },
   {
    "duration": 5,
    "start_time": "2023-09-08T13:15:29.304Z"
   },
   {
    "duration": 15,
    "start_time": "2023-09-08T13:15:29.310Z"
   },
   {
    "duration": 199,
    "start_time": "2023-09-08T13:15:29.326Z"
   },
   {
    "duration": 10,
    "start_time": "2023-09-08T13:17:26.517Z"
   },
   {
    "duration": 83,
    "start_time": "2023-09-08T13:22:01.679Z"
   },
   {
    "duration": 757,
    "start_time": "2023-09-08T13:22:29.157Z"
   },
   {
    "duration": 123,
    "start_time": "2023-09-08T13:22:56.675Z"
   },
   {
    "duration": 115,
    "start_time": "2023-09-08T13:23:51.666Z"
   },
   {
    "duration": 123,
    "start_time": "2023-09-08T13:29:34.372Z"
   },
   {
    "duration": 792,
    "start_time": "2023-09-08T13:33:52.192Z"
   },
   {
    "duration": 27,
    "start_time": "2023-09-08T13:33:52.986Z"
   },
   {
    "duration": 24,
    "start_time": "2023-09-08T13:33:53.014Z"
   },
   {
    "duration": 4,
    "start_time": "2023-09-08T13:33:53.042Z"
   },
   {
    "duration": 2426,
    "start_time": "2023-09-08T13:33:53.048Z"
   },
   {
    "duration": 6,
    "start_time": "2023-09-08T13:33:55.476Z"
   },
   {
    "duration": 36,
    "start_time": "2023-09-08T13:33:55.484Z"
   },
   {
    "duration": 7,
    "start_time": "2023-09-08T13:33:55.522Z"
   },
   {
    "duration": 22,
    "start_time": "2023-09-08T13:33:55.531Z"
   },
   {
    "duration": 5,
    "start_time": "2023-09-08T13:33:55.556Z"
   },
   {
    "duration": 19,
    "start_time": "2023-09-08T13:33:55.563Z"
   },
   {
    "duration": 19,
    "start_time": "2023-09-08T13:33:55.584Z"
   },
   {
    "duration": 21,
    "start_time": "2023-09-08T13:33:55.605Z"
   },
   {
    "duration": 59,
    "start_time": "2023-09-08T13:33:55.628Z"
   },
   {
    "duration": 36,
    "start_time": "2023-09-08T13:33:55.689Z"
   },
   {
    "duration": 37,
    "start_time": "2023-09-08T13:33:55.727Z"
   },
   {
    "duration": 253,
    "start_time": "2023-09-08T13:33:55.765Z"
   },
   {
    "duration": 42,
    "start_time": "2023-09-08T13:33:56.024Z"
   },
   {
    "duration": 11,
    "start_time": "2023-09-08T13:33:56.067Z"
   },
   {
    "duration": 18,
    "start_time": "2023-09-08T13:33:56.080Z"
   },
   {
    "duration": 60,
    "start_time": "2023-09-08T13:33:56.099Z"
   },
   {
    "duration": 6,
    "start_time": "2023-09-08T13:33:56.161Z"
   },
   {
    "duration": 4,
    "start_time": "2023-09-08T13:33:56.169Z"
   },
   {
    "duration": 8,
    "start_time": "2023-09-08T13:33:56.174Z"
   },
   {
    "duration": 10,
    "start_time": "2023-09-08T13:33:56.184Z"
   },
   {
    "duration": 139,
    "start_time": "2023-09-08T13:33:56.195Z"
   },
   {
    "duration": 13,
    "start_time": "2023-09-08T13:33:56.336Z"
   },
   {
    "duration": 25,
    "start_time": "2023-09-08T13:33:56.353Z"
   },
   {
    "duration": 31,
    "start_time": "2023-09-08T13:33:56.379Z"
   },
   {
    "duration": 41,
    "start_time": "2023-09-08T13:33:56.412Z"
   },
   {
    "duration": 4,
    "start_time": "2023-09-08T13:33:56.455Z"
   },
   {
    "duration": 25,
    "start_time": "2023-09-08T13:33:56.460Z"
   },
   {
    "duration": 57,
    "start_time": "2023-09-08T13:33:56.486Z"
   },
   {
    "duration": 33,
    "start_time": "2023-09-08T13:33:56.544Z"
   },
   {
    "duration": 48,
    "start_time": "2023-09-08T13:33:56.579Z"
   },
   {
    "duration": 6,
    "start_time": "2023-09-08T13:33:56.629Z"
   },
   {
    "duration": 17,
    "start_time": "2023-09-08T13:33:56.637Z"
   },
   {
    "duration": 13,
    "start_time": "2023-09-08T13:33:56.656Z"
   },
   {
    "duration": 6,
    "start_time": "2023-09-08T13:33:56.671Z"
   },
   {
    "duration": 261,
    "start_time": "2023-09-08T13:33:56.678Z"
   },
   {
    "duration": 13,
    "start_time": "2023-09-08T13:33:56.941Z"
   },
   {
    "duration": 31,
    "start_time": "2023-09-08T13:33:56.956Z"
   },
   {
    "duration": 5,
    "start_time": "2023-09-08T13:33:56.988Z"
   },
   {
    "duration": 30,
    "start_time": "2023-09-08T13:33:56.995Z"
   },
   {
    "duration": 16,
    "start_time": "2023-09-08T13:33:57.027Z"
   },
   {
    "duration": 3,
    "start_time": "2023-09-08T13:33:57.045Z"
   },
   {
    "duration": 38,
    "start_time": "2023-09-08T13:33:57.050Z"
   },
   {
    "duration": 47,
    "start_time": "2023-09-08T13:33:57.090Z"
   },
   {
    "duration": 27,
    "start_time": "2023-09-08T13:33:57.139Z"
   },
   {
    "duration": 24,
    "start_time": "2023-09-08T13:33:57.168Z"
   },
   {
    "duration": 344,
    "start_time": "2023-09-08T13:33:57.193Z"
   },
   {
    "duration": 26,
    "start_time": "2023-09-08T13:33:57.538Z"
   },
   {
    "duration": 197,
    "start_time": "2023-09-08T13:33:57.566Z"
   },
   {
    "duration": 190,
    "start_time": "2023-09-08T13:33:57.765Z"
   },
   {
    "duration": 201,
    "start_time": "2023-09-08T13:33:57.958Z"
   },
   {
    "duration": 196,
    "start_time": "2023-09-08T13:33:58.160Z"
   },
   {
    "duration": 181,
    "start_time": "2023-09-08T13:33:58.357Z"
   },
   {
    "duration": 192,
    "start_time": "2023-09-08T13:33:58.540Z"
   },
   {
    "duration": 145,
    "start_time": "2023-09-08T13:33:58.733Z"
   },
   {
    "duration": 189,
    "start_time": "2023-09-08T13:33:58.880Z"
   },
   {
    "duration": 332,
    "start_time": "2023-09-08T13:33:59.071Z"
   },
   {
    "duration": 181,
    "start_time": "2023-09-08T13:33:59.406Z"
   },
   {
    "duration": 4,
    "start_time": "2023-09-08T13:33:59.589Z"
   },
   {
    "duration": 9,
    "start_time": "2023-09-08T13:33:59.595Z"
   },
   {
    "duration": 157,
    "start_time": "2023-09-08T13:33:59.606Z"
   },
   {
    "duration": 10,
    "start_time": "2023-09-08T13:33:59.765Z"
   },
   {
    "duration": 176,
    "start_time": "2023-09-08T13:33:59.777Z"
   },
   {
    "duration": 184,
    "start_time": "2023-09-08T13:33:59.955Z"
   },
   {
    "duration": 172,
    "start_time": "2023-09-08T13:34:00.141Z"
   },
   {
    "duration": 203,
    "start_time": "2023-09-08T13:34:00.324Z"
   },
   {
    "duration": 156,
    "start_time": "2023-09-08T13:34:00.529Z"
   },
   {
    "duration": 550,
    "start_time": "2023-09-08T13:34:00.687Z"
   },
   {
    "duration": 24,
    "start_time": "2023-09-08T13:34:01.239Z"
   },
   {
    "duration": 732,
    "start_time": "2023-09-08T13:34:01.265Z"
   },
   {
    "duration": 51,
    "start_time": "2023-09-08T15:23:19.177Z"
   },
   {
    "duration": 873,
    "start_time": "2023-09-08T15:23:28.498Z"
   },
   {
    "duration": 37,
    "start_time": "2023-09-08T15:23:29.375Z"
   },
   {
    "duration": 15,
    "start_time": "2023-09-08T15:23:29.414Z"
   },
   {
    "duration": 22,
    "start_time": "2023-09-08T15:23:29.431Z"
   },
   {
    "duration": 2610,
    "start_time": "2023-09-08T15:23:29.455Z"
   },
   {
    "duration": 5,
    "start_time": "2023-09-08T15:23:32.067Z"
   },
   {
    "duration": 51,
    "start_time": "2023-09-08T15:23:32.074Z"
   },
   {
    "duration": 23,
    "start_time": "2023-09-08T15:23:32.127Z"
   },
   {
    "duration": 30,
    "start_time": "2023-09-08T15:23:32.152Z"
   },
   {
    "duration": 6,
    "start_time": "2023-09-08T15:23:32.184Z"
   },
   {
    "duration": 23,
    "start_time": "2023-09-08T15:23:32.191Z"
   },
   {
    "duration": 26,
    "start_time": "2023-09-08T15:23:32.216Z"
   },
   {
    "duration": 21,
    "start_time": "2023-09-08T15:23:32.246Z"
   },
   {
    "duration": 114,
    "start_time": "2023-09-08T15:23:32.269Z"
   },
   {
    "duration": 57,
    "start_time": "2023-09-08T15:23:32.386Z"
   },
   {
    "duration": 67,
    "start_time": "2023-09-08T15:23:32.445Z"
   },
   {
    "duration": 269,
    "start_time": "2023-09-08T15:23:32.515Z"
   },
   {
    "duration": 46,
    "start_time": "2023-09-08T15:23:32.786Z"
   },
   {
    "duration": 12,
    "start_time": "2023-09-08T15:23:32.833Z"
   },
   {
    "duration": 17,
    "start_time": "2023-09-08T15:23:32.847Z"
   },
   {
    "duration": 63,
    "start_time": "2023-09-08T15:23:32.866Z"
   },
   {
    "duration": 6,
    "start_time": "2023-09-08T15:23:32.931Z"
   },
   {
    "duration": 5,
    "start_time": "2023-09-08T15:23:32.939Z"
   },
   {
    "duration": 7,
    "start_time": "2023-09-08T15:23:32.945Z"
   },
   {
    "duration": 6,
    "start_time": "2023-09-08T15:23:32.953Z"
   },
   {
    "duration": 149,
    "start_time": "2023-09-08T15:23:32.962Z"
   },
   {
    "duration": 9,
    "start_time": "2023-09-08T15:23:33.113Z"
   },
   {
    "duration": 15,
    "start_time": "2023-09-08T15:23:33.124Z"
   },
   {
    "duration": 34,
    "start_time": "2023-09-08T15:23:33.141Z"
   },
   {
    "duration": 68,
    "start_time": "2023-09-08T15:23:33.176Z"
   },
   {
    "duration": 5,
    "start_time": "2023-09-08T15:23:33.246Z"
   },
   {
    "duration": 12,
    "start_time": "2023-09-08T15:23:33.253Z"
   },
   {
    "duration": 75,
    "start_time": "2023-09-08T15:23:33.267Z"
   },
   {
    "duration": 35,
    "start_time": "2023-09-08T15:23:33.343Z"
   },
   {
    "duration": 54,
    "start_time": "2023-09-08T15:23:33.380Z"
   },
   {
    "duration": 5,
    "start_time": "2023-09-08T15:23:33.436Z"
   },
   {
    "duration": 20,
    "start_time": "2023-09-08T15:23:33.443Z"
   },
   {
    "duration": 13,
    "start_time": "2023-09-08T15:23:33.464Z"
   },
   {
    "duration": 9,
    "start_time": "2023-09-08T15:23:33.508Z"
   },
   {
    "duration": 252,
    "start_time": "2023-09-08T15:23:33.521Z"
   },
   {
    "duration": 14,
    "start_time": "2023-09-08T15:23:33.775Z"
   },
   {
    "duration": 48,
    "start_time": "2023-09-08T15:23:33.791Z"
   },
   {
    "duration": 10,
    "start_time": "2023-09-08T15:23:33.841Z"
   },
   {
    "duration": 10,
    "start_time": "2023-09-08T15:23:33.853Z"
   },
   {
    "duration": 15,
    "start_time": "2023-09-08T15:23:33.864Z"
   },
   {
    "duration": 4,
    "start_time": "2023-09-08T15:23:33.881Z"
   },
   {
    "duration": 27,
    "start_time": "2023-09-08T15:23:33.910Z"
   },
   {
    "duration": 28,
    "start_time": "2023-09-08T15:23:33.939Z"
   },
   {
    "duration": 47,
    "start_time": "2023-09-08T15:23:33.968Z"
   },
   {
    "duration": 27,
    "start_time": "2023-09-08T15:23:34.017Z"
   },
   {
    "duration": 341,
    "start_time": "2023-09-08T15:23:34.046Z"
   },
   {
    "duration": 37,
    "start_time": "2023-09-08T15:23:34.389Z"
   },
   {
    "duration": 236,
    "start_time": "2023-09-08T15:23:34.429Z"
   },
   {
    "duration": 200,
    "start_time": "2023-09-08T15:23:34.667Z"
   },
   {
    "duration": 224,
    "start_time": "2023-09-08T15:23:34.869Z"
   },
   {
    "duration": 233,
    "start_time": "2023-09-08T15:23:35.094Z"
   },
   {
    "duration": 215,
    "start_time": "2023-09-08T15:23:35.329Z"
   },
   {
    "duration": 189,
    "start_time": "2023-09-08T15:23:35.547Z"
   },
   {
    "duration": 145,
    "start_time": "2023-09-08T15:23:35.738Z"
   },
   {
    "duration": 192,
    "start_time": "2023-09-08T15:23:35.885Z"
   },
   {
    "duration": 340,
    "start_time": "2023-09-08T15:23:36.078Z"
   },
   {
    "duration": 234,
    "start_time": "2023-09-08T15:23:36.419Z"
   },
   {
    "duration": 247,
    "start_time": "2023-09-08T15:23:36.655Z"
   },
   {
    "duration": 7,
    "start_time": "2023-09-08T15:23:36.903Z"
   },
   {
    "duration": 6,
    "start_time": "2023-09-08T15:23:36.911Z"
   },
   {
    "duration": 161,
    "start_time": "2023-09-08T15:23:36.918Z"
   },
   {
    "duration": 9,
    "start_time": "2023-09-08T15:23:37.080Z"
   },
   {
    "duration": 173,
    "start_time": "2023-09-08T15:23:37.109Z"
   },
   {
    "duration": 193,
    "start_time": "2023-09-08T15:23:37.284Z"
   },
   {
    "duration": 182,
    "start_time": "2023-09-08T15:23:37.478Z"
   },
   {
    "duration": 189,
    "start_time": "2023-09-08T15:23:37.662Z"
   },
   {
    "duration": 170,
    "start_time": "2023-09-08T15:23:37.852Z"
   },
   {
    "duration": 589,
    "start_time": "2023-09-08T15:23:38.024Z"
   },
   {
    "duration": 26,
    "start_time": "2023-09-08T15:23:38.616Z"
   },
   {
    "duration": 299,
    "start_time": "2023-09-08T15:23:38.644Z"
   }
  ],
  "kernelspec": {
   "display_name": "Python 3 (ipykernel)",
   "language": "python",
   "name": "python3"
  },
  "language_info": {
   "codemirror_mode": {
    "name": "ipython",
    "version": 3
   },
   "file_extension": ".py",
   "mimetype": "text/x-python",
   "name": "python",
   "nbconvert_exporter": "python",
   "pygments_lexer": "ipython3",
   "version": "3.9.5"
  },
  "toc": {
   "base_numbering": 1,
   "nav_menu": {},
   "number_sections": true,
   "sideBar": true,
   "skip_h1_title": true,
   "title_cell": "Table of Contents",
   "title_sidebar": "Contents",
   "toc_cell": false,
   "toc_position": {},
   "toc_section_display": true,
   "toc_window_display": false
  }
 },
 "nbformat": 4,
 "nbformat_minor": 4
}
